{
 "cells": [
  {
   "cell_type": "code",
   "execution_count": 1,
   "metadata": {},
   "outputs": [],
   "source": [
    "%matplotlib inline\n",
    "from IPython.display import display\n",
    "import numpy as np\n",
    "import matplotlib.pyplot as plt\n",
    "import pandas as pd\n",
    "import sklearn\n",
    "import seaborn as sns"
   ]
  },
  {
   "cell_type": "code",
   "execution_count": 201,
   "metadata": {},
   "outputs": [],
   "source": [
    "data = pd.read_csv(\"C:/Users/2020_4학년_2학기/캡스톤디자인/datasets_Placement_Data.csv\",encoding='cp949')"
   ]
  },
  {
   "cell_type": "code",
   "execution_count": 202,
   "metadata": {
    "scrolled": true
   },
   "outputs": [
    {
     "data": {
      "text/html": [
       "<div>\n",
       "<style scoped>\n",
       "    .dataframe tbody tr th:only-of-type {\n",
       "        vertical-align: middle;\n",
       "    }\n",
       "\n",
       "    .dataframe tbody tr th {\n",
       "        vertical-align: top;\n",
       "    }\n",
       "\n",
       "    .dataframe thead th {\n",
       "        text-align: right;\n",
       "    }\n",
       "</style>\n",
       "<table border=\"1\" class=\"dataframe\">\n",
       "  <thead>\n",
       "    <tr style=\"text-align: right;\">\n",
       "      <th></th>\n",
       "      <th>sl_no</th>\n",
       "      <th>gender</th>\n",
       "      <th>ssc_p</th>\n",
       "      <th>ssc_b</th>\n",
       "      <th>hsc_p</th>\n",
       "      <th>hsc_b</th>\n",
       "      <th>hsc_s</th>\n",
       "      <th>degree_p</th>\n",
       "      <th>degree_t</th>\n",
       "      <th>workex</th>\n",
       "      <th>etest_p</th>\n",
       "      <th>specialisation</th>\n",
       "      <th>mba_p</th>\n",
       "      <th>status</th>\n",
       "      <th>salary</th>\n",
       "    </tr>\n",
       "  </thead>\n",
       "  <tbody>\n",
       "    <tr>\n",
       "      <th>0</th>\n",
       "      <td>1</td>\n",
       "      <td>M</td>\n",
       "      <td>67.00</td>\n",
       "      <td>Others</td>\n",
       "      <td>91.00</td>\n",
       "      <td>Others</td>\n",
       "      <td>Commerce</td>\n",
       "      <td>58.00</td>\n",
       "      <td>Sci&amp;Tech</td>\n",
       "      <td>No</td>\n",
       "      <td>55.0</td>\n",
       "      <td>Mkt&amp;HR</td>\n",
       "      <td>58.80</td>\n",
       "      <td>Placed</td>\n",
       "      <td>270000.0</td>\n",
       "    </tr>\n",
       "    <tr>\n",
       "      <th>1</th>\n",
       "      <td>2</td>\n",
       "      <td>M</td>\n",
       "      <td>79.33</td>\n",
       "      <td>Central</td>\n",
       "      <td>78.33</td>\n",
       "      <td>Others</td>\n",
       "      <td>Science</td>\n",
       "      <td>77.48</td>\n",
       "      <td>Sci&amp;Tech</td>\n",
       "      <td>Yes</td>\n",
       "      <td>86.5</td>\n",
       "      <td>Mkt&amp;Fin</td>\n",
       "      <td>66.28</td>\n",
       "      <td>Placed</td>\n",
       "      <td>200000.0</td>\n",
       "    </tr>\n",
       "    <tr>\n",
       "      <th>2</th>\n",
       "      <td>3</td>\n",
       "      <td>M</td>\n",
       "      <td>65.00</td>\n",
       "      <td>Central</td>\n",
       "      <td>68.00</td>\n",
       "      <td>Central</td>\n",
       "      <td>Arts</td>\n",
       "      <td>64.00</td>\n",
       "      <td>Comm&amp;Mgmt</td>\n",
       "      <td>No</td>\n",
       "      <td>75.0</td>\n",
       "      <td>Mkt&amp;Fin</td>\n",
       "      <td>57.80</td>\n",
       "      <td>Placed</td>\n",
       "      <td>250000.0</td>\n",
       "    </tr>\n",
       "    <tr>\n",
       "      <th>3</th>\n",
       "      <td>4</td>\n",
       "      <td>M</td>\n",
       "      <td>56.00</td>\n",
       "      <td>Central</td>\n",
       "      <td>52.00</td>\n",
       "      <td>Central</td>\n",
       "      <td>Science</td>\n",
       "      <td>52.00</td>\n",
       "      <td>Sci&amp;Tech</td>\n",
       "      <td>No</td>\n",
       "      <td>66.0</td>\n",
       "      <td>Mkt&amp;HR</td>\n",
       "      <td>59.43</td>\n",
       "      <td>Not Placed</td>\n",
       "      <td>NaN</td>\n",
       "    </tr>\n",
       "    <tr>\n",
       "      <th>4</th>\n",
       "      <td>5</td>\n",
       "      <td>M</td>\n",
       "      <td>85.80</td>\n",
       "      <td>Central</td>\n",
       "      <td>73.60</td>\n",
       "      <td>Central</td>\n",
       "      <td>Commerce</td>\n",
       "      <td>73.30</td>\n",
       "      <td>Comm&amp;Mgmt</td>\n",
       "      <td>No</td>\n",
       "      <td>96.8</td>\n",
       "      <td>Mkt&amp;Fin</td>\n",
       "      <td>55.50</td>\n",
       "      <td>Placed</td>\n",
       "      <td>425000.0</td>\n",
       "    </tr>\n",
       "  </tbody>\n",
       "</table>\n",
       "</div>"
      ],
      "text/plain": [
       "   sl_no gender  ssc_p    ssc_b  hsc_p    hsc_b     hsc_s  degree_p  \\\n",
       "0      1      M  67.00   Others  91.00   Others  Commerce     58.00   \n",
       "1      2      M  79.33  Central  78.33   Others   Science     77.48   \n",
       "2      3      M  65.00  Central  68.00  Central      Arts     64.00   \n",
       "3      4      M  56.00  Central  52.00  Central   Science     52.00   \n",
       "4      5      M  85.80  Central  73.60  Central  Commerce     73.30   \n",
       "\n",
       "    degree_t workex  etest_p specialisation  mba_p      status    salary  \n",
       "0   Sci&Tech     No     55.0         Mkt&HR  58.80      Placed  270000.0  \n",
       "1   Sci&Tech    Yes     86.5        Mkt&Fin  66.28      Placed  200000.0  \n",
       "2  Comm&Mgmt     No     75.0        Mkt&Fin  57.80      Placed  250000.0  \n",
       "3   Sci&Tech     No     66.0         Mkt&HR  59.43  Not Placed       NaN  \n",
       "4  Comm&Mgmt     No     96.8        Mkt&Fin  55.50      Placed  425000.0  "
      ]
     },
     "execution_count": 202,
     "metadata": {},
     "output_type": "execute_result"
    }
   ],
   "source": [
    "data.head()"
   ]
  },
  {
   "cell_type": "markdown",
   "metadata": {},
   "source": [
    "sl_no = Serial Number(일련번호)   \n",
    "ssc_p = Secondary Education(중등학교) percentage - 10th Grade   \n",
    "ssc_b = Board of Education-Central/Others    \n",
    "hsc_p = Higher Secondary Education(고등학교) percentage-12th Grade   \n",
    "hsc_b = Board of Education-Central/Others   \n",
    "hsc_s = Specialization in Higher Secondary Education   \n",
    "degree_p = Degree Percentage   \n",
    "degree_t = Under Graduation(Degree type)-Field of degree education   \n",
    "etest_p = Employability test percentage(conducted by college)   \n",
    "          취업능력시험비율(대학에 의해 실시된)    \n",
    "mab_p = MBA percentage(경영학 석사 비율)    "
   ]
  },
  {
   "cell_type": "markdown",
   "metadata": {},
   "source": [
    "대학에서 50%이상의 점수는 훌륭한 성적이다.    "
   ]
  },
  {
   "cell_type": "markdown",
   "metadata": {},
   "source": [
    "인도는 초등학교 5년, 중학교 5년, 고등학교2년, 대학교 3년의 과정.   \n",
    "10학년까지 공립학교를 무상으로 보내주고 있음.    \n",
    "여성들의 취학률이 남성들보다 낮음.   \n",
    "그래서 여성은 초등학교부터 고등학교 12년 과정을 무상으로 교육받을 수 있도록 하는 제도를 채택중.\n",
    "인도는 학교마다 서로 다른 교육제도로 운영하고 있음.   \n",
    "CBSE(Central Board of Secondary Education) = 대부분 공립학교에서 채택하고 있는제도.   \n",
    "수업은 영어로 진행되고 힌디어를 필수적으로 배워야 함.    \n",
    "ICSE(Indian Certificate of Secondary Education) = 영국식 시스템이 합쳐진 교육제도.    \n",
    "대학1학년 수준과 비슷하여 학구열 높은 학생들이 대부분 이 교육제도를 채택한 학교를 감.    \n"
   ]
  },
  {
   "cell_type": "code",
   "execution_count": 4,
   "metadata": {},
   "outputs": [
    {
     "name": "stdout",
     "output_type": "stream",
     "text": [
      "<class 'pandas.core.frame.DataFrame'>\n",
      "RangeIndex: 215 entries, 0 to 214\n",
      "Data columns (total 15 columns):\n",
      " #   Column          Non-Null Count  Dtype  \n",
      "---  ------          --------------  -----  \n",
      " 0   sl_no           215 non-null    int64  \n",
      " 1   gender          215 non-null    object \n",
      " 2   ssc_p           215 non-null    float64\n",
      " 3   ssc_b           215 non-null    object \n",
      " 4   hsc_p           215 non-null    float64\n",
      " 5   hsc_b           215 non-null    object \n",
      " 6   hsc_s           215 non-null    object \n",
      " 7   degree_p        215 non-null    float64\n",
      " 8   degree_t        215 non-null    object \n",
      " 9   workex          215 non-null    object \n",
      " 10  etest_p         215 non-null    float64\n",
      " 11  specialisation  215 non-null    object \n",
      " 12  mba_p           215 non-null    float64\n",
      " 13  status          215 non-null    object \n",
      " 14  salary          148 non-null    float64\n",
      "dtypes: float64(6), int64(1), object(8)\n",
      "memory usage: 25.3+ KB\n"
     ]
    }
   ],
   "source": [
    "data.info()"
   ]
  },
  {
   "cell_type": "markdown",
   "metadata": {},
   "source": [
    "범주형 형태인 데이터 = gender, ssc_b, hsc_b,hsc_s, degree_t, workex, specialisation, status"
   ]
  },
  {
   "cell_type": "code",
   "execution_count": 5,
   "metadata": {},
   "outputs": [
    {
     "data": {
      "text/html": [
       "<div>\n",
       "<style scoped>\n",
       "    .dataframe tbody tr th:only-of-type {\n",
       "        vertical-align: middle;\n",
       "    }\n",
       "\n",
       "    .dataframe tbody tr th {\n",
       "        vertical-align: top;\n",
       "    }\n",
       "\n",
       "    .dataframe thead th {\n",
       "        text-align: right;\n",
       "    }\n",
       "</style>\n",
       "<table border=\"1\" class=\"dataframe\">\n",
       "  <thead>\n",
       "    <tr style=\"text-align: right;\">\n",
       "      <th></th>\n",
       "      <th>sl_no</th>\n",
       "      <th>ssc_p</th>\n",
       "      <th>hsc_p</th>\n",
       "      <th>degree_p</th>\n",
       "      <th>etest_p</th>\n",
       "      <th>mba_p</th>\n",
       "      <th>salary</th>\n",
       "    </tr>\n",
       "  </thead>\n",
       "  <tbody>\n",
       "    <tr>\n",
       "      <th>count</th>\n",
       "      <td>215.000000</td>\n",
       "      <td>215.000000</td>\n",
       "      <td>215.000000</td>\n",
       "      <td>215.000000</td>\n",
       "      <td>215.000000</td>\n",
       "      <td>215.000000</td>\n",
       "      <td>148.000000</td>\n",
       "    </tr>\n",
       "    <tr>\n",
       "      <th>mean</th>\n",
       "      <td>108.000000</td>\n",
       "      <td>67.303395</td>\n",
       "      <td>66.333163</td>\n",
       "      <td>66.370186</td>\n",
       "      <td>72.100558</td>\n",
       "      <td>62.278186</td>\n",
       "      <td>288655.405405</td>\n",
       "    </tr>\n",
       "    <tr>\n",
       "      <th>std</th>\n",
       "      <td>62.209324</td>\n",
       "      <td>10.827205</td>\n",
       "      <td>10.897509</td>\n",
       "      <td>7.358743</td>\n",
       "      <td>13.275956</td>\n",
       "      <td>5.833385</td>\n",
       "      <td>93457.452420</td>\n",
       "    </tr>\n",
       "    <tr>\n",
       "      <th>min</th>\n",
       "      <td>1.000000</td>\n",
       "      <td>40.890000</td>\n",
       "      <td>37.000000</td>\n",
       "      <td>50.000000</td>\n",
       "      <td>50.000000</td>\n",
       "      <td>51.210000</td>\n",
       "      <td>200000.000000</td>\n",
       "    </tr>\n",
       "    <tr>\n",
       "      <th>25%</th>\n",
       "      <td>54.500000</td>\n",
       "      <td>60.600000</td>\n",
       "      <td>60.900000</td>\n",
       "      <td>61.000000</td>\n",
       "      <td>60.000000</td>\n",
       "      <td>57.945000</td>\n",
       "      <td>240000.000000</td>\n",
       "    </tr>\n",
       "    <tr>\n",
       "      <th>50%</th>\n",
       "      <td>108.000000</td>\n",
       "      <td>67.000000</td>\n",
       "      <td>65.000000</td>\n",
       "      <td>66.000000</td>\n",
       "      <td>71.000000</td>\n",
       "      <td>62.000000</td>\n",
       "      <td>265000.000000</td>\n",
       "    </tr>\n",
       "    <tr>\n",
       "      <th>75%</th>\n",
       "      <td>161.500000</td>\n",
       "      <td>75.700000</td>\n",
       "      <td>73.000000</td>\n",
       "      <td>72.000000</td>\n",
       "      <td>83.500000</td>\n",
       "      <td>66.255000</td>\n",
       "      <td>300000.000000</td>\n",
       "    </tr>\n",
       "    <tr>\n",
       "      <th>max</th>\n",
       "      <td>215.000000</td>\n",
       "      <td>89.400000</td>\n",
       "      <td>97.700000</td>\n",
       "      <td>91.000000</td>\n",
       "      <td>98.000000</td>\n",
       "      <td>77.890000</td>\n",
       "      <td>940000.000000</td>\n",
       "    </tr>\n",
       "  </tbody>\n",
       "</table>\n",
       "</div>"
      ],
      "text/plain": [
       "            sl_no       ssc_p       hsc_p    degree_p     etest_p       mba_p  \\\n",
       "count  215.000000  215.000000  215.000000  215.000000  215.000000  215.000000   \n",
       "mean   108.000000   67.303395   66.333163   66.370186   72.100558   62.278186   \n",
       "std     62.209324   10.827205   10.897509    7.358743   13.275956    5.833385   \n",
       "min      1.000000   40.890000   37.000000   50.000000   50.000000   51.210000   \n",
       "25%     54.500000   60.600000   60.900000   61.000000   60.000000   57.945000   \n",
       "50%    108.000000   67.000000   65.000000   66.000000   71.000000   62.000000   \n",
       "75%    161.500000   75.700000   73.000000   72.000000   83.500000   66.255000   \n",
       "max    215.000000   89.400000   97.700000   91.000000   98.000000   77.890000   \n",
       "\n",
       "              salary  \n",
       "count     148.000000  \n",
       "mean   288655.405405  \n",
       "std     93457.452420  \n",
       "min    200000.000000  \n",
       "25%    240000.000000  \n",
       "50%    265000.000000  \n",
       "75%    300000.000000  \n",
       "max    940000.000000  "
      ]
     },
     "execution_count": 5,
     "metadata": {},
     "output_type": "execute_result"
    }
   ],
   "source": [
    "data.describe()"
   ]
  },
  {
   "cell_type": "markdown",
   "metadata": {},
   "source": [
    "▲ 보면 연속형만 표현하는 듯 ?"
   ]
  },
  {
   "cell_type": "code",
   "execution_count": 6,
   "metadata": {},
   "outputs": [
    {
     "data": {
      "text/html": [
       "<div>\n",
       "<style scoped>\n",
       "    .dataframe tbody tr th:only-of-type {\n",
       "        vertical-align: middle;\n",
       "    }\n",
       "\n",
       "    .dataframe tbody tr th {\n",
       "        vertical-align: top;\n",
       "    }\n",
       "\n",
       "    .dataframe thead th {\n",
       "        text-align: right;\n",
       "    }\n",
       "</style>\n",
       "<table border=\"1\" class=\"dataframe\">\n",
       "  <thead>\n",
       "    <tr style=\"text-align: right;\">\n",
       "      <th></th>\n",
       "      <th>sl_no</th>\n",
       "      <th>ssc_p</th>\n",
       "      <th>hsc_p</th>\n",
       "      <th>degree_p</th>\n",
       "      <th>etest_p</th>\n",
       "      <th>mba_p</th>\n",
       "      <th>salary</th>\n",
       "    </tr>\n",
       "  </thead>\n",
       "  <tbody>\n",
       "    <tr>\n",
       "      <th>sl_no</th>\n",
       "      <td>1.000000</td>\n",
       "      <td>-0.078155</td>\n",
       "      <td>-0.085711</td>\n",
       "      <td>-0.088281</td>\n",
       "      <td>0.063636</td>\n",
       "      <td>0.022327</td>\n",
       "      <td>0.063764</td>\n",
       "    </tr>\n",
       "    <tr>\n",
       "      <th>ssc_p</th>\n",
       "      <td>-0.078155</td>\n",
       "      <td>1.000000</td>\n",
       "      <td>0.511472</td>\n",
       "      <td>0.538404</td>\n",
       "      <td>0.261993</td>\n",
       "      <td>0.388478</td>\n",
       "      <td>0.035330</td>\n",
       "    </tr>\n",
       "    <tr>\n",
       "      <th>hsc_p</th>\n",
       "      <td>-0.085711</td>\n",
       "      <td>0.511472</td>\n",
       "      <td>1.000000</td>\n",
       "      <td>0.434206</td>\n",
       "      <td>0.245113</td>\n",
       "      <td>0.354823</td>\n",
       "      <td>0.076819</td>\n",
       "    </tr>\n",
       "    <tr>\n",
       "      <th>degree_p</th>\n",
       "      <td>-0.088281</td>\n",
       "      <td>0.538404</td>\n",
       "      <td>0.434206</td>\n",
       "      <td>1.000000</td>\n",
       "      <td>0.224470</td>\n",
       "      <td>0.402364</td>\n",
       "      <td>-0.019272</td>\n",
       "    </tr>\n",
       "    <tr>\n",
       "      <th>etest_p</th>\n",
       "      <td>0.063636</td>\n",
       "      <td>0.261993</td>\n",
       "      <td>0.245113</td>\n",
       "      <td>0.224470</td>\n",
       "      <td>1.000000</td>\n",
       "      <td>0.218055</td>\n",
       "      <td>0.178307</td>\n",
       "    </tr>\n",
       "    <tr>\n",
       "      <th>mba_p</th>\n",
       "      <td>0.022327</td>\n",
       "      <td>0.388478</td>\n",
       "      <td>0.354823</td>\n",
       "      <td>0.402364</td>\n",
       "      <td>0.218055</td>\n",
       "      <td>1.000000</td>\n",
       "      <td>0.175013</td>\n",
       "    </tr>\n",
       "    <tr>\n",
       "      <th>salary</th>\n",
       "      <td>0.063764</td>\n",
       "      <td>0.035330</td>\n",
       "      <td>0.076819</td>\n",
       "      <td>-0.019272</td>\n",
       "      <td>0.178307</td>\n",
       "      <td>0.175013</td>\n",
       "      <td>1.000000</td>\n",
       "    </tr>\n",
       "  </tbody>\n",
       "</table>\n",
       "</div>"
      ],
      "text/plain": [
       "             sl_no     ssc_p     hsc_p  degree_p   etest_p     mba_p    salary\n",
       "sl_no     1.000000 -0.078155 -0.085711 -0.088281  0.063636  0.022327  0.063764\n",
       "ssc_p    -0.078155  1.000000  0.511472  0.538404  0.261993  0.388478  0.035330\n",
       "hsc_p    -0.085711  0.511472  1.000000  0.434206  0.245113  0.354823  0.076819\n",
       "degree_p -0.088281  0.538404  0.434206  1.000000  0.224470  0.402364 -0.019272\n",
       "etest_p   0.063636  0.261993  0.245113  0.224470  1.000000  0.218055  0.178307\n",
       "mba_p     0.022327  0.388478  0.354823  0.402364  0.218055  1.000000  0.175013\n",
       "salary    0.063764  0.035330  0.076819 -0.019272  0.178307  0.175013  1.000000"
      ]
     },
     "execution_count": 6,
     "metadata": {},
     "output_type": "execute_result"
    }
   ],
   "source": [
    "data.corr()"
   ]
  },
  {
   "cell_type": "code",
   "execution_count": 7,
   "metadata": {
    "scrolled": true
   },
   "outputs": [
    {
     "data": {
      "text/plain": [
       "M    139\n",
       "F     76\n",
       "Name: gender, dtype: int64"
      ]
     },
     "metadata": {},
     "output_type": "display_data"
    }
   ],
   "source": [
    "display(data['gender'].value_counts())"
   ]
  },
  {
   "cell_type": "code",
   "execution_count": 8,
   "metadata": {},
   "outputs": [
    {
     "data": {
      "text/plain": [
       "Placed        148\n",
       "Not Placed     67\n",
       "Name: status, dtype: int64"
      ]
     },
     "metadata": {},
     "output_type": "display_data"
    }
   ],
   "source": [
    "display(data['status'].value_counts())"
   ]
  },
  {
   "cell_type": "code",
   "execution_count": 9,
   "metadata": {},
   "outputs": [
    {
     "name": "stdout",
     "output_type": "stream",
     "text": [
      "연봉 데이터 없는 사람 수 : 67\n"
     ]
    }
   ],
   "source": [
    "print(\"연봉 데이터 없는 사람 수 :\",len(data[data['salary'].isnull()]))"
   ]
  },
  {
   "cell_type": "code",
   "execution_count": 10,
   "metadata": {},
   "outputs": [
    {
     "data": {
      "text/plain": [
       "sl_no              0\n",
       "gender             0\n",
       "ssc_p              0\n",
       "ssc_b              0\n",
       "hsc_p              0\n",
       "hsc_b              0\n",
       "hsc_s              0\n",
       "degree_p           0\n",
       "degree_t           0\n",
       "workex             0\n",
       "etest_p            0\n",
       "specialisation     0\n",
       "mba_p              0\n",
       "status             0\n",
       "salary            67\n",
       "dtype: int64"
      ]
     },
     "execution_count": 10,
     "metadata": {},
     "output_type": "execute_result"
    }
   ],
   "source": [
    "data.isnull().sum()"
   ]
  },
  {
   "cell_type": "code",
   "execution_count": 14,
   "metadata": {},
   "outputs": [],
   "source": [
    "#한글 깨질 때\n",
    "import matplotlib\n",
    "from matplotlib import font_manager,rc\n",
    "\n",
    "font_name = font_manager.FontProperties(fname=\"C:/Windows/Fonts/malgun.ttf\").get_name()\n",
    "rc('font',family = font_name)\n",
    "\n",
    "matplotlib.rcParams['axes.unicode_minus']=False"
   ]
  },
  {
   "cell_type": "code",
   "execution_count": null,
   "metadata": {},
   "outputs": [],
   "source": []
  },
  {
   "cell_type": "code",
   "execution_count": 12,
   "metadata": {},
   "outputs": [
    {
     "data": {
      "text/plain": [
       "<AxesSubplot:>"
      ]
     },
     "execution_count": 12,
     "metadata": {},
     "output_type": "execute_result"
    },
    {
     "data": {
      "image/png": "[encoded data removed]",
      "text/plain": [
       "<Figure size 432x288 with 1 Axes>"
      ]
     },
     "metadata": {
      "needs_background": "light"
     },
     "output_type": "display_data"
    }
   ],
   "source": [
    "sns.boxplot(data=data)"
   ]
  },
  {
   "cell_type": "code",
   "execution_count": 13,
   "metadata": {},
   "outputs": [
    {
     "data": {
      "image/png": "[encoded data removed]",
      "text/plain": [
       "<Figure size 432x288 with 1 Axes>"
      ]
     },
     "metadata": {
      "needs_background": "light"
     },
     "output_type": "display_data"
    }
   ],
   "source": [
    "sns.countplot(\"gender\",hue = \"status\", palette = 'Paired',data=data)\n",
    "plt.title(\"남녀 수\")\n",
    "plt.xlabel(\"성별\")\n",
    "plt.ylabel(\"COUNT\")\n",
    "plt.show()\n",
    "# sns.barplot은 seaborn 시각화 패키지"
   ]
  },
  {
   "cell_type": "code",
   "execution_count": 14,
   "metadata": {},
   "outputs": [
    {
     "data": {
      "image/png": "[encoded data removed]",
      "text/plain": [
       "<Figure size 432x288 with 1 Axes>"
      ]
     },
     "metadata": {
      "needs_background": "light"
     },
     "output_type": "display_data"
    }
   ],
   "source": [
    "sns.countplot(\"ssc_b\",palette = \"Paired\",data=data)\n",
    "plt.title(\"교육위원회\")\n",
    "plt.xlabel(\"중앙/교육 기관\")\n",
    "plt.ylabel(\"총 수\")\n",
    "plt.show()"
   ]
  },
  {
   "cell_type": "code",
   "execution_count": 15,
   "metadata": {},
   "outputs": [
    {
     "data": {
      "image/png": "[encoded data removed]",
      "text/plain": [
       "<Figure size 432x432 with 1 Axes>"
      ]
     },
     "metadata": {
      "needs_background": "light"
     },
     "output_type": "display_data"
    }
   ],
   "source": [
    "ax = sns.countplot(\"ssc_b\",hue=\"status\",palette = \"Paired\",data = data)\n",
    "ax.figure.set_size_inches(6,6)\n",
    "plt.show()"
   ]
  },
  {
   "cell_type": "code",
   "execution_count": 16,
   "metadata": {
    "scrolled": false
   },
   "outputs": [
    {
     "data": {
      "image/png": "[encoded data removed]",
      "text/plain": [
       "<Figure size 720x648 with 1 Axes>"
      ]
     },
     "metadata": {
      "needs_background": "light"
     },
     "output_type": "display_data"
    }
   ],
   "source": [
    "ax = sns.countplot(\"hsc_b\",hue=\"status\",palette = \"Paired\",data = data)\n",
    "ax.figure.set_size_inches(10,9)\n",
    "plt.show()"
   ]
  },
  {
   "cell_type": "code",
   "execution_count": 17,
   "metadata": {
    "scrolled": true
   },
   "outputs": [
    {
     "data": {
      "text/plain": [
       "<AxesSubplot:xlabel='status', ylabel='hsc_p'>"
      ]
     },
     "execution_count": 17,
     "metadata": {},
     "output_type": "execute_result"
    },
    {
     "data": {
      "image/png": "[encoded data removed]",
      "text/plain": [
       "<Figure size 432x288 with 1 Axes>"
      ]
     },
     "metadata": {
      "needs_background": "light"
     },
     "output_type": "display_data"
    }
   ],
   "source": [
    "sns.barplot(x = \"status\",y=\"hsc_p\",palette = \"Paired\",data = data)"
   ]
  },
  {
   "cell_type": "code",
   "execution_count": 18,
   "metadata": {},
   "outputs": [
    {
     "data": {
      "text/plain": [
       "<AxesSubplot:xlabel='status', ylabel='ssc_p'>"
      ]
     },
     "execution_count": 18,
     "metadata": {},
     "output_type": "execute_result"
    },
    {
     "data": {
      "image/png": "[encoded data removed]",
      "text/plain": [
       "<Figure size 432x288 with 1 Axes>"
      ]
     },
     "metadata": {
      "needs_background": "light"
     },
     "output_type": "display_data"
    }
   ],
   "source": [
    "sns.barplot(x='status',y='ssc_p', palette = 'Paired',data = data)"
   ]
  },
  {
   "cell_type": "code",
   "execution_count": 19,
   "metadata": {
    "scrolled": true
   },
   "outputs": [
    {
     "data": {
      "image/png": "[encoded data removed]",
      "text/plain": [
       "<Figure size 432x288 with 1 Axes>"
      ]
     },
     "metadata": {
      "needs_background": "light"
     },
     "output_type": "display_data"
    }
   ],
   "source": [
    "sns.countplot(\"hsc_s\", palette = 'Paired',data=data)\n",
    "plt.title(\"Specialization in Higher Secondary Education\")\n",
    "plt.xlabel(\"고등학교 전공\")\n",
    "plt.ylabel(\"COUNT\")\n",
    "plt.show()"
   ]
  },
  {
   "cell_type": "code",
   "execution_count": 225,
   "metadata": {},
   "outputs": [
    {
     "data": {
      "image/png": "[encoded data removed]",
      "text/plain": [
       "<Figure size 432x288 with 1 Axes>"
      ]
     },
     "metadata": {
      "needs_background": "light"
     },
     "output_type": "display_data"
    }
   ],
   "source": [
    "sns.countplot(\"degree_t\", hue ='status',palette = 'Paired',data=data)\n",
    "plt.title(\"Under Graduation(Degree type)-Field of degree education\")\n",
    "plt.xlabel(\"학위 유형\")\n",
    "plt.ylabel(\"COUNT\")\n",
    "plt.show()"
   ]
  },
  {
   "cell_type": "code",
   "execution_count": 21,
   "metadata": {
    "scrolled": true
   },
   "outputs": [
    {
     "data": {
      "image/png": "[encoded data removed]",
      "text/plain": [
       "<Figure size 432x288 with 1 Axes>"
      ]
     },
     "metadata": {
      "needs_background": "light"
     },
     "output_type": "display_data"
    }
   ],
   "source": [
    "sns.countplot(\"workex\", palette = 'Paired',data=data)\n",
    "plt.title(\"일한 경험\")\n",
    "plt.xlabel(\"일한 경험여부\")\n",
    "plt.ylabel(\"COUNT\")\n",
    "plt.show()"
   ]
  },
  {
   "cell_type": "code",
   "execution_count": 22,
   "metadata": {},
   "outputs": [
    {
     "name": "stderr",
     "output_type": "stream",
     "text": [
      "C:\\ProgramData\\Anaconda3\\lib\\site-packages\\seaborn\\categorical.py:3666: UserWarning: The `factorplot` function has been renamed to `catplot`. The original name will be removed in a future release. Please update your code. Note that the default `kind` in `factorplot` (`'point'`) has changed `'strip'` in `catplot`.\n",
      "  warnings.warn(msg)\n",
      "C:\\ProgramData\\Anaconda3\\lib\\site-packages\\seaborn\\categorical.py:3672: UserWarning: The `size` parameter has been renamed to `height`; please update your code.\n",
      "  warnings.warn(msg, UserWarning)\n"
     ]
    },
    {
     "data": {
      "text/plain": [
       "<seaborn.axisgrid.FacetGrid at 0x238f7e804c8>"
      ]
     },
     "execution_count": 22,
     "metadata": {},
     "output_type": "execute_result"
    },
    {
     "data": {
      "image/png": "[encoded data removed]",
      "text/plain": [
       "<Figure size 360x360 with 1 Axes>"
      ]
     },
     "metadata": {
      "needs_background": "light"
     },
     "output_type": "display_data"
    }
   ],
   "source": [
    "g = sns.factorplot('workex',data = data, kind = 'count',size = 5)\n",
    "g.set_xlabels()"
   ]
  },
  {
   "cell_type": "code",
   "execution_count": 23,
   "metadata": {
    "scrolled": true
   },
   "outputs": [
    {
     "data": {
      "image/png": "[encoded data removed]",
      "text/plain": [
       "<Figure size 432x288 with 1 Axes>"
      ]
     },
     "metadata": {
      "needs_background": "light"
     },
     "output_type": "display_data"
    }
   ],
   "source": [
    "plt.boxplot(data['etest_p'],sym='bo')\n",
    "plt.title('학위 퍼센트 박스플롯')\n",
    "plt.xticks([1],['학위 퍼센티지'])\n",
    "plt.show()"
   ]
  },
  {
   "cell_type": "code",
   "execution_count": 24,
   "metadata": {},
   "outputs": [
    {
     "data": {
      "image/png": "[encoded data removed]",
      "text/plain": [
       "<Figure size 432x288 with 1 Axes>"
      ]
     },
     "metadata": {
      "needs_background": "light"
     },
     "output_type": "display_data"
    }
   ],
   "source": [
    "plt.boxplot(data['degree_p'],sym='bo')\n",
    "plt.title('학위 퍼센트 박스플롯')\n",
    "plt.xticks([1],['학위 퍼센티지'])\n",
    "plt.show()"
   ]
  },
  {
   "cell_type": "code",
   "execution_count": 25,
   "metadata": {},
   "outputs": [
    {
     "data": {
      "image/png": "[encoded data removed]",
      "text/plain": [
       "<Figure size 432x288 with 1 Axes>"
      ]
     },
     "metadata": {
      "needs_background": "light"
     },
     "output_type": "display_data"
    }
   ],
   "source": [
    "plt.boxplot(data['mba_p'],sym='bo')\n",
    "plt.title('학위 퍼센트 박스플롯')\n",
    "plt.xticks([1],['학위 퍼센티지'])\n",
    "plt.show()"
   ]
  },
  {
   "cell_type": "code",
   "execution_count": 222,
   "metadata": {},
   "outputs": [
    {
     "data": {
      "image/png": "[encoded data removed]",
      "text/plain": [
       "<Figure size 432x288 with 1 Axes>"
      ]
     },
     "metadata": {
      "needs_background": "light"
     },
     "output_type": "display_data"
    }
   ],
   "source": [
    "sns.boxplot(x='degree_t',y='etest_p',hue='status', color = 'pink',data=data)\n",
    "plt.show()"
   ]
  },
  {
   "cell_type": "code",
   "execution_count": 219,
   "metadata": {},
   "outputs": [
    {
     "data": {
      "image/png": "[encoded data removed]",
      "text/plain": [
       "<Figure size 765.25x360 with 2 Axes>"
      ]
     },
     "metadata": {
      "needs_background": "light"
     },
     "output_type": "display_data"
    }
   ],
   "source": [
    "sns.factorplot(x=\"degree_t\", y=\"etest_p\", hue=\"gender\", col=\"status\", data=data, color = 'pink', kind=\"box\")\n",
    "plt.show()"
   ]
  },
  {
   "cell_type": "code",
   "execution_count": 220,
   "metadata": {},
   "outputs": [
    {
     "data": {
      "image/png": "[encoded data removed]",
      "text/plain": [
       "<Figure size 432x288 with 1 Axes>"
      ]
     },
     "metadata": {
      "needs_background": "light"
     },
     "output_type": "display_data"
    }
   ],
   "source": [
    "sns.boxplot(x='degree_t',y='etest_p',hue='status',data=data, color = 'skyblue')\n",
    "plt.show()"
   ]
  },
  {
   "cell_type": "code",
   "execution_count": 221,
   "metadata": {},
   "outputs": [
    {
     "data": {
      "image/png": "[encoded data removed]",
      "text/plain": [
       "<Figure size 432x288 with 1 Axes>"
      ]
     },
     "metadata": {
      "needs_background": "light"
     },
     "output_type": "display_data"
    }
   ],
   "source": [
    "sns.boxplot(x='degree_t',y='mba_p',hue='status',data=data, color = 'skyblue')\n",
    "plt.show()"
   ]
  },
  {
   "cell_type": "code",
   "execution_count": 223,
   "metadata": {},
   "outputs": [
    {
     "data": {
      "image/png": "[encoded data removed]",
      "text/plain": [
       "<Figure size 432x288 with 1 Axes>"
      ]
     },
     "metadata": {
      "needs_background": "light"
     },
     "output_type": "display_data"
    }
   ],
   "source": [
    "sns.boxplot(x='degree_t',y='ssc_p',hue='status',data=data, color = 'skyblue')\n",
    "plt.show()"
   ]
  },
  {
   "cell_type": "code",
   "execution_count": 224,
   "metadata": {},
   "outputs": [
    {
     "data": {
      "image/png": "[encoded data removed]",
      "text/plain": [
       "<Figure size 432x288 with 1 Axes>"
      ]
     },
     "metadata": {
      "needs_background": "light"
     },
     "output_type": "display_data"
    }
   ],
   "source": [
    "sns.boxplot(x='degree_t',y='hsc_p',hue='status',data=data, color = 'skyblue')\n",
    "plt.show()"
   ]
  },
  {
   "cell_type": "code",
   "execution_count": 207,
   "metadata": {},
   "outputs": [
    {
     "data": {
      "text/plain": [
       "<AxesSubplot:>"
      ]
     },
     "execution_count": 207,
     "metadata": {},
     "output_type": "execute_result"
    },
    {
     "data": {
      "image/png": "[encoded data removed]",
      "text/plain": [
       "<Figure size 432x288 with 2 Axes>"
      ]
     },
     "metadata": {
      "needs_background": "light"
     },
     "output_type": "display_data"
    }
   ],
   "source": [
    "sns.heatmap(data.corr(),annot=True,fmt='.1g',cmap='Greys')"
   ]
  },
  {
   "cell_type": "code",
   "execution_count": 32,
   "metadata": {},
   "outputs": [
    {
     "data": {
      "image/png": "[encoded data removed]",
      "text/plain": [
       "<Figure size 432x288 with 1 Axes>"
      ]
     },
     "metadata": {
      "needs_background": "light"
     },
     "output_type": "display_data"
    }
   ],
   "source": [
    "# Scatter Plot with regression line by seaborn regplot()\n",
    "\n",
    "sns.regplot(x=data['hsc_p'], \n",
    "           y=data['ssc_p'], \n",
    "           fit_reg=True) # default\n",
    "\n",
    "plt.title('Scatter Plot with Regression Line by regplot()', fontsize=20)\n",
    "\n",
    "plt.show()\n"
   ]
  },
  {
   "cell_type": "code",
   "execution_count": 33,
   "metadata": {},
   "outputs": [
    {
     "data": {
      "image/png": "[encoded data removed]",
      "text/plain": [
       "<Figure size 432x288 with 1 Axes>"
      ]
     },
     "metadata": {
      "needs_background": "light"
     },
     "output_type": "display_data"
    }
   ],
   "source": [
    "# Scatter Plot with regression line by seaborn regplot()\n",
    "\n",
    "sns.regplot(x=data['etest_p'], \n",
    "           y=data['mba_p'], \n",
    "\n",
    "           fit_reg=True) # default\n",
    "\n",
    "plt.title('Scatter Plot with Regression Line by regplot()', fontsize=20)\n",
    "\n",
    "plt.show()\n"
   ]
  },
  {
   "cell_type": "markdown",
   "metadata": {},
   "source": [
    "_____________________________________________________________________\n",
    "### test"
   ]
  },
  {
   "cell_type": "code",
   "execution_count": 34,
   "metadata": {},
   "outputs": [
    {
     "name": "stdout",
     "output_type": "stream",
     "text": [
      "data크기 (215, 15)\n"
     ]
    }
   ],
   "source": [
    "print(\"data크기\",data.shape)# data크기 행,열"
   ]
  },
  {
   "cell_type": "markdown",
   "metadata": {},
   "source": [
    "> data.groupby([\"salary\",\"gender\"]).size().unstack().dropna(axis=1)\n",
    "여기서 dropna(axis=1)에서 axis=1을 하면 열을 기준으로 데이터를 삭제.   \n",
    "axis = 0을 하면 행을 기준으로 데이터를 삭제    \n",
    "즉, dropna(axis=1)은 누락된 열을 통째로 날려버리는 것이다."
   ]
  },
  {
   "cell_type": "code",
   "execution_count": 35,
   "metadata": {},
   "outputs": [
    {
     "name": "stdout",
     "output_type": "stream",
     "text": [
      "target의 타입: <class 'pandas.core.series.Series'>\n"
     ]
    }
   ],
   "source": [
    "print(\"target의 타입:\", type(data['status']))"
   ]
  },
  {
   "cell_type": "code",
   "execution_count": 36,
   "metadata": {},
   "outputs": [
    {
     "name": "stdout",
     "output_type": "stream",
     "text": [
      "target의 크기 :  (215,)\n"
     ]
    }
   ],
   "source": [
    "print(\"target의 크기 : \", data['status'].shape)"
   ]
  },
  {
   "cell_type": "code",
   "execution_count": 37,
   "metadata": {},
   "outputs": [
    {
     "name": "stdout",
     "output_type": "stream",
     "text": [
      "타깃:\n",
      " 0          Placed\n",
      "1          Placed\n",
      "2          Placed\n",
      "3      Not Placed\n",
      "4          Placed\n",
      "          ...    \n",
      "210        Placed\n",
      "211        Placed\n",
      "212        Placed\n",
      "213        Placed\n",
      "214    Not Placed\n",
      "Name: status, Length: 215, dtype: object\n"
     ]
    }
   ],
   "source": [
    "print('타깃:\\n', data['status'])"
   ]
  },
  {
   "cell_type": "markdown",
   "metadata": {},
   "source": [
    "▼ 참고용"
   ]
  },
  {
   "cell_type": "code",
   "execution_count": 38,
   "metadata": {},
   "outputs": [
    {
     "name": "stdout",
     "output_type": "stream",
     "text": [
      "     Placed\n",
      "0         1\n",
      "1         1\n",
      "2         1\n",
      "3         0\n",
      "4         1\n",
      "..      ...\n",
      "210       1\n",
      "211       1\n",
      "212       1\n",
      "213       1\n",
      "214       0\n",
      "\n",
      "[215 rows x 1 columns]\n"
     ]
    }
   ],
   "source": [
    "# 판다스로 데이터 전처리(status의 placed, not placed를 0과 1로 바꾸어줌)\n",
    "X_df = pd.get_dummies(data['status'],drop_first=True)\n",
    "print(X_df)\n",
    "# 0이 Not Placed, 1이 Placed. drop_first는 첫번째 열을 바로 삭제한다는 의미"
   ]
  },
  {
   "cell_type": "markdown",
   "metadata": {},
   "source": [
    "---------------------------------------------------------------------"
   ]
  },
  {
   "cell_type": "markdown",
   "metadata": {},
   "source": [
    "iloc/loc 데이터프레임에서 행과 열 선택하는 방법\n",
    "iloc는 열을 불러온다"
   ]
  },
  {
   "cell_type": "code",
   "execution_count": 39,
   "metadata": {},
   "outputs": [
    {
     "data": {
      "text/html": [
       "<div>\n",
       "<style scoped>\n",
       "    .dataframe tbody tr th:only-of-type {\n",
       "        vertical-align: middle;\n",
       "    }\n",
       "\n",
       "    .dataframe tbody tr th {\n",
       "        vertical-align: top;\n",
       "    }\n",
       "\n",
       "    .dataframe thead th {\n",
       "        text-align: right;\n",
       "    }\n",
       "</style>\n",
       "<table border=\"1\" class=\"dataframe\">\n",
       "  <thead>\n",
       "    <tr style=\"text-align: right;\">\n",
       "      <th></th>\n",
       "      <th>status</th>\n",
       "      <th>salary</th>\n",
       "    </tr>\n",
       "  </thead>\n",
       "  <tbody>\n",
       "    <tr>\n",
       "      <th>0</th>\n",
       "      <td>Placed</td>\n",
       "      <td>270000.0</td>\n",
       "    </tr>\n",
       "    <tr>\n",
       "      <th>1</th>\n",
       "      <td>Placed</td>\n",
       "      <td>200000.0</td>\n",
       "    </tr>\n",
       "    <tr>\n",
       "      <th>2</th>\n",
       "      <td>Placed</td>\n",
       "      <td>250000.0</td>\n",
       "    </tr>\n",
       "    <tr>\n",
       "      <th>3</th>\n",
       "      <td>Not Placed</td>\n",
       "      <td>NaN</td>\n",
       "    </tr>\n",
       "    <tr>\n",
       "      <th>4</th>\n",
       "      <td>Placed</td>\n",
       "      <td>425000.0</td>\n",
       "    </tr>\n",
       "    <tr>\n",
       "      <th>...</th>\n",
       "      <td>...</td>\n",
       "      <td>...</td>\n",
       "    </tr>\n",
       "    <tr>\n",
       "      <th>210</th>\n",
       "      <td>Placed</td>\n",
       "      <td>400000.0</td>\n",
       "    </tr>\n",
       "    <tr>\n",
       "      <th>211</th>\n",
       "      <td>Placed</td>\n",
       "      <td>275000.0</td>\n",
       "    </tr>\n",
       "    <tr>\n",
       "      <th>212</th>\n",
       "      <td>Placed</td>\n",
       "      <td>295000.0</td>\n",
       "    </tr>\n",
       "    <tr>\n",
       "      <th>213</th>\n",
       "      <td>Placed</td>\n",
       "      <td>204000.0</td>\n",
       "    </tr>\n",
       "    <tr>\n",
       "      <th>214</th>\n",
       "      <td>Not Placed</td>\n",
       "      <td>NaN</td>\n",
       "    </tr>\n",
       "  </tbody>\n",
       "</table>\n",
       "<p>215 rows × 2 columns</p>\n",
       "</div>"
      ],
      "text/plain": [
       "         status    salary\n",
       "0        Placed  270000.0\n",
       "1        Placed  200000.0\n",
       "2        Placed  250000.0\n",
       "3    Not Placed       NaN\n",
       "4        Placed  425000.0\n",
       "..          ...       ...\n",
       "210      Placed  400000.0\n",
       "211      Placed  275000.0\n",
       "212      Placed  295000.0\n",
       "213      Placed  204000.0\n",
       "214  Not Placed       NaN\n",
       "\n",
       "[215 rows x 2 columns]"
      ]
     },
     "execution_count": 39,
     "metadata": {},
     "output_type": "execute_result"
    }
   ],
   "source": [
    "data.iloc[:,13:15]"
   ]
  },
  {
   "cell_type": "code",
   "execution_count": 40,
   "metadata": {},
   "outputs": [
    {
     "data": {
      "text/html": [
       "<div>\n",
       "<style scoped>\n",
       "    .dataframe tbody tr th:only-of-type {\n",
       "        vertical-align: middle;\n",
       "    }\n",
       "\n",
       "    .dataframe tbody tr th {\n",
       "        vertical-align: top;\n",
       "    }\n",
       "\n",
       "    .dataframe thead th {\n",
       "        text-align: right;\n",
       "    }\n",
       "</style>\n",
       "<table border=\"1\" class=\"dataframe\">\n",
       "  <thead>\n",
       "    <tr style=\"text-align: right;\">\n",
       "      <th></th>\n",
       "      <th>sl_no</th>\n",
       "      <th>gender</th>\n",
       "      <th>ssc_p</th>\n",
       "      <th>ssc_b</th>\n",
       "      <th>hsc_p</th>\n",
       "      <th>hsc_b</th>\n",
       "      <th>hsc_s</th>\n",
       "      <th>degree_p</th>\n",
       "      <th>degree_t</th>\n",
       "      <th>workex</th>\n",
       "      <th>etest_p</th>\n",
       "      <th>specialisation</th>\n",
       "      <th>mba_p</th>\n",
       "      <th>status</th>\n",
       "      <th>salary</th>\n",
       "    </tr>\n",
       "  </thead>\n",
       "  <tbody>\n",
       "    <tr>\n",
       "      <th>3</th>\n",
       "      <td>4</td>\n",
       "      <td>M</td>\n",
       "      <td>56.0</td>\n",
       "      <td>Central</td>\n",
       "      <td>52.0</td>\n",
       "      <td>Central</td>\n",
       "      <td>Science</td>\n",
       "      <td>52.00</td>\n",
       "      <td>Sci&amp;Tech</td>\n",
       "      <td>No</td>\n",
       "      <td>66.00</td>\n",
       "      <td>Mkt&amp;HR</td>\n",
       "      <td>59.43</td>\n",
       "      <td>Not Placed</td>\n",
       "      <td>NaN</td>\n",
       "    </tr>\n",
       "    <tr>\n",
       "      <th>5</th>\n",
       "      <td>6</td>\n",
       "      <td>M</td>\n",
       "      <td>55.0</td>\n",
       "      <td>Others</td>\n",
       "      <td>49.8</td>\n",
       "      <td>Others</td>\n",
       "      <td>Science</td>\n",
       "      <td>67.25</td>\n",
       "      <td>Sci&amp;Tech</td>\n",
       "      <td>Yes</td>\n",
       "      <td>55.00</td>\n",
       "      <td>Mkt&amp;Fin</td>\n",
       "      <td>51.58</td>\n",
       "      <td>Not Placed</td>\n",
       "      <td>NaN</td>\n",
       "    </tr>\n",
       "    <tr>\n",
       "      <th>6</th>\n",
       "      <td>7</td>\n",
       "      <td>F</td>\n",
       "      <td>46.0</td>\n",
       "      <td>Others</td>\n",
       "      <td>49.2</td>\n",
       "      <td>Others</td>\n",
       "      <td>Commerce</td>\n",
       "      <td>79.00</td>\n",
       "      <td>Comm&amp;Mgmt</td>\n",
       "      <td>No</td>\n",
       "      <td>74.28</td>\n",
       "      <td>Mkt&amp;Fin</td>\n",
       "      <td>53.29</td>\n",
       "      <td>Not Placed</td>\n",
       "      <td>NaN</td>\n",
       "    </tr>\n",
       "    <tr>\n",
       "      <th>9</th>\n",
       "      <td>10</td>\n",
       "      <td>M</td>\n",
       "      <td>58.0</td>\n",
       "      <td>Central</td>\n",
       "      <td>70.0</td>\n",
       "      <td>Central</td>\n",
       "      <td>Commerce</td>\n",
       "      <td>61.00</td>\n",
       "      <td>Comm&amp;Mgmt</td>\n",
       "      <td>No</td>\n",
       "      <td>54.00</td>\n",
       "      <td>Mkt&amp;Fin</td>\n",
       "      <td>52.21</td>\n",
       "      <td>Not Placed</td>\n",
       "      <td>NaN</td>\n",
       "    </tr>\n",
       "    <tr>\n",
       "      <th>12</th>\n",
       "      <td>13</td>\n",
       "      <td>F</td>\n",
       "      <td>47.0</td>\n",
       "      <td>Central</td>\n",
       "      <td>55.0</td>\n",
       "      <td>Others</td>\n",
       "      <td>Science</td>\n",
       "      <td>65.00</td>\n",
       "      <td>Comm&amp;Mgmt</td>\n",
       "      <td>No</td>\n",
       "      <td>62.00</td>\n",
       "      <td>Mkt&amp;HR</td>\n",
       "      <td>65.04</td>\n",
       "      <td>Not Placed</td>\n",
       "      <td>NaN</td>\n",
       "    </tr>\n",
       "    <tr>\n",
       "      <th>...</th>\n",
       "      <td>...</td>\n",
       "      <td>...</td>\n",
       "      <td>...</td>\n",
       "      <td>...</td>\n",
       "      <td>...</td>\n",
       "      <td>...</td>\n",
       "      <td>...</td>\n",
       "      <td>...</td>\n",
       "      <td>...</td>\n",
       "      <td>...</td>\n",
       "      <td>...</td>\n",
       "      <td>...</td>\n",
       "      <td>...</td>\n",
       "      <td>...</td>\n",
       "      <td>...</td>\n",
       "    </tr>\n",
       "    <tr>\n",
       "      <th>198</th>\n",
       "      <td>199</td>\n",
       "      <td>F</td>\n",
       "      <td>67.0</td>\n",
       "      <td>Central</td>\n",
       "      <td>70.0</td>\n",
       "      <td>Central</td>\n",
       "      <td>Commerce</td>\n",
       "      <td>65.00</td>\n",
       "      <td>Others</td>\n",
       "      <td>No</td>\n",
       "      <td>88.00</td>\n",
       "      <td>Mkt&amp;HR</td>\n",
       "      <td>71.96</td>\n",
       "      <td>Not Placed</td>\n",
       "      <td>NaN</td>\n",
       "    </tr>\n",
       "    <tr>\n",
       "      <th>201</th>\n",
       "      <td>202</td>\n",
       "      <td>M</td>\n",
       "      <td>54.2</td>\n",
       "      <td>Central</td>\n",
       "      <td>63.0</td>\n",
       "      <td>Others</td>\n",
       "      <td>Science</td>\n",
       "      <td>58.00</td>\n",
       "      <td>Comm&amp;Mgmt</td>\n",
       "      <td>No</td>\n",
       "      <td>79.00</td>\n",
       "      <td>Mkt&amp;HR</td>\n",
       "      <td>58.44</td>\n",
       "      <td>Not Placed</td>\n",
       "      <td>NaN</td>\n",
       "    </tr>\n",
       "    <tr>\n",
       "      <th>206</th>\n",
       "      <td>207</td>\n",
       "      <td>M</td>\n",
       "      <td>41.0</td>\n",
       "      <td>Central</td>\n",
       "      <td>42.0</td>\n",
       "      <td>Central</td>\n",
       "      <td>Science</td>\n",
       "      <td>60.00</td>\n",
       "      <td>Comm&amp;Mgmt</td>\n",
       "      <td>No</td>\n",
       "      <td>97.00</td>\n",
       "      <td>Mkt&amp;Fin</td>\n",
       "      <td>53.39</td>\n",
       "      <td>Not Placed</td>\n",
       "      <td>NaN</td>\n",
       "    </tr>\n",
       "    <tr>\n",
       "      <th>208</th>\n",
       "      <td>209</td>\n",
       "      <td>F</td>\n",
       "      <td>43.0</td>\n",
       "      <td>Central</td>\n",
       "      <td>60.0</td>\n",
       "      <td>Others</td>\n",
       "      <td>Science</td>\n",
       "      <td>65.00</td>\n",
       "      <td>Comm&amp;Mgmt</td>\n",
       "      <td>No</td>\n",
       "      <td>92.66</td>\n",
       "      <td>Mkt&amp;HR</td>\n",
       "      <td>62.92</td>\n",
       "      <td>Not Placed</td>\n",
       "      <td>NaN</td>\n",
       "    </tr>\n",
       "    <tr>\n",
       "      <th>214</th>\n",
       "      <td>215</td>\n",
       "      <td>M</td>\n",
       "      <td>62.0</td>\n",
       "      <td>Central</td>\n",
       "      <td>58.0</td>\n",
       "      <td>Others</td>\n",
       "      <td>Science</td>\n",
       "      <td>53.00</td>\n",
       "      <td>Comm&amp;Mgmt</td>\n",
       "      <td>No</td>\n",
       "      <td>89.00</td>\n",
       "      <td>Mkt&amp;HR</td>\n",
       "      <td>60.22</td>\n",
       "      <td>Not Placed</td>\n",
       "      <td>NaN</td>\n",
       "    </tr>\n",
       "  </tbody>\n",
       "</table>\n",
       "<p>67 rows × 15 columns</p>\n",
       "</div>"
      ],
      "text/plain": [
       "     sl_no gender  ssc_p    ssc_b  hsc_p    hsc_b     hsc_s  degree_p  \\\n",
       "3        4      M   56.0  Central   52.0  Central   Science     52.00   \n",
       "5        6      M   55.0   Others   49.8   Others   Science     67.25   \n",
       "6        7      F   46.0   Others   49.2   Others  Commerce     79.00   \n",
       "9       10      M   58.0  Central   70.0  Central  Commerce     61.00   \n",
       "12      13      F   47.0  Central   55.0   Others   Science     65.00   \n",
       "..     ...    ...    ...      ...    ...      ...       ...       ...   \n",
       "198    199      F   67.0  Central   70.0  Central  Commerce     65.00   \n",
       "201    202      M   54.2  Central   63.0   Others   Science     58.00   \n",
       "206    207      M   41.0  Central   42.0  Central   Science     60.00   \n",
       "208    209      F   43.0  Central   60.0   Others   Science     65.00   \n",
       "214    215      M   62.0  Central   58.0   Others   Science     53.00   \n",
       "\n",
       "      degree_t workex  etest_p specialisation  mba_p      status  salary  \n",
       "3     Sci&Tech     No    66.00         Mkt&HR  59.43  Not Placed     NaN  \n",
       "5     Sci&Tech    Yes    55.00        Mkt&Fin  51.58  Not Placed     NaN  \n",
       "6    Comm&Mgmt     No    74.28        Mkt&Fin  53.29  Not Placed     NaN  \n",
       "9    Comm&Mgmt     No    54.00        Mkt&Fin  52.21  Not Placed     NaN  \n",
       "12   Comm&Mgmt     No    62.00         Mkt&HR  65.04  Not Placed     NaN  \n",
       "..         ...    ...      ...            ...    ...         ...     ...  \n",
       "198     Others     No    88.00         Mkt&HR  71.96  Not Placed     NaN  \n",
       "201  Comm&Mgmt     No    79.00         Mkt&HR  58.44  Not Placed     NaN  \n",
       "206  Comm&Mgmt     No    97.00        Mkt&Fin  53.39  Not Placed     NaN  \n",
       "208  Comm&Mgmt     No    92.66         Mkt&HR  62.92  Not Placed     NaN  \n",
       "214  Comm&Mgmt     No    89.00         Mkt&HR  60.22  Not Placed     NaN  \n",
       "\n",
       "[67 rows x 15 columns]"
      ]
     },
     "execution_count": 40,
     "metadata": {},
     "output_type": "execute_result"
    }
   ],
   "source": [
    "a = data.loc[data.isnull()[\"salary\"],:]\n",
    "a"
   ]
  },
  {
   "cell_type": "code",
   "execution_count": 41,
   "metadata": {},
   "outputs": [
    {
     "data": {
      "text/plain": [
       "True"
      ]
     },
     "execution_count": 41,
     "metadata": {},
     "output_type": "execute_result"
    }
   ],
   "source": [
    "word = ['Not Placed']\n",
    "all(a['status'].isin(word))"
   ]
  },
  {
   "cell_type": "code",
   "execution_count": 42,
   "metadata": {},
   "outputs": [
    {
     "data": {
      "text/plain": [
       "<bound method IndexOpsMixin.item of 3      Not Placed\n",
       "5      Not Placed\n",
       "6      Not Placed\n",
       "9      Not Placed\n",
       "12     Not Placed\n",
       "          ...    \n",
       "198    Not Placed\n",
       "201    Not Placed\n",
       "206    Not Placed\n",
       "208    Not Placed\n",
       "214    Not Placed\n",
       "Name: status, Length: 67, dtype: object>"
      ]
     },
     "execution_count": 42,
     "metadata": {},
     "output_type": "execute_result"
    }
   ],
   "source": [
    "a['status'].item"
   ]
  },
  {
   "cell_type": "code",
   "execution_count": 203,
   "metadata": {
    "scrolled": false
   },
   "outputs": [
    {
     "data": {
      "text/html": [
       "<div>\n",
       "<style scoped>\n",
       "    .dataframe tbody tr th:only-of-type {\n",
       "        vertical-align: middle;\n",
       "    }\n",
       "\n",
       "    .dataframe tbody tr th {\n",
       "        vertical-align: top;\n",
       "    }\n",
       "\n",
       "    .dataframe thead th {\n",
       "        text-align: right;\n",
       "    }\n",
       "</style>\n",
       "<table border=\"1\" class=\"dataframe\">\n",
       "  <thead>\n",
       "    <tr style=\"text-align: right;\">\n",
       "      <th></th>\n",
       "      <th>sl_no</th>\n",
       "      <th>gender</th>\n",
       "      <th>ssc_p</th>\n",
       "      <th>ssc_b</th>\n",
       "      <th>hsc_p</th>\n",
       "      <th>hsc_b</th>\n",
       "      <th>hsc_s</th>\n",
       "      <th>degree_p</th>\n",
       "      <th>degree_t</th>\n",
       "      <th>workex</th>\n",
       "      <th>etest_p</th>\n",
       "      <th>specialisation</th>\n",
       "      <th>mba_p</th>\n",
       "      <th>status</th>\n",
       "      <th>salary</th>\n",
       "    </tr>\n",
       "  </thead>\n",
       "  <tbody>\n",
       "    <tr>\n",
       "      <th>0</th>\n",
       "      <td>1</td>\n",
       "      <td>M</td>\n",
       "      <td>67.00</td>\n",
       "      <td>Others</td>\n",
       "      <td>91.00</td>\n",
       "      <td>Others</td>\n",
       "      <td>Commerce</td>\n",
       "      <td>58.00</td>\n",
       "      <td>Sci&amp;Tech</td>\n",
       "      <td>No</td>\n",
       "      <td>55.0</td>\n",
       "      <td>Mkt&amp;HR</td>\n",
       "      <td>58.80</td>\n",
       "      <td>Placed</td>\n",
       "      <td>270000.0</td>\n",
       "    </tr>\n",
       "    <tr>\n",
       "      <th>1</th>\n",
       "      <td>2</td>\n",
       "      <td>M</td>\n",
       "      <td>79.33</td>\n",
       "      <td>Central</td>\n",
       "      <td>78.33</td>\n",
       "      <td>Others</td>\n",
       "      <td>Science</td>\n",
       "      <td>77.48</td>\n",
       "      <td>Sci&amp;Tech</td>\n",
       "      <td>Yes</td>\n",
       "      <td>86.5</td>\n",
       "      <td>Mkt&amp;Fin</td>\n",
       "      <td>66.28</td>\n",
       "      <td>Placed</td>\n",
       "      <td>200000.0</td>\n",
       "    </tr>\n",
       "    <tr>\n",
       "      <th>2</th>\n",
       "      <td>3</td>\n",
       "      <td>M</td>\n",
       "      <td>65.00</td>\n",
       "      <td>Central</td>\n",
       "      <td>68.00</td>\n",
       "      <td>Central</td>\n",
       "      <td>Arts</td>\n",
       "      <td>64.00</td>\n",
       "      <td>Comm&amp;Mgmt</td>\n",
       "      <td>No</td>\n",
       "      <td>75.0</td>\n",
       "      <td>Mkt&amp;Fin</td>\n",
       "      <td>57.80</td>\n",
       "      <td>Placed</td>\n",
       "      <td>250000.0</td>\n",
       "    </tr>\n",
       "    <tr>\n",
       "      <th>3</th>\n",
       "      <td>4</td>\n",
       "      <td>M</td>\n",
       "      <td>56.00</td>\n",
       "      <td>Central</td>\n",
       "      <td>52.00</td>\n",
       "      <td>Central</td>\n",
       "      <td>Science</td>\n",
       "      <td>52.00</td>\n",
       "      <td>Sci&amp;Tech</td>\n",
       "      <td>No</td>\n",
       "      <td>66.0</td>\n",
       "      <td>Mkt&amp;HR</td>\n",
       "      <td>59.43</td>\n",
       "      <td>Not Placed</td>\n",
       "      <td>0.0</td>\n",
       "    </tr>\n",
       "    <tr>\n",
       "      <th>4</th>\n",
       "      <td>5</td>\n",
       "      <td>M</td>\n",
       "      <td>85.80</td>\n",
       "      <td>Central</td>\n",
       "      <td>73.60</td>\n",
       "      <td>Central</td>\n",
       "      <td>Commerce</td>\n",
       "      <td>73.30</td>\n",
       "      <td>Comm&amp;Mgmt</td>\n",
       "      <td>No</td>\n",
       "      <td>96.8</td>\n",
       "      <td>Mkt&amp;Fin</td>\n",
       "      <td>55.50</td>\n",
       "      <td>Placed</td>\n",
       "      <td>425000.0</td>\n",
       "    </tr>\n",
       "    <tr>\n",
       "      <th>...</th>\n",
       "      <td>...</td>\n",
       "      <td>...</td>\n",
       "      <td>...</td>\n",
       "      <td>...</td>\n",
       "      <td>...</td>\n",
       "      <td>...</td>\n",
       "      <td>...</td>\n",
       "      <td>...</td>\n",
       "      <td>...</td>\n",
       "      <td>...</td>\n",
       "      <td>...</td>\n",
       "      <td>...</td>\n",
       "      <td>...</td>\n",
       "      <td>...</td>\n",
       "      <td>...</td>\n",
       "    </tr>\n",
       "    <tr>\n",
       "      <th>210</th>\n",
       "      <td>211</td>\n",
       "      <td>M</td>\n",
       "      <td>80.60</td>\n",
       "      <td>Others</td>\n",
       "      <td>82.00</td>\n",
       "      <td>Others</td>\n",
       "      <td>Commerce</td>\n",
       "      <td>77.60</td>\n",
       "      <td>Comm&amp;Mgmt</td>\n",
       "      <td>No</td>\n",
       "      <td>91.0</td>\n",
       "      <td>Mkt&amp;Fin</td>\n",
       "      <td>74.49</td>\n",
       "      <td>Placed</td>\n",
       "      <td>400000.0</td>\n",
       "    </tr>\n",
       "    <tr>\n",
       "      <th>211</th>\n",
       "      <td>212</td>\n",
       "      <td>M</td>\n",
       "      <td>58.00</td>\n",
       "      <td>Others</td>\n",
       "      <td>60.00</td>\n",
       "      <td>Others</td>\n",
       "      <td>Science</td>\n",
       "      <td>72.00</td>\n",
       "      <td>Sci&amp;Tech</td>\n",
       "      <td>No</td>\n",
       "      <td>74.0</td>\n",
       "      <td>Mkt&amp;Fin</td>\n",
       "      <td>53.62</td>\n",
       "      <td>Placed</td>\n",
       "      <td>275000.0</td>\n",
       "    </tr>\n",
       "    <tr>\n",
       "      <th>212</th>\n",
       "      <td>213</td>\n",
       "      <td>M</td>\n",
       "      <td>67.00</td>\n",
       "      <td>Others</td>\n",
       "      <td>67.00</td>\n",
       "      <td>Others</td>\n",
       "      <td>Commerce</td>\n",
       "      <td>73.00</td>\n",
       "      <td>Comm&amp;Mgmt</td>\n",
       "      <td>Yes</td>\n",
       "      <td>59.0</td>\n",
       "      <td>Mkt&amp;Fin</td>\n",
       "      <td>69.72</td>\n",
       "      <td>Placed</td>\n",
       "      <td>295000.0</td>\n",
       "    </tr>\n",
       "    <tr>\n",
       "      <th>213</th>\n",
       "      <td>214</td>\n",
       "      <td>F</td>\n",
       "      <td>74.00</td>\n",
       "      <td>Others</td>\n",
       "      <td>66.00</td>\n",
       "      <td>Others</td>\n",
       "      <td>Commerce</td>\n",
       "      <td>58.00</td>\n",
       "      <td>Comm&amp;Mgmt</td>\n",
       "      <td>No</td>\n",
       "      <td>70.0</td>\n",
       "      <td>Mkt&amp;HR</td>\n",
       "      <td>60.23</td>\n",
       "      <td>Placed</td>\n",
       "      <td>204000.0</td>\n",
       "    </tr>\n",
       "    <tr>\n",
       "      <th>214</th>\n",
       "      <td>215</td>\n",
       "      <td>M</td>\n",
       "      <td>62.00</td>\n",
       "      <td>Central</td>\n",
       "      <td>58.00</td>\n",
       "      <td>Others</td>\n",
       "      <td>Science</td>\n",
       "      <td>53.00</td>\n",
       "      <td>Comm&amp;Mgmt</td>\n",
       "      <td>No</td>\n",
       "      <td>89.0</td>\n",
       "      <td>Mkt&amp;HR</td>\n",
       "      <td>60.22</td>\n",
       "      <td>Not Placed</td>\n",
       "      <td>0.0</td>\n",
       "    </tr>\n",
       "  </tbody>\n",
       "</table>\n",
       "<p>215 rows × 15 columns</p>\n",
       "</div>"
      ],
      "text/plain": [
       "     sl_no gender  ssc_p    ssc_b  hsc_p    hsc_b     hsc_s  degree_p  \\\n",
       "0        1      M  67.00   Others  91.00   Others  Commerce     58.00   \n",
       "1        2      M  79.33  Central  78.33   Others   Science     77.48   \n",
       "2        3      M  65.00  Central  68.00  Central      Arts     64.00   \n",
       "3        4      M  56.00  Central  52.00  Central   Science     52.00   \n",
       "4        5      M  85.80  Central  73.60  Central  Commerce     73.30   \n",
       "..     ...    ...    ...      ...    ...      ...       ...       ...   \n",
       "210    211      M  80.60   Others  82.00   Others  Commerce     77.60   \n",
       "211    212      M  58.00   Others  60.00   Others   Science     72.00   \n",
       "212    213      M  67.00   Others  67.00   Others  Commerce     73.00   \n",
       "213    214      F  74.00   Others  66.00   Others  Commerce     58.00   \n",
       "214    215      M  62.00  Central  58.00   Others   Science     53.00   \n",
       "\n",
       "      degree_t workex  etest_p specialisation  mba_p      status    salary  \n",
       "0     Sci&Tech     No     55.0         Mkt&HR  58.80      Placed  270000.0  \n",
       "1     Sci&Tech    Yes     86.5        Mkt&Fin  66.28      Placed  200000.0  \n",
       "2    Comm&Mgmt     No     75.0        Mkt&Fin  57.80      Placed  250000.0  \n",
       "3     Sci&Tech     No     66.0         Mkt&HR  59.43  Not Placed       0.0  \n",
       "4    Comm&Mgmt     No     96.8        Mkt&Fin  55.50      Placed  425000.0  \n",
       "..         ...    ...      ...            ...    ...         ...       ...  \n",
       "210  Comm&Mgmt     No     91.0        Mkt&Fin  74.49      Placed  400000.0  \n",
       "211   Sci&Tech     No     74.0        Mkt&Fin  53.62      Placed  275000.0  \n",
       "212  Comm&Mgmt    Yes     59.0        Mkt&Fin  69.72      Placed  295000.0  \n",
       "213  Comm&Mgmt     No     70.0         Mkt&HR  60.23      Placed  204000.0  \n",
       "214  Comm&Mgmt     No     89.0         Mkt&HR  60.22  Not Placed       0.0  \n",
       "\n",
       "[215 rows x 15 columns]"
      ]
     },
     "execution_count": 203,
     "metadata": {},
     "output_type": "execute_result"
    }
   ],
   "source": [
    "data = data.fillna(0)\n",
    "data"
   ]
  },
  {
   "cell_type": "code",
   "execution_count": 204,
   "metadata": {},
   "outputs": [
    {
     "data": {
      "text/html": [
       "<div>\n",
       "<style scoped>\n",
       "    .dataframe tbody tr th:only-of-type {\n",
       "        vertical-align: middle;\n",
       "    }\n",
       "\n",
       "    .dataframe tbody tr th {\n",
       "        vertical-align: top;\n",
       "    }\n",
       "\n",
       "    .dataframe thead th {\n",
       "        text-align: right;\n",
       "    }\n",
       "</style>\n",
       "<table border=\"1\" class=\"dataframe\">\n",
       "  <thead>\n",
       "    <tr style=\"text-align: right;\">\n",
       "      <th></th>\n",
       "      <th>sl_no</th>\n",
       "      <th>ssc_p</th>\n",
       "      <th>hsc_p</th>\n",
       "      <th>degree_p</th>\n",
       "      <th>etest_p</th>\n",
       "      <th>mba_p</th>\n",
       "      <th>salary</th>\n",
       "    </tr>\n",
       "  </thead>\n",
       "  <tbody>\n",
       "    <tr>\n",
       "      <th>count</th>\n",
       "      <td>215.000000</td>\n",
       "      <td>215.000000</td>\n",
       "      <td>215.000000</td>\n",
       "      <td>215.000000</td>\n",
       "      <td>215.000000</td>\n",
       "      <td>215.000000</td>\n",
       "      <td>215.000000</td>\n",
       "    </tr>\n",
       "    <tr>\n",
       "      <th>mean</th>\n",
       "      <td>108.000000</td>\n",
       "      <td>67.303395</td>\n",
       "      <td>66.333163</td>\n",
       "      <td>66.370186</td>\n",
       "      <td>72.100558</td>\n",
       "      <td>62.278186</td>\n",
       "      <td>198702.325581</td>\n",
       "    </tr>\n",
       "    <tr>\n",
       "      <th>std</th>\n",
       "      <td>62.209324</td>\n",
       "      <td>10.827205</td>\n",
       "      <td>10.897509</td>\n",
       "      <td>7.358743</td>\n",
       "      <td>13.275956</td>\n",
       "      <td>5.833385</td>\n",
       "      <td>154780.926716</td>\n",
       "    </tr>\n",
       "    <tr>\n",
       "      <th>min</th>\n",
       "      <td>1.000000</td>\n",
       "      <td>40.890000</td>\n",
       "      <td>37.000000</td>\n",
       "      <td>50.000000</td>\n",
       "      <td>50.000000</td>\n",
       "      <td>51.210000</td>\n",
       "      <td>0.000000</td>\n",
       "    </tr>\n",
       "    <tr>\n",
       "      <th>25%</th>\n",
       "      <td>54.500000</td>\n",
       "      <td>60.600000</td>\n",
       "      <td>60.900000</td>\n",
       "      <td>61.000000</td>\n",
       "      <td>60.000000</td>\n",
       "      <td>57.945000</td>\n",
       "      <td>0.000000</td>\n",
       "    </tr>\n",
       "    <tr>\n",
       "      <th>50%</th>\n",
       "      <td>108.000000</td>\n",
       "      <td>67.000000</td>\n",
       "      <td>65.000000</td>\n",
       "      <td>66.000000</td>\n",
       "      <td>71.000000</td>\n",
       "      <td>62.000000</td>\n",
       "      <td>240000.000000</td>\n",
       "    </tr>\n",
       "    <tr>\n",
       "      <th>75%</th>\n",
       "      <td>161.500000</td>\n",
       "      <td>75.700000</td>\n",
       "      <td>73.000000</td>\n",
       "      <td>72.000000</td>\n",
       "      <td>83.500000</td>\n",
       "      <td>66.255000</td>\n",
       "      <td>282500.000000</td>\n",
       "    </tr>\n",
       "    <tr>\n",
       "      <th>max</th>\n",
       "      <td>215.000000</td>\n",
       "      <td>89.400000</td>\n",
       "      <td>97.700000</td>\n",
       "      <td>91.000000</td>\n",
       "      <td>98.000000</td>\n",
       "      <td>77.890000</td>\n",
       "      <td>940000.000000</td>\n",
       "    </tr>\n",
       "  </tbody>\n",
       "</table>\n",
       "</div>"
      ],
      "text/plain": [
       "            sl_no       ssc_p       hsc_p    degree_p     etest_p       mba_p  \\\n",
       "count  215.000000  215.000000  215.000000  215.000000  215.000000  215.000000   \n",
       "mean   108.000000   67.303395   66.333163   66.370186   72.100558   62.278186   \n",
       "std     62.209324   10.827205   10.897509    7.358743   13.275956    5.833385   \n",
       "min      1.000000   40.890000   37.000000   50.000000   50.000000   51.210000   \n",
       "25%     54.500000   60.600000   60.900000   61.000000   60.000000   57.945000   \n",
       "50%    108.000000   67.000000   65.000000   66.000000   71.000000   62.000000   \n",
       "75%    161.500000   75.700000   73.000000   72.000000   83.500000   66.255000   \n",
       "max    215.000000   89.400000   97.700000   91.000000   98.000000   77.890000   \n",
       "\n",
       "              salary  \n",
       "count     215.000000  \n",
       "mean   198702.325581  \n",
       "std    154780.926716  \n",
       "min         0.000000  \n",
       "25%         0.000000  \n",
       "50%    240000.000000  \n",
       "75%    282500.000000  \n",
       "max    940000.000000  "
      ]
     },
     "execution_count": 204,
     "metadata": {},
     "output_type": "execute_result"
    }
   ],
   "source": [
    "data.describe()"
   ]
  },
  {
   "cell_type": "code",
   "execution_count": null,
   "metadata": {},
   "outputs": [],
   "source": []
  },
  {
   "cell_type": "markdown",
   "metadata": {},
   "source": [
    "gender 열의 남자/여자를 0,1로 바꾸어줌."
   ]
  },
  {
   "cell_type": "code",
   "execution_count": 44,
   "metadata": {},
   "outputs": [
    {
     "data": {
      "text/plain": [
       "array(['M', 'F'], dtype=object)"
      ]
     },
     "execution_count": 44,
     "metadata": {},
     "output_type": "execute_result"
    }
   ],
   "source": [
    "data['gender'].unique()"
   ]
  },
  {
   "cell_type": "code",
   "execution_count": 45,
   "metadata": {},
   "outputs": [
    {
     "data": {
      "text/plain": [
       "array(['Others', 'Central'], dtype=object)"
      ]
     },
     "execution_count": 45,
     "metadata": {},
     "output_type": "execute_result"
    }
   ],
   "source": [
    "data['ssc_b'].unique()"
   ]
  },
  {
   "cell_type": "code",
   "execution_count": 46,
   "metadata": {},
   "outputs": [
    {
     "data": {
      "text/plain": [
       "array(['Others', 'Central'], dtype=object)"
      ]
     },
     "execution_count": 46,
     "metadata": {},
     "output_type": "execute_result"
    }
   ],
   "source": [
    "data['hsc_b'].unique()"
   ]
  },
  {
   "cell_type": "code",
   "execution_count": 47,
   "metadata": {},
   "outputs": [
    {
     "data": {
      "text/plain": [
       "array(['Commerce', 'Science', 'Arts'], dtype=object)"
      ]
     },
     "execution_count": 47,
     "metadata": {},
     "output_type": "execute_result"
    }
   ],
   "source": [
    "data['hsc_s'].unique()"
   ]
  },
  {
   "cell_type": "code",
   "execution_count": 48,
   "metadata": {},
   "outputs": [
    {
     "data": {
      "text/plain": [
       "array(['Sci&Tech', 'Comm&Mgmt', 'Others'], dtype=object)"
      ]
     },
     "execution_count": 48,
     "metadata": {},
     "output_type": "execute_result"
    }
   ],
   "source": [
    "data['degree_t'].unique()"
   ]
  },
  {
   "cell_type": "code",
   "execution_count": 49,
   "metadata": {},
   "outputs": [
    {
     "data": {
      "text/plain": [
       "array(['No', 'Yes'], dtype=object)"
      ]
     },
     "execution_count": 49,
     "metadata": {},
     "output_type": "execute_result"
    }
   ],
   "source": [
    "data['workex'].unique()"
   ]
  },
  {
   "cell_type": "code",
   "execution_count": 50,
   "metadata": {
    "scrolled": true
   },
   "outputs": [
    {
     "data": {
      "text/plain": [
       "array(['Mkt&HR', 'Mkt&Fin'], dtype=object)"
      ]
     },
     "execution_count": 50,
     "metadata": {},
     "output_type": "execute_result"
    }
   ],
   "source": [
    "data['specialisation'].unique()"
   ]
  },
  {
   "cell_type": "code",
   "execution_count": 51,
   "metadata": {},
   "outputs": [
    {
     "data": {
      "text/plain": [
       "array(['Placed', 'Not Placed'], dtype=object)"
      ]
     },
     "execution_count": 51,
     "metadata": {},
     "output_type": "execute_result"
    }
   ],
   "source": [
    "data['status'].unique()"
   ]
  },
  {
   "cell_type": "code",
   "execution_count": 52,
   "metadata": {},
   "outputs": [],
   "source": [
    "# dict 생성\n",
    "exp_dic = {\"M\" : 0,\n",
    "          \"F\":1, \n",
    "          \"Others\":0,\n",
    "          \"Central\":1,\n",
    "           \"Yes\":0,\n",
    "           \"No\":1,\n",
    "           \"Mkt&HR\":0,\n",
    "           \"Mkt&Fin\":1,\n",
    "           \"Placed\":0,\n",
    "           \"Not Placed\":1\n",
    "          }\n",
    "# \"Commerce\":0,\"Science\":1, \"Arts\":2"
   ]
  },
  {
   "cell_type": "code",
   "execution_count": 53,
   "metadata": {},
   "outputs": [],
   "source": [
    "# 해당 컬럼에 replace함수와 dict 적용\n",
    "data = data.replace(exp_dic)"
   ]
  },
  {
   "cell_type": "code",
   "execution_count": 54,
   "metadata": {
    "scrolled": true
   },
   "outputs": [
    {
     "data": {
      "text/html": [
       "<div>\n",
       "<style scoped>\n",
       "    .dataframe tbody tr th:only-of-type {\n",
       "        vertical-align: middle;\n",
       "    }\n",
       "\n",
       "    .dataframe tbody tr th {\n",
       "        vertical-align: top;\n",
       "    }\n",
       "\n",
       "    .dataframe thead th {\n",
       "        text-align: right;\n",
       "    }\n",
       "</style>\n",
       "<table border=\"1\" class=\"dataframe\">\n",
       "  <thead>\n",
       "    <tr style=\"text-align: right;\">\n",
       "      <th></th>\n",
       "      <th>sl_no</th>\n",
       "      <th>gender</th>\n",
       "      <th>ssc_p</th>\n",
       "      <th>ssc_b</th>\n",
       "      <th>hsc_p</th>\n",
       "      <th>hsc_b</th>\n",
       "      <th>hsc_s</th>\n",
       "      <th>degree_p</th>\n",
       "      <th>degree_t</th>\n",
       "      <th>workex</th>\n",
       "      <th>etest_p</th>\n",
       "      <th>specialisation</th>\n",
       "      <th>mba_p</th>\n",
       "      <th>status</th>\n",
       "      <th>salary</th>\n",
       "    </tr>\n",
       "  </thead>\n",
       "  <tbody>\n",
       "    <tr>\n",
       "      <th>0</th>\n",
       "      <td>1</td>\n",
       "      <td>0</td>\n",
       "      <td>67.00</td>\n",
       "      <td>0</td>\n",
       "      <td>91.00</td>\n",
       "      <td>0</td>\n",
       "      <td>Commerce</td>\n",
       "      <td>58.00</td>\n",
       "      <td>Sci&amp;Tech</td>\n",
       "      <td>1</td>\n",
       "      <td>55.0</td>\n",
       "      <td>0</td>\n",
       "      <td>58.80</td>\n",
       "      <td>0</td>\n",
       "      <td>270000.0</td>\n",
       "    </tr>\n",
       "    <tr>\n",
       "      <th>1</th>\n",
       "      <td>2</td>\n",
       "      <td>0</td>\n",
       "      <td>79.33</td>\n",
       "      <td>1</td>\n",
       "      <td>78.33</td>\n",
       "      <td>0</td>\n",
       "      <td>Science</td>\n",
       "      <td>77.48</td>\n",
       "      <td>Sci&amp;Tech</td>\n",
       "      <td>0</td>\n",
       "      <td>86.5</td>\n",
       "      <td>1</td>\n",
       "      <td>66.28</td>\n",
       "      <td>0</td>\n",
       "      <td>200000.0</td>\n",
       "    </tr>\n",
       "    <tr>\n",
       "      <th>2</th>\n",
       "      <td>3</td>\n",
       "      <td>0</td>\n",
       "      <td>65.00</td>\n",
       "      <td>1</td>\n",
       "      <td>68.00</td>\n",
       "      <td>1</td>\n",
       "      <td>Arts</td>\n",
       "      <td>64.00</td>\n",
       "      <td>Comm&amp;Mgmt</td>\n",
       "      <td>1</td>\n",
       "      <td>75.0</td>\n",
       "      <td>1</td>\n",
       "      <td>57.80</td>\n",
       "      <td>0</td>\n",
       "      <td>250000.0</td>\n",
       "    </tr>\n",
       "    <tr>\n",
       "      <th>3</th>\n",
       "      <td>4</td>\n",
       "      <td>0</td>\n",
       "      <td>56.00</td>\n",
       "      <td>1</td>\n",
       "      <td>52.00</td>\n",
       "      <td>1</td>\n",
       "      <td>Science</td>\n",
       "      <td>52.00</td>\n",
       "      <td>Sci&amp;Tech</td>\n",
       "      <td>1</td>\n",
       "      <td>66.0</td>\n",
       "      <td>0</td>\n",
       "      <td>59.43</td>\n",
       "      <td>1</td>\n",
       "      <td>0.0</td>\n",
       "    </tr>\n",
       "    <tr>\n",
       "      <th>4</th>\n",
       "      <td>5</td>\n",
       "      <td>0</td>\n",
       "      <td>85.80</td>\n",
       "      <td>1</td>\n",
       "      <td>73.60</td>\n",
       "      <td>1</td>\n",
       "      <td>Commerce</td>\n",
       "      <td>73.30</td>\n",
       "      <td>Comm&amp;Mgmt</td>\n",
       "      <td>1</td>\n",
       "      <td>96.8</td>\n",
       "      <td>1</td>\n",
       "      <td>55.50</td>\n",
       "      <td>0</td>\n",
       "      <td>425000.0</td>\n",
       "    </tr>\n",
       "  </tbody>\n",
       "</table>\n",
       "</div>"
      ],
      "text/plain": [
       "   sl_no  gender  ssc_p  ssc_b  hsc_p  hsc_b     hsc_s  degree_p   degree_t  \\\n",
       "0      1       0  67.00      0  91.00      0  Commerce     58.00   Sci&Tech   \n",
       "1      2       0  79.33      1  78.33      0   Science     77.48   Sci&Tech   \n",
       "2      3       0  65.00      1  68.00      1      Arts     64.00  Comm&Mgmt   \n",
       "3      4       0  56.00      1  52.00      1   Science     52.00   Sci&Tech   \n",
       "4      5       0  85.80      1  73.60      1  Commerce     73.30  Comm&Mgmt   \n",
       "\n",
       "   workex  etest_p  specialisation  mba_p  status    salary  \n",
       "0       1     55.0               0  58.80       0  270000.0  \n",
       "1       0     86.5               1  66.28       0  200000.0  \n",
       "2       1     75.0               1  57.80       0  250000.0  \n",
       "3       1     66.0               0  59.43       1       0.0  \n",
       "4       1     96.8               1  55.50       0  425000.0  "
      ]
     },
     "execution_count": 54,
     "metadata": {},
     "output_type": "execute_result"
    }
   ],
   "source": [
    "data.head()"
   ]
  },
  {
   "cell_type": "markdown",
   "metadata": {},
   "source": [
    "그런데 수치형으로 바꾸면 숫자가 의미를 갖는 경우가 생긴다.    \n",
    "즉, 순서가 없는 범주형 데이터를 수치형으로 바꿔줌으로써 크기를 비교할 수 있다.    따라서 이것을 바꿔주기 위한 다른 방법이 필요하다.    \n",
    "먼저 0과 1로만 나눠지는 데이터가 아니라 3가지 이상의 범주형 데이터로 구성된 변수를 찾아보자."
   ]
  },
  {
   "cell_type": "code",
   "execution_count": 55,
   "metadata": {},
   "outputs": [
    {
     "data": {
      "text/plain": [
       "array(['Commerce', 'Science', 'Arts'], dtype=object)"
      ]
     },
     "execution_count": 55,
     "metadata": {},
     "output_type": "execute_result"
    }
   ],
   "source": [
    "data['hsc_s'].unique()"
   ]
  },
  {
   "cell_type": "code",
   "execution_count": 56,
   "metadata": {},
   "outputs": [
    {
     "data": {
      "text/plain": [
       "array(['Sci&Tech', 'Comm&Mgmt', 0], dtype=object)"
      ]
     },
     "execution_count": 56,
     "metadata": {},
     "output_type": "execute_result"
    }
   ],
   "source": [
    "data['degree_t'].unique()"
   ]
  },
  {
   "cell_type": "markdown",
   "metadata": {},
   "source": [
    "위를 보면 3가지 이상의 범주형 데이터로 구성된 열은 2개가 있음을 알 수 있다.    \n",
    "hsc_s 열과 degree_t 열은 3가지 이상의 범주형 데이터로 구성되었다."
   ]
  },
  {
   "cell_type": "code",
   "execution_count": 57,
   "metadata": {
    "scrolled": false
   },
   "outputs": [
    {
     "data": {
      "text/html": [
       "<div>\n",
       "<style scoped>\n",
       "    .dataframe tbody tr th:only-of-type {\n",
       "        vertical-align: middle;\n",
       "    }\n",
       "\n",
       "    .dataframe tbody tr th {\n",
       "        vertical-align: top;\n",
       "    }\n",
       "\n",
       "    .dataframe thead th {\n",
       "        text-align: right;\n",
       "    }\n",
       "</style>\n",
       "<table border=\"1\" class=\"dataframe\">\n",
       "  <thead>\n",
       "    <tr style=\"text-align: right;\">\n",
       "      <th></th>\n",
       "      <th>sl_no</th>\n",
       "      <th>gender</th>\n",
       "      <th>ssc_p</th>\n",
       "      <th>ssc_b</th>\n",
       "      <th>hsc_p</th>\n",
       "      <th>hsc_b</th>\n",
       "      <th>degree_p</th>\n",
       "      <th>workex</th>\n",
       "      <th>etest_p</th>\n",
       "      <th>specialisation</th>\n",
       "      <th>mba_p</th>\n",
       "      <th>status</th>\n",
       "      <th>salary</th>\n",
       "      <th>hsc_s_Commerce</th>\n",
       "      <th>hsc_s_Science</th>\n",
       "      <th>degree_t_Comm&amp;Mgmt</th>\n",
       "      <th>degree_t_Sci&amp;Tech</th>\n",
       "    </tr>\n",
       "  </thead>\n",
       "  <tbody>\n",
       "    <tr>\n",
       "      <th>0</th>\n",
       "      <td>1</td>\n",
       "      <td>0</td>\n",
       "      <td>67.00</td>\n",
       "      <td>0</td>\n",
       "      <td>91.00</td>\n",
       "      <td>0</td>\n",
       "      <td>58.00</td>\n",
       "      <td>1</td>\n",
       "      <td>55.0</td>\n",
       "      <td>0</td>\n",
       "      <td>58.80</td>\n",
       "      <td>0</td>\n",
       "      <td>270000.0</td>\n",
       "      <td>1</td>\n",
       "      <td>0</td>\n",
       "      <td>0</td>\n",
       "      <td>1</td>\n",
       "    </tr>\n",
       "    <tr>\n",
       "      <th>1</th>\n",
       "      <td>2</td>\n",
       "      <td>0</td>\n",
       "      <td>79.33</td>\n",
       "      <td>1</td>\n",
       "      <td>78.33</td>\n",
       "      <td>0</td>\n",
       "      <td>77.48</td>\n",
       "      <td>0</td>\n",
       "      <td>86.5</td>\n",
       "      <td>1</td>\n",
       "      <td>66.28</td>\n",
       "      <td>0</td>\n",
       "      <td>200000.0</td>\n",
       "      <td>0</td>\n",
       "      <td>1</td>\n",
       "      <td>0</td>\n",
       "      <td>1</td>\n",
       "    </tr>\n",
       "    <tr>\n",
       "      <th>2</th>\n",
       "      <td>3</td>\n",
       "      <td>0</td>\n",
       "      <td>65.00</td>\n",
       "      <td>1</td>\n",
       "      <td>68.00</td>\n",
       "      <td>1</td>\n",
       "      <td>64.00</td>\n",
       "      <td>1</td>\n",
       "      <td>75.0</td>\n",
       "      <td>1</td>\n",
       "      <td>57.80</td>\n",
       "      <td>0</td>\n",
       "      <td>250000.0</td>\n",
       "      <td>0</td>\n",
       "      <td>0</td>\n",
       "      <td>1</td>\n",
       "      <td>0</td>\n",
       "    </tr>\n",
       "    <tr>\n",
       "      <th>3</th>\n",
       "      <td>4</td>\n",
       "      <td>0</td>\n",
       "      <td>56.00</td>\n",
       "      <td>1</td>\n",
       "      <td>52.00</td>\n",
       "      <td>1</td>\n",
       "      <td>52.00</td>\n",
       "      <td>1</td>\n",
       "      <td>66.0</td>\n",
       "      <td>0</td>\n",
       "      <td>59.43</td>\n",
       "      <td>1</td>\n",
       "      <td>0.0</td>\n",
       "      <td>0</td>\n",
       "      <td>1</td>\n",
       "      <td>0</td>\n",
       "      <td>1</td>\n",
       "    </tr>\n",
       "    <tr>\n",
       "      <th>4</th>\n",
       "      <td>5</td>\n",
       "      <td>0</td>\n",
       "      <td>85.80</td>\n",
       "      <td>1</td>\n",
       "      <td>73.60</td>\n",
       "      <td>1</td>\n",
       "      <td>73.30</td>\n",
       "      <td>1</td>\n",
       "      <td>96.8</td>\n",
       "      <td>1</td>\n",
       "      <td>55.50</td>\n",
       "      <td>0</td>\n",
       "      <td>425000.0</td>\n",
       "      <td>1</td>\n",
       "      <td>0</td>\n",
       "      <td>1</td>\n",
       "      <td>0</td>\n",
       "    </tr>\n",
       "    <tr>\n",
       "      <th>...</th>\n",
       "      <td>...</td>\n",
       "      <td>...</td>\n",
       "      <td>...</td>\n",
       "      <td>...</td>\n",
       "      <td>...</td>\n",
       "      <td>...</td>\n",
       "      <td>...</td>\n",
       "      <td>...</td>\n",
       "      <td>...</td>\n",
       "      <td>...</td>\n",
       "      <td>...</td>\n",
       "      <td>...</td>\n",
       "      <td>...</td>\n",
       "      <td>...</td>\n",
       "      <td>...</td>\n",
       "      <td>...</td>\n",
       "      <td>...</td>\n",
       "    </tr>\n",
       "    <tr>\n",
       "      <th>210</th>\n",
       "      <td>211</td>\n",
       "      <td>0</td>\n",
       "      <td>80.60</td>\n",
       "      <td>0</td>\n",
       "      <td>82.00</td>\n",
       "      <td>0</td>\n",
       "      <td>77.60</td>\n",
       "      <td>1</td>\n",
       "      <td>91.0</td>\n",
       "      <td>1</td>\n",
       "      <td>74.49</td>\n",
       "      <td>0</td>\n",
       "      <td>400000.0</td>\n",
       "      <td>1</td>\n",
       "      <td>0</td>\n",
       "      <td>1</td>\n",
       "      <td>0</td>\n",
       "    </tr>\n",
       "    <tr>\n",
       "      <th>211</th>\n",
       "      <td>212</td>\n",
       "      <td>0</td>\n",
       "      <td>58.00</td>\n",
       "      <td>0</td>\n",
       "      <td>60.00</td>\n",
       "      <td>0</td>\n",
       "      <td>72.00</td>\n",
       "      <td>1</td>\n",
       "      <td>74.0</td>\n",
       "      <td>1</td>\n",
       "      <td>53.62</td>\n",
       "      <td>0</td>\n",
       "      <td>275000.0</td>\n",
       "      <td>0</td>\n",
       "      <td>1</td>\n",
       "      <td>0</td>\n",
       "      <td>1</td>\n",
       "    </tr>\n",
       "    <tr>\n",
       "      <th>212</th>\n",
       "      <td>213</td>\n",
       "      <td>0</td>\n",
       "      <td>67.00</td>\n",
       "      <td>0</td>\n",
       "      <td>67.00</td>\n",
       "      <td>0</td>\n",
       "      <td>73.00</td>\n",
       "      <td>0</td>\n",
       "      <td>59.0</td>\n",
       "      <td>1</td>\n",
       "      <td>69.72</td>\n",
       "      <td>0</td>\n",
       "      <td>295000.0</td>\n",
       "      <td>1</td>\n",
       "      <td>0</td>\n",
       "      <td>1</td>\n",
       "      <td>0</td>\n",
       "    </tr>\n",
       "    <tr>\n",
       "      <th>213</th>\n",
       "      <td>214</td>\n",
       "      <td>1</td>\n",
       "      <td>74.00</td>\n",
       "      <td>0</td>\n",
       "      <td>66.00</td>\n",
       "      <td>0</td>\n",
       "      <td>58.00</td>\n",
       "      <td>1</td>\n",
       "      <td>70.0</td>\n",
       "      <td>0</td>\n",
       "      <td>60.23</td>\n",
       "      <td>0</td>\n",
       "      <td>204000.0</td>\n",
       "      <td>1</td>\n",
       "      <td>0</td>\n",
       "      <td>1</td>\n",
       "      <td>0</td>\n",
       "    </tr>\n",
       "    <tr>\n",
       "      <th>214</th>\n",
       "      <td>215</td>\n",
       "      <td>0</td>\n",
       "      <td>62.00</td>\n",
       "      <td>1</td>\n",
       "      <td>58.00</td>\n",
       "      <td>0</td>\n",
       "      <td>53.00</td>\n",
       "      <td>1</td>\n",
       "      <td>89.0</td>\n",
       "      <td>0</td>\n",
       "      <td>60.22</td>\n",
       "      <td>1</td>\n",
       "      <td>0.0</td>\n",
       "      <td>0</td>\n",
       "      <td>1</td>\n",
       "      <td>1</td>\n",
       "      <td>0</td>\n",
       "    </tr>\n",
       "  </tbody>\n",
       "</table>\n",
       "<p>215 rows × 17 columns</p>\n",
       "</div>"
      ],
      "text/plain": [
       "     sl_no  gender  ssc_p  ssc_b  hsc_p  hsc_b  degree_p  workex  etest_p  \\\n",
       "0        1       0  67.00      0  91.00      0     58.00       1     55.0   \n",
       "1        2       0  79.33      1  78.33      0     77.48       0     86.5   \n",
       "2        3       0  65.00      1  68.00      1     64.00       1     75.0   \n",
       "3        4       0  56.00      1  52.00      1     52.00       1     66.0   \n",
       "4        5       0  85.80      1  73.60      1     73.30       1     96.8   \n",
       "..     ...     ...    ...    ...    ...    ...       ...     ...      ...   \n",
       "210    211       0  80.60      0  82.00      0     77.60       1     91.0   \n",
       "211    212       0  58.00      0  60.00      0     72.00       1     74.0   \n",
       "212    213       0  67.00      0  67.00      0     73.00       0     59.0   \n",
       "213    214       1  74.00      0  66.00      0     58.00       1     70.0   \n",
       "214    215       0  62.00      1  58.00      0     53.00       1     89.0   \n",
       "\n",
       "     specialisation  mba_p  status    salary  hsc_s_Commerce  hsc_s_Science  \\\n",
       "0                 0  58.80       0  270000.0               1              0   \n",
       "1                 1  66.28       0  200000.0               0              1   \n",
       "2                 1  57.80       0  250000.0               0              0   \n",
       "3                 0  59.43       1       0.0               0              1   \n",
       "4                 1  55.50       0  425000.0               1              0   \n",
       "..              ...    ...     ...       ...             ...            ...   \n",
       "210               1  74.49       0  400000.0               1              0   \n",
       "211               1  53.62       0  275000.0               0              1   \n",
       "212               1  69.72       0  295000.0               1              0   \n",
       "213               0  60.23       0  204000.0               1              0   \n",
       "214               0  60.22       1       0.0               0              1   \n",
       "\n",
       "     degree_t_Comm&Mgmt  degree_t_Sci&Tech  \n",
       "0                     0                  1  \n",
       "1                     0                  1  \n",
       "2                     1                  0  \n",
       "3                     0                  1  \n",
       "4                     1                  0  \n",
       "..                  ...                ...  \n",
       "210                   1                  0  \n",
       "211                   0                  1  \n",
       "212                   1                  0  \n",
       "213                   1                  0  \n",
       "214                   1                  0  \n",
       "\n",
       "[215 rows x 17 columns]"
      ]
     },
     "execution_count": 57,
     "metadata": {},
     "output_type": "execute_result"
    }
   ],
   "source": [
    "data = pd.get_dummies(data, drop_first=True)\n",
    "data"
   ]
  },
  {
   "cell_type": "markdown",
   "metadata": {},
   "source": [
    "drop_first를 해주어 변수간 상관관계 감소시키기/"
   ]
  },
  {
   "cell_type": "code",
   "execution_count": 58,
   "metadata": {},
   "outputs": [],
   "source": [
    "data.rename(columns = {'degree_t_0': 'degree_t_Others'}, inplace = True)"
   ]
  },
  {
   "cell_type": "code",
   "execution_count": 59,
   "metadata": {},
   "outputs": [
    {
     "data": {
      "text/html": [
       "<div>\n",
       "<style scoped>\n",
       "    .dataframe tbody tr th:only-of-type {\n",
       "        vertical-align: middle;\n",
       "    }\n",
       "\n",
       "    .dataframe tbody tr th {\n",
       "        vertical-align: top;\n",
       "    }\n",
       "\n",
       "    .dataframe thead th {\n",
       "        text-align: right;\n",
       "    }\n",
       "</style>\n",
       "<table border=\"1\" class=\"dataframe\">\n",
       "  <thead>\n",
       "    <tr style=\"text-align: right;\">\n",
       "      <th></th>\n",
       "      <th>sl_no</th>\n",
       "      <th>gender</th>\n",
       "      <th>ssc_p</th>\n",
       "      <th>ssc_b</th>\n",
       "      <th>hsc_p</th>\n",
       "      <th>hsc_b</th>\n",
       "      <th>degree_p</th>\n",
       "      <th>workex</th>\n",
       "      <th>etest_p</th>\n",
       "      <th>specialisation</th>\n",
       "      <th>mba_p</th>\n",
       "      <th>status</th>\n",
       "      <th>salary</th>\n",
       "      <th>hsc_s_Commerce</th>\n",
       "      <th>hsc_s_Science</th>\n",
       "      <th>degree_t_Comm&amp;Mgmt</th>\n",
       "      <th>degree_t_Sci&amp;Tech</th>\n",
       "    </tr>\n",
       "  </thead>\n",
       "  <tbody>\n",
       "    <tr>\n",
       "      <th>0</th>\n",
       "      <td>1</td>\n",
       "      <td>0</td>\n",
       "      <td>67.00</td>\n",
       "      <td>0</td>\n",
       "      <td>91.00</td>\n",
       "      <td>0</td>\n",
       "      <td>58.00</td>\n",
       "      <td>1</td>\n",
       "      <td>55.0</td>\n",
       "      <td>0</td>\n",
       "      <td>58.80</td>\n",
       "      <td>0</td>\n",
       "      <td>270000.0</td>\n",
       "      <td>1</td>\n",
       "      <td>0</td>\n",
       "      <td>0</td>\n",
       "      <td>1</td>\n",
       "    </tr>\n",
       "    <tr>\n",
       "      <th>1</th>\n",
       "      <td>2</td>\n",
       "      <td>0</td>\n",
       "      <td>79.33</td>\n",
       "      <td>1</td>\n",
       "      <td>78.33</td>\n",
       "      <td>0</td>\n",
       "      <td>77.48</td>\n",
       "      <td>0</td>\n",
       "      <td>86.5</td>\n",
       "      <td>1</td>\n",
       "      <td>66.28</td>\n",
       "      <td>0</td>\n",
       "      <td>200000.0</td>\n",
       "      <td>0</td>\n",
       "      <td>1</td>\n",
       "      <td>0</td>\n",
       "      <td>1</td>\n",
       "    </tr>\n",
       "    <tr>\n",
       "      <th>2</th>\n",
       "      <td>3</td>\n",
       "      <td>0</td>\n",
       "      <td>65.00</td>\n",
       "      <td>1</td>\n",
       "      <td>68.00</td>\n",
       "      <td>1</td>\n",
       "      <td>64.00</td>\n",
       "      <td>1</td>\n",
       "      <td>75.0</td>\n",
       "      <td>1</td>\n",
       "      <td>57.80</td>\n",
       "      <td>0</td>\n",
       "      <td>250000.0</td>\n",
       "      <td>0</td>\n",
       "      <td>0</td>\n",
       "      <td>1</td>\n",
       "      <td>0</td>\n",
       "    </tr>\n",
       "    <tr>\n",
       "      <th>3</th>\n",
       "      <td>4</td>\n",
       "      <td>0</td>\n",
       "      <td>56.00</td>\n",
       "      <td>1</td>\n",
       "      <td>52.00</td>\n",
       "      <td>1</td>\n",
       "      <td>52.00</td>\n",
       "      <td>1</td>\n",
       "      <td>66.0</td>\n",
       "      <td>0</td>\n",
       "      <td>59.43</td>\n",
       "      <td>1</td>\n",
       "      <td>0.0</td>\n",
       "      <td>0</td>\n",
       "      <td>1</td>\n",
       "      <td>0</td>\n",
       "      <td>1</td>\n",
       "    </tr>\n",
       "    <tr>\n",
       "      <th>4</th>\n",
       "      <td>5</td>\n",
       "      <td>0</td>\n",
       "      <td>85.80</td>\n",
       "      <td>1</td>\n",
       "      <td>73.60</td>\n",
       "      <td>1</td>\n",
       "      <td>73.30</td>\n",
       "      <td>1</td>\n",
       "      <td>96.8</td>\n",
       "      <td>1</td>\n",
       "      <td>55.50</td>\n",
       "      <td>0</td>\n",
       "      <td>425000.0</td>\n",
       "      <td>1</td>\n",
       "      <td>0</td>\n",
       "      <td>1</td>\n",
       "      <td>0</td>\n",
       "    </tr>\n",
       "    <tr>\n",
       "      <th>...</th>\n",
       "      <td>...</td>\n",
       "      <td>...</td>\n",
       "      <td>...</td>\n",
       "      <td>...</td>\n",
       "      <td>...</td>\n",
       "      <td>...</td>\n",
       "      <td>...</td>\n",
       "      <td>...</td>\n",
       "      <td>...</td>\n",
       "      <td>...</td>\n",
       "      <td>...</td>\n",
       "      <td>...</td>\n",
       "      <td>...</td>\n",
       "      <td>...</td>\n",
       "      <td>...</td>\n",
       "      <td>...</td>\n",
       "      <td>...</td>\n",
       "    </tr>\n",
       "    <tr>\n",
       "      <th>210</th>\n",
       "      <td>211</td>\n",
       "      <td>0</td>\n",
       "      <td>80.60</td>\n",
       "      <td>0</td>\n",
       "      <td>82.00</td>\n",
       "      <td>0</td>\n",
       "      <td>77.60</td>\n",
       "      <td>1</td>\n",
       "      <td>91.0</td>\n",
       "      <td>1</td>\n",
       "      <td>74.49</td>\n",
       "      <td>0</td>\n",
       "      <td>400000.0</td>\n",
       "      <td>1</td>\n",
       "      <td>0</td>\n",
       "      <td>1</td>\n",
       "      <td>0</td>\n",
       "    </tr>\n",
       "    <tr>\n",
       "      <th>211</th>\n",
       "      <td>212</td>\n",
       "      <td>0</td>\n",
       "      <td>58.00</td>\n",
       "      <td>0</td>\n",
       "      <td>60.00</td>\n",
       "      <td>0</td>\n",
       "      <td>72.00</td>\n",
       "      <td>1</td>\n",
       "      <td>74.0</td>\n",
       "      <td>1</td>\n",
       "      <td>53.62</td>\n",
       "      <td>0</td>\n",
       "      <td>275000.0</td>\n",
       "      <td>0</td>\n",
       "      <td>1</td>\n",
       "      <td>0</td>\n",
       "      <td>1</td>\n",
       "    </tr>\n",
       "    <tr>\n",
       "      <th>212</th>\n",
       "      <td>213</td>\n",
       "      <td>0</td>\n",
       "      <td>67.00</td>\n",
       "      <td>0</td>\n",
       "      <td>67.00</td>\n",
       "      <td>0</td>\n",
       "      <td>73.00</td>\n",
       "      <td>0</td>\n",
       "      <td>59.0</td>\n",
       "      <td>1</td>\n",
       "      <td>69.72</td>\n",
       "      <td>0</td>\n",
       "      <td>295000.0</td>\n",
       "      <td>1</td>\n",
       "      <td>0</td>\n",
       "      <td>1</td>\n",
       "      <td>0</td>\n",
       "    </tr>\n",
       "    <tr>\n",
       "      <th>213</th>\n",
       "      <td>214</td>\n",
       "      <td>1</td>\n",
       "      <td>74.00</td>\n",
       "      <td>0</td>\n",
       "      <td>66.00</td>\n",
       "      <td>0</td>\n",
       "      <td>58.00</td>\n",
       "      <td>1</td>\n",
       "      <td>70.0</td>\n",
       "      <td>0</td>\n",
       "      <td>60.23</td>\n",
       "      <td>0</td>\n",
       "      <td>204000.0</td>\n",
       "      <td>1</td>\n",
       "      <td>0</td>\n",
       "      <td>1</td>\n",
       "      <td>0</td>\n",
       "    </tr>\n",
       "    <tr>\n",
       "      <th>214</th>\n",
       "      <td>215</td>\n",
       "      <td>0</td>\n",
       "      <td>62.00</td>\n",
       "      <td>1</td>\n",
       "      <td>58.00</td>\n",
       "      <td>0</td>\n",
       "      <td>53.00</td>\n",
       "      <td>1</td>\n",
       "      <td>89.0</td>\n",
       "      <td>0</td>\n",
       "      <td>60.22</td>\n",
       "      <td>1</td>\n",
       "      <td>0.0</td>\n",
       "      <td>0</td>\n",
       "      <td>1</td>\n",
       "      <td>1</td>\n",
       "      <td>0</td>\n",
       "    </tr>\n",
       "  </tbody>\n",
       "</table>\n",
       "<p>215 rows × 17 columns</p>\n",
       "</div>"
      ],
      "text/plain": [
       "     sl_no  gender  ssc_p  ssc_b  hsc_p  hsc_b  degree_p  workex  etest_p  \\\n",
       "0        1       0  67.00      0  91.00      0     58.00       1     55.0   \n",
       "1        2       0  79.33      1  78.33      0     77.48       0     86.5   \n",
       "2        3       0  65.00      1  68.00      1     64.00       1     75.0   \n",
       "3        4       0  56.00      1  52.00      1     52.00       1     66.0   \n",
       "4        5       0  85.80      1  73.60      1     73.30       1     96.8   \n",
       "..     ...     ...    ...    ...    ...    ...       ...     ...      ...   \n",
       "210    211       0  80.60      0  82.00      0     77.60       1     91.0   \n",
       "211    212       0  58.00      0  60.00      0     72.00       1     74.0   \n",
       "212    213       0  67.00      0  67.00      0     73.00       0     59.0   \n",
       "213    214       1  74.00      0  66.00      0     58.00       1     70.0   \n",
       "214    215       0  62.00      1  58.00      0     53.00       1     89.0   \n",
       "\n",
       "     specialisation  mba_p  status    salary  hsc_s_Commerce  hsc_s_Science  \\\n",
       "0                 0  58.80       0  270000.0               1              0   \n",
       "1                 1  66.28       0  200000.0               0              1   \n",
       "2                 1  57.80       0  250000.0               0              0   \n",
       "3                 0  59.43       1       0.0               0              1   \n",
       "4                 1  55.50       0  425000.0               1              0   \n",
       "..              ...    ...     ...       ...             ...            ...   \n",
       "210               1  74.49       0  400000.0               1              0   \n",
       "211               1  53.62       0  275000.0               0              1   \n",
       "212               1  69.72       0  295000.0               1              0   \n",
       "213               0  60.23       0  204000.0               1              0   \n",
       "214               0  60.22       1       0.0               0              1   \n",
       "\n",
       "     degree_t_Comm&Mgmt  degree_t_Sci&Tech  \n",
       "0                     0                  1  \n",
       "1                     0                  1  \n",
       "2                     1                  0  \n",
       "3                     0                  1  \n",
       "4                     1                  0  \n",
       "..                  ...                ...  \n",
       "210                   1                  0  \n",
       "211                   0                  1  \n",
       "212                   1                  0  \n",
       "213                   1                  0  \n",
       "214                   1                  0  \n",
       "\n",
       "[215 rows x 17 columns]"
      ]
     },
     "execution_count": 59,
     "metadata": {},
     "output_type": "execute_result"
    }
   ],
   "source": [
    "data"
   ]
  },
  {
   "cell_type": "code",
   "execution_count": 60,
   "metadata": {},
   "outputs": [],
   "source": [
    "# data['degree_t_Others'].unique()\n",
    "# degree_t_Others 열 삭제됨. \n",
    "# hsc_s Arts사라짐"
   ]
  },
  {
   "cell_type": "code",
   "execution_count": 61,
   "metadata": {},
   "outputs": [
    {
     "data": {
      "text/html": [
       "<div>\n",
       "<style scoped>\n",
       "    .dataframe tbody tr th:only-of-type {\n",
       "        vertical-align: middle;\n",
       "    }\n",
       "\n",
       "    .dataframe tbody tr th {\n",
       "        vertical-align: top;\n",
       "    }\n",
       "\n",
       "    .dataframe thead th {\n",
       "        text-align: right;\n",
       "    }\n",
       "</style>\n",
       "<table border=\"1\" class=\"dataframe\">\n",
       "  <thead>\n",
       "    <tr style=\"text-align: right;\">\n",
       "      <th></th>\n",
       "      <th>sl_no</th>\n",
       "      <th>gender</th>\n",
       "      <th>ssc_p</th>\n",
       "      <th>ssc_b</th>\n",
       "      <th>hsc_p</th>\n",
       "      <th>hsc_b</th>\n",
       "      <th>degree_p</th>\n",
       "      <th>workex</th>\n",
       "      <th>etest_p</th>\n",
       "      <th>specialisation</th>\n",
       "      <th>mba_p</th>\n",
       "      <th>status</th>\n",
       "      <th>salary</th>\n",
       "      <th>hsc_s_Commerce</th>\n",
       "      <th>hsc_s_Science</th>\n",
       "      <th>degree_t_Comm&amp;Mgmt</th>\n",
       "      <th>degree_t_Sci&amp;Tech</th>\n",
       "    </tr>\n",
       "  </thead>\n",
       "  <tbody>\n",
       "    <tr>\n",
       "      <th>sl_no</th>\n",
       "      <td>1.00</td>\n",
       "      <td>-0.07</td>\n",
       "      <td>-0.08</td>\n",
       "      <td>-0.03</td>\n",
       "      <td>-0.09</td>\n",
       "      <td>-0.12</td>\n",
       "      <td>-0.09</td>\n",
       "      <td>-0.06</td>\n",
       "      <td>0.06</td>\n",
       "      <td>-0.05</td>\n",
       "      <td>0.02</td>\n",
       "      <td>0.03</td>\n",
       "      <td>0.00</td>\n",
       "      <td>-0.02</td>\n",
       "      <td>0.02</td>\n",
       "      <td>-0.04</td>\n",
       "      <td>0.01</td>\n",
       "    </tr>\n",
       "    <tr>\n",
       "      <th>gender</th>\n",
       "      <td>-0.07</td>\n",
       "      <td>1.00</td>\n",
       "      <td>0.07</td>\n",
       "      <td>0.02</td>\n",
       "      <td>0.02</td>\n",
       "      <td>0.07</td>\n",
       "      <td>0.17</td>\n",
       "      <td>0.09</td>\n",
       "      <td>-0.08</td>\n",
       "      <td>-0.11</td>\n",
       "      <td>0.30</td>\n",
       "      <td>0.09</td>\n",
       "      <td>-0.14</td>\n",
       "      <td>0.00</td>\n",
       "      <td>-0.04</td>\n",
       "      <td>0.04</td>\n",
       "      <td>-0.08</td>\n",
       "    </tr>\n",
       "    <tr>\n",
       "      <th>ssc_p</th>\n",
       "      <td>-0.08</td>\n",
       "      <td>0.07</td>\n",
       "      <td>1.00</td>\n",
       "      <td>-0.12</td>\n",
       "      <td>0.51</td>\n",
       "      <td>-0.07</td>\n",
       "      <td>0.54</td>\n",
       "      <td>-0.18</td>\n",
       "      <td>0.26</td>\n",
       "      <td>0.17</td>\n",
       "      <td>0.39</td>\n",
       "      <td>-0.61</td>\n",
       "      <td>0.54</td>\n",
       "      <td>-0.10</td>\n",
       "      <td>0.19</td>\n",
       "      <td>-0.18</td>\n",
       "      <td>0.22</td>\n",
       "    </tr>\n",
       "    <tr>\n",
       "      <th>ssc_b</th>\n",
       "      <td>-0.03</td>\n",
       "      <td>0.02</td>\n",
       "      <td>-0.12</td>\n",
       "      <td>1.00</td>\n",
       "      <td>0.14</td>\n",
       "      <td>0.61</td>\n",
       "      <td>-0.04</td>\n",
       "      <td>-0.04</td>\n",
       "      <td>0.02</td>\n",
       "      <td>-0.05</td>\n",
       "      <td>-0.08</td>\n",
       "      <td>0.04</td>\n",
       "      <td>-0.03</td>\n",
       "      <td>0.06</td>\n",
       "      <td>-0.06</td>\n",
       "      <td>0.09</td>\n",
       "      <td>-0.10</td>\n",
       "    </tr>\n",
       "    <tr>\n",
       "      <th>hsc_p</th>\n",
       "      <td>-0.09</td>\n",
       "      <td>0.02</td>\n",
       "      <td>0.51</td>\n",
       "      <td>0.14</td>\n",
       "      <td>1.00</td>\n",
       "      <td>0.02</td>\n",
       "      <td>0.43</td>\n",
       "      <td>-0.14</td>\n",
       "      <td>0.25</td>\n",
       "      <td>0.24</td>\n",
       "      <td>0.35</td>\n",
       "      <td>-0.49</td>\n",
       "      <td>0.45</td>\n",
       "      <td>0.26</td>\n",
       "      <td>-0.23</td>\n",
       "      <td>0.11</td>\n",
       "      <td>-0.05</td>\n",
       "    </tr>\n",
       "    <tr>\n",
       "      <th>hsc_b</th>\n",
       "      <td>-0.12</td>\n",
       "      <td>0.07</td>\n",
       "      <td>-0.07</td>\n",
       "      <td>0.61</td>\n",
       "      <td>0.02</td>\n",
       "      <td>1.00</td>\n",
       "      <td>-0.07</td>\n",
       "      <td>0.04</td>\n",
       "      <td>-0.04</td>\n",
       "      <td>0.00</td>\n",
       "      <td>-0.09</td>\n",
       "      <td>0.02</td>\n",
       "      <td>-0.01</td>\n",
       "      <td>0.07</td>\n",
       "      <td>-0.13</td>\n",
       "      <td>0.03</td>\n",
       "      <td>-0.09</td>\n",
       "    </tr>\n",
       "    <tr>\n",
       "      <th>degree_p</th>\n",
       "      <td>-0.09</td>\n",
       "      <td>0.17</td>\n",
       "      <td>0.54</td>\n",
       "      <td>-0.04</td>\n",
       "      <td>0.43</td>\n",
       "      <td>-0.07</td>\n",
       "      <td>1.00</td>\n",
       "      <td>-0.12</td>\n",
       "      <td>0.22</td>\n",
       "      <td>0.22</td>\n",
       "      <td>0.40</td>\n",
       "      <td>-0.48</td>\n",
       "      <td>0.41</td>\n",
       "      <td>-0.02</td>\n",
       "      <td>0.09</td>\n",
       "      <td>-0.03</td>\n",
       "      <td>0.12</td>\n",
       "    </tr>\n",
       "    <tr>\n",
       "      <th>workex</th>\n",
       "      <td>-0.06</td>\n",
       "      <td>0.09</td>\n",
       "      <td>-0.18</td>\n",
       "      <td>-0.04</td>\n",
       "      <td>-0.14</td>\n",
       "      <td>0.04</td>\n",
       "      <td>-0.12</td>\n",
       "      <td>1.00</td>\n",
       "      <td>-0.06</td>\n",
       "      <td>-0.19</td>\n",
       "      <td>-0.17</td>\n",
       "      <td>0.28</td>\n",
       "      <td>-0.30</td>\n",
       "      <td>0.06</td>\n",
       "      <td>-0.03</td>\n",
       "      <td>0.10</td>\n",
       "      <td>-0.10</td>\n",
       "    </tr>\n",
       "    <tr>\n",
       "      <th>etest_p</th>\n",
       "      <td>0.06</td>\n",
       "      <td>-0.08</td>\n",
       "      <td>0.26</td>\n",
       "      <td>0.02</td>\n",
       "      <td>0.25</td>\n",
       "      <td>-0.04</td>\n",
       "      <td>0.22</td>\n",
       "      <td>-0.06</td>\n",
       "      <td>1.00</td>\n",
       "      <td>0.24</td>\n",
       "      <td>0.22</td>\n",
       "      <td>-0.13</td>\n",
       "      <td>0.19</td>\n",
       "      <td>-0.02</td>\n",
       "      <td>0.06</td>\n",
       "      <td>-0.01</td>\n",
       "      <td>0.01</td>\n",
       "    </tr>\n",
       "    <tr>\n",
       "      <th>specialisation</th>\n",
       "      <td>-0.05</td>\n",
       "      <td>-0.11</td>\n",
       "      <td>0.17</td>\n",
       "      <td>-0.05</td>\n",
       "      <td>0.24</td>\n",
       "      <td>0.00</td>\n",
       "      <td>0.22</td>\n",
       "      <td>-0.19</td>\n",
       "      <td>0.24</td>\n",
       "      <td>1.00</td>\n",
       "      <td>0.11</td>\n",
       "      <td>-0.25</td>\n",
       "      <td>0.28</td>\n",
       "      <td>0.13</td>\n",
       "      <td>-0.17</td>\n",
       "      <td>0.10</td>\n",
       "      <td>-0.06</td>\n",
       "    </tr>\n",
       "    <tr>\n",
       "      <th>mba_p</th>\n",
       "      <td>0.02</td>\n",
       "      <td>0.30</td>\n",
       "      <td>0.39</td>\n",
       "      <td>-0.08</td>\n",
       "      <td>0.35</td>\n",
       "      <td>-0.09</td>\n",
       "      <td>0.40</td>\n",
       "      <td>-0.17</td>\n",
       "      <td>0.22</td>\n",
       "      <td>0.11</td>\n",
       "      <td>1.00</td>\n",
       "      <td>-0.08</td>\n",
       "      <td>0.14</td>\n",
       "      <td>-0.05</td>\n",
       "      <td>0.05</td>\n",
       "      <td>-0.10</td>\n",
       "      <td>0.13</td>\n",
       "    </tr>\n",
       "    <tr>\n",
       "      <th>status</th>\n",
       "      <td>0.03</td>\n",
       "      <td>0.09</td>\n",
       "      <td>-0.61</td>\n",
       "      <td>0.04</td>\n",
       "      <td>-0.49</td>\n",
       "      <td>0.02</td>\n",
       "      <td>-0.48</td>\n",
       "      <td>0.28</td>\n",
       "      <td>-0.13</td>\n",
       "      <td>-0.25</td>\n",
       "      <td>-0.08</td>\n",
       "      <td>1.00</td>\n",
       "      <td>-0.87</td>\n",
       "      <td>-0.02</td>\n",
       "      <td>-0.01</td>\n",
       "      <td>-0.05</td>\n",
       "      <td>-0.01</td>\n",
       "    </tr>\n",
       "    <tr>\n",
       "      <th>salary</th>\n",
       "      <td>0.00</td>\n",
       "      <td>-0.14</td>\n",
       "      <td>0.54</td>\n",
       "      <td>-0.03</td>\n",
       "      <td>0.45</td>\n",
       "      <td>-0.01</td>\n",
       "      <td>0.41</td>\n",
       "      <td>-0.30</td>\n",
       "      <td>0.19</td>\n",
       "      <td>0.28</td>\n",
       "      <td>0.14</td>\n",
       "      <td>-0.87</td>\n",
       "      <td>1.00</td>\n",
       "      <td>0.02</td>\n",
       "      <td>0.03</td>\n",
       "      <td>-0.03</td>\n",
       "      <td>0.08</td>\n",
       "    </tr>\n",
       "    <tr>\n",
       "      <th>hsc_s_Commerce</th>\n",
       "      <td>-0.02</td>\n",
       "      <td>0.00</td>\n",
       "      <td>-0.10</td>\n",
       "      <td>0.06</td>\n",
       "      <td>0.26</td>\n",
       "      <td>0.07</td>\n",
       "      <td>-0.02</td>\n",
       "      <td>0.06</td>\n",
       "      <td>-0.02</td>\n",
       "      <td>0.13</td>\n",
       "      <td>-0.05</td>\n",
       "      <td>-0.02</td>\n",
       "      <td>0.02</td>\n",
       "      <td>1.00</td>\n",
       "      <td>-0.90</td>\n",
       "      <td>0.65</td>\n",
       "      <td>-0.58</td>\n",
       "    </tr>\n",
       "    <tr>\n",
       "      <th>hsc_s_Science</th>\n",
       "      <td>0.02</td>\n",
       "      <td>-0.04</td>\n",
       "      <td>0.19</td>\n",
       "      <td>-0.06</td>\n",
       "      <td>-0.23</td>\n",
       "      <td>-0.13</td>\n",
       "      <td>0.09</td>\n",
       "      <td>-0.03</td>\n",
       "      <td>0.06</td>\n",
       "      <td>-0.17</td>\n",
       "      <td>0.05</td>\n",
       "      <td>-0.01</td>\n",
       "      <td>0.03</td>\n",
       "      <td>-0.90</td>\n",
       "      <td>1.00</td>\n",
       "      <td>-0.65</td>\n",
       "      <td>0.65</td>\n",
       "    </tr>\n",
       "    <tr>\n",
       "      <th>degree_t_Comm&amp;Mgmt</th>\n",
       "      <td>-0.04</td>\n",
       "      <td>0.04</td>\n",
       "      <td>-0.18</td>\n",
       "      <td>0.09</td>\n",
       "      <td>0.11</td>\n",
       "      <td>0.03</td>\n",
       "      <td>-0.03</td>\n",
       "      <td>0.10</td>\n",
       "      <td>-0.01</td>\n",
       "      <td>0.10</td>\n",
       "      <td>-0.10</td>\n",
       "      <td>-0.05</td>\n",
       "      <td>-0.03</td>\n",
       "      <td>0.65</td>\n",
       "      <td>-0.65</td>\n",
       "      <td>1.00</td>\n",
       "      <td>-0.89</td>\n",
       "    </tr>\n",
       "    <tr>\n",
       "      <th>degree_t_Sci&amp;Tech</th>\n",
       "      <td>0.01</td>\n",
       "      <td>-0.08</td>\n",
       "      <td>0.22</td>\n",
       "      <td>-0.10</td>\n",
       "      <td>-0.05</td>\n",
       "      <td>-0.09</td>\n",
       "      <td>0.12</td>\n",
       "      <td>-0.10</td>\n",
       "      <td>0.01</td>\n",
       "      <td>-0.06</td>\n",
       "      <td>0.13</td>\n",
       "      <td>-0.01</td>\n",
       "      <td>0.08</td>\n",
       "      <td>-0.58</td>\n",
       "      <td>0.65</td>\n",
       "      <td>-0.89</td>\n",
       "      <td>1.00</td>\n",
       "    </tr>\n",
       "  </tbody>\n",
       "</table>\n",
       "</div>"
      ],
      "text/plain": [
       "                    sl_no  gender  ssc_p  ssc_b  hsc_p  hsc_b  degree_p  \\\n",
       "sl_no                1.00   -0.07  -0.08  -0.03  -0.09  -0.12     -0.09   \n",
       "gender              -0.07    1.00   0.07   0.02   0.02   0.07      0.17   \n",
       "ssc_p               -0.08    0.07   1.00  -0.12   0.51  -0.07      0.54   \n",
       "ssc_b               -0.03    0.02  -0.12   1.00   0.14   0.61     -0.04   \n",
       "hsc_p               -0.09    0.02   0.51   0.14   1.00   0.02      0.43   \n",
       "hsc_b               -0.12    0.07  -0.07   0.61   0.02   1.00     -0.07   \n",
       "degree_p            -0.09    0.17   0.54  -0.04   0.43  -0.07      1.00   \n",
       "workex              -0.06    0.09  -0.18  -0.04  -0.14   0.04     -0.12   \n",
       "etest_p              0.06   -0.08   0.26   0.02   0.25  -0.04      0.22   \n",
       "specialisation      -0.05   -0.11   0.17  -0.05   0.24   0.00      0.22   \n",
       "mba_p                0.02    0.30   0.39  -0.08   0.35  -0.09      0.40   \n",
       "status               0.03    0.09  -0.61   0.04  -0.49   0.02     -0.48   \n",
       "salary               0.00   -0.14   0.54  -0.03   0.45  -0.01      0.41   \n",
       "hsc_s_Commerce      -0.02    0.00  -0.10   0.06   0.26   0.07     -0.02   \n",
       "hsc_s_Science        0.02   -0.04   0.19  -0.06  -0.23  -0.13      0.09   \n",
       "degree_t_Comm&Mgmt  -0.04    0.04  -0.18   0.09   0.11   0.03     -0.03   \n",
       "degree_t_Sci&Tech    0.01   -0.08   0.22  -0.10  -0.05  -0.09      0.12   \n",
       "\n",
       "                    workex  etest_p  specialisation  mba_p  status  salary  \\\n",
       "sl_no                -0.06     0.06           -0.05   0.02    0.03    0.00   \n",
       "gender                0.09    -0.08           -0.11   0.30    0.09   -0.14   \n",
       "ssc_p                -0.18     0.26            0.17   0.39   -0.61    0.54   \n",
       "ssc_b                -0.04     0.02           -0.05  -0.08    0.04   -0.03   \n",
       "hsc_p                -0.14     0.25            0.24   0.35   -0.49    0.45   \n",
       "hsc_b                 0.04    -0.04            0.00  -0.09    0.02   -0.01   \n",
       "degree_p             -0.12     0.22            0.22   0.40   -0.48    0.41   \n",
       "workex                1.00    -0.06           -0.19  -0.17    0.28   -0.30   \n",
       "etest_p              -0.06     1.00            0.24   0.22   -0.13    0.19   \n",
       "specialisation       -0.19     0.24            1.00   0.11   -0.25    0.28   \n",
       "mba_p                -0.17     0.22            0.11   1.00   -0.08    0.14   \n",
       "status                0.28    -0.13           -0.25  -0.08    1.00   -0.87   \n",
       "salary               -0.30     0.19            0.28   0.14   -0.87    1.00   \n",
       "hsc_s_Commerce        0.06    -0.02            0.13  -0.05   -0.02    0.02   \n",
       "hsc_s_Science        -0.03     0.06           -0.17   0.05   -0.01    0.03   \n",
       "degree_t_Comm&Mgmt    0.10    -0.01            0.10  -0.10   -0.05   -0.03   \n",
       "degree_t_Sci&Tech    -0.10     0.01           -0.06   0.13   -0.01    0.08   \n",
       "\n",
       "                    hsc_s_Commerce  hsc_s_Science  degree_t_Comm&Mgmt  \\\n",
       "sl_no                        -0.02           0.02               -0.04   \n",
       "gender                        0.00          -0.04                0.04   \n",
       "ssc_p                        -0.10           0.19               -0.18   \n",
       "ssc_b                         0.06          -0.06                0.09   \n",
       "hsc_p                         0.26          -0.23                0.11   \n",
       "hsc_b                         0.07          -0.13                0.03   \n",
       "degree_p                     -0.02           0.09               -0.03   \n",
       "workex                        0.06          -0.03                0.10   \n",
       "etest_p                      -0.02           0.06               -0.01   \n",
       "specialisation                0.13          -0.17                0.10   \n",
       "mba_p                        -0.05           0.05               -0.10   \n",
       "status                       -0.02          -0.01               -0.05   \n",
       "salary                        0.02           0.03               -0.03   \n",
       "hsc_s_Commerce                1.00          -0.90                0.65   \n",
       "hsc_s_Science                -0.90           1.00               -0.65   \n",
       "degree_t_Comm&Mgmt            0.65          -0.65                1.00   \n",
       "degree_t_Sci&Tech            -0.58           0.65               -0.89   \n",
       "\n",
       "                    degree_t_Sci&Tech  \n",
       "sl_no                            0.01  \n",
       "gender                          -0.08  \n",
       "ssc_p                            0.22  \n",
       "ssc_b                           -0.10  \n",
       "hsc_p                           -0.05  \n",
       "hsc_b                           -0.09  \n",
       "degree_p                         0.12  \n",
       "workex                          -0.10  \n",
       "etest_p                          0.01  \n",
       "specialisation                  -0.06  \n",
       "mba_p                            0.13  \n",
       "status                          -0.01  \n",
       "salary                           0.08  \n",
       "hsc_s_Commerce                  -0.58  \n",
       "hsc_s_Science                    0.65  \n",
       "degree_t_Comm&Mgmt              -0.89  \n",
       "degree_t_Sci&Tech                1.00  "
      ]
     },
     "execution_count": 61,
     "metadata": {},
     "output_type": "execute_result"
    }
   ],
   "source": [
    "round(data.corr(),2)"
   ]
  },
  {
   "cell_type": "markdown",
   "metadata": {},
   "source": [
    "degree_t_Comm&Mgmt랑 degree_t_Sci&Tech는 상관관계가 0.89로 매우 높다.    \n",
    "hsc_s_Commerce와 hsc_s_Science도 0.9로 매우 높음    \n",
    "또한 salary와 status도 상관관계가 매우 높다.    "
   ]
  },
  {
   "cell_type": "code",
   "execution_count": 62,
   "metadata": {},
   "outputs": [
    {
     "data": {
      "text/plain": [
       "<AxesSubplot:>"
      ]
     },
     "execution_count": 62,
     "metadata": {},
     "output_type": "execute_result"
    },
    {
     "data": {
      "image/png": "[encoded data removed]",
      "text/plain": [
       "<Figure size 1080x595.44 with 1 Axes>"
      ]
     },
     "metadata": {
      "needs_background": "light"
     },
     "output_type": "display_data"
    }
   ],
   "source": [
    "from matplotlib import pyplot\n",
    "a4_dims = (15,8.27)\n",
    "fig, ax = pyplot.subplots(figsize=a4_dims)\n",
    "plt.xticks(rotation=45)\n",
    "sns.boxplot(data=data)\n",
    "# y_lim=(np.min(y_values),np.max(y_values)))"
   ]
  },
  {
   "cell_type": "markdown",
   "metadata": {},
   "source": [
    "xticks함수를 이용해 45도 기울임. 텍스트 겹침을 방지."
   ]
  },
  {
   "cell_type": "code",
   "execution_count": 63,
   "metadata": {},
   "outputs": [
    {
     "data": {
      "text/plain": [
       "<AxesSubplot:>"
      ]
     },
     "execution_count": 63,
     "metadata": {},
     "output_type": "execute_result"
    },
    {
     "data": {
      "image/png": "[encoded data removed]",
      "text/plain": [
       "<Figure size 1080x595.44 with 1 Axes>"
      ]
     },
     "metadata": {
      "needs_background": "light"
     },
     "output_type": "display_data"
    }
   ],
   "source": [
    "from matplotlib import pyplot\n",
    "a4_dims = (15,8.27)\n",
    "fig, ax = pyplot.subplots(figsize=a4_dims)\n",
    "plt.xticks(rotation=50)\n",
    "sns.boxplot(data=data.drop(columns=['salary']))"
   ]
  },
  {
   "cell_type": "code",
   "execution_count": 64,
   "metadata": {
    "scrolled": true
   },
   "outputs": [],
   "source": [
    "#a = data.loc[:,['hsc_s_Arts','degree_t_Others']]\n",
    "# sns.boxplot(data=a)"
   ]
  },
  {
   "cell_type": "code",
   "execution_count": 65,
   "metadata": {},
   "outputs": [
    {
     "data": {
      "text/plain": [
       "<AxesSubplot:>"
      ]
     },
     "execution_count": 65,
     "metadata": {},
     "output_type": "execute_result"
    },
    {
     "data": {
      "image/png": "[encoded data removed]",
      "text/plain": [
       "<Figure size 432x288 with 1 Axes>"
      ]
     },
     "metadata": {
      "needs_background": "light"
     },
     "output_type": "display_data"
    }
   ],
   "source": [
    "a = data.loc[:,['hsc_p','degree_p']]\n",
    "sns.boxplot(data=a)"
   ]
  },
  {
   "cell_type": "code",
   "execution_count": 66,
   "metadata": {},
   "outputs": [
    {
     "data": {
      "text/plain": [
       "0      91.00\n",
       "1      78.33\n",
       "2      68.00\n",
       "3      52.00\n",
       "4      73.60\n",
       "       ...  \n",
       "210    82.00\n",
       "211    60.00\n",
       "212    67.00\n",
       "213    66.00\n",
       "214    58.00\n",
       "Name: hsc_p, Length: 215, dtype: float64"
      ]
     },
     "execution_count": 66,
     "metadata": {},
     "output_type": "execute_result"
    }
   ],
   "source": [
    "data['hsc_p'][:]"
   ]
  },
  {
   "cell_type": "code",
   "execution_count": 67,
   "metadata": {
    "scrolled": true
   },
   "outputs": [
    {
     "data": {
      "text/plain": [
       "<AxesSubplot:xlabel='hsc_p'>"
      ]
     },
     "execution_count": 67,
     "metadata": {},
     "output_type": "execute_result"
    },
    {
     "data": {
      "image/png": "[encoded data removed]",
      "text/plain": [
       "<Figure size 432x288 with 1 Axes>"
      ]
     },
     "metadata": {
      "needs_background": "light"
     },
     "output_type": "display_data"
    }
   ],
   "source": [
    "sns.distplot(data[\"hsc_p\"])"
   ]
  },
  {
   "cell_type": "code",
   "execution_count": 68,
   "metadata": {},
   "outputs": [
    {
     "data": {
      "image/png": "[encoded data removed]",
      "text/plain": [
       "<Figure size 432x288 with 1 Axes>"
      ]
     },
     "metadata": {
      "needs_background": "light"
     },
     "output_type": "display_data"
    }
   ],
   "source": [
    "import scipy.stats as stats\n",
    "dd = data['hsc_p']\n",
    "\n",
    "stats.probplot(dd, plot=plt)\n",
    "plt.show()"
   ]
  },
  {
   "cell_type": "code",
   "execution_count": 69,
   "metadata": {
    "scrolled": true
   },
   "outputs": [
    {
     "data": {
      "text/plain": [
       "<AxesSubplot:xlabel='degree_p'>"
      ]
     },
     "execution_count": 69,
     "metadata": {},
     "output_type": "execute_result"
    },
    {
     "data": {
      "image/png": "[encoded data removed]",
      "text/plain": [
       "<Figure size 432x288 with 1 Axes>"
      ]
     },
     "metadata": {
      "needs_background": "light"
     },
     "output_type": "display_data"
    }
   ],
   "source": [
    "sns.distplot(data[\"degree_p\"])"
   ]
  },
  {
   "cell_type": "code",
   "execution_count": 70,
   "metadata": {},
   "outputs": [
    {
     "data": {
      "image/png": "[encoded data removed]",
      "text/plain": [
       "<Figure size 432x288 with 1 Axes>"
      ]
     },
     "metadata": {
      "needs_background": "light"
     },
     "output_type": "display_data"
    }
   ],
   "source": [
    "import scipy.stats as stats\n",
    "dd = data['degree_p']\n",
    "\n",
    "stats.probplot(dd, plot=plt)\n",
    "plt.show()"
   ]
  },
  {
   "cell_type": "markdown",
   "metadata": {},
   "source": [
    "q-q plot을 그려보았을때 빨간 선에 점이 잘 있을수록 정규성이 있는 것인데 그렇게 위치되어있으므로 정규성이 있다고 볼 수 있음"
   ]
  },
  {
   "cell_type": "code",
   "execution_count": 71,
   "metadata": {
    "scrolled": false
   },
   "outputs": [
    {
     "data": {
      "text/plain": [
       "<AxesSubplot:xlabel='salary'>"
      ]
     },
     "execution_count": 71,
     "metadata": {},
     "output_type": "execute_result"
    },
    {
     "data": {
      "image/png": "[encoded data removed]",
      "text/plain": [
       "<Figure size 432x288 with 1 Axes>"
      ]
     },
     "metadata": {
      "needs_background": "light"
     },
     "output_type": "display_data"
    }
   ],
   "source": [
    "sns.distplot(data['salary'])"
   ]
  },
  {
   "cell_type": "code",
   "execution_count": 72,
   "metadata": {},
   "outputs": [
    {
     "data": {
      "image/png": "[encoded data removed]",
      "text/plain": [
       "<Figure size 432x288 with 1 Axes>"
      ]
     },
     "metadata": {
      "needs_background": "light"
     },
     "output_type": "display_data"
    }
   ],
   "source": [
    "import scipy.stats as stats\n",
    "dd = data['salary']\n",
    "\n",
    "stats.probplot(dd, plot=plt)\n",
    "plt.show()"
   ]
  },
  {
   "cell_type": "markdown",
   "metadata": {},
   "source": [
    "정규성 검정 알아본다음에 정규성을 안따르면 P값이 알파값보다 작으면    \n",
    "H0기각 H1채택되면서 정규성을 따르지 않는다고 나와서 정규분포를 따르지 않게 되는것.    \n",
    "꼭 정규성 검정 해서 그 다음에 로그변환해보기..."
   ]
  },
  {
   "cell_type": "markdown",
   "metadata": {},
   "source": [
    "왜도&첨도알아보기."
   ]
  },
  {
   "cell_type": "code",
   "execution_count": 73,
   "metadata": {},
   "outputs": [
    {
     "data": {
      "text/plain": [
       "0.16249524333889379"
      ]
     },
     "execution_count": 73,
     "metadata": {},
     "output_type": "execute_result"
    }
   ],
   "source": [
    "from scipy.stats import skew, kurtosis\n",
    "\n",
    "# 왜도\n",
    "skew(data['hsc_p'])\n",
    "\n",
    "# 첨도\n",
    "#kurtosis(data, fisher=True)"
   ]
  },
  {
   "cell_type": "code",
   "execution_count": 74,
   "metadata": {},
   "outputs": [
    {
     "data": {
      "image/png": "[encoded data removed]",
      "text/plain": [
       "<Figure size 432x288 with 1 Axes>"
      ]
     },
     "metadata": {
      "needs_background": "light"
     },
     "output_type": "display_data"
    }
   ],
   "source": [
    "sns.countplot(\"degree_t_Sci&Tech\", palette = 'Paired',data=data)\n",
    "plt.title(\"성별 수\")\n",
    "plt.xlabel(\"성별\")\n",
    "plt.ylabel(\"COUNT\")\n",
    "plt.show()"
   ]
  },
  {
   "cell_type": "code",
   "execution_count": 75,
   "metadata": {},
   "outputs": [
    {
     "data": {
      "image/png": "[encoded data removed]",
      "text/plain": [
       "<Figure size 432x288 with 1 Axes>"
      ]
     },
     "metadata": {
      "needs_background": "light"
     },
     "output_type": "display_data"
    }
   ],
   "source": [
    "sns.countplot(\"gender\", palette = 'Paired',data=data)\n",
    "plt.title(\"성별 수\")\n",
    "plt.xlabel(\"성별\")\n",
    "plt.ylabel(\"COUNT\")\n",
    "plt.show()"
   ]
  },
  {
   "cell_type": "markdown",
   "metadata": {},
   "source": [
    "[박스플롯 그리는 방법 링크]    \n",
    "https://blog.naver.com/PostView.nhn?blogId=youji4ever&logNo=221813848875&categoryNo=0&parentCategoryNo=0&viewDate=&currentPage=1&postListTopCurrentPage=1&from=postView"
   ]
  },
  {
   "cell_type": "code",
   "execution_count": 76,
   "metadata": {},
   "outputs": [],
   "source": [
    "# y_arr = np.array(X_df)\n",
    "# X_arr=np.array(data['ssc_p'])"
   ]
  },
  {
   "cell_type": "markdown",
   "metadata": {},
   "source": [
    "=====================================    \n",
    "정규화 안하고 할 때"
   ]
  },
  {
   "cell_type": "code",
   "execution_count": 77,
   "metadata": {},
   "outputs": [
    {
     "data": {
      "text/html": [
       "<div>\n",
       "<style scoped>\n",
       "    .dataframe tbody tr th:only-of-type {\n",
       "        vertical-align: middle;\n",
       "    }\n",
       "\n",
       "    .dataframe tbody tr th {\n",
       "        vertical-align: top;\n",
       "    }\n",
       "\n",
       "    .dataframe thead th {\n",
       "        text-align: right;\n",
       "    }\n",
       "</style>\n",
       "<table border=\"1\" class=\"dataframe\">\n",
       "  <thead>\n",
       "    <tr style=\"text-align: right;\">\n",
       "      <th></th>\n",
       "      <th>sl_no</th>\n",
       "      <th>gender</th>\n",
       "      <th>ssc_p</th>\n",
       "      <th>ssc_b</th>\n",
       "      <th>hsc_p</th>\n",
       "      <th>hsc_b</th>\n",
       "      <th>degree_p</th>\n",
       "      <th>workex</th>\n",
       "      <th>etest_p</th>\n",
       "      <th>specialisation</th>\n",
       "      <th>mba_p</th>\n",
       "      <th>status</th>\n",
       "      <th>salary</th>\n",
       "      <th>hsc_s_Commerce</th>\n",
       "      <th>hsc_s_Science</th>\n",
       "      <th>degree_t_Comm&amp;Mgmt</th>\n",
       "      <th>degree_t_Sci&amp;Tech</th>\n",
       "    </tr>\n",
       "  </thead>\n",
       "  <tbody>\n",
       "    <tr>\n",
       "      <th>sl_no</th>\n",
       "      <td>1.000000</td>\n",
       "      <td>-0.074306</td>\n",
       "      <td>-0.078155</td>\n",
       "      <td>-0.027214</td>\n",
       "      <td>-0.085711</td>\n",
       "      <td>-0.116887</td>\n",
       "      <td>-0.088281</td>\n",
       "      <td>-0.059151</td>\n",
       "      <td>0.063636</td>\n",
       "      <td>-0.046630</td>\n",
       "      <td>0.022327</td>\n",
       "      <td>0.026859</td>\n",
       "      <td>0.002543</td>\n",
       "      <td>-0.024463</td>\n",
       "      <td>0.018201</td>\n",
       "      <td>-0.039982</td>\n",
       "      <td>0.009069</td>\n",
       "    </tr>\n",
       "    <tr>\n",
       "      <th>gender</th>\n",
       "      <td>-0.074306</td>\n",
       "      <td>1.000000</td>\n",
       "      <td>0.068969</td>\n",
       "      <td>0.019429</td>\n",
       "      <td>0.021334</td>\n",
       "      <td>0.065945</td>\n",
       "      <td>0.173217</td>\n",
       "      <td>0.085153</td>\n",
       "      <td>-0.084294</td>\n",
       "      <td>-0.106160</td>\n",
       "      <td>0.300531</td>\n",
       "      <td>0.090670</td>\n",
       "      <td>-0.143110</td>\n",
       "      <td>0.001087</td>\n",
       "      <td>-0.042682</td>\n",
       "      <td>0.036215</td>\n",
       "      <td>-0.084072</td>\n",
       "    </tr>\n",
       "    <tr>\n",
       "      <th>ssc_p</th>\n",
       "      <td>-0.078155</td>\n",
       "      <td>0.068969</td>\n",
       "      <td>1.000000</td>\n",
       "      <td>-0.116194</td>\n",
       "      <td>0.511472</td>\n",
       "      <td>-0.066996</td>\n",
       "      <td>0.538404</td>\n",
       "      <td>-0.175675</td>\n",
       "      <td>0.261993</td>\n",
       "      <td>0.172536</td>\n",
       "      <td>0.388478</td>\n",
       "      <td>-0.607889</td>\n",
       "      <td>0.538090</td>\n",
       "      <td>-0.101323</td>\n",
       "      <td>0.189847</td>\n",
       "      <td>-0.179581</td>\n",
       "      <td>0.221235</td>\n",
       "    </tr>\n",
       "    <tr>\n",
       "      <th>ssc_b</th>\n",
       "      <td>-0.027214</td>\n",
       "      <td>0.019429</td>\n",
       "      <td>-0.116194</td>\n",
       "      <td>1.000000</td>\n",
       "      <td>0.137013</td>\n",
       "      <td>0.605883</td>\n",
       "      <td>-0.038070</td>\n",
       "      <td>-0.040744</td>\n",
       "      <td>0.018991</td>\n",
       "      <td>-0.051565</td>\n",
       "      <td>-0.083120</td>\n",
       "      <td>0.037297</td>\n",
       "      <td>-0.034594</td>\n",
       "      <td>0.056671</td>\n",
       "      <td>-0.058505</td>\n",
       "      <td>0.094939</td>\n",
       "      <td>-0.101060</td>\n",
       "    </tr>\n",
       "    <tr>\n",
       "      <th>hsc_p</th>\n",
       "      <td>-0.085711</td>\n",
       "      <td>0.021334</td>\n",
       "      <td>0.511472</td>\n",
       "      <td>0.137013</td>\n",
       "      <td>1.000000</td>\n",
       "      <td>0.019548</td>\n",
       "      <td>0.434206</td>\n",
       "      <td>-0.141025</td>\n",
       "      <td>0.245113</td>\n",
       "      <td>0.241630</td>\n",
       "      <td>0.354823</td>\n",
       "      <td>-0.491228</td>\n",
       "      <td>0.452569</td>\n",
       "      <td>0.258093</td>\n",
       "      <td>-0.226675</td>\n",
       "      <td>0.112816</td>\n",
       "      <td>-0.053599</td>\n",
       "    </tr>\n",
       "    <tr>\n",
       "      <th>hsc_b</th>\n",
       "      <td>-0.116887</td>\n",
       "      <td>0.065945</td>\n",
       "      <td>-0.066996</td>\n",
       "      <td>0.605883</td>\n",
       "      <td>0.019548</td>\n",
       "      <td>1.000000</td>\n",
       "      <td>-0.067229</td>\n",
       "      <td>0.038357</td>\n",
       "      <td>-0.039108</td>\n",
       "      <td>0.002232</td>\n",
       "      <td>-0.090201</td>\n",
       "      <td>0.016945</td>\n",
       "      <td>-0.011544</td>\n",
       "      <td>0.073522</td>\n",
       "      <td>-0.126446</td>\n",
       "      <td>0.027440</td>\n",
       "      <td>-0.086548</td>\n",
       "    </tr>\n",
       "    <tr>\n",
       "      <th>degree_p</th>\n",
       "      <td>-0.088281</td>\n",
       "      <td>0.173217</td>\n",
       "      <td>0.538404</td>\n",
       "      <td>-0.038070</td>\n",
       "      <td>0.434206</td>\n",
       "      <td>-0.067229</td>\n",
       "      <td>1.000000</td>\n",
       "      <td>-0.122648</td>\n",
       "      <td>0.224470</td>\n",
       "      <td>0.218286</td>\n",
       "      <td>0.402364</td>\n",
       "      <td>-0.479861</td>\n",
       "      <td>0.408371</td>\n",
       "      <td>-0.022724</td>\n",
       "      <td>0.092006</td>\n",
       "      <td>-0.032755</td>\n",
       "      <td>0.123477</td>\n",
       "    </tr>\n",
       "    <tr>\n",
       "      <th>workex</th>\n",
       "      <td>-0.059151</td>\n",
       "      <td>0.085153</td>\n",
       "      <td>-0.175675</td>\n",
       "      <td>-0.040744</td>\n",
       "      <td>-0.141025</td>\n",
       "      <td>0.038357</td>\n",
       "      <td>-0.122648</td>\n",
       "      <td>1.000000</td>\n",
       "      <td>-0.056735</td>\n",
       "      <td>-0.191174</td>\n",
       "      <td>-0.168811</td>\n",
       "      <td>0.276060</td>\n",
       "      <td>-0.298285</td>\n",
       "      <td>0.056719</td>\n",
       "      <td>-0.033270</td>\n",
       "      <td>0.102517</td>\n",
       "      <td>-0.102962</td>\n",
       "    </tr>\n",
       "    <tr>\n",
       "      <th>etest_p</th>\n",
       "      <td>0.063636</td>\n",
       "      <td>-0.084294</td>\n",
       "      <td>0.261993</td>\n",
       "      <td>0.018991</td>\n",
       "      <td>0.245113</td>\n",
       "      <td>-0.039108</td>\n",
       "      <td>0.224470</td>\n",
       "      <td>-0.056735</td>\n",
       "      <td>1.000000</td>\n",
       "      <td>0.236315</td>\n",
       "      <td>0.218055</td>\n",
       "      <td>-0.127639</td>\n",
       "      <td>0.186988</td>\n",
       "      <td>-0.021732</td>\n",
       "      <td>0.055352</td>\n",
       "      <td>-0.012531</td>\n",
       "      <td>0.009748</td>\n",
       "    </tr>\n",
       "    <tr>\n",
       "      <th>specialisation</th>\n",
       "      <td>-0.046630</td>\n",
       "      <td>-0.106160</td>\n",
       "      <td>0.172536</td>\n",
       "      <td>-0.051565</td>\n",
       "      <td>0.241630</td>\n",
       "      <td>0.002232</td>\n",
       "      <td>0.218286</td>\n",
       "      <td>-0.191174</td>\n",
       "      <td>0.236315</td>\n",
       "      <td>1.000000</td>\n",
       "      <td>0.105728</td>\n",
       "      <td>-0.250655</td>\n",
       "      <td>0.275766</td>\n",
       "      <td>0.129985</td>\n",
       "      <td>-0.166639</td>\n",
       "      <td>0.101331</td>\n",
       "      <td>-0.061503</td>\n",
       "    </tr>\n",
       "    <tr>\n",
       "      <th>mba_p</th>\n",
       "      <td>0.022327</td>\n",
       "      <td>0.300531</td>\n",
       "      <td>0.388478</td>\n",
       "      <td>-0.083120</td>\n",
       "      <td>0.354823</td>\n",
       "      <td>-0.090201</td>\n",
       "      <td>0.402364</td>\n",
       "      <td>-0.168811</td>\n",
       "      <td>0.218055</td>\n",
       "      <td>0.105728</td>\n",
       "      <td>1.000000</td>\n",
       "      <td>-0.076922</td>\n",
       "      <td>0.139823</td>\n",
       "      <td>-0.049415</td>\n",
       "      <td>0.048050</td>\n",
       "      <td>-0.102088</td>\n",
       "      <td>0.125009</td>\n",
       "    </tr>\n",
       "    <tr>\n",
       "      <th>status</th>\n",
       "      <td>0.026859</td>\n",
       "      <td>0.090670</td>\n",
       "      <td>-0.607889</td>\n",
       "      <td>0.037297</td>\n",
       "      <td>-0.491228</td>\n",
       "      <td>0.016945</td>\n",
       "      <td>-0.479861</td>\n",
       "      <td>0.276060</td>\n",
       "      <td>-0.127639</td>\n",
       "      <td>-0.250655</td>\n",
       "      <td>-0.076922</td>\n",
       "      <td>1.000000</td>\n",
       "      <td>-0.865774</td>\n",
       "      <td>-0.024414</td>\n",
       "      <td>-0.007279</td>\n",
       "      <td>-0.046849</td>\n",
       "      <td>-0.008688</td>\n",
       "    </tr>\n",
       "    <tr>\n",
       "      <th>salary</th>\n",
       "      <td>0.002543</td>\n",
       "      <td>-0.143110</td>\n",
       "      <td>0.538090</td>\n",
       "      <td>-0.034594</td>\n",
       "      <td>0.452569</td>\n",
       "      <td>-0.011544</td>\n",
       "      <td>0.408371</td>\n",
       "      <td>-0.298285</td>\n",
       "      <td>0.186988</td>\n",
       "      <td>0.275766</td>\n",
       "      <td>0.139823</td>\n",
       "      <td>-0.865774</td>\n",
       "      <td>1.000000</td>\n",
       "      <td>0.015239</td>\n",
       "      <td>0.026890</td>\n",
       "      <td>-0.025186</td>\n",
       "      <td>0.079351</td>\n",
       "    </tr>\n",
       "    <tr>\n",
       "      <th>hsc_s_Commerce</th>\n",
       "      <td>-0.024463</td>\n",
       "      <td>0.001087</td>\n",
       "      <td>-0.101323</td>\n",
       "      <td>0.056671</td>\n",
       "      <td>0.258093</td>\n",
       "      <td>0.073522</td>\n",
       "      <td>-0.022724</td>\n",
       "      <td>0.056719</td>\n",
       "      <td>-0.021732</td>\n",
       "      <td>0.129985</td>\n",
       "      <td>-0.049415</td>\n",
       "      <td>-0.024414</td>\n",
       "      <td>0.015239</td>\n",
       "      <td>1.000000</td>\n",
       "      <td>-0.901673</td>\n",
       "      <td>0.651804</td>\n",
       "      <td>-0.584673</td>\n",
       "    </tr>\n",
       "    <tr>\n",
       "      <th>hsc_s_Science</th>\n",
       "      <td>0.018201</td>\n",
       "      <td>-0.042682</td>\n",
       "      <td>0.189847</td>\n",
       "      <td>-0.058505</td>\n",
       "      <td>-0.226675</td>\n",
       "      <td>-0.126446</td>\n",
       "      <td>0.092006</td>\n",
       "      <td>-0.033270</td>\n",
       "      <td>0.055352</td>\n",
       "      <td>-0.166639</td>\n",
       "      <td>0.048050</td>\n",
       "      <td>-0.007279</td>\n",
       "      <td>0.026890</td>\n",
       "      <td>-0.901673</td>\n",
       "      <td>1.000000</td>\n",
       "      <td>-0.650346</td>\n",
       "      <td>0.654593</td>\n",
       "    </tr>\n",
       "    <tr>\n",
       "      <th>degree_t_Comm&amp;Mgmt</th>\n",
       "      <td>-0.039982</td>\n",
       "      <td>0.036215</td>\n",
       "      <td>-0.179581</td>\n",
       "      <td>0.094939</td>\n",
       "      <td>0.112816</td>\n",
       "      <td>0.027440</td>\n",
       "      <td>-0.032755</td>\n",
       "      <td>0.102517</td>\n",
       "      <td>-0.012531</td>\n",
       "      <td>0.101331</td>\n",
       "      <td>-0.102088</td>\n",
       "      <td>-0.046849</td>\n",
       "      <td>-0.025186</td>\n",
       "      <td>0.651804</td>\n",
       "      <td>-0.650346</td>\n",
       "      <td>1.000000</td>\n",
       "      <td>-0.885113</td>\n",
       "    </tr>\n",
       "    <tr>\n",
       "      <th>degree_t_Sci&amp;Tech</th>\n",
       "      <td>0.009069</td>\n",
       "      <td>-0.084072</td>\n",
       "      <td>0.221235</td>\n",
       "      <td>-0.101060</td>\n",
       "      <td>-0.053599</td>\n",
       "      <td>-0.086548</td>\n",
       "      <td>0.123477</td>\n",
       "      <td>-0.102962</td>\n",
       "      <td>0.009748</td>\n",
       "      <td>-0.061503</td>\n",
       "      <td>0.125009</td>\n",
       "      <td>-0.008688</td>\n",
       "      <td>0.079351</td>\n",
       "      <td>-0.584673</td>\n",
       "      <td>0.654593</td>\n",
       "      <td>-0.885113</td>\n",
       "      <td>1.000000</td>\n",
       "    </tr>\n",
       "  </tbody>\n",
       "</table>\n",
       "</div>"
      ],
      "text/plain": [
       "                       sl_no    gender     ssc_p     ssc_b     hsc_p  \\\n",
       "sl_no               1.000000 -0.074306 -0.078155 -0.027214 -0.085711   \n",
       "gender             -0.074306  1.000000  0.068969  0.019429  0.021334   \n",
       "ssc_p              -0.078155  0.068969  1.000000 -0.116194  0.511472   \n",
       "ssc_b              -0.027214  0.019429 -0.116194  1.000000  0.137013   \n",
       "hsc_p              -0.085711  0.021334  0.511472  0.137013  1.000000   \n",
       "hsc_b              -0.116887  0.065945 -0.066996  0.605883  0.019548   \n",
       "degree_p           -0.088281  0.173217  0.538404 -0.038070  0.434206   \n",
       "workex             -0.059151  0.085153 -0.175675 -0.040744 -0.141025   \n",
       "etest_p             0.063636 -0.084294  0.261993  0.018991  0.245113   \n",
       "specialisation     -0.046630 -0.106160  0.172536 -0.051565  0.241630   \n",
       "mba_p               0.022327  0.300531  0.388478 -0.083120  0.354823   \n",
       "status              0.026859  0.090670 -0.607889  0.037297 -0.491228   \n",
       "salary              0.002543 -0.143110  0.538090 -0.034594  0.452569   \n",
       "hsc_s_Commerce     -0.024463  0.001087 -0.101323  0.056671  0.258093   \n",
       "hsc_s_Science       0.018201 -0.042682  0.189847 -0.058505 -0.226675   \n",
       "degree_t_Comm&Mgmt -0.039982  0.036215 -0.179581  0.094939  0.112816   \n",
       "degree_t_Sci&Tech   0.009069 -0.084072  0.221235 -0.101060 -0.053599   \n",
       "\n",
       "                       hsc_b  degree_p    workex   etest_p  specialisation  \\\n",
       "sl_no              -0.116887 -0.088281 -0.059151  0.063636       -0.046630   \n",
       "gender              0.065945  0.173217  0.085153 -0.084294       -0.106160   \n",
       "ssc_p              -0.066996  0.538404 -0.175675  0.261993        0.172536   \n",
       "ssc_b               0.605883 -0.038070 -0.040744  0.018991       -0.051565   \n",
       "hsc_p               0.019548  0.434206 -0.141025  0.245113        0.241630   \n",
       "hsc_b               1.000000 -0.067229  0.038357 -0.039108        0.002232   \n",
       "degree_p           -0.067229  1.000000 -0.122648  0.224470        0.218286   \n",
       "workex              0.038357 -0.122648  1.000000 -0.056735       -0.191174   \n",
       "etest_p            -0.039108  0.224470 -0.056735  1.000000        0.236315   \n",
       "specialisation      0.002232  0.218286 -0.191174  0.236315        1.000000   \n",
       "mba_p              -0.090201  0.402364 -0.168811  0.218055        0.105728   \n",
       "status              0.016945 -0.479861  0.276060 -0.127639       -0.250655   \n",
       "salary             -0.011544  0.408371 -0.298285  0.186988        0.275766   \n",
       "hsc_s_Commerce      0.073522 -0.022724  0.056719 -0.021732        0.129985   \n",
       "hsc_s_Science      -0.126446  0.092006 -0.033270  0.055352       -0.166639   \n",
       "degree_t_Comm&Mgmt  0.027440 -0.032755  0.102517 -0.012531        0.101331   \n",
       "degree_t_Sci&Tech  -0.086548  0.123477 -0.102962  0.009748       -0.061503   \n",
       "\n",
       "                       mba_p    status    salary  hsc_s_Commerce  \\\n",
       "sl_no               0.022327  0.026859  0.002543       -0.024463   \n",
       "gender              0.300531  0.090670 -0.143110        0.001087   \n",
       "ssc_p               0.388478 -0.607889  0.538090       -0.101323   \n",
       "ssc_b              -0.083120  0.037297 -0.034594        0.056671   \n",
       "hsc_p               0.354823 -0.491228  0.452569        0.258093   \n",
       "hsc_b              -0.090201  0.016945 -0.011544        0.073522   \n",
       "degree_p            0.402364 -0.479861  0.408371       -0.022724   \n",
       "workex             -0.168811  0.276060 -0.298285        0.056719   \n",
       "etest_p             0.218055 -0.127639  0.186988       -0.021732   \n",
       "specialisation      0.105728 -0.250655  0.275766        0.129985   \n",
       "mba_p               1.000000 -0.076922  0.139823       -0.049415   \n",
       "status             -0.076922  1.000000 -0.865774       -0.024414   \n",
       "salary              0.139823 -0.865774  1.000000        0.015239   \n",
       "hsc_s_Commerce     -0.049415 -0.024414  0.015239        1.000000   \n",
       "hsc_s_Science       0.048050 -0.007279  0.026890       -0.901673   \n",
       "degree_t_Comm&Mgmt -0.102088 -0.046849 -0.025186        0.651804   \n",
       "degree_t_Sci&Tech   0.125009 -0.008688  0.079351       -0.584673   \n",
       "\n",
       "                    hsc_s_Science  degree_t_Comm&Mgmt  degree_t_Sci&Tech  \n",
       "sl_no                    0.018201           -0.039982           0.009069  \n",
       "gender                  -0.042682            0.036215          -0.084072  \n",
       "ssc_p                    0.189847           -0.179581           0.221235  \n",
       "ssc_b                   -0.058505            0.094939          -0.101060  \n",
       "hsc_p                   -0.226675            0.112816          -0.053599  \n",
       "hsc_b                   -0.126446            0.027440          -0.086548  \n",
       "degree_p                 0.092006           -0.032755           0.123477  \n",
       "workex                  -0.033270            0.102517          -0.102962  \n",
       "etest_p                  0.055352           -0.012531           0.009748  \n",
       "specialisation          -0.166639            0.101331          -0.061503  \n",
       "mba_p                    0.048050           -0.102088           0.125009  \n",
       "status                  -0.007279           -0.046849          -0.008688  \n",
       "salary                   0.026890           -0.025186           0.079351  \n",
       "hsc_s_Commerce          -0.901673            0.651804          -0.584673  \n",
       "hsc_s_Science            1.000000           -0.650346           0.654593  \n",
       "degree_t_Comm&Mgmt      -0.650346            1.000000          -0.885113  \n",
       "degree_t_Sci&Tech        0.654593           -0.885113           1.000000  "
      ]
     },
     "execution_count": 77,
     "metadata": {},
     "output_type": "execute_result"
    }
   ],
   "source": [
    "X = data.drop(columns =['status'])\n",
    "y = data['status']\n",
    "data.corr()"
   ]
  },
  {
   "cell_type": "code",
   "execution_count": 78,
   "metadata": {},
   "outputs": [
    {
     "data": {
      "text/html": [
       "<div>\n",
       "<style scoped>\n",
       "    .dataframe tbody tr th:only-of-type {\n",
       "        vertical-align: middle;\n",
       "    }\n",
       "\n",
       "    .dataframe tbody tr th {\n",
       "        vertical-align: top;\n",
       "    }\n",
       "\n",
       "    .dataframe thead th {\n",
       "        text-align: right;\n",
       "    }\n",
       "</style>\n",
       "<table border=\"1\" class=\"dataframe\">\n",
       "  <thead>\n",
       "    <tr style=\"text-align: right;\">\n",
       "      <th></th>\n",
       "      <th>VIF</th>\n",
       "      <th>features</th>\n",
       "    </tr>\n",
       "  </thead>\n",
       "  <tbody>\n",
       "    <tr>\n",
       "      <th>1</th>\n",
       "      <td>1.88</td>\n",
       "      <td>gender</td>\n",
       "    </tr>\n",
       "    <tr>\n",
       "      <th>9</th>\n",
       "      <td>2.82</td>\n",
       "      <td>specialisation</td>\n",
       "    </tr>\n",
       "    <tr>\n",
       "      <th>5</th>\n",
       "      <td>2.84</td>\n",
       "      <td>hsc_b</td>\n",
       "    </tr>\n",
       "    <tr>\n",
       "      <th>7</th>\n",
       "      <td>3.34</td>\n",
       "      <td>workex</td>\n",
       "    </tr>\n",
       "    <tr>\n",
       "      <th>3</th>\n",
       "      <td>4.01</td>\n",
       "      <td>ssc_b</td>\n",
       "    </tr>\n",
       "    <tr>\n",
       "      <th>0</th>\n",
       "      <td>4.17</td>\n",
       "      <td>sl_no</td>\n",
       "    </tr>\n",
       "    <tr>\n",
       "      <th>11</th>\n",
       "      <td>4.56</td>\n",
       "      <td>salary</td>\n",
       "    </tr>\n",
       "    <tr>\n",
       "      <th>15</th>\n",
       "      <td>7.82</td>\n",
       "      <td>degree_t_Sci&amp;Tech</td>\n",
       "    </tr>\n",
       "    <tr>\n",
       "      <th>13</th>\n",
       "      <td>12.59</td>\n",
       "      <td>hsc_s_Science</td>\n",
       "    </tr>\n",
       "    <tr>\n",
       "      <th>12</th>\n",
       "      <td>13.53</td>\n",
       "      <td>hsc_s_Commerce</td>\n",
       "    </tr>\n",
       "    <tr>\n",
       "      <th>14</th>\n",
       "      <td>17.45</td>\n",
       "      <td>degree_t_Comm&amp;Mgmt</td>\n",
       "    </tr>\n",
       "    <tr>\n",
       "      <th>8</th>\n",
       "      <td>36.47</td>\n",
       "      <td>etest_p</td>\n",
       "    </tr>\n",
       "    <tr>\n",
       "      <th>4</th>\n",
       "      <td>77.30</td>\n",
       "      <td>hsc_p</td>\n",
       "    </tr>\n",
       "    <tr>\n",
       "      <th>2</th>\n",
       "      <td>88.87</td>\n",
       "      <td>ssc_p</td>\n",
       "    </tr>\n",
       "    <tr>\n",
       "      <th>10</th>\n",
       "      <td>127.04</td>\n",
       "      <td>mba_p</td>\n",
       "    </tr>\n",
       "    <tr>\n",
       "      <th>6</th>\n",
       "      <td>128.11</td>\n",
       "      <td>degree_p</td>\n",
       "    </tr>\n",
       "  </tbody>\n",
       "</table>\n",
       "</div>"
      ],
      "text/plain": [
       "       VIF            features\n",
       "1     1.88              gender\n",
       "9     2.82      specialisation\n",
       "5     2.84               hsc_b\n",
       "7     3.34              workex\n",
       "3     4.01               ssc_b\n",
       "0     4.17               sl_no\n",
       "11    4.56              salary\n",
       "15    7.82   degree_t_Sci&Tech\n",
       "13   12.59       hsc_s_Science\n",
       "12   13.53      hsc_s_Commerce\n",
       "14   17.45  degree_t_Comm&Mgmt\n",
       "8    36.47             etest_p\n",
       "4    77.30               hsc_p\n",
       "2    88.87               ssc_p\n",
       "10  127.04               mba_p\n",
       "6   128.11            degree_p"
      ]
     },
     "execution_count": 78,
     "metadata": {},
     "output_type": "execute_result"
    }
   ],
   "source": [
    "from statsmodels.stats.outliers_influence import variance_inflation_factor\n",
    "vif2 = pd.DataFrame()\n",
    "vif2['VIF'] = [variance_inflation_factor(X.values, i) for i in range(X.shape[1])]\n",
    "vif2['features'] = X.columns\n",
    "vif2 = vif2.round(2)\n",
    "vif2 = vif2.sort_values(by='VIF')\n",
    "vif2"
   ]
  },
  {
   "cell_type": "markdown",
   "metadata": {},
   "source": [
    "vif(분산팽창요인)    \n",
    "독립변수에 의존하는 변수를 없애는 것.    \n",
    "vif는 독립변수를 다른 독립변수로 선형회귀한 성능    \n",
    "R^2는 다른변수로 i번째 변수를 선형회귀한 성능(결정계수)이다.    \n",
    "결정계수가 클수록 다른 변수에 의존적인 것이므로 vif가 커짐.    \n"
   ]
  },
  {
   "cell_type": "markdown",
   "metadata": {},
   "source": [
    "===================================="
   ]
  },
  {
   "cell_type": "code",
   "execution_count": 79,
   "metadata": {},
   "outputs": [],
   "source": [
    "data_X = data.drop(columns=['status','sl_no', 'salary'])"
   ]
  },
  {
   "cell_type": "code",
   "execution_count": 80,
   "metadata": {},
   "outputs": [],
   "source": [
    "data_X1 = data.drop(columns = ['status','sl_no'])\n",
    "# salary 안뺐을때"
   ]
  },
  {
   "cell_type": "code",
   "execution_count": 81,
   "metadata": {},
   "outputs": [],
   "source": [
    "# status는 레이블로 사용할거니까 빼준다.\n",
    "# 또한 salary또한 레이블 status에 파생되는 변수이므로 빼준다.\n",
    "# sl_no는 의미없는 변수이므로 빼준다.\n",
    "# mba_p는 경영석사 성적으로 여기서는 고려하지 않는다\n",
    "# ssc_b와 hsc_b는 학교가 cetral인지 others인지인데 취업과 상관 없으니까 뺴준다"
   ]
  },
  {
   "cell_type": "code",
   "execution_count": 82,
   "metadata": {
    "scrolled": false
   },
   "outputs": [
    {
     "data": {
      "text/html": [
       "<div>\n",
       "<style scoped>\n",
       "    .dataframe tbody tr th:only-of-type {\n",
       "        vertical-align: middle;\n",
       "    }\n",
       "\n",
       "    .dataframe tbody tr th {\n",
       "        vertical-align: top;\n",
       "    }\n",
       "\n",
       "    .dataframe thead th {\n",
       "        text-align: right;\n",
       "    }\n",
       "</style>\n",
       "<table border=\"1\" class=\"dataframe\">\n",
       "  <thead>\n",
       "    <tr style=\"text-align: right;\">\n",
       "      <th></th>\n",
       "      <th>gender</th>\n",
       "      <th>ssc_p</th>\n",
       "      <th>ssc_b</th>\n",
       "      <th>hsc_p</th>\n",
       "      <th>hsc_b</th>\n",
       "      <th>degree_p</th>\n",
       "      <th>workex</th>\n",
       "      <th>etest_p</th>\n",
       "      <th>specialisation</th>\n",
       "      <th>mba_p</th>\n",
       "      <th>hsc_s_Commerce</th>\n",
       "      <th>hsc_s_Science</th>\n",
       "      <th>degree_t_Comm&amp;Mgmt</th>\n",
       "      <th>degree_t_Sci&amp;Tech</th>\n",
       "    </tr>\n",
       "  </thead>\n",
       "  <tbody>\n",
       "    <tr>\n",
       "      <th>0</th>\n",
       "      <td>0</td>\n",
       "      <td>67.00</td>\n",
       "      <td>0</td>\n",
       "      <td>91.00</td>\n",
       "      <td>0</td>\n",
       "      <td>58.00</td>\n",
       "      <td>1</td>\n",
       "      <td>55.0</td>\n",
       "      <td>0</td>\n",
       "      <td>58.80</td>\n",
       "      <td>1</td>\n",
       "      <td>0</td>\n",
       "      <td>0</td>\n",
       "      <td>1</td>\n",
       "    </tr>\n",
       "    <tr>\n",
       "      <th>1</th>\n",
       "      <td>0</td>\n",
       "      <td>79.33</td>\n",
       "      <td>1</td>\n",
       "      <td>78.33</td>\n",
       "      <td>0</td>\n",
       "      <td>77.48</td>\n",
       "      <td>0</td>\n",
       "      <td>86.5</td>\n",
       "      <td>1</td>\n",
       "      <td>66.28</td>\n",
       "      <td>0</td>\n",
       "      <td>1</td>\n",
       "      <td>0</td>\n",
       "      <td>1</td>\n",
       "    </tr>\n",
       "    <tr>\n",
       "      <th>2</th>\n",
       "      <td>0</td>\n",
       "      <td>65.00</td>\n",
       "      <td>1</td>\n",
       "      <td>68.00</td>\n",
       "      <td>1</td>\n",
       "      <td>64.00</td>\n",
       "      <td>1</td>\n",
       "      <td>75.0</td>\n",
       "      <td>1</td>\n",
       "      <td>57.80</td>\n",
       "      <td>0</td>\n",
       "      <td>0</td>\n",
       "      <td>1</td>\n",
       "      <td>0</td>\n",
       "    </tr>\n",
       "    <tr>\n",
       "      <th>3</th>\n",
       "      <td>0</td>\n",
       "      <td>56.00</td>\n",
       "      <td>1</td>\n",
       "      <td>52.00</td>\n",
       "      <td>1</td>\n",
       "      <td>52.00</td>\n",
       "      <td>1</td>\n",
       "      <td>66.0</td>\n",
       "      <td>0</td>\n",
       "      <td>59.43</td>\n",
       "      <td>0</td>\n",
       "      <td>1</td>\n",
       "      <td>0</td>\n",
       "      <td>1</td>\n",
       "    </tr>\n",
       "    <tr>\n",
       "      <th>4</th>\n",
       "      <td>0</td>\n",
       "      <td>85.80</td>\n",
       "      <td>1</td>\n",
       "      <td>73.60</td>\n",
       "      <td>1</td>\n",
       "      <td>73.30</td>\n",
       "      <td>1</td>\n",
       "      <td>96.8</td>\n",
       "      <td>1</td>\n",
       "      <td>55.50</td>\n",
       "      <td>1</td>\n",
       "      <td>0</td>\n",
       "      <td>1</td>\n",
       "      <td>0</td>\n",
       "    </tr>\n",
       "    <tr>\n",
       "      <th>...</th>\n",
       "      <td>...</td>\n",
       "      <td>...</td>\n",
       "      <td>...</td>\n",
       "      <td>...</td>\n",
       "      <td>...</td>\n",
       "      <td>...</td>\n",
       "      <td>...</td>\n",
       "      <td>...</td>\n",
       "      <td>...</td>\n",
       "      <td>...</td>\n",
       "      <td>...</td>\n",
       "      <td>...</td>\n",
       "      <td>...</td>\n",
       "      <td>...</td>\n",
       "    </tr>\n",
       "    <tr>\n",
       "      <th>210</th>\n",
       "      <td>0</td>\n",
       "      <td>80.60</td>\n",
       "      <td>0</td>\n",
       "      <td>82.00</td>\n",
       "      <td>0</td>\n",
       "      <td>77.60</td>\n",
       "      <td>1</td>\n",
       "      <td>91.0</td>\n",
       "      <td>1</td>\n",
       "      <td>74.49</td>\n",
       "      <td>1</td>\n",
       "      <td>0</td>\n",
       "      <td>1</td>\n",
       "      <td>0</td>\n",
       "    </tr>\n",
       "    <tr>\n",
       "      <th>211</th>\n",
       "      <td>0</td>\n",
       "      <td>58.00</td>\n",
       "      <td>0</td>\n",
       "      <td>60.00</td>\n",
       "      <td>0</td>\n",
       "      <td>72.00</td>\n",
       "      <td>1</td>\n",
       "      <td>74.0</td>\n",
       "      <td>1</td>\n",
       "      <td>53.62</td>\n",
       "      <td>0</td>\n",
       "      <td>1</td>\n",
       "      <td>0</td>\n",
       "      <td>1</td>\n",
       "    </tr>\n",
       "    <tr>\n",
       "      <th>212</th>\n",
       "      <td>0</td>\n",
       "      <td>67.00</td>\n",
       "      <td>0</td>\n",
       "      <td>67.00</td>\n",
       "      <td>0</td>\n",
       "      <td>73.00</td>\n",
       "      <td>0</td>\n",
       "      <td>59.0</td>\n",
       "      <td>1</td>\n",
       "      <td>69.72</td>\n",
       "      <td>1</td>\n",
       "      <td>0</td>\n",
       "      <td>1</td>\n",
       "      <td>0</td>\n",
       "    </tr>\n",
       "    <tr>\n",
       "      <th>213</th>\n",
       "      <td>1</td>\n",
       "      <td>74.00</td>\n",
       "      <td>0</td>\n",
       "      <td>66.00</td>\n",
       "      <td>0</td>\n",
       "      <td>58.00</td>\n",
       "      <td>1</td>\n",
       "      <td>70.0</td>\n",
       "      <td>0</td>\n",
       "      <td>60.23</td>\n",
       "      <td>1</td>\n",
       "      <td>0</td>\n",
       "      <td>1</td>\n",
       "      <td>0</td>\n",
       "    </tr>\n",
       "    <tr>\n",
       "      <th>214</th>\n",
       "      <td>0</td>\n",
       "      <td>62.00</td>\n",
       "      <td>1</td>\n",
       "      <td>58.00</td>\n",
       "      <td>0</td>\n",
       "      <td>53.00</td>\n",
       "      <td>1</td>\n",
       "      <td>89.0</td>\n",
       "      <td>0</td>\n",
       "      <td>60.22</td>\n",
       "      <td>0</td>\n",
       "      <td>1</td>\n",
       "      <td>1</td>\n",
       "      <td>0</td>\n",
       "    </tr>\n",
       "  </tbody>\n",
       "</table>\n",
       "<p>215 rows × 14 columns</p>\n",
       "</div>"
      ],
      "text/plain": [
       "     gender  ssc_p  ssc_b  hsc_p  hsc_b  degree_p  workex  etest_p  \\\n",
       "0         0  67.00      0  91.00      0     58.00       1     55.0   \n",
       "1         0  79.33      1  78.33      0     77.48       0     86.5   \n",
       "2         0  65.00      1  68.00      1     64.00       1     75.0   \n",
       "3         0  56.00      1  52.00      1     52.00       1     66.0   \n",
       "4         0  85.80      1  73.60      1     73.30       1     96.8   \n",
       "..      ...    ...    ...    ...    ...       ...     ...      ...   \n",
       "210       0  80.60      0  82.00      0     77.60       1     91.0   \n",
       "211       0  58.00      0  60.00      0     72.00       1     74.0   \n",
       "212       0  67.00      0  67.00      0     73.00       0     59.0   \n",
       "213       1  74.00      0  66.00      0     58.00       1     70.0   \n",
       "214       0  62.00      1  58.00      0     53.00       1     89.0   \n",
       "\n",
       "     specialisation  mba_p  hsc_s_Commerce  hsc_s_Science  degree_t_Comm&Mgmt  \\\n",
       "0                 0  58.80               1              0                   0   \n",
       "1                 1  66.28               0              1                   0   \n",
       "2                 1  57.80               0              0                   1   \n",
       "3                 0  59.43               0              1                   0   \n",
       "4                 1  55.50               1              0                   1   \n",
       "..              ...    ...             ...            ...                 ...   \n",
       "210               1  74.49               1              0                   1   \n",
       "211               1  53.62               0              1                   0   \n",
       "212               1  69.72               1              0                   1   \n",
       "213               0  60.23               1              0                   1   \n",
       "214               0  60.22               0              1                   1   \n",
       "\n",
       "     degree_t_Sci&Tech  \n",
       "0                    1  \n",
       "1                    1  \n",
       "2                    0  \n",
       "3                    1  \n",
       "4                    0  \n",
       "..                 ...  \n",
       "210                  0  \n",
       "211                  1  \n",
       "212                  0  \n",
       "213                  0  \n",
       "214                  0  \n",
       "\n",
       "[215 rows x 14 columns]"
      ]
     },
     "execution_count": 82,
     "metadata": {},
     "output_type": "execute_result"
    }
   ],
   "source": [
    "data_X"
   ]
  },
  {
   "cell_type": "markdown",
   "metadata": {},
   "source": [
    "-----------------------참고-----------------------------------------------"
   ]
  },
  {
   "cell_type": "code",
   "execution_count": 83,
   "metadata": {},
   "outputs": [
    {
     "data": {
      "text/html": [
       "<table class=\"simpletable\">\n",
       "<caption>OLS Regression Results</caption>\n",
       "<tr>\n",
       "  <th>Dep. Variable:</th>         <td>status</td>      <th>  R-squared (uncentered):</th>      <td>   0.653</td>\n",
       "</tr>\n",
       "<tr>\n",
       "  <th>Model:</th>                   <td>OLS</td>       <th>  Adj. R-squared (uncentered):</th> <td>   0.629</td>\n",
       "</tr>\n",
       "<tr>\n",
       "  <th>Method:</th>             <td>Least Squares</td>  <th>  F-statistic:       </th>          <td>   27.01</td>\n",
       "</tr>\n",
       "<tr>\n",
       "  <th>Date:</th>             <td>Thu, 10 Dec 2020</td> <th>  Prob (F-statistic):</th>          <td>9.06e-39</td>\n",
       "</tr>\n",
       "<tr>\n",
       "  <th>Time:</th>                 <td>02:30:31</td>     <th>  Log-Likelihood:    </th>          <td> -65.967</td>\n",
       "</tr>\n",
       "<tr>\n",
       "  <th>No. Observations:</th>      <td>   215</td>      <th>  AIC:               </th>          <td>   159.9</td>\n",
       "</tr>\n",
       "<tr>\n",
       "  <th>Df Residuals:</th>          <td>   201</td>      <th>  BIC:               </th>          <td>   207.1</td>\n",
       "</tr>\n",
       "<tr>\n",
       "  <th>Df Model:</th>              <td>    14</td>      <th>                     </th>              <td> </td>   \n",
       "</tr>\n",
       "<tr>\n",
       "  <th>Covariance Type:</th>      <td>nonrobust</td>    <th>                     </th>              <td> </td>   \n",
       "</tr>\n",
       "</table>\n",
       "<table class=\"simpletable\">\n",
       "<tr>\n",
       "           <td></td>             <th>coef</th>     <th>std err</th>      <th>t</th>      <th>P>|t|</th>  <th>[0.025</th>    <th>0.975]</th>  \n",
       "</tr>\n",
       "<tr>\n",
       "  <th>gender</th>             <td>    0.0232</td> <td>    0.053</td> <td>    0.439</td> <td> 0.661</td> <td>   -0.081</td> <td>    0.127</td>\n",
       "</tr>\n",
       "<tr>\n",
       "  <th>ssc_p</th>              <td>   -0.0202</td> <td>    0.003</td> <td>   -6.645</td> <td> 0.000</td> <td>   -0.026</td> <td>   -0.014</td>\n",
       "</tr>\n",
       "<tr>\n",
       "  <th>ssc_b</th>              <td>    0.0789</td> <td>    0.063</td> <td>    1.255</td> <td> 0.211</td> <td>   -0.045</td> <td>    0.203</td>\n",
       "</tr>\n",
       "<tr>\n",
       "  <th>hsc_p</th>              <td>   -0.0104</td> <td>    0.003</td> <td>   -3.505</td> <td> 0.001</td> <td>   -0.016</td> <td>   -0.005</td>\n",
       "</tr>\n",
       "<tr>\n",
       "  <th>hsc_b</th>              <td>   -0.0074</td> <td>    0.062</td> <td>   -0.119</td> <td> 0.905</td> <td>   -0.130</td> <td>    0.115</td>\n",
       "</tr>\n",
       "<tr>\n",
       "  <th>degree_p</th>           <td>   -0.0090</td> <td>    0.004</td> <td>   -2.294</td> <td> 0.023</td> <td>   -0.017</td> <td>   -0.001</td>\n",
       "</tr>\n",
       "<tr>\n",
       "  <th>workex</th>             <td>    0.2360</td> <td>    0.050</td> <td>    4.687</td> <td> 0.000</td> <td>    0.137</td> <td>    0.335</td>\n",
       "</tr>\n",
       "<tr>\n",
       "  <th>etest_p</th>            <td>    0.0040</td> <td>    0.002</td> <td>    2.080</td> <td> 0.039</td> <td>    0.000</td> <td>    0.008</td>\n",
       "</tr>\n",
       "<tr>\n",
       "  <th>specialisation</th>     <td>   -0.0695</td> <td>    0.052</td> <td>   -1.345</td> <td> 0.180</td> <td>   -0.171</td> <td>    0.032</td>\n",
       "</tr>\n",
       "<tr>\n",
       "  <th>mba_p</th>              <td>    0.0368</td> <td>    0.004</td> <td>    9.476</td> <td> 0.000</td> <td>    0.029</td> <td>    0.044</td>\n",
       "</tr>\n",
       "<tr>\n",
       "  <th>hsc_s_Commerce</th>     <td>    0.2561</td> <td>    0.117</td> <td>    2.180</td> <td> 0.030</td> <td>    0.024</td> <td>    0.488</td>\n",
       "</tr>\n",
       "<tr>\n",
       "  <th>hsc_s_Science</th>      <td>    0.1874</td> <td>    0.126</td> <td>    1.482</td> <td> 0.140</td> <td>   -0.062</td> <td>    0.437</td>\n",
       "</tr>\n",
       "<tr>\n",
       "  <th>degree_t_Comm&Mgmt</th> <td>   -0.0404</td> <td>    0.118</td> <td>   -0.343</td> <td> 0.732</td> <td>   -0.273</td> <td>    0.192</td>\n",
       "</tr>\n",
       "<tr>\n",
       "  <th>degree_t_Sci&Tech</th>  <td>    0.0802</td> <td>    0.124</td> <td>    0.649</td> <td> 0.517</td> <td>   -0.164</td> <td>    0.324</td>\n",
       "</tr>\n",
       "</table>\n",
       "<table class=\"simpletable\">\n",
       "<tr>\n",
       "  <th>Omnibus:</th>       <td> 2.866</td> <th>  Durbin-Watson:     </th> <td>   1.914</td>\n",
       "</tr>\n",
       "<tr>\n",
       "  <th>Prob(Omnibus):</th> <td> 0.239</td> <th>  Jarque-Bera (JB):  </th> <td>   2.919</td>\n",
       "</tr>\n",
       "<tr>\n",
       "  <th>Skew:</th>          <td> 0.256</td> <th>  Prob(JB):          </th> <td>   0.232</td>\n",
       "</tr>\n",
       "<tr>\n",
       "  <th>Kurtosis:</th>      <td> 2.746</td> <th>  Cond. No.          </th> <td>1.23e+03</td>\n",
       "</tr>\n",
       "</table><br/><br/>Warnings:<br/>[1] Standard Errors assume that the covariance matrix of the errors is correctly specified.<br/>[2] The condition number is large, 1.23e+03. This might indicate that there are<br/>strong multicollinearity or other numerical problems."
      ],
      "text/plain": [
       "<class 'statsmodels.iolib.summary.Summary'>\n",
       "\"\"\"\n",
       "                                 OLS Regression Results                                \n",
       "=======================================================================================\n",
       "Dep. Variable:                 status   R-squared (uncentered):                   0.653\n",
       "Model:                            OLS   Adj. R-squared (uncentered):              0.629\n",
       "Method:                 Least Squares   F-statistic:                              27.01\n",
       "Date:                Thu, 10 Dec 2020   Prob (F-statistic):                    9.06e-39\n",
       "Time:                        02:30:31   Log-Likelihood:                         -65.967\n",
       "No. Observations:                 215   AIC:                                      159.9\n",
       "Df Residuals:                     201   BIC:                                      207.1\n",
       "Df Model:                          14                                                  \n",
       "Covariance Type:            nonrobust                                                  \n",
       "======================================================================================\n",
       "                         coef    std err          t      P>|t|      [0.025      0.975]\n",
       "--------------------------------------------------------------------------------------\n",
       "gender                 0.0232      0.053      0.439      0.661      -0.081       0.127\n",
       "ssc_p                 -0.0202      0.003     -6.645      0.000      -0.026      -0.014\n",
       "ssc_b                  0.0789      0.063      1.255      0.211      -0.045       0.203\n",
       "hsc_p                 -0.0104      0.003     -3.505      0.001      -0.016      -0.005\n",
       "hsc_b                 -0.0074      0.062     -0.119      0.905      -0.130       0.115\n",
       "degree_p              -0.0090      0.004     -2.294      0.023      -0.017      -0.001\n",
       "workex                 0.2360      0.050      4.687      0.000       0.137       0.335\n",
       "etest_p                0.0040      0.002      2.080      0.039       0.000       0.008\n",
       "specialisation        -0.0695      0.052     -1.345      0.180      -0.171       0.032\n",
       "mba_p                  0.0368      0.004      9.476      0.000       0.029       0.044\n",
       "hsc_s_Commerce         0.2561      0.117      2.180      0.030       0.024       0.488\n",
       "hsc_s_Science          0.1874      0.126      1.482      0.140      -0.062       0.437\n",
       "degree_t_Comm&Mgmt    -0.0404      0.118     -0.343      0.732      -0.273       0.192\n",
       "degree_t_Sci&Tech      0.0802      0.124      0.649      0.517      -0.164       0.324\n",
       "==============================================================================\n",
       "Omnibus:                        2.866   Durbin-Watson:                   1.914\n",
       "Prob(Omnibus):                  0.239   Jarque-Bera (JB):                2.919\n",
       "Skew:                           0.256   Prob(JB):                        0.232\n",
       "Kurtosis:                       2.746   Cond. No.                     1.23e+03\n",
       "==============================================================================\n",
       "\n",
       "Warnings:\n",
       "[1] Standard Errors assume that the covariance matrix of the errors is correctly specified.\n",
       "[2] The condition number is large, 1.23e+03. This might indicate that there are\n",
       "strong multicollinearity or other numerical problems.\n",
       "\"\"\""
      ]
     },
     "execution_count": 83,
     "metadata": {},
     "output_type": "execute_result"
    }
   ],
   "source": [
    "# train & 회귀모델 적합\n",
    "import statsmodels.api as sm\n",
    "full_model = sm.OLS(data['status'],data_X)\n",
    "fitted_full_model = full_model.fit()\n",
    "\n",
    "fitted_full_model.summary()\n",
    "# https://kiyoja07.blogspot.com/2019/03/python-linear-regression.html"
   ]
  },
  {
   "cell_type": "code",
   "execution_count": 84,
   "metadata": {},
   "outputs": [
    {
     "name": "stdout",
     "output_type": "stream",
     "text": [
      "                            OLS Regression Results                            \n",
      "==============================================================================\n",
      "Dep. Variable:                 status   R-squared:                       0.001\n",
      "Model:                            OLS   Adj. R-squared:                 -0.004\n",
      "Method:                 Least Squares   F-statistic:                    0.1270\n",
      "Date:                Thu, 10 Dec 2020   Prob (F-statistic):              0.722\n",
      "Time:                        02:30:32   Log-Likelihood:                -139.53\n",
      "No. Observations:                 215   AIC:                             283.1\n",
      "Df Residuals:                     213   BIC:                             289.8\n",
      "Df Model:                           1                                         \n",
      "Covariance Type:            nonrobust                                         \n",
      "==========================================================================================\n",
      "                             coef    std err          t      P>|t|      [0.025      0.975]\n",
      "------------------------------------------------------------------------------------------\n",
      "Intercept                  0.3235      0.046      7.024      0.000       0.233       0.414\n",
      "C(hsc_s_Commerce)[T.1]    -0.0226      0.064     -0.356      0.722      -0.148       0.103\n",
      "==============================================================================\n",
      "Omnibus:                      285.757   Durbin-Watson:                   2.270\n",
      "Prob(Omnibus):                  0.000   Jarque-Bera (JB):               39.675\n",
      "Skew:                           0.813   Prob(JB):                     2.43e-09\n",
      "Kurtosis:                       1.663   Cond. No.                         2.68\n",
      "==============================================================================\n",
      "\n",
      "Warnings:\n",
      "[1] Standard Errors assume that the covariance matrix of the errors is correctly specified.\n"
     ]
    }
   ],
   "source": [
    "# 정규화 안하고 했을 때\n",
    "model = sm.OLS.from_formula(\"status ~ C(hsc_s_Commerce) \", data)\n",
    "result = model.fit()\n",
    "print(result.summary())"
   ]
  },
  {
   "cell_type": "markdown",
   "metadata": {},
   "source": [
    "--------------------------------------------------------------------------"
   ]
  },
  {
   "cell_type": "code",
   "execution_count": 85,
   "metadata": {
    "scrolled": false
   },
   "outputs": [
    {
     "data": {
      "text/html": [
       "<div>\n",
       "<style scoped>\n",
       "    .dataframe tbody tr th:only-of-type {\n",
       "        vertical-align: middle;\n",
       "    }\n",
       "\n",
       "    .dataframe tbody tr th {\n",
       "        vertical-align: top;\n",
       "    }\n",
       "\n",
       "    .dataframe thead th {\n",
       "        text-align: right;\n",
       "    }\n",
       "</style>\n",
       "<table border=\"1\" class=\"dataframe\">\n",
       "  <thead>\n",
       "    <tr style=\"text-align: right;\">\n",
       "      <th></th>\n",
       "      <th>gender</th>\n",
       "      <th>ssc_p</th>\n",
       "      <th>ssc_b</th>\n",
       "      <th>hsc_p</th>\n",
       "      <th>hsc_b</th>\n",
       "      <th>degree_p</th>\n",
       "      <th>workex</th>\n",
       "      <th>etest_p</th>\n",
       "      <th>specialisation</th>\n",
       "      <th>mba_p</th>\n",
       "      <th>hsc_s_Commerce</th>\n",
       "      <th>hsc_s_Science</th>\n",
       "      <th>degree_t_Comm&amp;Mgmt</th>\n",
       "      <th>degree_t_Sci&amp;Tech</th>\n",
       "    </tr>\n",
       "  </thead>\n",
       "  <tbody>\n",
       "    <tr>\n",
       "      <th>gender</th>\n",
       "      <td>1.000000</td>\n",
       "      <td>0.068969</td>\n",
       "      <td>0.019429</td>\n",
       "      <td>0.021334</td>\n",
       "      <td>0.065945</td>\n",
       "      <td>0.173217</td>\n",
       "      <td>0.085153</td>\n",
       "      <td>-0.084294</td>\n",
       "      <td>-0.106160</td>\n",
       "      <td>0.300531</td>\n",
       "      <td>0.001087</td>\n",
       "      <td>-0.042682</td>\n",
       "      <td>0.036215</td>\n",
       "      <td>-0.084072</td>\n",
       "    </tr>\n",
       "    <tr>\n",
       "      <th>ssc_p</th>\n",
       "      <td>0.068969</td>\n",
       "      <td>1.000000</td>\n",
       "      <td>-0.116194</td>\n",
       "      <td>0.511472</td>\n",
       "      <td>-0.066996</td>\n",
       "      <td>0.538404</td>\n",
       "      <td>-0.175675</td>\n",
       "      <td>0.261993</td>\n",
       "      <td>0.172536</td>\n",
       "      <td>0.388478</td>\n",
       "      <td>-0.101323</td>\n",
       "      <td>0.189847</td>\n",
       "      <td>-0.179581</td>\n",
       "      <td>0.221235</td>\n",
       "    </tr>\n",
       "    <tr>\n",
       "      <th>ssc_b</th>\n",
       "      <td>0.019429</td>\n",
       "      <td>-0.116194</td>\n",
       "      <td>1.000000</td>\n",
       "      <td>0.137013</td>\n",
       "      <td>0.605883</td>\n",
       "      <td>-0.038070</td>\n",
       "      <td>-0.040744</td>\n",
       "      <td>0.018991</td>\n",
       "      <td>-0.051565</td>\n",
       "      <td>-0.083120</td>\n",
       "      <td>0.056671</td>\n",
       "      <td>-0.058505</td>\n",
       "      <td>0.094939</td>\n",
       "      <td>-0.101060</td>\n",
       "    </tr>\n",
       "    <tr>\n",
       "      <th>hsc_p</th>\n",
       "      <td>0.021334</td>\n",
       "      <td>0.511472</td>\n",
       "      <td>0.137013</td>\n",
       "      <td>1.000000</td>\n",
       "      <td>0.019548</td>\n",
       "      <td>0.434206</td>\n",
       "      <td>-0.141025</td>\n",
       "      <td>0.245113</td>\n",
       "      <td>0.241630</td>\n",
       "      <td>0.354823</td>\n",
       "      <td>0.258093</td>\n",
       "      <td>-0.226675</td>\n",
       "      <td>0.112816</td>\n",
       "      <td>-0.053599</td>\n",
       "    </tr>\n",
       "    <tr>\n",
       "      <th>hsc_b</th>\n",
       "      <td>0.065945</td>\n",
       "      <td>-0.066996</td>\n",
       "      <td>0.605883</td>\n",
       "      <td>0.019548</td>\n",
       "      <td>1.000000</td>\n",
       "      <td>-0.067229</td>\n",
       "      <td>0.038357</td>\n",
       "      <td>-0.039108</td>\n",
       "      <td>0.002232</td>\n",
       "      <td>-0.090201</td>\n",
       "      <td>0.073522</td>\n",
       "      <td>-0.126446</td>\n",
       "      <td>0.027440</td>\n",
       "      <td>-0.086548</td>\n",
       "    </tr>\n",
       "    <tr>\n",
       "      <th>degree_p</th>\n",
       "      <td>0.173217</td>\n",
       "      <td>0.538404</td>\n",
       "      <td>-0.038070</td>\n",
       "      <td>0.434206</td>\n",
       "      <td>-0.067229</td>\n",
       "      <td>1.000000</td>\n",
       "      <td>-0.122648</td>\n",
       "      <td>0.224470</td>\n",
       "      <td>0.218286</td>\n",
       "      <td>0.402364</td>\n",
       "      <td>-0.022724</td>\n",
       "      <td>0.092006</td>\n",
       "      <td>-0.032755</td>\n",
       "      <td>0.123477</td>\n",
       "    </tr>\n",
       "    <tr>\n",
       "      <th>workex</th>\n",
       "      <td>0.085153</td>\n",
       "      <td>-0.175675</td>\n",
       "      <td>-0.040744</td>\n",
       "      <td>-0.141025</td>\n",
       "      <td>0.038357</td>\n",
       "      <td>-0.122648</td>\n",
       "      <td>1.000000</td>\n",
       "      <td>-0.056735</td>\n",
       "      <td>-0.191174</td>\n",
       "      <td>-0.168811</td>\n",
       "      <td>0.056719</td>\n",
       "      <td>-0.033270</td>\n",
       "      <td>0.102517</td>\n",
       "      <td>-0.102962</td>\n",
       "    </tr>\n",
       "    <tr>\n",
       "      <th>etest_p</th>\n",
       "      <td>-0.084294</td>\n",
       "      <td>0.261993</td>\n",
       "      <td>0.018991</td>\n",
       "      <td>0.245113</td>\n",
       "      <td>-0.039108</td>\n",
       "      <td>0.224470</td>\n",
       "      <td>-0.056735</td>\n",
       "      <td>1.000000</td>\n",
       "      <td>0.236315</td>\n",
       "      <td>0.218055</td>\n",
       "      <td>-0.021732</td>\n",
       "      <td>0.055352</td>\n",
       "      <td>-0.012531</td>\n",
       "      <td>0.009748</td>\n",
       "    </tr>\n",
       "    <tr>\n",
       "      <th>specialisation</th>\n",
       "      <td>-0.106160</td>\n",
       "      <td>0.172536</td>\n",
       "      <td>-0.051565</td>\n",
       "      <td>0.241630</td>\n",
       "      <td>0.002232</td>\n",
       "      <td>0.218286</td>\n",
       "      <td>-0.191174</td>\n",
       "      <td>0.236315</td>\n",
       "      <td>1.000000</td>\n",
       "      <td>0.105728</td>\n",
       "      <td>0.129985</td>\n",
       "      <td>-0.166639</td>\n",
       "      <td>0.101331</td>\n",
       "      <td>-0.061503</td>\n",
       "    </tr>\n",
       "    <tr>\n",
       "      <th>mba_p</th>\n",
       "      <td>0.300531</td>\n",
       "      <td>0.388478</td>\n",
       "      <td>-0.083120</td>\n",
       "      <td>0.354823</td>\n",
       "      <td>-0.090201</td>\n",
       "      <td>0.402364</td>\n",
       "      <td>-0.168811</td>\n",
       "      <td>0.218055</td>\n",
       "      <td>0.105728</td>\n",
       "      <td>1.000000</td>\n",
       "      <td>-0.049415</td>\n",
       "      <td>0.048050</td>\n",
       "      <td>-0.102088</td>\n",
       "      <td>0.125009</td>\n",
       "    </tr>\n",
       "    <tr>\n",
       "      <th>hsc_s_Commerce</th>\n",
       "      <td>0.001087</td>\n",
       "      <td>-0.101323</td>\n",
       "      <td>0.056671</td>\n",
       "      <td>0.258093</td>\n",
       "      <td>0.073522</td>\n",
       "      <td>-0.022724</td>\n",
       "      <td>0.056719</td>\n",
       "      <td>-0.021732</td>\n",
       "      <td>0.129985</td>\n",
       "      <td>-0.049415</td>\n",
       "      <td>1.000000</td>\n",
       "      <td>-0.901673</td>\n",
       "      <td>0.651804</td>\n",
       "      <td>-0.584673</td>\n",
       "    </tr>\n",
       "    <tr>\n",
       "      <th>hsc_s_Science</th>\n",
       "      <td>-0.042682</td>\n",
       "      <td>0.189847</td>\n",
       "      <td>-0.058505</td>\n",
       "      <td>-0.226675</td>\n",
       "      <td>-0.126446</td>\n",
       "      <td>0.092006</td>\n",
       "      <td>-0.033270</td>\n",
       "      <td>0.055352</td>\n",
       "      <td>-0.166639</td>\n",
       "      <td>0.048050</td>\n",
       "      <td>-0.901673</td>\n",
       "      <td>1.000000</td>\n",
       "      <td>-0.650346</td>\n",
       "      <td>0.654593</td>\n",
       "    </tr>\n",
       "    <tr>\n",
       "      <th>degree_t_Comm&amp;Mgmt</th>\n",
       "      <td>0.036215</td>\n",
       "      <td>-0.179581</td>\n",
       "      <td>0.094939</td>\n",
       "      <td>0.112816</td>\n",
       "      <td>0.027440</td>\n",
       "      <td>-0.032755</td>\n",
       "      <td>0.102517</td>\n",
       "      <td>-0.012531</td>\n",
       "      <td>0.101331</td>\n",
       "      <td>-0.102088</td>\n",
       "      <td>0.651804</td>\n",
       "      <td>-0.650346</td>\n",
       "      <td>1.000000</td>\n",
       "      <td>-0.885113</td>\n",
       "    </tr>\n",
       "    <tr>\n",
       "      <th>degree_t_Sci&amp;Tech</th>\n",
       "      <td>-0.084072</td>\n",
       "      <td>0.221235</td>\n",
       "      <td>-0.101060</td>\n",
       "      <td>-0.053599</td>\n",
       "      <td>-0.086548</td>\n",
       "      <td>0.123477</td>\n",
       "      <td>-0.102962</td>\n",
       "      <td>0.009748</td>\n",
       "      <td>-0.061503</td>\n",
       "      <td>0.125009</td>\n",
       "      <td>-0.584673</td>\n",
       "      <td>0.654593</td>\n",
       "      <td>-0.885113</td>\n",
       "      <td>1.000000</td>\n",
       "    </tr>\n",
       "  </tbody>\n",
       "</table>\n",
       "</div>"
      ],
      "text/plain": [
       "                      gender     ssc_p     ssc_b     hsc_p     hsc_b  \\\n",
       "gender              1.000000  0.068969  0.019429  0.021334  0.065945   \n",
       "ssc_p               0.068969  1.000000 -0.116194  0.511472 -0.066996   \n",
       "ssc_b               0.019429 -0.116194  1.000000  0.137013  0.605883   \n",
       "hsc_p               0.021334  0.511472  0.137013  1.000000  0.019548   \n",
       "hsc_b               0.065945 -0.066996  0.605883  0.019548  1.000000   \n",
       "degree_p            0.173217  0.538404 -0.038070  0.434206 -0.067229   \n",
       "workex              0.085153 -0.175675 -0.040744 -0.141025  0.038357   \n",
       "etest_p            -0.084294  0.261993  0.018991  0.245113 -0.039108   \n",
       "specialisation     -0.106160  0.172536 -0.051565  0.241630  0.002232   \n",
       "mba_p               0.300531  0.388478 -0.083120  0.354823 -0.090201   \n",
       "hsc_s_Commerce      0.001087 -0.101323  0.056671  0.258093  0.073522   \n",
       "hsc_s_Science      -0.042682  0.189847 -0.058505 -0.226675 -0.126446   \n",
       "degree_t_Comm&Mgmt  0.036215 -0.179581  0.094939  0.112816  0.027440   \n",
       "degree_t_Sci&Tech  -0.084072  0.221235 -0.101060 -0.053599 -0.086548   \n",
       "\n",
       "                    degree_p    workex   etest_p  specialisation     mba_p  \\\n",
       "gender              0.173217  0.085153 -0.084294       -0.106160  0.300531   \n",
       "ssc_p               0.538404 -0.175675  0.261993        0.172536  0.388478   \n",
       "ssc_b              -0.038070 -0.040744  0.018991       -0.051565 -0.083120   \n",
       "hsc_p               0.434206 -0.141025  0.245113        0.241630  0.354823   \n",
       "hsc_b              -0.067229  0.038357 -0.039108        0.002232 -0.090201   \n",
       "degree_p            1.000000 -0.122648  0.224470        0.218286  0.402364   \n",
       "workex             -0.122648  1.000000 -0.056735       -0.191174 -0.168811   \n",
       "etest_p             0.224470 -0.056735  1.000000        0.236315  0.218055   \n",
       "specialisation      0.218286 -0.191174  0.236315        1.000000  0.105728   \n",
       "mba_p               0.402364 -0.168811  0.218055        0.105728  1.000000   \n",
       "hsc_s_Commerce     -0.022724  0.056719 -0.021732        0.129985 -0.049415   \n",
       "hsc_s_Science       0.092006 -0.033270  0.055352       -0.166639  0.048050   \n",
       "degree_t_Comm&Mgmt -0.032755  0.102517 -0.012531        0.101331 -0.102088   \n",
       "degree_t_Sci&Tech   0.123477 -0.102962  0.009748       -0.061503  0.125009   \n",
       "\n",
       "                    hsc_s_Commerce  hsc_s_Science  degree_t_Comm&Mgmt  \\\n",
       "gender                    0.001087      -0.042682            0.036215   \n",
       "ssc_p                    -0.101323       0.189847           -0.179581   \n",
       "ssc_b                     0.056671      -0.058505            0.094939   \n",
       "hsc_p                     0.258093      -0.226675            0.112816   \n",
       "hsc_b                     0.073522      -0.126446            0.027440   \n",
       "degree_p                 -0.022724       0.092006           -0.032755   \n",
       "workex                    0.056719      -0.033270            0.102517   \n",
       "etest_p                  -0.021732       0.055352           -0.012531   \n",
       "specialisation            0.129985      -0.166639            0.101331   \n",
       "mba_p                    -0.049415       0.048050           -0.102088   \n",
       "hsc_s_Commerce            1.000000      -0.901673            0.651804   \n",
       "hsc_s_Science            -0.901673       1.000000           -0.650346   \n",
       "degree_t_Comm&Mgmt        0.651804      -0.650346            1.000000   \n",
       "degree_t_Sci&Tech        -0.584673       0.654593           -0.885113   \n",
       "\n",
       "                    degree_t_Sci&Tech  \n",
       "gender                      -0.084072  \n",
       "ssc_p                        0.221235  \n",
       "ssc_b                       -0.101060  \n",
       "hsc_p                       -0.053599  \n",
       "hsc_b                       -0.086548  \n",
       "degree_p                     0.123477  \n",
       "workex                      -0.102962  \n",
       "etest_p                      0.009748  \n",
       "specialisation              -0.061503  \n",
       "mba_p                        0.125009  \n",
       "hsc_s_Commerce              -0.584673  \n",
       "hsc_s_Science                0.654593  \n",
       "degree_t_Comm&Mgmt          -0.885113  \n",
       "degree_t_Sci&Tech            1.000000  "
      ]
     },
     "execution_count": 85,
     "metadata": {},
     "output_type": "execute_result"
    }
   ],
   "source": [
    "data_X.corr()"
   ]
  },
  {
   "cell_type": "code",
   "execution_count": 86,
   "metadata": {},
   "outputs": [
    {
     "data": {
      "text/html": [
       "<div>\n",
       "<style scoped>\n",
       "    .dataframe tbody tr th:only-of-type {\n",
       "        vertical-align: middle;\n",
       "    }\n",
       "\n",
       "    .dataframe tbody tr th {\n",
       "        vertical-align: top;\n",
       "    }\n",
       "\n",
       "    .dataframe thead th {\n",
       "        text-align: right;\n",
       "    }\n",
       "</style>\n",
       "<table border=\"1\" class=\"dataframe\">\n",
       "  <thead>\n",
       "    <tr style=\"text-align: right;\">\n",
       "      <th></th>\n",
       "      <th>VIF Factor</th>\n",
       "      <th>features</th>\n",
       "    </tr>\n",
       "  </thead>\n",
       "  <tbody>\n",
       "    <tr>\n",
       "      <th>0</th>\n",
       "      <td>1.8</td>\n",
       "      <td>gender</td>\n",
       "    </tr>\n",
       "    <tr>\n",
       "      <th>1</th>\n",
       "      <td>79.9</td>\n",
       "      <td>ssc_p</td>\n",
       "    </tr>\n",
       "    <tr>\n",
       "      <th>2</th>\n",
       "      <td>4.0</td>\n",
       "      <td>ssc_b</td>\n",
       "    </tr>\n",
       "    <tr>\n",
       "      <th>3</th>\n",
       "      <td>73.7</td>\n",
       "      <td>hsc_p</td>\n",
       "    </tr>\n",
       "    <tr>\n",
       "      <th>4</th>\n",
       "      <td>2.8</td>\n",
       "      <td>hsc_b</td>\n",
       "    </tr>\n",
       "    <tr>\n",
       "      <th>5</th>\n",
       "      <td>126.6</td>\n",
       "      <td>degree_p</td>\n",
       "    </tr>\n",
       "    <tr>\n",
       "      <th>6</th>\n",
       "      <td>3.1</td>\n",
       "      <td>workex</td>\n",
       "    </tr>\n",
       "    <tr>\n",
       "      <th>7</th>\n",
       "      <td>36.0</td>\n",
       "      <td>etest_p</td>\n",
       "    </tr>\n",
       "    <tr>\n",
       "      <th>8</th>\n",
       "      <td>2.8</td>\n",
       "      <td>specialisation</td>\n",
       "    </tr>\n",
       "    <tr>\n",
       "      <th>9</th>\n",
       "      <td>109.5</td>\n",
       "      <td>mba_p</td>\n",
       "    </tr>\n",
       "    <tr>\n",
       "      <th>10</th>\n",
       "      <td>13.5</td>\n",
       "      <td>hsc_s_Commerce</td>\n",
       "    </tr>\n",
       "    <tr>\n",
       "      <th>11</th>\n",
       "      <td>12.6</td>\n",
       "      <td>hsc_s_Science</td>\n",
       "    </tr>\n",
       "    <tr>\n",
       "      <th>12</th>\n",
       "      <td>17.4</td>\n",
       "      <td>degree_t_Comm&amp;Mgmt</td>\n",
       "    </tr>\n",
       "    <tr>\n",
       "      <th>13</th>\n",
       "      <td>7.8</td>\n",
       "      <td>degree_t_Sci&amp;Tech</td>\n",
       "    </tr>\n",
       "  </tbody>\n",
       "</table>\n",
       "</div>"
      ],
      "text/plain": [
       "    VIF Factor            features\n",
       "0          1.8              gender\n",
       "1         79.9               ssc_p\n",
       "2          4.0               ssc_b\n",
       "3         73.7               hsc_p\n",
       "4          2.8               hsc_b\n",
       "5        126.6            degree_p\n",
       "6          3.1              workex\n",
       "7         36.0             etest_p\n",
       "8          2.8      specialisation\n",
       "9        109.5               mba_p\n",
       "10        13.5      hsc_s_Commerce\n",
       "11        12.6       hsc_s_Science\n",
       "12        17.4  degree_t_Comm&Mgmt\n",
       "13         7.8   degree_t_Sci&Tech"
      ]
     },
     "execution_count": 86,
     "metadata": {},
     "output_type": "execute_result"
    }
   ],
   "source": [
    "# VIF를 통한 다중공선성 확인\n",
    "\n",
    "from statsmodels.stats.outliers_influence import variance_inflation_factor\n",
    "vif = pd.DataFrame()\n",
    "vif[\"VIF Factor\"] = [variance_inflation_factor(data_X.values, i) for i in range(data_X.shape[1])]\n",
    "vif[\"features\"] = data_X.columns\n",
    "vif.round(1)"
   ]
  },
  {
   "cell_type": "markdown",
   "metadata": {},
   "source": [
    "==========================================================================================="
   ]
  },
  {
   "cell_type": "markdown",
   "metadata": {},
   "source": [
    "모델 복잡도를 줄이고 과대적합을 피하는 다른 방법은 차원 축소임.    \n",
    "차원 축소기법에는 특성선택과 특성추출이 있는데, 여기서는 특성선택을 보겠다.    \n",
    "순차 후진 선택을 사용할 예정."
   ]
  },
  {
   "cell_type": "code",
   "execution_count": 87,
   "metadata": {},
   "outputs": [
    {
     "name": "stdout",
     "output_type": "stream",
     "text": [
      "연봉과 취직 여부 상관관계: -0.8657737109707832\n"
     ]
    }
   ],
   "source": [
    "re = data.corr(method = 'pearson')\n",
    "corr = lambda p : p['salary'].corr(p['status'])\n",
    "re = corr(data)\n",
    "print('연봉과 취직 여부 상관관계:',re)"
   ]
  },
  {
   "cell_type": "markdown",
   "metadata": {},
   "source": [
    "lambda는 lambda 인자 : 표현식으로 사용     \n",
    "함수를 한줄로만 표현 가능하게 해준다.\n",
    "예를들어    \n",
    "def hap(x,y):    \n",
    "    return x +y    \n",
    "이것을    \n",
    "(lambda x,y : x+y)(10,20)으로 표현가능     \n",
    "참고로 map()함수는 map(함수,리스트)    "
   ]
  },
  {
   "cell_type": "code",
   "execution_count": 88,
   "metadata": {
    "scrolled": true
   },
   "outputs": [
    {
     "data": {
      "text/plain": [
       "<matplotlib.collections.PathCollection at 0x238fb467d48>"
      ]
     },
     "execution_count": 88,
     "metadata": {},
     "output_type": "execute_result"
    },
    {
     "data": {
      "image/png": "[encoded data removed]",
      "text/plain": [
       "<Figure size 432x288 with 1 Axes>"
      ]
     },
     "metadata": {
      "needs_background": "light"
     },
     "output_type": "display_data"
    }
   ],
   "source": [
    "plt.scatter('salary', 'status', data=data)"
   ]
  },
  {
   "cell_type": "code",
   "execution_count": null,
   "metadata": {},
   "outputs": [],
   "source": []
  },
  {
   "cell_type": "markdown",
   "metadata": {},
   "source": [
    "다항회귀가능c    \n",
    "ols함수는 종속변수~독립변수 형태로 모형식을 사용.    \n",
    " 수학에서는 y=f(x)처럼 종속변수 왼쪽, 독립변수 오른쪽에 쓰는게 관습"
   ]
  },
  {
   "cell_type": "code",
   "execution_count": null,
   "metadata": {},
   "outputs": [],
   "source": []
  },
  {
   "cell_type": "code",
   "execution_count": null,
   "metadata": {},
   "outputs": [],
   "source": []
  },
  {
   "cell_type": "code",
   "execution_count": 89,
   "metadata": {},
   "outputs": [],
   "source": [
    "# 정규화\n",
    "from sklearn.preprocessing import StandardScaler\n",
    "stdsc = StandardScaler()\n",
    "data_X_std = stdsc.fit_transform(data_X)"
   ]
  },
  {
   "cell_type": "code",
   "execution_count": 90,
   "metadata": {},
   "outputs": [
    {
     "data": {
      "text/plain": [
       "array([[-0.73943397, -0.02808697, -1.08245885, ..., -0.85666269,\n",
       "        -1.43924583,  1.62605898],\n",
       "       [-0.73943397,  1.11336869,  0.92382264, ...,  1.16732059,\n",
       "        -1.43924583,  1.62605898],\n",
       "       [-0.73943397, -0.21323793,  0.92382264, ..., -0.85666269,\n",
       "         0.69480833, -0.61498384],\n",
       "       ...,\n",
       "       [-0.73943397, -0.02808697, -1.08245885, ..., -0.85666269,\n",
       "         0.69480833, -0.61498384],\n",
       "       [ 1.35238581,  0.61994138, -1.08245885, ..., -0.85666269,\n",
       "         0.69480833, -0.61498384],\n",
       "       [-0.73943397, -0.49096436,  0.92382264, ...,  1.16732059,\n",
       "         0.69480833, -0.61498384]])"
      ]
     },
     "execution_count": 90,
     "metadata": {},
     "output_type": "execute_result"
    }
   ],
   "source": [
    "data_X_std"
   ]
  },
  {
   "cell_type": "code",
   "execution_count": 91,
   "metadata": {},
   "outputs": [],
   "source": [
    "real_data = pd.DataFrame(data_X_std)"
   ]
  },
  {
   "cell_type": "code",
   "execution_count": 92,
   "metadata": {},
   "outputs": [
    {
     "data": {
      "text/html": [
       "<div>\n",
       "<style scoped>\n",
       "    .dataframe tbody tr th:only-of-type {\n",
       "        vertical-align: middle;\n",
       "    }\n",
       "\n",
       "    .dataframe tbody tr th {\n",
       "        vertical-align: top;\n",
       "    }\n",
       "\n",
       "    .dataframe thead th {\n",
       "        text-align: right;\n",
       "    }\n",
       "</style>\n",
       "<table border=\"1\" class=\"dataframe\">\n",
       "  <thead>\n",
       "    <tr style=\"text-align: right;\">\n",
       "      <th></th>\n",
       "      <th>0</th>\n",
       "      <th>1</th>\n",
       "      <th>2</th>\n",
       "      <th>3</th>\n",
       "      <th>4</th>\n",
       "      <th>5</th>\n",
       "      <th>6</th>\n",
       "      <th>7</th>\n",
       "      <th>8</th>\n",
       "      <th>9</th>\n",
       "      <th>10</th>\n",
       "      <th>11</th>\n",
       "      <th>12</th>\n",
       "      <th>13</th>\n",
       "    </tr>\n",
       "  </thead>\n",
       "  <tbody>\n",
       "    <tr>\n",
       "      <th>0</th>\n",
       "      <td>-0.739</td>\n",
       "      <td>-0.028</td>\n",
       "      <td>-1.082</td>\n",
       "      <td>2.269</td>\n",
       "      <td>-0.801</td>\n",
       "      <td>-1.140</td>\n",
       "      <td>0.724</td>\n",
       "      <td>-1.291</td>\n",
       "      <td>-1.124</td>\n",
       "      <td>-0.598</td>\n",
       "      <td>0.950</td>\n",
       "      <td>-0.857</td>\n",
       "      <td>-1.439</td>\n",
       "      <td>1.626</td>\n",
       "    </tr>\n",
       "    <tr>\n",
       "      <th>1</th>\n",
       "      <td>-0.739</td>\n",
       "      <td>1.113</td>\n",
       "      <td>0.924</td>\n",
       "      <td>1.103</td>\n",
       "      <td>-0.801</td>\n",
       "      <td>1.513</td>\n",
       "      <td>-1.380</td>\n",
       "      <td>1.087</td>\n",
       "      <td>0.890</td>\n",
       "      <td>0.688</td>\n",
       "      <td>-1.053</td>\n",
       "      <td>1.167</td>\n",
       "      <td>-1.439</td>\n",
       "      <td>1.626</td>\n",
       "    </tr>\n",
       "    <tr>\n",
       "      <th>2</th>\n",
       "      <td>-0.739</td>\n",
       "      <td>-0.213</td>\n",
       "      <td>0.924</td>\n",
       "      <td>0.153</td>\n",
       "      <td>1.249</td>\n",
       "      <td>-0.323</td>\n",
       "      <td>0.724</td>\n",
       "      <td>0.219</td>\n",
       "      <td>0.890</td>\n",
       "      <td>-0.769</td>\n",
       "      <td>-1.053</td>\n",
       "      <td>-0.857</td>\n",
       "      <td>0.695</td>\n",
       "      <td>-0.615</td>\n",
       "    </tr>\n",
       "    <tr>\n",
       "      <th>3</th>\n",
       "      <td>-0.739</td>\n",
       "      <td>-1.046</td>\n",
       "      <td>0.924</td>\n",
       "      <td>-1.318</td>\n",
       "      <td>1.249</td>\n",
       "      <td>-1.957</td>\n",
       "      <td>0.724</td>\n",
       "      <td>-0.461</td>\n",
       "      <td>-1.124</td>\n",
       "      <td>-0.489</td>\n",
       "      <td>-1.053</td>\n",
       "      <td>1.167</td>\n",
       "      <td>-1.439</td>\n",
       "      <td>1.626</td>\n",
       "    </tr>\n",
       "    <tr>\n",
       "      <th>4</th>\n",
       "      <td>-0.739</td>\n",
       "      <td>1.712</td>\n",
       "      <td>0.924</td>\n",
       "      <td>0.668</td>\n",
       "      <td>1.249</td>\n",
       "      <td>0.944</td>\n",
       "      <td>0.724</td>\n",
       "      <td>1.865</td>\n",
       "      <td>0.890</td>\n",
       "      <td>-1.165</td>\n",
       "      <td>0.950</td>\n",
       "      <td>-0.857</td>\n",
       "      <td>0.695</td>\n",
       "      <td>-0.615</td>\n",
       "    </tr>\n",
       "  </tbody>\n",
       "</table>\n",
       "</div>"
      ],
      "text/plain": [
       "      0      1      2      3      4      5      6      7      8      9   \\\n",
       "0 -0.739 -0.028 -1.082  2.269 -0.801 -1.140  0.724 -1.291 -1.124 -0.598   \n",
       "1 -0.739  1.113  0.924  1.103 -0.801  1.513 -1.380  1.087  0.890  0.688   \n",
       "2 -0.739 -0.213  0.924  0.153  1.249 -0.323  0.724  0.219  0.890 -0.769   \n",
       "3 -0.739 -1.046  0.924 -1.318  1.249 -1.957  0.724 -0.461 -1.124 -0.489   \n",
       "4 -0.739  1.712  0.924  0.668  1.249  0.944  0.724  1.865  0.890 -1.165   \n",
       "\n",
       "      10     11     12     13  \n",
       "0  0.950 -0.857 -1.439  1.626  \n",
       "1 -1.053  1.167 -1.439  1.626  \n",
       "2 -1.053 -0.857  0.695 -0.615  \n",
       "3 -1.053  1.167 -1.439  1.626  \n",
       "4  0.950 -0.857  0.695 -0.615  "
      ]
     },
     "execution_count": 92,
     "metadata": {},
     "output_type": "execute_result"
    }
   ],
   "source": [
    "round(real_data.head(),3)"
   ]
  },
  {
   "cell_type": "code",
   "execution_count": 93,
   "metadata": {},
   "outputs": [
    {
     "data": {
      "text/html": [
       "<div>\n",
       "<style scoped>\n",
       "    .dataframe tbody tr th:only-of-type {\n",
       "        vertical-align: middle;\n",
       "    }\n",
       "\n",
       "    .dataframe tbody tr th {\n",
       "        vertical-align: top;\n",
       "    }\n",
       "\n",
       "    .dataframe thead th {\n",
       "        text-align: right;\n",
       "    }\n",
       "</style>\n",
       "<table border=\"1\" class=\"dataframe\">\n",
       "  <thead>\n",
       "    <tr style=\"text-align: right;\">\n",
       "      <th></th>\n",
       "      <th>gender</th>\n",
       "      <th>ssc_p</th>\n",
       "      <th>ssc_b</th>\n",
       "      <th>hsc_p</th>\n",
       "      <th>hsc_b</th>\n",
       "      <th>degree_p</th>\n",
       "      <th>workex</th>\n",
       "      <th>etest_p</th>\n",
       "      <th>specialisation</th>\n",
       "      <th>mba_p</th>\n",
       "      <th>hsc_s_Commerce</th>\n",
       "      <th>hsc_s_Science</th>\n",
       "      <th>degree_t_Comm&amp;Mgmt</th>\n",
       "      <th>degree_t_Sci&amp;Tech</th>\n",
       "    </tr>\n",
       "  </thead>\n",
       "  <tbody>\n",
       "    <tr>\n",
       "      <th>0</th>\n",
       "      <td>-0.739</td>\n",
       "      <td>-0.028</td>\n",
       "      <td>-1.082</td>\n",
       "      <td>2.269</td>\n",
       "      <td>-0.801</td>\n",
       "      <td>-1.140</td>\n",
       "      <td>0.724</td>\n",
       "      <td>-1.291</td>\n",
       "      <td>-1.124</td>\n",
       "      <td>-0.598</td>\n",
       "      <td>0.950</td>\n",
       "      <td>-0.857</td>\n",
       "      <td>-1.439</td>\n",
       "      <td>1.626</td>\n",
       "    </tr>\n",
       "    <tr>\n",
       "      <th>1</th>\n",
       "      <td>-0.739</td>\n",
       "      <td>1.113</td>\n",
       "      <td>0.924</td>\n",
       "      <td>1.103</td>\n",
       "      <td>-0.801</td>\n",
       "      <td>1.513</td>\n",
       "      <td>-1.380</td>\n",
       "      <td>1.087</td>\n",
       "      <td>0.890</td>\n",
       "      <td>0.688</td>\n",
       "      <td>-1.053</td>\n",
       "      <td>1.167</td>\n",
       "      <td>-1.439</td>\n",
       "      <td>1.626</td>\n",
       "    </tr>\n",
       "    <tr>\n",
       "      <th>2</th>\n",
       "      <td>-0.739</td>\n",
       "      <td>-0.213</td>\n",
       "      <td>0.924</td>\n",
       "      <td>0.153</td>\n",
       "      <td>1.249</td>\n",
       "      <td>-0.323</td>\n",
       "      <td>0.724</td>\n",
       "      <td>0.219</td>\n",
       "      <td>0.890</td>\n",
       "      <td>-0.769</td>\n",
       "      <td>-1.053</td>\n",
       "      <td>-0.857</td>\n",
       "      <td>0.695</td>\n",
       "      <td>-0.615</td>\n",
       "    </tr>\n",
       "    <tr>\n",
       "      <th>3</th>\n",
       "      <td>-0.739</td>\n",
       "      <td>-1.046</td>\n",
       "      <td>0.924</td>\n",
       "      <td>-1.318</td>\n",
       "      <td>1.249</td>\n",
       "      <td>-1.957</td>\n",
       "      <td>0.724</td>\n",
       "      <td>-0.461</td>\n",
       "      <td>-1.124</td>\n",
       "      <td>-0.489</td>\n",
       "      <td>-1.053</td>\n",
       "      <td>1.167</td>\n",
       "      <td>-1.439</td>\n",
       "      <td>1.626</td>\n",
       "    </tr>\n",
       "    <tr>\n",
       "      <th>4</th>\n",
       "      <td>-0.739</td>\n",
       "      <td>1.712</td>\n",
       "      <td>0.924</td>\n",
       "      <td>0.668</td>\n",
       "      <td>1.249</td>\n",
       "      <td>0.944</td>\n",
       "      <td>0.724</td>\n",
       "      <td>1.865</td>\n",
       "      <td>0.890</td>\n",
       "      <td>-1.165</td>\n",
       "      <td>0.950</td>\n",
       "      <td>-0.857</td>\n",
       "      <td>0.695</td>\n",
       "      <td>-0.615</td>\n",
       "    </tr>\n",
       "  </tbody>\n",
       "</table>\n",
       "</div>"
      ],
      "text/plain": [
       "   gender  ssc_p  ssc_b  hsc_p  hsc_b  degree_p  workex  etest_p  \\\n",
       "0  -0.739 -0.028 -1.082  2.269 -0.801    -1.140   0.724   -1.291   \n",
       "1  -0.739  1.113  0.924  1.103 -0.801     1.513  -1.380    1.087   \n",
       "2  -0.739 -0.213  0.924  0.153  1.249    -0.323   0.724    0.219   \n",
       "3  -0.739 -1.046  0.924 -1.318  1.249    -1.957   0.724   -0.461   \n",
       "4  -0.739  1.712  0.924  0.668  1.249     0.944   0.724    1.865   \n",
       "\n",
       "   specialisation  mba_p  hsc_s_Commerce  hsc_s_Science  degree_t_Comm&Mgmt  \\\n",
       "0          -1.124 -0.598           0.950         -0.857              -1.439   \n",
       "1           0.890  0.688          -1.053          1.167              -1.439   \n",
       "2           0.890 -0.769          -1.053         -0.857               0.695   \n",
       "3          -1.124 -0.489          -1.053          1.167              -1.439   \n",
       "4           0.890 -1.165           0.950         -0.857               0.695   \n",
       "\n",
       "   degree_t_Sci&Tech  \n",
       "0              1.626  \n",
       "1              1.626  \n",
       "2             -0.615  \n",
       "3              1.626  \n",
       "4             -0.615  "
      ]
     },
     "execution_count": 93,
     "metadata": {},
     "output_type": "execute_result"
    }
   ],
   "source": [
    "a = data_X.columns\n",
    "real_data.columns = a\n",
    "round(real_data.head(),3)"
   ]
  },
  {
   "cell_type": "code",
   "execution_count": 94,
   "metadata": {
    "scrolled": false
   },
   "outputs": [
    {
     "name": "stdout",
     "output_type": "stream",
     "text": [
      "<class 'pandas.core.frame.DataFrame'>\n",
      "RangeIndex: 215 entries, 0 to 214\n",
      "Data columns (total 14 columns):\n",
      " #   Column              Non-Null Count  Dtype  \n",
      "---  ------              --------------  -----  \n",
      " 0   gender              215 non-null    float64\n",
      " 1   ssc_p               215 non-null    float64\n",
      " 2   ssc_b               215 non-null    float64\n",
      " 3   hsc_p               215 non-null    float64\n",
      " 4   hsc_b               215 non-null    float64\n",
      " 5   degree_p            215 non-null    float64\n",
      " 6   workex              215 non-null    float64\n",
      " 7   etest_p             215 non-null    float64\n",
      " 8   specialisation      215 non-null    float64\n",
      " 9   mba_p               215 non-null    float64\n",
      " 10  hsc_s_Commerce      215 non-null    float64\n",
      " 11  hsc_s_Science       215 non-null    float64\n",
      " 12  degree_t_Comm&Mgmt  215 non-null    float64\n",
      " 13  degree_t_Sci&Tech   215 non-null    float64\n",
      "dtypes: float64(14)\n",
      "memory usage: 23.6 KB\n"
     ]
    }
   ],
   "source": [
    "real_data.info()"
   ]
  },
  {
   "cell_type": "code",
   "execution_count": 95,
   "metadata": {},
   "outputs": [
    {
     "name": "stdout",
     "output_type": "stream",
     "text": [
      "중복되는 데이터는  0 개 이다.\n"
     ]
    }
   ],
   "source": [
    "print(\"중복되는 데이터는 \",real_data.duplicated().sum(),\"개 이다.\")"
   ]
  },
  {
   "cell_type": "code",
   "execution_count": 96,
   "metadata": {
    "scrolled": true
   },
   "outputs": [
    {
     "data": {
      "image/png": "[encoded data removed]",
      "text/plain": [
       "<Figure size 432x288 with 1 Axes>"
      ]
     },
     "metadata": {
      "needs_background": "light"
     },
     "output_type": "display_data"
    }
   ],
   "source": [
    "real_data.boxplot()\n",
    "plt.xticks(rotation=50)\n",
    "plt.show()"
   ]
  },
  {
   "cell_type": "code",
   "execution_count": 97,
   "metadata": {
    "scrolled": true
   },
   "outputs": [
    {
     "data": {
      "text/html": [
       "<div>\n",
       "<style scoped>\n",
       "    .dataframe tbody tr th:only-of-type {\n",
       "        vertical-align: middle;\n",
       "    }\n",
       "\n",
       "    .dataframe tbody tr th {\n",
       "        vertical-align: top;\n",
       "    }\n",
       "\n",
       "    .dataframe thead th {\n",
       "        text-align: right;\n",
       "    }\n",
       "</style>\n",
       "<table border=\"1\" class=\"dataframe\">\n",
       "  <thead>\n",
       "    <tr style=\"text-align: right;\">\n",
       "      <th></th>\n",
       "      <th>gender</th>\n",
       "      <th>ssc_p</th>\n",
       "      <th>ssc_b</th>\n",
       "      <th>hsc_p</th>\n",
       "      <th>hsc_b</th>\n",
       "      <th>degree_p</th>\n",
       "      <th>workex</th>\n",
       "      <th>etest_p</th>\n",
       "      <th>specialisation</th>\n",
       "      <th>mba_p</th>\n",
       "      <th>hsc_s_Commerce</th>\n",
       "      <th>hsc_s_Science</th>\n",
       "      <th>degree_t_Comm&amp;Mgmt</th>\n",
       "      <th>degree_t_Sci&amp;Tech</th>\n",
       "    </tr>\n",
       "  </thead>\n",
       "  <tbody>\n",
       "    <tr>\n",
       "      <th>0</th>\n",
       "      <td>-0.739434</td>\n",
       "      <td>-0.028087</td>\n",
       "      <td>-1.082459</td>\n",
       "      <td>2.268812</td>\n",
       "      <td>-0.800763</td>\n",
       "      <td>-1.140102</td>\n",
       "      <td>0.724446</td>\n",
       "      <td>-1.291091</td>\n",
       "      <td>-1.123903</td>\n",
       "      <td>-0.597647</td>\n",
       "      <td>0.950082</td>\n",
       "      <td>-0.856663</td>\n",
       "      <td>-1.439246</td>\n",
       "      <td>1.626059</td>\n",
       "    </tr>\n",
       "    <tr>\n",
       "      <th>1</th>\n",
       "      <td>-0.739434</td>\n",
       "      <td>1.113369</td>\n",
       "      <td>0.923823</td>\n",
       "      <td>1.103448</td>\n",
       "      <td>-0.800763</td>\n",
       "      <td>1.513267</td>\n",
       "      <td>-1.380364</td>\n",
       "      <td>1.087157</td>\n",
       "      <td>0.889757</td>\n",
       "      <td>0.687620</td>\n",
       "      <td>-1.052541</td>\n",
       "      <td>1.167321</td>\n",
       "      <td>-1.439246</td>\n",
       "      <td>1.626059</td>\n",
       "    </tr>\n",
       "    <tr>\n",
       "      <th>2</th>\n",
       "      <td>-0.739434</td>\n",
       "      <td>-0.213238</td>\n",
       "      <td>0.923823</td>\n",
       "      <td>0.153313</td>\n",
       "      <td>1.248809</td>\n",
       "      <td>-0.322843</td>\n",
       "      <td>0.724446</td>\n",
       "      <td>0.218908</td>\n",
       "      <td>0.889757</td>\n",
       "      <td>-0.769474</td>\n",
       "      <td>-1.052541</td>\n",
       "      <td>-0.856663</td>\n",
       "      <td>0.694808</td>\n",
       "      <td>-0.614984</td>\n",
       "    </tr>\n",
       "    <tr>\n",
       "      <th>3</th>\n",
       "      <td>-0.739434</td>\n",
       "      <td>-1.046417</td>\n",
       "      <td>0.923823</td>\n",
       "      <td>-1.318339</td>\n",
       "      <td>1.248809</td>\n",
       "      <td>-1.957362</td>\n",
       "      <td>0.724446</td>\n",
       "      <td>-0.460592</td>\n",
       "      <td>-1.123903</td>\n",
       "      <td>-0.489396</td>\n",
       "      <td>-1.052541</td>\n",
       "      <td>1.167321</td>\n",
       "      <td>-1.439246</td>\n",
       "      <td>1.626059</td>\n",
       "    </tr>\n",
       "    <tr>\n",
       "      <th>4</th>\n",
       "      <td>-0.739434</td>\n",
       "      <td>1.712332</td>\n",
       "      <td>0.923823</td>\n",
       "      <td>0.668391</td>\n",
       "      <td>1.248809</td>\n",
       "      <td>0.943909</td>\n",
       "      <td>0.724446</td>\n",
       "      <td>1.864806</td>\n",
       "      <td>0.889757</td>\n",
       "      <td>-1.164676</td>\n",
       "      <td>0.950082</td>\n",
       "      <td>-0.856663</td>\n",
       "      <td>0.694808</td>\n",
       "      <td>-0.614984</td>\n",
       "    </tr>\n",
       "  </tbody>\n",
       "</table>\n",
       "</div>"
      ],
      "text/plain": [
       "     gender     ssc_p     ssc_b     hsc_p     hsc_b  degree_p    workex  \\\n",
       "0 -0.739434 -0.028087 -1.082459  2.268812 -0.800763 -1.140102  0.724446   \n",
       "1 -0.739434  1.113369  0.923823  1.103448 -0.800763  1.513267 -1.380364   \n",
       "2 -0.739434 -0.213238  0.923823  0.153313  1.248809 -0.322843  0.724446   \n",
       "3 -0.739434 -1.046417  0.923823 -1.318339  1.248809 -1.957362  0.724446   \n",
       "4 -0.739434  1.712332  0.923823  0.668391  1.248809  0.943909  0.724446   \n",
       "\n",
       "    etest_p  specialisation     mba_p  hsc_s_Commerce  hsc_s_Science  \\\n",
       "0 -1.291091       -1.123903 -0.597647        0.950082      -0.856663   \n",
       "1  1.087157        0.889757  0.687620       -1.052541       1.167321   \n",
       "2  0.218908        0.889757 -0.769474       -1.052541      -0.856663   \n",
       "3 -0.460592       -1.123903 -0.489396       -1.052541       1.167321   \n",
       "4  1.864806        0.889757 -1.164676        0.950082      -0.856663   \n",
       "\n",
       "   degree_t_Comm&Mgmt  degree_t_Sci&Tech  \n",
       "0           -1.439246           1.626059  \n",
       "1           -1.439246           1.626059  \n",
       "2            0.694808          -0.614984  \n",
       "3           -1.439246           1.626059  \n",
       "4            0.694808          -0.614984  "
      ]
     },
     "execution_count": 97,
     "metadata": {},
     "output_type": "execute_result"
    }
   ],
   "source": [
    "real_data.head()"
   ]
  },
  {
   "cell_type": "code",
   "execution_count": 98,
   "metadata": {
    "scrolled": false
   },
   "outputs": [
    {
     "data": {
      "text/html": [
       "<div>\n",
       "<style scoped>\n",
       "    .dataframe tbody tr th:only-of-type {\n",
       "        vertical-align: middle;\n",
       "    }\n",
       "\n",
       "    .dataframe tbody tr th {\n",
       "        vertical-align: top;\n",
       "    }\n",
       "\n",
       "    .dataframe thead th {\n",
       "        text-align: right;\n",
       "    }\n",
       "</style>\n",
       "<table border=\"1\" class=\"dataframe\">\n",
       "  <thead>\n",
       "    <tr style=\"text-align: right;\">\n",
       "      <th></th>\n",
       "      <th>gender</th>\n",
       "      <th>ssc_p</th>\n",
       "      <th>ssc_b</th>\n",
       "      <th>hsc_p</th>\n",
       "      <th>hsc_b</th>\n",
       "      <th>degree_p</th>\n",
       "      <th>workex</th>\n",
       "      <th>etest_p</th>\n",
       "      <th>specialisation</th>\n",
       "      <th>mba_p</th>\n",
       "      <th>hsc_s_Commerce</th>\n",
       "      <th>hsc_s_Science</th>\n",
       "      <th>degree_t_Comm&amp;Mgmt</th>\n",
       "      <th>degree_t_Sci&amp;Tech</th>\n",
       "    </tr>\n",
       "  </thead>\n",
       "  <tbody>\n",
       "    <tr>\n",
       "      <th>count</th>\n",
       "      <td>215.0</td>\n",
       "      <td>215.0</td>\n",
       "      <td>215.0</td>\n",
       "      <td>215.0</td>\n",
       "      <td>215.0</td>\n",
       "      <td>215.0</td>\n",
       "      <td>215.0</td>\n",
       "      <td>215.0</td>\n",
       "      <td>215.0</td>\n",
       "      <td>215.0</td>\n",
       "      <td>215.0</td>\n",
       "      <td>215.0</td>\n",
       "      <td>215.0</td>\n",
       "      <td>215.0</td>\n",
       "    </tr>\n",
       "    <tr>\n",
       "      <th>mean</th>\n",
       "      <td>0.0</td>\n",
       "      <td>-0.0</td>\n",
       "      <td>-0.0</td>\n",
       "      <td>-0.0</td>\n",
       "      <td>0.0</td>\n",
       "      <td>-0.0</td>\n",
       "      <td>-0.0</td>\n",
       "      <td>0.0</td>\n",
       "      <td>0.0</td>\n",
       "      <td>-0.0</td>\n",
       "      <td>0.0</td>\n",
       "      <td>0.0</td>\n",
       "      <td>-0.0</td>\n",
       "      <td>-0.0</td>\n",
       "    </tr>\n",
       "    <tr>\n",
       "      <th>std</th>\n",
       "      <td>1.0</td>\n",
       "      <td>1.0</td>\n",
       "      <td>1.0</td>\n",
       "      <td>1.0</td>\n",
       "      <td>1.0</td>\n",
       "      <td>1.0</td>\n",
       "      <td>1.0</td>\n",
       "      <td>1.0</td>\n",
       "      <td>1.0</td>\n",
       "      <td>1.0</td>\n",
       "      <td>1.0</td>\n",
       "      <td>1.0</td>\n",
       "      <td>1.0</td>\n",
       "      <td>1.0</td>\n",
       "    </tr>\n",
       "    <tr>\n",
       "      <th>min</th>\n",
       "      <td>-1.0</td>\n",
       "      <td>-2.0</td>\n",
       "      <td>-1.0</td>\n",
       "      <td>-3.0</td>\n",
       "      <td>-1.0</td>\n",
       "      <td>-2.0</td>\n",
       "      <td>-1.0</td>\n",
       "      <td>-2.0</td>\n",
       "      <td>-1.0</td>\n",
       "      <td>-2.0</td>\n",
       "      <td>-1.0</td>\n",
       "      <td>-1.0</td>\n",
       "      <td>-1.0</td>\n",
       "      <td>-1.0</td>\n",
       "    </tr>\n",
       "    <tr>\n",
       "      <th>25%</th>\n",
       "      <td>-1.0</td>\n",
       "      <td>-1.0</td>\n",
       "      <td>-1.0</td>\n",
       "      <td>-0.0</td>\n",
       "      <td>-1.0</td>\n",
       "      <td>-1.0</td>\n",
       "      <td>-1.0</td>\n",
       "      <td>-1.0</td>\n",
       "      <td>-1.0</td>\n",
       "      <td>-1.0</td>\n",
       "      <td>-1.0</td>\n",
       "      <td>-1.0</td>\n",
       "      <td>-1.0</td>\n",
       "      <td>-1.0</td>\n",
       "    </tr>\n",
       "    <tr>\n",
       "      <th>50%</th>\n",
       "      <td>-1.0</td>\n",
       "      <td>-0.0</td>\n",
       "      <td>1.0</td>\n",
       "      <td>-0.0</td>\n",
       "      <td>-1.0</td>\n",
       "      <td>-0.0</td>\n",
       "      <td>1.0</td>\n",
       "      <td>-0.0</td>\n",
       "      <td>1.0</td>\n",
       "      <td>-0.0</td>\n",
       "      <td>1.0</td>\n",
       "      <td>-1.0</td>\n",
       "      <td>1.0</td>\n",
       "      <td>-1.0</td>\n",
       "    </tr>\n",
       "    <tr>\n",
       "      <th>75%</th>\n",
       "      <td>1.0</td>\n",
       "      <td>1.0</td>\n",
       "      <td>1.0</td>\n",
       "      <td>1.0</td>\n",
       "      <td>1.0</td>\n",
       "      <td>1.0</td>\n",
       "      <td>1.0</td>\n",
       "      <td>1.0</td>\n",
       "      <td>1.0</td>\n",
       "      <td>1.0</td>\n",
       "      <td>1.0</td>\n",
       "      <td>1.0</td>\n",
       "      <td>1.0</td>\n",
       "      <td>2.0</td>\n",
       "    </tr>\n",
       "    <tr>\n",
       "      <th>max</th>\n",
       "      <td>1.0</td>\n",
       "      <td>2.0</td>\n",
       "      <td>1.0</td>\n",
       "      <td>3.0</td>\n",
       "      <td>1.0</td>\n",
       "      <td>3.0</td>\n",
       "      <td>1.0</td>\n",
       "      <td>2.0</td>\n",
       "      <td>1.0</td>\n",
       "      <td>3.0</td>\n",
       "      <td>1.0</td>\n",
       "      <td>1.0</td>\n",
       "      <td>1.0</td>\n",
       "      <td>2.0</td>\n",
       "    </tr>\n",
       "  </tbody>\n",
       "</table>\n",
       "</div>"
      ],
      "text/plain": [
       "       gender  ssc_p  ssc_b  hsc_p  hsc_b  degree_p  workex  etest_p  \\\n",
       "count   215.0  215.0  215.0  215.0  215.0     215.0   215.0    215.0   \n",
       "mean      0.0   -0.0   -0.0   -0.0    0.0      -0.0    -0.0      0.0   \n",
       "std       1.0    1.0    1.0    1.0    1.0       1.0     1.0      1.0   \n",
       "min      -1.0   -2.0   -1.0   -3.0   -1.0      -2.0    -1.0     -2.0   \n",
       "25%      -1.0   -1.0   -1.0   -0.0   -1.0      -1.0    -1.0     -1.0   \n",
       "50%      -1.0   -0.0    1.0   -0.0   -1.0      -0.0     1.0     -0.0   \n",
       "75%       1.0    1.0    1.0    1.0    1.0       1.0     1.0      1.0   \n",
       "max       1.0    2.0    1.0    3.0    1.0       3.0     1.0      2.0   \n",
       "\n",
       "       specialisation  mba_p  hsc_s_Commerce  hsc_s_Science  \\\n",
       "count           215.0  215.0           215.0          215.0   \n",
       "mean              0.0   -0.0             0.0            0.0   \n",
       "std               1.0    1.0             1.0            1.0   \n",
       "min              -1.0   -2.0            -1.0           -1.0   \n",
       "25%              -1.0   -1.0            -1.0           -1.0   \n",
       "50%               1.0   -0.0             1.0           -1.0   \n",
       "75%               1.0    1.0             1.0            1.0   \n",
       "max               1.0    3.0             1.0            1.0   \n",
       "\n",
       "       degree_t_Comm&Mgmt  degree_t_Sci&Tech  \n",
       "count               215.0              215.0  \n",
       "mean                 -0.0               -0.0  \n",
       "std                   1.0                1.0  \n",
       "min                  -1.0               -1.0  \n",
       "25%                  -1.0               -1.0  \n",
       "50%                   1.0               -1.0  \n",
       "75%                   1.0                2.0  \n",
       "max                   1.0                2.0  "
      ]
     },
     "execution_count": 98,
     "metadata": {},
     "output_type": "execute_result"
    }
   ],
   "source": [
    "round(real_data.describe())"
   ]
  },
  {
   "cell_type": "code",
   "execution_count": 99,
   "metadata": {},
   "outputs": [
    {
     "data": {
      "text/html": [
       "<div>\n",
       "<style scoped>\n",
       "    .dataframe tbody tr th:only-of-type {\n",
       "        vertical-align: middle;\n",
       "    }\n",
       "\n",
       "    .dataframe tbody tr th {\n",
       "        vertical-align: top;\n",
       "    }\n",
       "\n",
       "    .dataframe thead th {\n",
       "        text-align: right;\n",
       "    }\n",
       "</style>\n",
       "<table border=\"1\" class=\"dataframe\">\n",
       "  <thead>\n",
       "    <tr style=\"text-align: right;\">\n",
       "      <th></th>\n",
       "      <th>gender</th>\n",
       "      <th>ssc_p</th>\n",
       "      <th>ssc_b</th>\n",
       "      <th>hsc_p</th>\n",
       "      <th>hsc_b</th>\n",
       "      <th>degree_p</th>\n",
       "      <th>workex</th>\n",
       "      <th>etest_p</th>\n",
       "      <th>specialisation</th>\n",
       "      <th>mba_p</th>\n",
       "      <th>hsc_s_Commerce</th>\n",
       "      <th>hsc_s_Science</th>\n",
       "      <th>degree_t_Comm&amp;Mgmt</th>\n",
       "      <th>degree_t_Sci&amp;Tech</th>\n",
       "    </tr>\n",
       "  </thead>\n",
       "  <tbody>\n",
       "    <tr>\n",
       "      <th>gender</th>\n",
       "      <td>1.000000</td>\n",
       "      <td>0.068969</td>\n",
       "      <td>0.019429</td>\n",
       "      <td>0.021334</td>\n",
       "      <td>0.065945</td>\n",
       "      <td>0.173217</td>\n",
       "      <td>0.085153</td>\n",
       "      <td>-0.084294</td>\n",
       "      <td>-0.106160</td>\n",
       "      <td>0.300531</td>\n",
       "      <td>0.001087</td>\n",
       "      <td>-0.042682</td>\n",
       "      <td>0.036215</td>\n",
       "      <td>-0.084072</td>\n",
       "    </tr>\n",
       "    <tr>\n",
       "      <th>ssc_p</th>\n",
       "      <td>0.068969</td>\n",
       "      <td>1.000000</td>\n",
       "      <td>-0.116194</td>\n",
       "      <td>0.511472</td>\n",
       "      <td>-0.066996</td>\n",
       "      <td>0.538404</td>\n",
       "      <td>-0.175675</td>\n",
       "      <td>0.261993</td>\n",
       "      <td>0.172536</td>\n",
       "      <td>0.388478</td>\n",
       "      <td>-0.101323</td>\n",
       "      <td>0.189847</td>\n",
       "      <td>-0.179581</td>\n",
       "      <td>0.221235</td>\n",
       "    </tr>\n",
       "    <tr>\n",
       "      <th>ssc_b</th>\n",
       "      <td>0.019429</td>\n",
       "      <td>-0.116194</td>\n",
       "      <td>1.000000</td>\n",
       "      <td>0.137013</td>\n",
       "      <td>0.605883</td>\n",
       "      <td>-0.038070</td>\n",
       "      <td>-0.040744</td>\n",
       "      <td>0.018991</td>\n",
       "      <td>-0.051565</td>\n",
       "      <td>-0.083120</td>\n",
       "      <td>0.056671</td>\n",
       "      <td>-0.058505</td>\n",
       "      <td>0.094939</td>\n",
       "      <td>-0.101060</td>\n",
       "    </tr>\n",
       "    <tr>\n",
       "      <th>hsc_p</th>\n",
       "      <td>0.021334</td>\n",
       "      <td>0.511472</td>\n",
       "      <td>0.137013</td>\n",
       "      <td>1.000000</td>\n",
       "      <td>0.019548</td>\n",
       "      <td>0.434206</td>\n",
       "      <td>-0.141025</td>\n",
       "      <td>0.245113</td>\n",
       "      <td>0.241630</td>\n",
       "      <td>0.354823</td>\n",
       "      <td>0.258093</td>\n",
       "      <td>-0.226675</td>\n",
       "      <td>0.112816</td>\n",
       "      <td>-0.053599</td>\n",
       "    </tr>\n",
       "    <tr>\n",
       "      <th>hsc_b</th>\n",
       "      <td>0.065945</td>\n",
       "      <td>-0.066996</td>\n",
       "      <td>0.605883</td>\n",
       "      <td>0.019548</td>\n",
       "      <td>1.000000</td>\n",
       "      <td>-0.067229</td>\n",
       "      <td>0.038357</td>\n",
       "      <td>-0.039108</td>\n",
       "      <td>0.002232</td>\n",
       "      <td>-0.090201</td>\n",
       "      <td>0.073522</td>\n",
       "      <td>-0.126446</td>\n",
       "      <td>0.027440</td>\n",
       "      <td>-0.086548</td>\n",
       "    </tr>\n",
       "    <tr>\n",
       "      <th>degree_p</th>\n",
       "      <td>0.173217</td>\n",
       "      <td>0.538404</td>\n",
       "      <td>-0.038070</td>\n",
       "      <td>0.434206</td>\n",
       "      <td>-0.067229</td>\n",
       "      <td>1.000000</td>\n",
       "      <td>-0.122648</td>\n",
       "      <td>0.224470</td>\n",
       "      <td>0.218286</td>\n",
       "      <td>0.402364</td>\n",
       "      <td>-0.022724</td>\n",
       "      <td>0.092006</td>\n",
       "      <td>-0.032755</td>\n",
       "      <td>0.123477</td>\n",
       "    </tr>\n",
       "    <tr>\n",
       "      <th>workex</th>\n",
       "      <td>0.085153</td>\n",
       "      <td>-0.175675</td>\n",
       "      <td>-0.040744</td>\n",
       "      <td>-0.141025</td>\n",
       "      <td>0.038357</td>\n",
       "      <td>-0.122648</td>\n",
       "      <td>1.000000</td>\n",
       "      <td>-0.056735</td>\n",
       "      <td>-0.191174</td>\n",
       "      <td>-0.168811</td>\n",
       "      <td>0.056719</td>\n",
       "      <td>-0.033270</td>\n",
       "      <td>0.102517</td>\n",
       "      <td>-0.102962</td>\n",
       "    </tr>\n",
       "    <tr>\n",
       "      <th>etest_p</th>\n",
       "      <td>-0.084294</td>\n",
       "      <td>0.261993</td>\n",
       "      <td>0.018991</td>\n",
       "      <td>0.245113</td>\n",
       "      <td>-0.039108</td>\n",
       "      <td>0.224470</td>\n",
       "      <td>-0.056735</td>\n",
       "      <td>1.000000</td>\n",
       "      <td>0.236315</td>\n",
       "      <td>0.218055</td>\n",
       "      <td>-0.021732</td>\n",
       "      <td>0.055352</td>\n",
       "      <td>-0.012531</td>\n",
       "      <td>0.009748</td>\n",
       "    </tr>\n",
       "    <tr>\n",
       "      <th>specialisation</th>\n",
       "      <td>-0.106160</td>\n",
       "      <td>0.172536</td>\n",
       "      <td>-0.051565</td>\n",
       "      <td>0.241630</td>\n",
       "      <td>0.002232</td>\n",
       "      <td>0.218286</td>\n",
       "      <td>-0.191174</td>\n",
       "      <td>0.236315</td>\n",
       "      <td>1.000000</td>\n",
       "      <td>0.105728</td>\n",
       "      <td>0.129985</td>\n",
       "      <td>-0.166639</td>\n",
       "      <td>0.101331</td>\n",
       "      <td>-0.061503</td>\n",
       "    </tr>\n",
       "    <tr>\n",
       "      <th>mba_p</th>\n",
       "      <td>0.300531</td>\n",
       "      <td>0.388478</td>\n",
       "      <td>-0.083120</td>\n",
       "      <td>0.354823</td>\n",
       "      <td>-0.090201</td>\n",
       "      <td>0.402364</td>\n",
       "      <td>-0.168811</td>\n",
       "      <td>0.218055</td>\n",
       "      <td>0.105728</td>\n",
       "      <td>1.000000</td>\n",
       "      <td>-0.049415</td>\n",
       "      <td>0.048050</td>\n",
       "      <td>-0.102088</td>\n",
       "      <td>0.125009</td>\n",
       "    </tr>\n",
       "    <tr>\n",
       "      <th>hsc_s_Commerce</th>\n",
       "      <td>0.001087</td>\n",
       "      <td>-0.101323</td>\n",
       "      <td>0.056671</td>\n",
       "      <td>0.258093</td>\n",
       "      <td>0.073522</td>\n",
       "      <td>-0.022724</td>\n",
       "      <td>0.056719</td>\n",
       "      <td>-0.021732</td>\n",
       "      <td>0.129985</td>\n",
       "      <td>-0.049415</td>\n",
       "      <td>1.000000</td>\n",
       "      <td>-0.901673</td>\n",
       "      <td>0.651804</td>\n",
       "      <td>-0.584673</td>\n",
       "    </tr>\n",
       "    <tr>\n",
       "      <th>hsc_s_Science</th>\n",
       "      <td>-0.042682</td>\n",
       "      <td>0.189847</td>\n",
       "      <td>-0.058505</td>\n",
       "      <td>-0.226675</td>\n",
       "      <td>-0.126446</td>\n",
       "      <td>0.092006</td>\n",
       "      <td>-0.033270</td>\n",
       "      <td>0.055352</td>\n",
       "      <td>-0.166639</td>\n",
       "      <td>0.048050</td>\n",
       "      <td>-0.901673</td>\n",
       "      <td>1.000000</td>\n",
       "      <td>-0.650346</td>\n",
       "      <td>0.654593</td>\n",
       "    </tr>\n",
       "    <tr>\n",
       "      <th>degree_t_Comm&amp;Mgmt</th>\n",
       "      <td>0.036215</td>\n",
       "      <td>-0.179581</td>\n",
       "      <td>0.094939</td>\n",
       "      <td>0.112816</td>\n",
       "      <td>0.027440</td>\n",
       "      <td>-0.032755</td>\n",
       "      <td>0.102517</td>\n",
       "      <td>-0.012531</td>\n",
       "      <td>0.101331</td>\n",
       "      <td>-0.102088</td>\n",
       "      <td>0.651804</td>\n",
       "      <td>-0.650346</td>\n",
       "      <td>1.000000</td>\n",
       "      <td>-0.885113</td>\n",
       "    </tr>\n",
       "    <tr>\n",
       "      <th>degree_t_Sci&amp;Tech</th>\n",
       "      <td>-0.084072</td>\n",
       "      <td>0.221235</td>\n",
       "      <td>-0.101060</td>\n",
       "      <td>-0.053599</td>\n",
       "      <td>-0.086548</td>\n",
       "      <td>0.123477</td>\n",
       "      <td>-0.102962</td>\n",
       "      <td>0.009748</td>\n",
       "      <td>-0.061503</td>\n",
       "      <td>0.125009</td>\n",
       "      <td>-0.584673</td>\n",
       "      <td>0.654593</td>\n",
       "      <td>-0.885113</td>\n",
       "      <td>1.000000</td>\n",
       "    </tr>\n",
       "  </tbody>\n",
       "</table>\n",
       "</div>"
      ],
      "text/plain": [
       "                      gender     ssc_p     ssc_b     hsc_p     hsc_b  \\\n",
       "gender              1.000000  0.068969  0.019429  0.021334  0.065945   \n",
       "ssc_p               0.068969  1.000000 -0.116194  0.511472 -0.066996   \n",
       "ssc_b               0.019429 -0.116194  1.000000  0.137013  0.605883   \n",
       "hsc_p               0.021334  0.511472  0.137013  1.000000  0.019548   \n",
       "hsc_b               0.065945 -0.066996  0.605883  0.019548  1.000000   \n",
       "degree_p            0.173217  0.538404 -0.038070  0.434206 -0.067229   \n",
       "workex              0.085153 -0.175675 -0.040744 -0.141025  0.038357   \n",
       "etest_p            -0.084294  0.261993  0.018991  0.245113 -0.039108   \n",
       "specialisation     -0.106160  0.172536 -0.051565  0.241630  0.002232   \n",
       "mba_p               0.300531  0.388478 -0.083120  0.354823 -0.090201   \n",
       "hsc_s_Commerce      0.001087 -0.101323  0.056671  0.258093  0.073522   \n",
       "hsc_s_Science      -0.042682  0.189847 -0.058505 -0.226675 -0.126446   \n",
       "degree_t_Comm&Mgmt  0.036215 -0.179581  0.094939  0.112816  0.027440   \n",
       "degree_t_Sci&Tech  -0.084072  0.221235 -0.101060 -0.053599 -0.086548   \n",
       "\n",
       "                    degree_p    workex   etest_p  specialisation     mba_p  \\\n",
       "gender              0.173217  0.085153 -0.084294       -0.106160  0.300531   \n",
       "ssc_p               0.538404 -0.175675  0.261993        0.172536  0.388478   \n",
       "ssc_b              -0.038070 -0.040744  0.018991       -0.051565 -0.083120   \n",
       "hsc_p               0.434206 -0.141025  0.245113        0.241630  0.354823   \n",
       "hsc_b              -0.067229  0.038357 -0.039108        0.002232 -0.090201   \n",
       "degree_p            1.000000 -0.122648  0.224470        0.218286  0.402364   \n",
       "workex             -0.122648  1.000000 -0.056735       -0.191174 -0.168811   \n",
       "etest_p             0.224470 -0.056735  1.000000        0.236315  0.218055   \n",
       "specialisation      0.218286 -0.191174  0.236315        1.000000  0.105728   \n",
       "mba_p               0.402364 -0.168811  0.218055        0.105728  1.000000   \n",
       "hsc_s_Commerce     -0.022724  0.056719 -0.021732        0.129985 -0.049415   \n",
       "hsc_s_Science       0.092006 -0.033270  0.055352       -0.166639  0.048050   \n",
       "degree_t_Comm&Mgmt -0.032755  0.102517 -0.012531        0.101331 -0.102088   \n",
       "degree_t_Sci&Tech   0.123477 -0.102962  0.009748       -0.061503  0.125009   \n",
       "\n",
       "                    hsc_s_Commerce  hsc_s_Science  degree_t_Comm&Mgmt  \\\n",
       "gender                    0.001087      -0.042682            0.036215   \n",
       "ssc_p                    -0.101323       0.189847           -0.179581   \n",
       "ssc_b                     0.056671      -0.058505            0.094939   \n",
       "hsc_p                     0.258093      -0.226675            0.112816   \n",
       "hsc_b                     0.073522      -0.126446            0.027440   \n",
       "degree_p                 -0.022724       0.092006           -0.032755   \n",
       "workex                    0.056719      -0.033270            0.102517   \n",
       "etest_p                  -0.021732       0.055352           -0.012531   \n",
       "specialisation            0.129985      -0.166639            0.101331   \n",
       "mba_p                    -0.049415       0.048050           -0.102088   \n",
       "hsc_s_Commerce            1.000000      -0.901673            0.651804   \n",
       "hsc_s_Science            -0.901673       1.000000           -0.650346   \n",
       "degree_t_Comm&Mgmt        0.651804      -0.650346            1.000000   \n",
       "degree_t_Sci&Tech        -0.584673       0.654593           -0.885113   \n",
       "\n",
       "                    degree_t_Sci&Tech  \n",
       "gender                      -0.084072  \n",
       "ssc_p                        0.221235  \n",
       "ssc_b                       -0.101060  \n",
       "hsc_p                       -0.053599  \n",
       "hsc_b                       -0.086548  \n",
       "degree_p                     0.123477  \n",
       "workex                      -0.102962  \n",
       "etest_p                      0.009748  \n",
       "specialisation              -0.061503  \n",
       "mba_p                        0.125009  \n",
       "hsc_s_Commerce              -0.584673  \n",
       "hsc_s_Science                0.654593  \n",
       "degree_t_Comm&Mgmt          -0.885113  \n",
       "degree_t_Sci&Tech            1.000000  "
      ]
     },
     "execution_count": 99,
     "metadata": {},
     "output_type": "execute_result"
    }
   ],
   "source": [
    "real_data.corr()"
   ]
  },
  {
   "cell_type": "code",
   "execution_count": 100,
   "metadata": {
    "scrolled": false
   },
   "outputs": [
    {
     "data": {
      "text/html": [
       "<div>\n",
       "<style scoped>\n",
       "    .dataframe tbody tr th:only-of-type {\n",
       "        vertical-align: middle;\n",
       "    }\n",
       "\n",
       "    .dataframe tbody tr th {\n",
       "        vertical-align: top;\n",
       "    }\n",
       "\n",
       "    .dataframe thead th {\n",
       "        text-align: right;\n",
       "    }\n",
       "</style>\n",
       "<table border=\"1\" class=\"dataframe\">\n",
       "  <thead>\n",
       "    <tr style=\"text-align: right;\">\n",
       "      <th></th>\n",
       "      <th>gender</th>\n",
       "      <th>ssc_p</th>\n",
       "      <th>ssc_b</th>\n",
       "      <th>hsc_p</th>\n",
       "      <th>hsc_b</th>\n",
       "      <th>degree_p</th>\n",
       "      <th>workex</th>\n",
       "      <th>etest_p</th>\n",
       "      <th>specialisation</th>\n",
       "      <th>mba_p</th>\n",
       "      <th>hsc_s_Commerce</th>\n",
       "      <th>hsc_s_Science</th>\n",
       "      <th>degree_t_Comm&amp;Mgmt</th>\n",
       "      <th>degree_t_Sci&amp;Tech</th>\n",
       "      <th>status</th>\n",
       "    </tr>\n",
       "  </thead>\n",
       "  <tbody>\n",
       "    <tr>\n",
       "      <th>0</th>\n",
       "      <td>-0.739434</td>\n",
       "      <td>-0.028087</td>\n",
       "      <td>-1.082459</td>\n",
       "      <td>2.268812</td>\n",
       "      <td>-0.800763</td>\n",
       "      <td>-1.140102</td>\n",
       "      <td>0.724446</td>\n",
       "      <td>-1.291091</td>\n",
       "      <td>-1.123903</td>\n",
       "      <td>-0.597647</td>\n",
       "      <td>0.950082</td>\n",
       "      <td>-0.856663</td>\n",
       "      <td>-1.439246</td>\n",
       "      <td>1.626059</td>\n",
       "      <td>0</td>\n",
       "    </tr>\n",
       "    <tr>\n",
       "      <th>1</th>\n",
       "      <td>-0.739434</td>\n",
       "      <td>1.113369</td>\n",
       "      <td>0.923823</td>\n",
       "      <td>1.103448</td>\n",
       "      <td>-0.800763</td>\n",
       "      <td>1.513267</td>\n",
       "      <td>-1.380364</td>\n",
       "      <td>1.087157</td>\n",
       "      <td>0.889757</td>\n",
       "      <td>0.687620</td>\n",
       "      <td>-1.052541</td>\n",
       "      <td>1.167321</td>\n",
       "      <td>-1.439246</td>\n",
       "      <td>1.626059</td>\n",
       "      <td>0</td>\n",
       "    </tr>\n",
       "    <tr>\n",
       "      <th>2</th>\n",
       "      <td>-0.739434</td>\n",
       "      <td>-0.213238</td>\n",
       "      <td>0.923823</td>\n",
       "      <td>0.153313</td>\n",
       "      <td>1.248809</td>\n",
       "      <td>-0.322843</td>\n",
       "      <td>0.724446</td>\n",
       "      <td>0.218908</td>\n",
       "      <td>0.889757</td>\n",
       "      <td>-0.769474</td>\n",
       "      <td>-1.052541</td>\n",
       "      <td>-0.856663</td>\n",
       "      <td>0.694808</td>\n",
       "      <td>-0.614984</td>\n",
       "      <td>0</td>\n",
       "    </tr>\n",
       "    <tr>\n",
       "      <th>3</th>\n",
       "      <td>-0.739434</td>\n",
       "      <td>-1.046417</td>\n",
       "      <td>0.923823</td>\n",
       "      <td>-1.318339</td>\n",
       "      <td>1.248809</td>\n",
       "      <td>-1.957362</td>\n",
       "      <td>0.724446</td>\n",
       "      <td>-0.460592</td>\n",
       "      <td>-1.123903</td>\n",
       "      <td>-0.489396</td>\n",
       "      <td>-1.052541</td>\n",
       "      <td>1.167321</td>\n",
       "      <td>-1.439246</td>\n",
       "      <td>1.626059</td>\n",
       "      <td>1</td>\n",
       "    </tr>\n",
       "    <tr>\n",
       "      <th>4</th>\n",
       "      <td>-0.739434</td>\n",
       "      <td>1.712332</td>\n",
       "      <td>0.923823</td>\n",
       "      <td>0.668391</td>\n",
       "      <td>1.248809</td>\n",
       "      <td>0.943909</td>\n",
       "      <td>0.724446</td>\n",
       "      <td>1.864806</td>\n",
       "      <td>0.889757</td>\n",
       "      <td>-1.164676</td>\n",
       "      <td>0.950082</td>\n",
       "      <td>-0.856663</td>\n",
       "      <td>0.694808</td>\n",
       "      <td>-0.614984</td>\n",
       "      <td>0</td>\n",
       "    </tr>\n",
       "    <tr>\n",
       "      <th>...</th>\n",
       "      <td>...</td>\n",
       "      <td>...</td>\n",
       "      <td>...</td>\n",
       "      <td>...</td>\n",
       "      <td>...</td>\n",
       "      <td>...</td>\n",
       "      <td>...</td>\n",
       "      <td>...</td>\n",
       "      <td>...</td>\n",
       "      <td>...</td>\n",
       "      <td>...</td>\n",
       "      <td>...</td>\n",
       "      <td>...</td>\n",
       "      <td>...</td>\n",
       "      <td>...</td>\n",
       "    </tr>\n",
       "    <tr>\n",
       "      <th>210</th>\n",
       "      <td>-0.739434</td>\n",
       "      <td>1.230940</td>\n",
       "      <td>-1.082459</td>\n",
       "      <td>1.441008</td>\n",
       "      <td>-0.800763</td>\n",
       "      <td>1.529612</td>\n",
       "      <td>0.724446</td>\n",
       "      <td>1.426906</td>\n",
       "      <td>0.889757</td>\n",
       "      <td>2.098321</td>\n",
       "      <td>0.950082</td>\n",
       "      <td>-0.856663</td>\n",
       "      <td>0.694808</td>\n",
       "      <td>-0.614984</td>\n",
       "      <td>0</td>\n",
       "    </tr>\n",
       "    <tr>\n",
       "      <th>211</th>\n",
       "      <td>-0.739434</td>\n",
       "      <td>-0.861266</td>\n",
       "      <td>-1.082459</td>\n",
       "      <td>-0.582513</td>\n",
       "      <td>-0.800763</td>\n",
       "      <td>0.766836</td>\n",
       "      <td>0.724446</td>\n",
       "      <td>0.143408</td>\n",
       "      <td>0.889757</td>\n",
       "      <td>-1.487711</td>\n",
       "      <td>-1.052541</td>\n",
       "      <td>1.167321</td>\n",
       "      <td>-1.439246</td>\n",
       "      <td>1.626059</td>\n",
       "      <td>0</td>\n",
       "    </tr>\n",
       "    <tr>\n",
       "      <th>212</th>\n",
       "      <td>-0.739434</td>\n",
       "      <td>-0.028087</td>\n",
       "      <td>-1.082459</td>\n",
       "      <td>0.061335</td>\n",
       "      <td>-0.800763</td>\n",
       "      <td>0.903046</td>\n",
       "      <td>-1.380364</td>\n",
       "      <td>-0.989091</td>\n",
       "      <td>0.889757</td>\n",
       "      <td>1.278706</td>\n",
       "      <td>0.950082</td>\n",
       "      <td>-0.856663</td>\n",
       "      <td>0.694808</td>\n",
       "      <td>-0.614984</td>\n",
       "      <td>0</td>\n",
       "    </tr>\n",
       "    <tr>\n",
       "      <th>213</th>\n",
       "      <td>1.352386</td>\n",
       "      <td>0.619941</td>\n",
       "      <td>-1.082459</td>\n",
       "      <td>-0.030644</td>\n",
       "      <td>-0.800763</td>\n",
       "      <td>-1.140102</td>\n",
       "      <td>0.724446</td>\n",
       "      <td>-0.158592</td>\n",
       "      <td>-1.123903</td>\n",
       "      <td>-0.351934</td>\n",
       "      <td>0.950082</td>\n",
       "      <td>-0.856663</td>\n",
       "      <td>0.694808</td>\n",
       "      <td>-0.614984</td>\n",
       "      <td>0</td>\n",
       "    </tr>\n",
       "    <tr>\n",
       "      <th>214</th>\n",
       "      <td>-0.739434</td>\n",
       "      <td>-0.490964</td>\n",
       "      <td>0.923823</td>\n",
       "      <td>-0.766470</td>\n",
       "      <td>-0.800763</td>\n",
       "      <td>-1.821152</td>\n",
       "      <td>0.724446</td>\n",
       "      <td>1.275907</td>\n",
       "      <td>-1.123903</td>\n",
       "      <td>-0.353652</td>\n",
       "      <td>-1.052541</td>\n",
       "      <td>1.167321</td>\n",
       "      <td>0.694808</td>\n",
       "      <td>-0.614984</td>\n",
       "      <td>1</td>\n",
       "    </tr>\n",
       "  </tbody>\n",
       "</table>\n",
       "<p>215 rows × 15 columns</p>\n",
       "</div>"
      ],
      "text/plain": [
       "       gender     ssc_p     ssc_b     hsc_p     hsc_b  degree_p    workex  \\\n",
       "0   -0.739434 -0.028087 -1.082459  2.268812 -0.800763 -1.140102  0.724446   \n",
       "1   -0.739434  1.113369  0.923823  1.103448 -0.800763  1.513267 -1.380364   \n",
       "2   -0.739434 -0.213238  0.923823  0.153313  1.248809 -0.322843  0.724446   \n",
       "3   -0.739434 -1.046417  0.923823 -1.318339  1.248809 -1.957362  0.724446   \n",
       "4   -0.739434  1.712332  0.923823  0.668391  1.248809  0.943909  0.724446   \n",
       "..        ...       ...       ...       ...       ...       ...       ...   \n",
       "210 -0.739434  1.230940 -1.082459  1.441008 -0.800763  1.529612  0.724446   \n",
       "211 -0.739434 -0.861266 -1.082459 -0.582513 -0.800763  0.766836  0.724446   \n",
       "212 -0.739434 -0.028087 -1.082459  0.061335 -0.800763  0.903046 -1.380364   \n",
       "213  1.352386  0.619941 -1.082459 -0.030644 -0.800763 -1.140102  0.724446   \n",
       "214 -0.739434 -0.490964  0.923823 -0.766470 -0.800763 -1.821152  0.724446   \n",
       "\n",
       "      etest_p  specialisation     mba_p  hsc_s_Commerce  hsc_s_Science  \\\n",
       "0   -1.291091       -1.123903 -0.597647        0.950082      -0.856663   \n",
       "1    1.087157        0.889757  0.687620       -1.052541       1.167321   \n",
       "2    0.218908        0.889757 -0.769474       -1.052541      -0.856663   \n",
       "3   -0.460592       -1.123903 -0.489396       -1.052541       1.167321   \n",
       "4    1.864806        0.889757 -1.164676        0.950082      -0.856663   \n",
       "..        ...             ...       ...             ...            ...   \n",
       "210  1.426906        0.889757  2.098321        0.950082      -0.856663   \n",
       "211  0.143408        0.889757 -1.487711       -1.052541       1.167321   \n",
       "212 -0.989091        0.889757  1.278706        0.950082      -0.856663   \n",
       "213 -0.158592       -1.123903 -0.351934        0.950082      -0.856663   \n",
       "214  1.275907       -1.123903 -0.353652       -1.052541       1.167321   \n",
       "\n",
       "     degree_t_Comm&Mgmt  degree_t_Sci&Tech  status  \n",
       "0             -1.439246           1.626059       0  \n",
       "1             -1.439246           1.626059       0  \n",
       "2              0.694808          -0.614984       0  \n",
       "3             -1.439246           1.626059       1  \n",
       "4              0.694808          -0.614984       0  \n",
       "..                  ...                ...     ...  \n",
       "210            0.694808          -0.614984       0  \n",
       "211           -1.439246           1.626059       0  \n",
       "212            0.694808          -0.614984       0  \n",
       "213            0.694808          -0.614984       0  \n",
       "214            0.694808          -0.614984       1  \n",
       "\n",
       "[215 rows x 15 columns]"
      ]
     },
     "execution_count": 100,
     "metadata": {},
     "output_type": "execute_result"
    }
   ],
   "source": [
    "# df2는 다중공선성 확인용 변수\n",
    "df2 = pd.concat([real_data,data['status']],axis=1)\n",
    "df2"
   ]
  },
  {
   "cell_type": "code",
   "execution_count": 101,
   "metadata": {
    "scrolled": true
   },
   "outputs": [
    {
     "data": {
      "text/html": [
       "<table class=\"simpletable\">\n",
       "<caption>OLS Regression Results</caption>\n",
       "<tr>\n",
       "  <th>Dep. Variable:</th>         <td>status</td>      <th>  R-squared (uncentered):</th>      <td>   0.388</td>\n",
       "</tr>\n",
       "<tr>\n",
       "  <th>Model:</th>                   <td>OLS</td>       <th>  Adj. R-squared (uncentered):</th> <td>   0.345</td>\n",
       "</tr>\n",
       "<tr>\n",
       "  <th>Method:</th>             <td>Least Squares</td>  <th>  F-statistic:       </th>          <td>   9.087</td>\n",
       "</tr>\n",
       "<tr>\n",
       "  <th>Date:</th>             <td>Thu, 10 Dec 2020</td> <th>  Prob (F-statistic):</th>          <td>2.59e-15</td>\n",
       "</tr>\n",
       "<tr>\n",
       "  <th>Time:</th>                 <td>02:30:33</td>     <th>  Log-Likelihood:    </th>          <td> -127.02</td>\n",
       "</tr>\n",
       "<tr>\n",
       "  <th>No. Observations:</th>      <td>   215</td>      <th>  AIC:               </th>          <td>   282.0</td>\n",
       "</tr>\n",
       "<tr>\n",
       "  <th>Df Residuals:</th>          <td>   201</td>      <th>  BIC:               </th>          <td>   329.2</td>\n",
       "</tr>\n",
       "<tr>\n",
       "  <th>Df Model:</th>              <td>    14</td>      <th>                     </th>              <td> </td>   \n",
       "</tr>\n",
       "<tr>\n",
       "  <th>Covariance Type:</th>      <td>nonrobust</td>    <th>                     </th>              <td> </td>   \n",
       "</tr>\n",
       "</table>\n",
       "<table class=\"simpletable\">\n",
       "<tr>\n",
       "           <td></td>             <th>coef</th>     <th>std err</th>      <th>t</th>      <th>P>|t|</th>  <th>[0.025</th>    <th>0.975]</th>  \n",
       "</tr>\n",
       "<tr>\n",
       "  <th>gender</th>             <td>    0.0403</td> <td>    0.034</td> <td>    1.171</td> <td> 0.243</td> <td>   -0.028</td> <td>    0.108</td>\n",
       "</tr>\n",
       "<tr>\n",
       "  <th>ssc_p</th>              <td>   -0.2158</td> <td>    0.044</td> <td>   -4.942</td> <td> 0.000</td> <td>   -0.302</td> <td>   -0.130</td>\n",
       "</tr>\n",
       "<tr>\n",
       "  <th>ssc_b</th>              <td>    0.0348</td> <td>    0.042</td> <td>    0.835</td> <td> 0.405</td> <td>   -0.047</td> <td>    0.117</td>\n",
       "</tr>\n",
       "<tr>\n",
       "  <th>hsc_p</th>              <td>   -0.1140</td> <td>    0.043</td> <td>   -2.664</td> <td> 0.008</td> <td>   -0.198</td> <td>   -0.030</td>\n",
       "</tr>\n",
       "<tr>\n",
       "  <th>hsc_b</th>              <td>   -0.0248</td> <td>    0.041</td> <td>   -0.610</td> <td> 0.542</td> <td>   -0.105</td> <td>    0.055</td>\n",
       "</tr>\n",
       "<tr>\n",
       "  <th>degree_p</th>           <td>   -0.1117</td> <td>    0.040</td> <td>   -2.800</td> <td> 0.006</td> <td>   -0.190</td> <td>   -0.033</td>\n",
       "</tr>\n",
       "<tr>\n",
       "  <th>workex</th>             <td>    0.0824</td> <td>    0.033</td> <td>    2.521</td> <td> 0.012</td> <td>    0.018</td> <td>    0.147</td>\n",
       "</tr>\n",
       "<tr>\n",
       "  <th>etest_p</th>            <td>    0.0339</td> <td>    0.034</td> <td>    1.005</td> <td> 0.316</td> <td>   -0.033</td> <td>    0.100</td>\n",
       "</tr>\n",
       "<tr>\n",
       "  <th>specialisation</th>     <td>   -0.0233</td> <td>    0.034</td> <td>   -0.682</td> <td> 0.496</td> <td>   -0.091</td> <td>    0.044</td>\n",
       "</tr>\n",
       "<tr>\n",
       "  <th>mba_p</th>              <td>    0.1251</td> <td>    0.038</td> <td>    3.319</td> <td> 0.001</td> <td>    0.051</td> <td>    0.199</td>\n",
       "</tr>\n",
       "<tr>\n",
       "  <th>hsc_s_Commerce</th>     <td>    0.0831</td> <td>    0.079</td> <td>    1.055</td> <td> 0.293</td> <td>   -0.072</td> <td>    0.238</td>\n",
       "</tr>\n",
       "<tr>\n",
       "  <th>hsc_s_Science</th>      <td>    0.0366</td> <td>    0.084</td> <td>    0.434</td> <td> 0.664</td> <td>   -0.129</td> <td>    0.203</td>\n",
       "</tr>\n",
       "<tr>\n",
       "  <th>degree_t_Comm&Mgmt</th> <td>   -0.0691</td> <td>    0.075</td> <td>   -0.928</td> <td> 0.355</td> <td>   -0.216</td> <td>    0.078</td>\n",
       "</tr>\n",
       "<tr>\n",
       "  <th>degree_t_Sci&Tech</th>  <td>    0.0107</td> <td>    0.074</td> <td>    0.145</td> <td> 0.885</td> <td>   -0.134</td> <td>    0.156</td>\n",
       "</tr>\n",
       "</table>\n",
       "<table class=\"simpletable\">\n",
       "<tr>\n",
       "  <th>Omnibus:</th>       <td> 2.127</td> <th>  Durbin-Watson:     </th> <td>   1.001</td>\n",
       "</tr>\n",
       "<tr>\n",
       "  <th>Prob(Omnibus):</th> <td> 0.345</td> <th>  Jarque-Bera (JB):  </th> <td>   1.922</td>\n",
       "</tr>\n",
       "<tr>\n",
       "  <th>Skew:</th>          <td> 0.132</td> <th>  Prob(JB):          </th> <td>   0.383</td>\n",
       "</tr>\n",
       "<tr>\n",
       "  <th>Kurtosis:</th>      <td> 2.619</td> <th>  Cond. No.          </th> <td>    7.22</td>\n",
       "</tr>\n",
       "</table><br/><br/>Warnings:<br/>[1] Standard Errors assume that the covariance matrix of the errors is correctly specified."
      ],
      "text/plain": [
       "<class 'statsmodels.iolib.summary.Summary'>\n",
       "\"\"\"\n",
       "                                 OLS Regression Results                                \n",
       "=======================================================================================\n",
       "Dep. Variable:                 status   R-squared (uncentered):                   0.388\n",
       "Model:                            OLS   Adj. R-squared (uncentered):              0.345\n",
       "Method:                 Least Squares   F-statistic:                              9.087\n",
       "Date:                Thu, 10 Dec 2020   Prob (F-statistic):                    2.59e-15\n",
       "Time:                        02:30:33   Log-Likelihood:                         -127.02\n",
       "No. Observations:                 215   AIC:                                      282.0\n",
       "Df Residuals:                     201   BIC:                                      329.2\n",
       "Df Model:                          14                                                  \n",
       "Covariance Type:            nonrobust                                                  \n",
       "======================================================================================\n",
       "                         coef    std err          t      P>|t|      [0.025      0.975]\n",
       "--------------------------------------------------------------------------------------\n",
       "gender                 0.0403      0.034      1.171      0.243      -0.028       0.108\n",
       "ssc_p                 -0.2158      0.044     -4.942      0.000      -0.302      -0.130\n",
       "ssc_b                  0.0348      0.042      0.835      0.405      -0.047       0.117\n",
       "hsc_p                 -0.1140      0.043     -2.664      0.008      -0.198      -0.030\n",
       "hsc_b                 -0.0248      0.041     -0.610      0.542      -0.105       0.055\n",
       "degree_p              -0.1117      0.040     -2.800      0.006      -0.190      -0.033\n",
       "workex                 0.0824      0.033      2.521      0.012       0.018       0.147\n",
       "etest_p                0.0339      0.034      1.005      0.316      -0.033       0.100\n",
       "specialisation        -0.0233      0.034     -0.682      0.496      -0.091       0.044\n",
       "mba_p                  0.1251      0.038      3.319      0.001       0.051       0.199\n",
       "hsc_s_Commerce         0.0831      0.079      1.055      0.293      -0.072       0.238\n",
       "hsc_s_Science          0.0366      0.084      0.434      0.664      -0.129       0.203\n",
       "degree_t_Comm&Mgmt    -0.0691      0.075     -0.928      0.355      -0.216       0.078\n",
       "degree_t_Sci&Tech      0.0107      0.074      0.145      0.885      -0.134       0.156\n",
       "==============================================================================\n",
       "Omnibus:                        2.127   Durbin-Watson:                   1.001\n",
       "Prob(Omnibus):                  0.345   Jarque-Bera (JB):                1.922\n",
       "Skew:                           0.132   Prob(JB):                        0.383\n",
       "Kurtosis:                       2.619   Cond. No.                         7.22\n",
       "==============================================================================\n",
       "\n",
       "Warnings:\n",
       "[1] Standard Errors assume that the covariance matrix of the errors is correctly specified.\n",
       "\"\"\""
      ]
     },
     "execution_count": 101,
     "metadata": {},
     "output_type": "execute_result"
    }
   ],
   "source": [
    "# 다항회귀가능\n",
    "# ols함수는 종속변수~독립변수 형태로 모형식을 사용.\n",
    "# 수학에서는 y=f(x)처럼 종속변수 왼쪽, 독립변수 오른쪽에 쓰는게 관습\n",
    "model2 = sm.OLS(df2['status'], df2.drop(columns=['status']))\n",
    "result2 = model2.fit()\n",
    "result2.summary()"
   ]
  },
  {
   "cell_type": "markdown",
   "metadata": {},
   "source": [
    "R^2는 모형이 데이터에 잘맞는 정도를 보여주는 지표임.    \n",
    "coef는 계수의 추정치. 즉 회귀계수.   \n",
    "adj R-squared는 독립변수가 여러 개인 다중회귀분석에서 사용.    \n",
    "F값이 17.64\n",
    "gender, ssc_b, hsc_b, hsc_p degree_p workex etest_p  specialisation hsc_s_Arts hsc_s_Commerce hsc_s_Science degree_t_Others degree_t_Comm&Mgmt degree_t_Sci&Tech\t-> 유의하지 않다.\n"
   ]
  },
  {
   "cell_type": "code",
   "execution_count": 102,
   "metadata": {
    "scrolled": false
   },
   "outputs": [
    {
     "data": {
      "text/html": [
       "<table class=\"simpletable\">\n",
       "<caption>OLS Regression Results</caption>\n",
       "<tr>\n",
       "  <th>Dep. Variable:</th>         <td>status</td>      <th>  R-squared (uncentered):</th>      <td>   0.388</td>\n",
       "</tr>\n",
       "<tr>\n",
       "  <th>Model:</th>                   <td>OLS</td>       <th>  Adj. R-squared (uncentered):</th> <td>   0.345</td>\n",
       "</tr>\n",
       "<tr>\n",
       "  <th>Method:</th>             <td>Least Squares</td>  <th>  F-statistic:       </th>          <td>   9.087</td>\n",
       "</tr>\n",
       "<tr>\n",
       "  <th>Date:</th>             <td>Thu, 10 Dec 2020</td> <th>  Prob (F-statistic):</th>          <td>2.59e-15</td>\n",
       "</tr>\n",
       "<tr>\n",
       "  <th>Time:</th>                 <td>02:30:33</td>     <th>  Log-Likelihood:    </th>          <td> -127.02</td>\n",
       "</tr>\n",
       "<tr>\n",
       "  <th>No. Observations:</th>      <td>   215</td>      <th>  AIC:               </th>          <td>   282.0</td>\n",
       "</tr>\n",
       "<tr>\n",
       "  <th>Df Residuals:</th>          <td>   201</td>      <th>  BIC:               </th>          <td>   329.2</td>\n",
       "</tr>\n",
       "<tr>\n",
       "  <th>Df Model:</th>              <td>    14</td>      <th>                     </th>              <td> </td>   \n",
       "</tr>\n",
       "<tr>\n",
       "  <th>Covariance Type:</th>      <td>nonrobust</td>    <th>                     </th>              <td> </td>   \n",
       "</tr>\n",
       "</table>\n",
       "<table class=\"simpletable\">\n",
       "<tr>\n",
       "           <td></td>             <th>coef</th>     <th>std err</th>      <th>t</th>      <th>P>|t|</th>  <th>[0.025</th>    <th>0.975]</th>  \n",
       "</tr>\n",
       "<tr>\n",
       "  <th>gender</th>             <td>    0.0403</td> <td>    0.034</td> <td>    1.171</td> <td> 0.243</td> <td>   -0.028</td> <td>    0.108</td>\n",
       "</tr>\n",
       "<tr>\n",
       "  <th>ssc_p</th>              <td>   -0.2158</td> <td>    0.044</td> <td>   -4.942</td> <td> 0.000</td> <td>   -0.302</td> <td>   -0.130</td>\n",
       "</tr>\n",
       "<tr>\n",
       "  <th>ssc_b</th>              <td>    0.0348</td> <td>    0.042</td> <td>    0.835</td> <td> 0.405</td> <td>   -0.047</td> <td>    0.117</td>\n",
       "</tr>\n",
       "<tr>\n",
       "  <th>hsc_p</th>              <td>   -0.1140</td> <td>    0.043</td> <td>   -2.664</td> <td> 0.008</td> <td>   -0.198</td> <td>   -0.030</td>\n",
       "</tr>\n",
       "<tr>\n",
       "  <th>hsc_b</th>              <td>   -0.0248</td> <td>    0.041</td> <td>   -0.610</td> <td> 0.542</td> <td>   -0.105</td> <td>    0.055</td>\n",
       "</tr>\n",
       "<tr>\n",
       "  <th>degree_p</th>           <td>   -0.1117</td> <td>    0.040</td> <td>   -2.800</td> <td> 0.006</td> <td>   -0.190</td> <td>   -0.033</td>\n",
       "</tr>\n",
       "<tr>\n",
       "  <th>workex</th>             <td>    0.0824</td> <td>    0.033</td> <td>    2.521</td> <td> 0.012</td> <td>    0.018</td> <td>    0.147</td>\n",
       "</tr>\n",
       "<tr>\n",
       "  <th>etest_p</th>            <td>    0.0339</td> <td>    0.034</td> <td>    1.005</td> <td> 0.316</td> <td>   -0.033</td> <td>    0.100</td>\n",
       "</tr>\n",
       "<tr>\n",
       "  <th>specialisation</th>     <td>   -0.0233</td> <td>    0.034</td> <td>   -0.682</td> <td> 0.496</td> <td>   -0.091</td> <td>    0.044</td>\n",
       "</tr>\n",
       "<tr>\n",
       "  <th>mba_p</th>              <td>    0.1251</td> <td>    0.038</td> <td>    3.319</td> <td> 0.001</td> <td>    0.051</td> <td>    0.199</td>\n",
       "</tr>\n",
       "<tr>\n",
       "  <th>hsc_s_Commerce</th>     <td>    0.0831</td> <td>    0.079</td> <td>    1.055</td> <td> 0.293</td> <td>   -0.072</td> <td>    0.238</td>\n",
       "</tr>\n",
       "<tr>\n",
       "  <th>hsc_s_Science</th>      <td>    0.0366</td> <td>    0.084</td> <td>    0.434</td> <td> 0.664</td> <td>   -0.129</td> <td>    0.203</td>\n",
       "</tr>\n",
       "<tr>\n",
       "  <th>degree_t_Comm&Mgmt</th> <td>   -0.0691</td> <td>    0.075</td> <td>   -0.928</td> <td> 0.355</td> <td>   -0.216</td> <td>    0.078</td>\n",
       "</tr>\n",
       "<tr>\n",
       "  <th>degree_t_Sci&Tech</th>  <td>    0.0107</td> <td>    0.074</td> <td>    0.145</td> <td> 0.885</td> <td>   -0.134</td> <td>    0.156</td>\n",
       "</tr>\n",
       "</table>\n",
       "<table class=\"simpletable\">\n",
       "<tr>\n",
       "  <th>Omnibus:</th>       <td> 2.127</td> <th>  Durbin-Watson:     </th> <td>   1.001</td>\n",
       "</tr>\n",
       "<tr>\n",
       "  <th>Prob(Omnibus):</th> <td> 0.345</td> <th>  Jarque-Bera (JB):  </th> <td>   1.922</td>\n",
       "</tr>\n",
       "<tr>\n",
       "  <th>Skew:</th>          <td> 0.132</td> <th>  Prob(JB):          </th> <td>   0.383</td>\n",
       "</tr>\n",
       "<tr>\n",
       "  <th>Kurtosis:</th>      <td> 2.619</td> <th>  Cond. No.          </th> <td>    7.22</td>\n",
       "</tr>\n",
       "</table><br/><br/>Warnings:<br/>[1] Standard Errors assume that the covariance matrix of the errors is correctly specified."
      ],
      "text/plain": [
       "<class 'statsmodels.iolib.summary.Summary'>\n",
       "\"\"\"\n",
       "                                 OLS Regression Results                                \n",
       "=======================================================================================\n",
       "Dep. Variable:                 status   R-squared (uncentered):                   0.388\n",
       "Model:                            OLS   Adj. R-squared (uncentered):              0.345\n",
       "Method:                 Least Squares   F-statistic:                              9.087\n",
       "Date:                Thu, 10 Dec 2020   Prob (F-statistic):                    2.59e-15\n",
       "Time:                        02:30:33   Log-Likelihood:                         -127.02\n",
       "No. Observations:                 215   AIC:                                      282.0\n",
       "Df Residuals:                     201   BIC:                                      329.2\n",
       "Df Model:                          14                                                  \n",
       "Covariance Type:            nonrobust                                                  \n",
       "======================================================================================\n",
       "                         coef    std err          t      P>|t|      [0.025      0.975]\n",
       "--------------------------------------------------------------------------------------\n",
       "gender                 0.0403      0.034      1.171      0.243      -0.028       0.108\n",
       "ssc_p                 -0.2158      0.044     -4.942      0.000      -0.302      -0.130\n",
       "ssc_b                  0.0348      0.042      0.835      0.405      -0.047       0.117\n",
       "hsc_p                 -0.1140      0.043     -2.664      0.008      -0.198      -0.030\n",
       "hsc_b                 -0.0248      0.041     -0.610      0.542      -0.105       0.055\n",
       "degree_p              -0.1117      0.040     -2.800      0.006      -0.190      -0.033\n",
       "workex                 0.0824      0.033      2.521      0.012       0.018       0.147\n",
       "etest_p                0.0339      0.034      1.005      0.316      -0.033       0.100\n",
       "specialisation        -0.0233      0.034     -0.682      0.496      -0.091       0.044\n",
       "mba_p                  0.1251      0.038      3.319      0.001       0.051       0.199\n",
       "hsc_s_Commerce         0.0831      0.079      1.055      0.293      -0.072       0.238\n",
       "hsc_s_Science          0.0366      0.084      0.434      0.664      -0.129       0.203\n",
       "degree_t_Comm&Mgmt    -0.0691      0.075     -0.928      0.355      -0.216       0.078\n",
       "degree_t_Sci&Tech      0.0107      0.074      0.145      0.885      -0.134       0.156\n",
       "==============================================================================\n",
       "Omnibus:                        2.127   Durbin-Watson:                   1.001\n",
       "Prob(Omnibus):                  0.345   Jarque-Bera (JB):                1.922\n",
       "Skew:                           0.132   Prob(JB):                        0.383\n",
       "Kurtosis:                       2.619   Cond. No.                         7.22\n",
       "==============================================================================\n",
       "\n",
       "Warnings:\n",
       "[1] Standard Errors assume that the covariance matrix of the errors is correctly specified.\n",
       "\"\"\""
      ]
     },
     "execution_count": 102,
     "metadata": {},
     "output_type": "execute_result"
    }
   ],
   "source": [
    "model2 = sm.OLS(data['status'], real_data)\n",
    "result2 = model2.fit()\n",
    "result2.summary()"
   ]
  },
  {
   "cell_type": "code",
   "execution_count": 103,
   "metadata": {},
   "outputs": [
    {
     "data": {
      "text/html": [
       "<div>\n",
       "<style scoped>\n",
       "    .dataframe tbody tr th:only-of-type {\n",
       "        vertical-align: middle;\n",
       "    }\n",
       "\n",
       "    .dataframe tbody tr th {\n",
       "        vertical-align: top;\n",
       "    }\n",
       "\n",
       "    .dataframe thead th {\n",
       "        text-align: right;\n",
       "    }\n",
       "</style>\n",
       "<table border=\"1\" class=\"dataframe\">\n",
       "  <thead>\n",
       "    <tr style=\"text-align: right;\">\n",
       "      <th></th>\n",
       "      <th>VIF Factor</th>\n",
       "      <th>features</th>\n",
       "    </tr>\n",
       "  </thead>\n",
       "  <tbody>\n",
       "    <tr>\n",
       "      <th>0</th>\n",
       "      <td>1.3</td>\n",
       "      <td>gender</td>\n",
       "    </tr>\n",
       "    <tr>\n",
       "      <th>1</th>\n",
       "      <td>2.3</td>\n",
       "      <td>ssc_p</td>\n",
       "    </tr>\n",
       "    <tr>\n",
       "      <th>2</th>\n",
       "      <td>1.8</td>\n",
       "      <td>ssc_b</td>\n",
       "    </tr>\n",
       "    <tr>\n",
       "      <th>3</th>\n",
       "      <td>2.0</td>\n",
       "      <td>hsc_p</td>\n",
       "    </tr>\n",
       "    <tr>\n",
       "      <th>4</th>\n",
       "      <td>1.7</td>\n",
       "      <td>hsc_b</td>\n",
       "    </tr>\n",
       "    <tr>\n",
       "      <th>5</th>\n",
       "      <td>1.7</td>\n",
       "      <td>degree_p</td>\n",
       "    </tr>\n",
       "    <tr>\n",
       "      <th>6</th>\n",
       "      <td>1.2</td>\n",
       "      <td>workex</td>\n",
       "    </tr>\n",
       "    <tr>\n",
       "      <th>7</th>\n",
       "      <td>1.2</td>\n",
       "      <td>etest_p</td>\n",
       "    </tr>\n",
       "    <tr>\n",
       "      <th>8</th>\n",
       "      <td>1.2</td>\n",
       "      <td>specialisation</td>\n",
       "    </tr>\n",
       "    <tr>\n",
       "      <th>9</th>\n",
       "      <td>1.6</td>\n",
       "      <td>mba_p</td>\n",
       "    </tr>\n",
       "    <tr>\n",
       "      <th>10</th>\n",
       "      <td>6.6</td>\n",
       "      <td>hsc_s_Commerce</td>\n",
       "    </tr>\n",
       "    <tr>\n",
       "      <th>11</th>\n",
       "      <td>7.5</td>\n",
       "      <td>hsc_s_Science</td>\n",
       "    </tr>\n",
       "    <tr>\n",
       "      <th>12</th>\n",
       "      <td>5.9</td>\n",
       "      <td>degree_t_Comm&amp;Mgmt</td>\n",
       "    </tr>\n",
       "    <tr>\n",
       "      <th>13</th>\n",
       "      <td>5.7</td>\n",
       "      <td>degree_t_Sci&amp;Tech</td>\n",
       "    </tr>\n",
       "    <tr>\n",
       "      <th>14</th>\n",
       "      <td>1.6</td>\n",
       "      <td>status</td>\n",
       "    </tr>\n",
       "  </tbody>\n",
       "</table>\n",
       "</div>"
      ],
      "text/plain": [
       "    VIF Factor            features\n",
       "0          1.3              gender\n",
       "1          2.3               ssc_p\n",
       "2          1.8               ssc_b\n",
       "3          2.0               hsc_p\n",
       "4          1.7               hsc_b\n",
       "5          1.7            degree_p\n",
       "6          1.2              workex\n",
       "7          1.2             etest_p\n",
       "8          1.2      specialisation\n",
       "9          1.6               mba_p\n",
       "10         6.6      hsc_s_Commerce\n",
       "11         7.5       hsc_s_Science\n",
       "12         5.9  degree_t_Comm&Mgmt\n",
       "13         5.7   degree_t_Sci&Tech\n",
       "14         1.6              status"
      ]
     },
     "execution_count": 103,
     "metadata": {},
     "output_type": "execute_result"
    }
   ],
   "source": [
    "from statsmodels.stats.outliers_influence import variance_inflation_factor\n",
    "vif = pd.DataFrame()\n",
    "vif[\"VIF Factor\"] = [variance_inflation_factor(df2.values, i) for i in range(df2.shape[1])]\n",
    "vif[\"features\"] = df2.columns\n",
    "vif.round(1)"
   ]
  },
  {
   "cell_type": "code",
   "execution_count": null,
   "metadata": {},
   "outputs": [],
   "source": []
  },
  {
   "cell_type": "code",
   "execution_count": null,
   "metadata": {},
   "outputs": [],
   "source": []
  },
  {
   "cell_type": "code",
   "execution_count": null,
   "metadata": {},
   "outputs": [],
   "source": []
  },
  {
   "cell_type": "code",
   "execution_count": null,
   "metadata": {},
   "outputs": [],
   "source": []
  },
  {
   "cell_type": "code",
   "execution_count": 104,
   "metadata": {},
   "outputs": [],
   "source": [
    "#성능평가 패키지 import\n",
    "from sklearn.metrics import confusion_matrix\n",
    "from sklearn.metrics import classification_report\n",
    "from sklearn.metrics import f1_score\n",
    "from sklearn.metrics import accuracy_score"
   ]
  },
  {
   "cell_type": "code",
   "execution_count": 105,
   "metadata": {},
   "outputs": [],
   "source": [
    "from sklearn.model_selection import train_test_split\n",
    "\n",
    "X_train,X_test,y_train,y_test=train_test_split(real_data,data['status'],test_size=0.3, \n",
    "                                                    shuffle=True, #무작위추출\n",
    "                                               stratify = data['status'],random_state=0)"
   ]
  },
  {
   "cell_type": "code",
   "execution_count": 106,
   "metadata": {},
   "outputs": [],
   "source": [
    "#from sklearn.feature_selection import SelectPercentile\n",
    "#select = SelectPercentile(score_funct=f_regression, percentile = 50)\n",
    "#select.fit(X_train,y_train)"
   ]
  },
  {
   "cell_type": "code",
   "execution_count": 107,
   "metadata": {},
   "outputs": [
    {
     "name": "stdout",
     "output_type": "stream",
     "text": [
      "X_train 크기 :  (150, 14)\n",
      "y_train 크기 :  (150,)\n",
      "X_test크기: (65, 14)\n",
      "y_test크기: (65,)\n"
     ]
    }
   ],
   "source": [
    "print(\"X_train 크기 : \", X_train.shape)\n",
    "print(\"y_train 크기 : \", y_train.shape)\n",
    "print(\"X_test크기:\",X_test.shape)\n",
    "print(\"y_test크기:\",y_test.shape)"
   ]
  },
  {
   "cell_type": "code",
   "execution_count": 108,
   "metadata": {},
   "outputs": [
    {
     "name": "stdout",
     "output_type": "stream",
     "text": [
      "X_train 크기 :  (150, 14)\n",
      "y_train 크기 :  (150,)\n"
     ]
    }
   ],
   "source": [
    "print(\"X_train 크기 : \", X_train.shape)\n",
    "print(\"y_train 크기 : \", y_train.shape)"
   ]
  },
  {
   "cell_type": "code",
   "execution_count": 109,
   "metadata": {},
   "outputs": [
    {
     "name": "stdout",
     "output_type": "stream",
     "text": [
      "X_test크기: (65, 14)\n",
      "y_test크기: (65,)\n"
     ]
    }
   ],
   "source": [
    "print(\"X_test크기:\",X_test.shape)\n",
    "print(\"y_test크기:\",y_test.shape)"
   ]
  },
  {
   "cell_type": "code",
   "execution_count": 110,
   "metadata": {
    "scrolled": true
   },
   "outputs": [
    {
     "data": {
      "text/plain": [
       "(215, 17)"
      ]
     },
     "execution_count": 110,
     "metadata": {},
     "output_type": "execute_result"
    }
   ],
   "source": [
    "data.shape"
   ]
  },
  {
   "cell_type": "code",
   "execution_count": 111,
   "metadata": {},
   "outputs": [
    {
     "data": {
      "text/plain": [
       "0    45\n",
       "1    20\n",
       "Name: status, dtype: int64"
      ]
     },
     "metadata": {},
     "output_type": "display_data"
    }
   ],
   "source": [
    "# y = pd.DataFrame(y_test)\n",
    "# display(y['status'].value_counts())\n",
    "display(y_test.value_counts())"
   ]
  },
  {
   "cell_type": "code",
   "execution_count": 112,
   "metadata": {},
   "outputs": [
    {
     "name": "stdout",
     "output_type": "stream",
     "text": [
      "(150, 14) (65, 14) (150,) (65,)\n"
     ]
    }
   ],
   "source": [
    "print(X_train.shape, X_test.shape, y_train.shape, y_test.shape)"
   ]
  },
  {
   "cell_type": "markdown",
   "metadata": {},
   "source": [
    "215개의 데이터 중 150개를 train으로 가져가고 65개를 test로 가져갔음.    \n"
   ]
  },
  {
   "cell_type": "markdown",
   "metadata": {},
   "source": [
    "> pip install --upgrade mglearn   \n",
    "→ mglearn설치안될때 입력하기"
   ]
  },
  {
   "cell_type": "code",
   "execution_count": null,
   "metadata": {},
   "outputs": [],
   "source": []
  },
  {
   "cell_type": "code",
   "execution_count": 113,
   "metadata": {},
   "outputs": [
    {
     "data": {
      "text/html": [
       "<table class=\"simpletable\">\n",
       "<caption>OLS Regression Results</caption>\n",
       "<tr>\n",
       "  <th>Dep. Variable:</th>         <td>status</td>      <th>  R-squared (uncentered):</th>      <td>   0.354</td>\n",
       "</tr>\n",
       "<tr>\n",
       "  <th>Model:</th>                   <td>OLS</td>       <th>  Adj. R-squared (uncentered):</th> <td>   0.287</td>\n",
       "</tr>\n",
       "<tr>\n",
       "  <th>Method:</th>             <td>Least Squares</td>  <th>  F-statistic:       </th>          <td>   5.321</td>\n",
       "</tr>\n",
       "<tr>\n",
       "  <th>Date:</th>             <td>Thu, 10 Dec 2020</td> <th>  Prob (F-statistic):</th>          <td>5.41e-08</td>\n",
       "</tr>\n",
       "<tr>\n",
       "  <th>Time:</th>                 <td>02:30:33</td>     <th>  Log-Likelihood:    </th>          <td> -93.042</td>\n",
       "</tr>\n",
       "<tr>\n",
       "  <th>No. Observations:</th>      <td>   150</td>      <th>  AIC:               </th>          <td>   214.1</td>\n",
       "</tr>\n",
       "<tr>\n",
       "  <th>Df Residuals:</th>          <td>   136</td>      <th>  BIC:               </th>          <td>   256.2</td>\n",
       "</tr>\n",
       "<tr>\n",
       "  <th>Df Model:</th>              <td>    14</td>      <th>                     </th>              <td> </td>   \n",
       "</tr>\n",
       "<tr>\n",
       "  <th>Covariance Type:</th>      <td>nonrobust</td>    <th>                     </th>              <td> </td>   \n",
       "</tr>\n",
       "</table>\n",
       "<table class=\"simpletable\">\n",
       "<tr>\n",
       "           <td></td>             <th>coef</th>     <th>std err</th>      <th>t</th>      <th>P>|t|</th>  <th>[0.025</th>    <th>0.975]</th>  \n",
       "</tr>\n",
       "<tr>\n",
       "  <th>gender</th>             <td>    0.0137</td> <td>    0.046</td> <td>    0.297</td> <td> 0.767</td> <td>   -0.077</td> <td>    0.105</td>\n",
       "</tr>\n",
       "<tr>\n",
       "  <th>ssc_p</th>              <td>   -0.2043</td> <td>    0.056</td> <td>   -3.651</td> <td> 0.000</td> <td>   -0.315</td> <td>   -0.094</td>\n",
       "</tr>\n",
       "<tr>\n",
       "  <th>ssc_b</th>              <td>    0.0631</td> <td>    0.052</td> <td>    1.223</td> <td> 0.223</td> <td>   -0.039</td> <td>    0.165</td>\n",
       "</tr>\n",
       "<tr>\n",
       "  <th>hsc_p</th>              <td>   -0.0735</td> <td>    0.052</td> <td>   -1.413</td> <td> 0.160</td> <td>   -0.176</td> <td>    0.029</td>\n",
       "</tr>\n",
       "<tr>\n",
       "  <th>hsc_b</th>              <td>   -0.0339</td> <td>    0.050</td> <td>   -0.676</td> <td> 0.500</td> <td>   -0.133</td> <td>    0.065</td>\n",
       "</tr>\n",
       "<tr>\n",
       "  <th>degree_p</th>           <td>   -0.1302</td> <td>    0.051</td> <td>   -2.568</td> <td> 0.011</td> <td>   -0.230</td> <td>   -0.030</td>\n",
       "</tr>\n",
       "<tr>\n",
       "  <th>workex</th>             <td>    0.1045</td> <td>    0.041</td> <td>    2.545</td> <td> 0.012</td> <td>    0.023</td> <td>    0.186</td>\n",
       "</tr>\n",
       "<tr>\n",
       "  <th>etest_p</th>            <td>    0.0282</td> <td>    0.042</td> <td>    0.668</td> <td> 0.505</td> <td>   -0.055</td> <td>    0.112</td>\n",
       "</tr>\n",
       "<tr>\n",
       "  <th>specialisation</th>     <td>   -0.0221</td> <td>    0.043</td> <td>   -0.519</td> <td> 0.604</td> <td>   -0.106</td> <td>    0.062</td>\n",
       "</tr>\n",
       "<tr>\n",
       "  <th>mba_p</th>              <td>    0.1392</td> <td>    0.046</td> <td>    3.043</td> <td> 0.003</td> <td>    0.049</td> <td>    0.230</td>\n",
       "</tr>\n",
       "<tr>\n",
       "  <th>hsc_s_Commerce</th>     <td>    0.0137</td> <td>    0.095</td> <td>    0.144</td> <td> 0.886</td> <td>   -0.175</td> <td>    0.202</td>\n",
       "</tr>\n",
       "<tr>\n",
       "  <th>hsc_s_Science</th>      <td>   -0.0347</td> <td>    0.108</td> <td>   -0.322</td> <td> 0.748</td> <td>   -0.248</td> <td>    0.179</td>\n",
       "</tr>\n",
       "<tr>\n",
       "  <th>degree_t_Comm&Mgmt</th> <td>    0.0316</td> <td>    0.113</td> <td>    0.279</td> <td> 0.781</td> <td>   -0.192</td> <td>    0.255</td>\n",
       "</tr>\n",
       "<tr>\n",
       "  <th>degree_t_Sci&Tech</th>  <td>    0.1305</td> <td>    0.119</td> <td>    1.101</td> <td> 0.273</td> <td>   -0.104</td> <td>    0.365</td>\n",
       "</tr>\n",
       "</table>\n",
       "<table class=\"simpletable\">\n",
       "<tr>\n",
       "  <th>Omnibus:</th>       <td> 1.353</td> <th>  Durbin-Watson:     </th> <td>   0.982</td>\n",
       "</tr>\n",
       "<tr>\n",
       "  <th>Prob(Omnibus):</th> <td> 0.508</td> <th>  Jarque-Bera (JB):  </th> <td>   1.260</td>\n",
       "</tr>\n",
       "<tr>\n",
       "  <th>Skew:</th>          <td> 0.089</td> <th>  Prob(JB):          </th> <td>   0.533</td>\n",
       "</tr>\n",
       "<tr>\n",
       "  <th>Kurtosis:</th>      <td> 2.588</td> <th>  Cond. No.          </th> <td>    8.67</td>\n",
       "</tr>\n",
       "</table><br/><br/>Warnings:<br/>[1] Standard Errors assume that the covariance matrix of the errors is correctly specified."
      ],
      "text/plain": [
       "<class 'statsmodels.iolib.summary.Summary'>\n",
       "\"\"\"\n",
       "                                 OLS Regression Results                                \n",
       "=======================================================================================\n",
       "Dep. Variable:                 status   R-squared (uncentered):                   0.354\n",
       "Model:                            OLS   Adj. R-squared (uncentered):              0.287\n",
       "Method:                 Least Squares   F-statistic:                              5.321\n",
       "Date:                Thu, 10 Dec 2020   Prob (F-statistic):                    5.41e-08\n",
       "Time:                        02:30:33   Log-Likelihood:                         -93.042\n",
       "No. Observations:                 150   AIC:                                      214.1\n",
       "Df Residuals:                     136   BIC:                                      256.2\n",
       "Df Model:                          14                                                  \n",
       "Covariance Type:            nonrobust                                                  \n",
       "======================================================================================\n",
       "                         coef    std err          t      P>|t|      [0.025      0.975]\n",
       "--------------------------------------------------------------------------------------\n",
       "gender                 0.0137      0.046      0.297      0.767      -0.077       0.105\n",
       "ssc_p                 -0.2043      0.056     -3.651      0.000      -0.315      -0.094\n",
       "ssc_b                  0.0631      0.052      1.223      0.223      -0.039       0.165\n",
       "hsc_p                 -0.0735      0.052     -1.413      0.160      -0.176       0.029\n",
       "hsc_b                 -0.0339      0.050     -0.676      0.500      -0.133       0.065\n",
       "degree_p              -0.1302      0.051     -2.568      0.011      -0.230      -0.030\n",
       "workex                 0.1045      0.041      2.545      0.012       0.023       0.186\n",
       "etest_p                0.0282      0.042      0.668      0.505      -0.055       0.112\n",
       "specialisation        -0.0221      0.043     -0.519      0.604      -0.106       0.062\n",
       "mba_p                  0.1392      0.046      3.043      0.003       0.049       0.230\n",
       "hsc_s_Commerce         0.0137      0.095      0.144      0.886      -0.175       0.202\n",
       "hsc_s_Science         -0.0347      0.108     -0.322      0.748      -0.248       0.179\n",
       "degree_t_Comm&Mgmt     0.0316      0.113      0.279      0.781      -0.192       0.255\n",
       "degree_t_Sci&Tech      0.1305      0.119      1.101      0.273      -0.104       0.365\n",
       "==============================================================================\n",
       "Omnibus:                        1.353   Durbin-Watson:                   0.982\n",
       "Prob(Omnibus):                  0.508   Jarque-Bera (JB):                1.260\n",
       "Skew:                           0.089   Prob(JB):                        0.533\n",
       "Kurtosis:                       2.588   Cond. No.                         8.67\n",
       "==============================================================================\n",
       "\n",
       "Warnings:\n",
       "[1] Standard Errors assume that the covariance matrix of the errors is correctly specified.\n",
       "\"\"\""
      ]
     },
     "execution_count": 113,
     "metadata": {},
     "output_type": "execute_result"
    }
   ],
   "source": [
    "# 정규화한 후 회귀모델 적합한지 확인.\n",
    "# train & 회귀모델 적합\n",
    "import statsmodels.api as sm\n",
    "full_model = sm.OLS(y_train,X_train)\n",
    "fitted_full_model = full_model.fit()\n",
    "\n",
    "fitted_full_model.summary()"
   ]
  },
  {
   "cell_type": "markdown",
   "metadata": {},
   "source": [
    "OLS(Ordinary Least Square)는 가장 기본적인 결정론적 회귀방법으로 잔차제곱합을최소화하는 가중치 벡터를 행렬미분으로 구하는 방법.    \n",
    "즉, 최소자승법으로 회귀모델을 구하는 메서드.    \n",
    "R^2를 보면 0.535로 낮은 편. 이렇게 변수가 많아질수록 변수 하나하나에 대한 신뢰도는 ... Warning을 보면 강한 다중공선성 문제가 있을 수 있다고 한다."
   ]
  },
  {
   "cell_type": "code",
   "execution_count": 114,
   "metadata": {},
   "outputs": [
    {
     "data": {
      "text/html": [
       "<div>\n",
       "<style scoped>\n",
       "    .dataframe tbody tr th:only-of-type {\n",
       "        vertical-align: middle;\n",
       "    }\n",
       "\n",
       "    .dataframe tbody tr th {\n",
       "        vertical-align: top;\n",
       "    }\n",
       "\n",
       "    .dataframe thead th {\n",
       "        text-align: right;\n",
       "    }\n",
       "</style>\n",
       "<table border=\"1\" class=\"dataframe\">\n",
       "  <thead>\n",
       "    <tr style=\"text-align: right;\">\n",
       "      <th></th>\n",
       "      <th>VIF Factor</th>\n",
       "      <th>features</th>\n",
       "    </tr>\n",
       "  </thead>\n",
       "  <tbody>\n",
       "    <tr>\n",
       "      <th>0</th>\n",
       "      <td>1.2</td>\n",
       "      <td>gender</td>\n",
       "    </tr>\n",
       "    <tr>\n",
       "      <th>1</th>\n",
       "      <td>2.0</td>\n",
       "      <td>ssc_p</td>\n",
       "    </tr>\n",
       "    <tr>\n",
       "      <th>2</th>\n",
       "      <td>1.8</td>\n",
       "      <td>ssc_b</td>\n",
       "    </tr>\n",
       "    <tr>\n",
       "      <th>3</th>\n",
       "      <td>1.9</td>\n",
       "      <td>hsc_p</td>\n",
       "    </tr>\n",
       "    <tr>\n",
       "      <th>4</th>\n",
       "      <td>1.7</td>\n",
       "      <td>hsc_b</td>\n",
       "    </tr>\n",
       "    <tr>\n",
       "      <th>5</th>\n",
       "      <td>1.7</td>\n",
       "      <td>degree_p</td>\n",
       "    </tr>\n",
       "    <tr>\n",
       "      <th>6</th>\n",
       "      <td>1.1</td>\n",
       "      <td>workex</td>\n",
       "    </tr>\n",
       "    <tr>\n",
       "      <th>7</th>\n",
       "      <td>1.2</td>\n",
       "      <td>etest_p</td>\n",
       "    </tr>\n",
       "    <tr>\n",
       "      <th>8</th>\n",
       "      <td>1.2</td>\n",
       "      <td>specialisation</td>\n",
       "    </tr>\n",
       "    <tr>\n",
       "      <th>9</th>\n",
       "      <td>1.5</td>\n",
       "      <td>mba_p</td>\n",
       "    </tr>\n",
       "    <tr>\n",
       "      <th>10</th>\n",
       "      <td>6.5</td>\n",
       "      <td>hsc_s_Commerce</td>\n",
       "    </tr>\n",
       "    <tr>\n",
       "      <th>11</th>\n",
       "      <td>7.5</td>\n",
       "      <td>hsc_s_Science</td>\n",
       "    </tr>\n",
       "    <tr>\n",
       "      <th>12</th>\n",
       "      <td>5.8</td>\n",
       "      <td>degree_t_Comm&amp;Mgmt</td>\n",
       "    </tr>\n",
       "    <tr>\n",
       "      <th>13</th>\n",
       "      <td>5.7</td>\n",
       "      <td>degree_t_Sci&amp;Tech</td>\n",
       "    </tr>\n",
       "  </tbody>\n",
       "</table>\n",
       "</div>"
      ],
      "text/plain": [
       "    VIF Factor            features\n",
       "0          1.2              gender\n",
       "1          2.0               ssc_p\n",
       "2          1.8               ssc_b\n",
       "3          1.9               hsc_p\n",
       "4          1.7               hsc_b\n",
       "5          1.7            degree_p\n",
       "6          1.1              workex\n",
       "7          1.2             etest_p\n",
       "8          1.2      specialisation\n",
       "9          1.5               mba_p\n",
       "10         6.5      hsc_s_Commerce\n",
       "11         7.5       hsc_s_Science\n",
       "12         5.8  degree_t_Comm&Mgmt\n",
       "13         5.7   degree_t_Sci&Tech"
      ]
     },
     "execution_count": 114,
     "metadata": {},
     "output_type": "execute_result"
    }
   ],
   "source": [
    "# VIF를 통한 다중공선성 확인\n",
    "\n",
    "from statsmodels.stats.outliers_influence import variance_inflation_factor\n",
    "vif = pd.DataFrame()\n",
    "vif[\"VIF Factor\"] = [variance_inflation_factor(real_data.values, i) for i in range(real_data.shape[1])]\n",
    "vif[\"features\"] = real_data.columns\n",
    "vif.round(1)"
   ]
  },
  {
   "cell_type": "markdown",
   "metadata": {},
   "source": [
    "vif가 10이 넘을 경우 다중공선성 의심. 근데 없으니까 괜찮겠지?"
   ]
  },
  {
   "cell_type": "code",
   "execution_count": 115,
   "metadata": {},
   "outputs": [],
   "source": [
    "def rmse(predictions, targets):\n",
    "    return np.sqrt(((predictions - targets) ** 2).mean())"
   ]
  },
  {
   "cell_type": "code",
   "execution_count": null,
   "metadata": {},
   "outputs": [],
   "source": []
  },
  {
   "cell_type": "code",
   "execution_count": null,
   "metadata": {},
   "outputs": [],
   "source": []
  },
  {
   "cell_type": "code",
   "execution_count": null,
   "metadata": {},
   "outputs": [],
   "source": []
  },
  {
   "cell_type": "code",
   "execution_count": null,
   "metadata": {},
   "outputs": [],
   "source": []
  },
  {
   "cell_type": "code",
   "execution_count": 116,
   "metadata": {},
   "outputs": [],
   "source": [
    "# 정규화. 표준화\n",
    "# from sklearn.preprocessing import StandardScaler\n",
    "# stdsc = StandardScaler()\n",
    "# X_train_std = stdsc.fit_transform(X_train)\n",
    "# X_test_std = stdsc.transform(X_test)"
   ]
  },
  {
   "cell_type": "code",
   "execution_count": 117,
   "metadata": {
    "scrolled": false
   },
   "outputs": [],
   "source": [
    "# pd.DataFrame(X_test_std)"
   ]
  },
  {
   "cell_type": "code",
   "execution_count": 118,
   "metadata": {
    "scrolled": true
   },
   "outputs": [
    {
     "name": "stdout",
     "output_type": "stream",
     "text": [
      "원본 데이터 형태: (150, 14)\n",
      "축소된 데이터 형태: (150, 2)\n"
     ]
    }
   ],
   "source": [
    "from sklearn.decomposition import PCA\n",
    "# 데이터의 처음 두 개 주성분만 유지시킵니다\n",
    "pca = PCA(n_components=2)\n",
    "# 유방암 데이터로 PCA 모델을 만듭니다\n",
    "pca.fit(X_train)\n",
    "\n",
    "# 처음 두 개의 주성분을 사용해 데이터를 변환합니다\n",
    "X_pca = pca.transform(X_train)\n",
    "print(\"원본 데이터 형태: {}\".format(str(X_train.shape)))\n",
    "print(\"축소된 데이터 형태: {}\".format(str(X_pca.shape)))\n",
    "\n",
    "# 원본 데이터 형태: (569, 30)\n",
    "# 축소된 데이터 형태: (569, 2)"
   ]
  },
  {
   "cell_type": "code",
   "execution_count": 232,
   "metadata": {},
   "outputs": [
    {
     "data": {
      "text/html": [
       "<div>\n",
       "<style scoped>\n",
       "    .dataframe tbody tr th:only-of-type {\n",
       "        vertical-align: middle;\n",
       "    }\n",
       "\n",
       "    .dataframe tbody tr th {\n",
       "        vertical-align: top;\n",
       "    }\n",
       "\n",
       "    .dataframe thead th {\n",
       "        text-align: right;\n",
       "    }\n",
       "</style>\n",
       "<table border=\"1\" class=\"dataframe\">\n",
       "  <thead>\n",
       "    <tr style=\"text-align: right;\">\n",
       "      <th></th>\n",
       "      <th>Classifier</th>\n",
       "      <th>F-Measure</th>\n",
       "      <th>Accuracy</th>\n",
       "    </tr>\n",
       "  </thead>\n",
       "  <tbody>\n",
       "  </tbody>\n",
       "</table>\n",
       "</div>"
      ],
      "text/plain": [
       "Empty DataFrame\n",
       "Columns: [Classifier, F-Measure, Accuracy]\n",
       "Index: []"
      ]
     },
     "execution_count": 232,
     "metadata": {},
     "output_type": "execute_result"
    }
   ],
   "source": [
    "# 성능평가 결과 입력 데이터프레임 생성\n",
    "df_per = pd.DataFrame(columns=['Classifier','F-Measure','Accuracy'])\n",
    "df_per"
   ]
  },
  {
   "cell_type": "code",
   "execution_count": null,
   "metadata": {},
   "outputs": [],
   "source": []
  },
  {
   "cell_type": "markdown",
   "metadata": {},
   "source": [
    "knn을 사용한 이유    \n",
    "먼저 이해하기 쉬운 모델이어서, 복잡한 모델을 적용하기 전에 시범적으로 사용하므로.\n"
   ]
  },
  {
   "cell_type": "code",
   "execution_count": 120,
   "metadata": {},
   "outputs": [
    {
     "data": {
      "text/plain": [
       "1.0"
      ]
     },
     "execution_count": 120,
     "metadata": {},
     "output_type": "execute_result"
    }
   ],
   "source": [
    "# KNN\n",
    "from sklearn.neighbors import KNeighborsClassifier\n",
    "knn = KNeighborsClassifier(n_neighbors=1)\n",
    "knn.fit(X_train,y_train)\n",
    "knn.score(X_train,y_train)"
   ]
  },
  {
   "cell_type": "code",
   "execution_count": 121,
   "metadata": {},
   "outputs": [
    {
     "name": "stdout",
     "output_type": "stream",
     "text": [
      "테스트 세트에 대한 예측값 : \n",
      " [1 0 0 0 1 0 0 1 0 1 0 0 0 0 1 1 1 0 1 1 1 1 0 0 0 1 0 0 0 0 1 0 0 0 1 0 0\n",
      " 1 1 0 1 1 1 0 0 0 1 0 0 0 0 1 1 0 0 0 0 0 0 0 0 0 0 0 0]\n"
     ]
    }
   ],
   "source": [
    "prediction = knn.predict(X_test)\n",
    "print(\"테스트 세트에 대한 예측값 : \\n\",prediction)"
   ]
  },
  {
   "cell_type": "code",
   "execution_count": 122,
   "metadata": {},
   "outputs": [
    {
     "name": "stdout",
     "output_type": "stream",
     "text": [
      "테스트 세트의 정확도 : 0.75\n",
      "테스트 세트의 정확도 : 0.75\n"
     ]
    }
   ],
   "source": [
    "print(\"테스트 세트의 정확도 : {:.2f}\".format(np.mean(prediction==y_test)))\n",
    "print(\"테스트 세트의 정확도 : {:.2f}\".format(knn.score(X_test,y_test)))"
   ]
  },
  {
   "cell_type": "code",
   "execution_count": 123,
   "metadata": {},
   "outputs": [
    {
     "data": {
      "text/plain": [
       "0.7538461538461538"
      ]
     },
     "execution_count": 123,
     "metadata": {},
     "output_type": "execute_result"
    }
   ],
   "source": [
    "knn.score(X_test,y_test)"
   ]
  },
  {
   "cell_type": "code",
   "execution_count": 124,
   "metadata": {},
   "outputs": [],
   "source": [
    "# Knn 최적의 파라미터를 찾는 법\n",
    "from sklearn.neighbors import KNeighborsClassifier\n",
    "from sklearn.model_selection import GridSearchCV\n",
    "from sklearn.metrics import confusion_matrix, classification_report\n",
    "knn = KNeighborsClassifier()\n",
    "param = {\n",
    "    'n_neighbors':[1,3,5,7,10,100],\n",
    "    'p':[1,2]\n",
    "}\n",
    "grid_knn = GridSearchCV(knn, param_grid = param, scoring = 'accuracy',cv= 10)"
   ]
  },
  {
   "cell_type": "code",
   "execution_count": 125,
   "metadata": {},
   "outputs": [
    {
     "data": {
      "text/plain": [
       "{'n_neighbors': 5, 'p': 2}"
      ]
     },
     "execution_count": 125,
     "metadata": {},
     "output_type": "execute_result"
    }
   ],
   "source": [
    "grid_knn.fit(X_train, y_train)\n",
    "grid_knn.best_params_"
   ]
  },
  {
   "cell_type": "code",
   "execution_count": 228,
   "metadata": {},
   "outputs": [
    {
     "name": "stdout",
     "output_type": "stream",
     "text": [
      "테스트 세트의 정확도 : 0.8154\n",
      "테스트 세트의 정확도 : 0.8154\n"
     ]
    }
   ],
   "source": [
    "knn2 = grid_knn.best_estimator_\n",
    "knn2.fit(X_train,y_train)\n",
    "pred_knn2 = knn2.predict(X_test)\n",
    "print(\"테스트 세트의 정확도 : {:.4f}\".format(knn2.score(X_test, y_test)))\n",
    "print(\"테스트 세트의 정확도 : {:.4f}\".format(np.mean(pred_knn2==y_test)))"
   ]
  },
  {
   "cell_type": "markdown",
   "metadata": {},
   "source": [
    "print(\"최고 평균 정확도 : {:.4f}\".format(grid_knn.best_score_))"
   ]
  },
  {
   "cell_type": "code",
   "execution_count": 127,
   "metadata": {},
   "outputs": [
    {
     "name": "stdout",
     "output_type": "stream",
     "text": [
      "              precision    recall  f1-score   support\n",
      "\n",
      "           0       0.84      0.91      0.87        45\n",
      "           1       0.75      0.60      0.67        20\n",
      "\n",
      "    accuracy                           0.82        65\n",
      "   macro avg       0.79      0.76      0.77        65\n",
      "weighted avg       0.81      0.82      0.81        65\n",
      "\n"
     ]
    }
   ],
   "source": [
    "print(classification_report(y_test, pred_knn2))"
   ]
  },
  {
   "cell_type": "code",
   "execution_count": 233,
   "metadata": {},
   "outputs": [
    {
     "data": {
      "text/html": [
       "<div>\n",
       "<style scoped>\n",
       "    .dataframe tbody tr th:only-of-type {\n",
       "        vertical-align: middle;\n",
       "    }\n",
       "\n",
       "    .dataframe tbody tr th {\n",
       "        vertical-align: top;\n",
       "    }\n",
       "\n",
       "    .dataframe thead th {\n",
       "        text-align: right;\n",
       "    }\n",
       "</style>\n",
       "<table border=\"1\" class=\"dataframe\">\n",
       "  <thead>\n",
       "    <tr style=\"text-align: right;\">\n",
       "      <th></th>\n",
       "      <th>Classifier</th>\n",
       "      <th>F-Measure</th>\n",
       "      <th>Accuracy</th>\n",
       "    </tr>\n",
       "  </thead>\n",
       "  <tbody>\n",
       "    <tr>\n",
       "      <th>0</th>\n",
       "      <td>knn</td>\n",
       "      <td>0.67</td>\n",
       "      <td>0.82</td>\n",
       "    </tr>\n",
       "  </tbody>\n",
       "</table>\n",
       "</div>"
      ],
      "text/plain": [
       "  Classifier  F-Measure  Accuracy\n",
       "0        knn       0.67      0.82"
      ]
     },
     "execution_count": 233,
     "metadata": {},
     "output_type": "execute_result"
    }
   ],
   "source": [
    "# 성능저장\n",
    "fm = round(f1_score(y_test,pred_knn2),2)\n",
    "ac = round(accuracy_score(y_test, pred_knn2, normalize = True),2)\n",
    "df_per.loc[len(df_per)]=['knn',fm,ac]\n",
    "df_per"
   ]
  },
  {
   "cell_type": "code",
   "execution_count": null,
   "metadata": {},
   "outputs": [],
   "source": []
  },
  {
   "cell_type": "code",
   "execution_count": 129,
   "metadata": {},
   "outputs": [
    {
     "data": {
      "text/plain": [
       "LogisticRegression()"
      ]
     },
     "execution_count": 129,
     "metadata": {},
     "output_type": "execute_result"
    }
   ],
   "source": [
    "from sklearn.linear_model import LogisticRegression\n",
    "lr = LogisticRegression()\n",
    "lr.fit(X_train, y_train)"
   ]
  },
  {
   "cell_type": "code",
   "execution_count": 130,
   "metadata": {},
   "outputs": [
    {
     "data": {
      "text/plain": [
       "0.9133333333333333"
      ]
     },
     "execution_count": 130,
     "metadata": {},
     "output_type": "execute_result"
    }
   ],
   "source": [
    "lr.score(X_train, y_train)"
   ]
  },
  {
   "cell_type": "code",
   "execution_count": 131,
   "metadata": {},
   "outputs": [
    {
     "data": {
      "text/plain": [
       "0.8615384615384616"
      ]
     },
     "execution_count": 131,
     "metadata": {},
     "output_type": "execute_result"
    }
   ],
   "source": [
    "lr.score(X_test, y_test)"
   ]
  },
  {
   "cell_type": "code",
   "execution_count": 132,
   "metadata": {},
   "outputs": [
    {
     "name": "stdout",
     "output_type": "stream",
     "text": [
      "테스트 세트에 대한 예측값 : \n",
      " [1 0 1 0 1 0 0 1 0 1 1 0 1 0 0 0 1 0 0 1 1 1 0 0 0 1 1 0 0 0 0 0 0 0 0 1 0\n",
      " 0 1 0 0 0 1 0 1 0 1 0 0 0 0 0 1 0 0 1 0 1 0 0 0 0 1 1 0]\n"
     ]
    }
   ],
   "source": [
    "prediction = lr.predict(X_test)\n",
    "print(\"테스트 세트에 대한 예측값 : \\n\",prediction)"
   ]
  },
  {
   "cell_type": "code",
   "execution_count": 133,
   "metadata": {},
   "outputs": [
    {
     "name": "stdout",
     "output_type": "stream",
     "text": [
      "테스트 세트의 정확도 : 0.86\n",
      "테스트 세트의 정확도 : 0.86\n"
     ]
    }
   ],
   "source": [
    "print(\"테스트 세트의 정확도 : {:.2f}\".format(np.mean(prediction==y_test)))\n",
    "print(\"테스트 세트의 정확도 : {:.2f}\".format(lr.score(X_test,y_test)))"
   ]
  },
  {
   "cell_type": "code",
   "execution_count": 134,
   "metadata": {},
   "outputs": [
    {
     "name": "stdout",
     "output_type": "stream",
     "text": [
      "R2 score : 0.35\n"
     ]
    }
   ],
   "source": [
    "from sklearn.metrics import r2_score\n",
    "print(\"R2 score : \" + str(r2_score(y_test, prediction)))"
   ]
  },
  {
   "cell_type": "code",
   "execution_count": 135,
   "metadata": {},
   "outputs": [
    {
     "name": "stdout",
     "output_type": "stream",
     "text": [
      "[[ 0.35280298 -2.29961393  0.07703632 -0.58922337  0.15887704 -1.07310986\n",
      "   1.03442411  0.16055409  0.08290218  1.06260624  0.34966064  0.54334188\n",
      "  -0.36683963  0.34817501]]\n",
      "[-1.61572009]\n"
     ]
    }
   ],
   "source": [
    "print(lr.coef_)\n",
    "print(lr.intercept_)"
   ]
  },
  {
   "cell_type": "code",
   "execution_count": null,
   "metadata": {},
   "outputs": [],
   "source": []
  },
  {
   "cell_type": "code",
   "execution_count": 136,
   "metadata": {},
   "outputs": [],
   "source": [
    "from sklearn.model_selection import GridSearchCV\n",
    "# 최적의 파라미터를 찾는 법\n",
    "param = {\n",
    "    'C' : [0.0001,0.01,0.1,1,10,100,1000,10000],\n",
    "    'solver' : ['liblinear'],\n",
    "    #'solver' : ['newton-cg', 'lbfgs', 'liblinear', 'sag'],\n",
    "    'penalty' : ['l1','l2']\n",
    "    # gamma는 일종의 상수값을 변동시킬 수 있었음.\n",
    "}\n",
    "grid_lr = GridSearchCV(lr, param_grid = param,cv= 13)"
   ]
  },
  {
   "cell_type": "code",
   "execution_count": 137,
   "metadata": {},
   "outputs": [
    {
     "data": {
      "text/plain": [
       "{'C': 100, 'penalty': 'l1', 'solver': 'liblinear'}"
      ]
     },
     "execution_count": 137,
     "metadata": {},
     "output_type": "execute_result"
    }
   ],
   "source": [
    "grid_lr.fit(X_train,y_train)\n",
    "grid_lr.best_params_"
   ]
  },
  {
   "cell_type": "code",
   "execution_count": 138,
   "metadata": {},
   "outputs": [],
   "source": [
    "# Report\n",
    "from sklearn.metrics import confusion_matrix, classification_report\n",
    "# random forest\n",
    "from sklearn.ensemble import RandomForestClassifier"
   ]
  },
  {
   "cell_type": "code",
   "execution_count": 139,
   "metadata": {},
   "outputs": [
    {
     "name": "stdout",
     "output_type": "stream",
     "text": [
      "              precision    recall  f1-score   support\n",
      "\n",
      "           0       0.93      0.87      0.90        45\n",
      "           1       0.74      0.85      0.79        20\n",
      "\n",
      "    accuracy                           0.86        65\n",
      "   macro avg       0.83      0.86      0.84        65\n",
      "weighted avg       0.87      0.86      0.86        65\n",
      "\n"
     ]
    }
   ],
   "source": [
    "# 최적의 조합으로\n",
    "lr3 = grid_lr.best_estimator_\n",
    "lr3.fit(X_train,y_train)\n",
    "pred_lr3 = lr3.predict(X_test)\n",
    "print(classification_report(y_test, pred_lr3))"
   ]
  },
  {
   "cell_type": "code",
   "execution_count": 140,
   "metadata": {},
   "outputs": [
    {
     "name": "stdout",
     "output_type": "stream",
     "text": [
      "테스트 세트의 정확도 : 0.86\n",
      "테스트 점수 : 0.86\n"
     ]
    }
   ],
   "source": [
    "# predict로 예측.\n",
    "print(\"테스트 세트의 정확도 : {:.2f}\".format(np.mean(pred_lr3==y_test)))\n",
    "print(\"테스트 점수 : {:.2f}\".format(lr3.score(X_test, y_test)))"
   ]
  },
  {
   "cell_type": "code",
   "execution_count": 141,
   "metadata": {},
   "outputs": [],
   "source": [
    "fm = round(f1_score(y_test, pred_lr3,average='weighted'),2)"
   ]
  },
  {
   "cell_type": "code",
   "execution_count": 142,
   "metadata": {},
   "outputs": [
    {
     "name": "stdout",
     "output_type": "stream",
     "text": [
      "R2 score : 0.35\n"
     ]
    }
   ],
   "source": [
    "from sklearn.metrics import r2_score\n",
    "print(\"R2 score : \" + str(r2_score(y_test, pred_lr3)))"
   ]
  },
  {
   "cell_type": "code",
   "execution_count": 143,
   "metadata": {},
   "outputs": [
    {
     "name": "stdout",
     "output_type": "stream",
     "text": [
      "[[ 0.53260127 -3.94785862 -0.10405585 -0.58575836  0.58937279 -1.49021044\n",
      "   1.58937755  0.30070451  0.321031    1.66591791  1.13114713  1.76078147\n",
      "  -0.98567387 -0.0537646 ]]\n",
      "[-2.25208363]\n"
     ]
    }
   ],
   "source": [
    "print(lr3.coef_)\n",
    "print(lr3.intercept_)"
   ]
  },
  {
   "cell_type": "markdown",
   "metadata": {},
   "source": [
    "accuracy_score 함수를 사용해 마찬가지로 실제 값과 예측 값을 비교해 accuracy를 구함   \n",
    "normalize = True를 사용해 정확도를 출력   \n",
    "round 함수를 사용해 소수점 2번째 자리까지 표현   \n",
    "▼이렇게 구한 정확도를 변수 ac에 저장"
   ]
  },
  {
   "cell_type": "code",
   "execution_count": 144,
   "metadata": {},
   "outputs": [],
   "source": [
    "ac = round(accuracy_score(y_test,pred_lr3,normalize = True),2)"
   ]
  },
  {
   "cell_type": "code",
   "execution_count": 145,
   "metadata": {},
   "outputs": [
    {
     "data": {
      "text/html": [
       "<div>\n",
       "<style scoped>\n",
       "    .dataframe tbody tr th:only-of-type {\n",
       "        vertical-align: middle;\n",
       "    }\n",
       "\n",
       "    .dataframe tbody tr th {\n",
       "        vertical-align: top;\n",
       "    }\n",
       "\n",
       "    .dataframe thead th {\n",
       "        text-align: right;\n",
       "    }\n",
       "</style>\n",
       "<table border=\"1\" class=\"dataframe\">\n",
       "  <thead>\n",
       "    <tr style=\"text-align: right;\">\n",
       "      <th></th>\n",
       "      <th>Classifier</th>\n",
       "      <th>F-Measure</th>\n",
       "      <th>Accuracy</th>\n",
       "    </tr>\n",
       "  </thead>\n",
       "  <tbody>\n",
       "    <tr>\n",
       "      <th>0</th>\n",
       "      <td>knn</td>\n",
       "      <td>0.67</td>\n",
       "      <td>0.82</td>\n",
       "    </tr>\n",
       "    <tr>\n",
       "      <th>1</th>\n",
       "      <td>Logistic Regression(liblinear)</td>\n",
       "      <td>0.86</td>\n",
       "      <td>0.86</td>\n",
       "    </tr>\n",
       "  </tbody>\n",
       "</table>\n",
       "</div>"
      ],
      "text/plain": [
       "                       Classifier  F-Measure  Accuracy\n",
       "0                             knn       0.67      0.82\n",
       "1  Logistic Regression(liblinear)       0.86      0.86"
      ]
     },
     "execution_count": 145,
     "metadata": {},
     "output_type": "execute_result"
    }
   ],
   "source": [
    "# fm과 ac를 데이터프레임 df_per에 loc함수를 사용해 입력\n",
    "df_per.loc[len(df_per)]=[\"Logistic Regression(liblinear)\",fm,ac]\n",
    "df_per"
   ]
  },
  {
   "cell_type": "code",
   "execution_count": 146,
   "metadata": {},
   "outputs": [
    {
     "name": "stdout",
     "output_type": "stream",
     "text": [
      "테스트 세트의 정확도 : 0.8615\n"
     ]
    }
   ],
   "source": [
    "lr = LogisticRegression(solver = 'saga', penalty = 'l2', C = 10, max_iter = 4000,random_state = 42)\n",
    "lr.fit(X_train, y_train)\n",
    "lr.score(X_test, y_test)\n",
    "prediction=lr.predict(X_test)\n",
    "print(\"테스트 세트의 정확도 : {:.4f}\".format(np.mean(prediction==y_test)))"
   ]
  },
  {
   "cell_type": "code",
   "execution_count": 147,
   "metadata": {},
   "outputs": [],
   "source": [
    "param = {\n",
    "    'C' : [0.0001,0.01,0.1,1,10,100,1000,10000],\n",
    "    'solver' : ['saga'],\n",
    "    #'solver' : ['newton-cg', 'lbfgs', 'liblinear', 'sag'],\n",
    "    # 최적화에 사용할 알고리즘 결정\n",
    "    # 'sag', 'lbfgs', 'newton-cg'는 l2만 지원\n",
    "    'penalty' : ['l2']\n",
    "    # gamma는 일종의 상수값을 변동시킬 수 있었음.\n",
    "}\n",
    "lr = LogisticRegression(max_iter = 4000)\n",
    "# 수렴경고땜시 넣음\n",
    "grid_lrg = GridSearchCV(lr, param_grid = param, scoring = 'accuracy',cv= 13)"
   ]
  },
  {
   "cell_type": "markdown",
   "metadata": {},
   "source": [
    "sag는 Stochastic Average Gradient    \n",
    "SAGA 알고리즘은 Ridge, RidgeClassifier, LogisticRegression 등에 solver 매개변수를 ‘saga’로 설정하여 사용할 수 있습니다. 이 모델들은 대량의 데이터셋에서 SAG 알고리즘을 사용할 수 있었는데 SAGA가 SAG 보다 성능이 좋으므로 데이터셋이 클 경우 SAGA를 항상 사용하는 것이 좋을 것 같습니다."
   ]
  },
  {
   "cell_type": "code",
   "execution_count": null,
   "metadata": {},
   "outputs": [],
   "source": []
  },
  {
   "cell_type": "code",
   "execution_count": 148,
   "metadata": {},
   "outputs": [
    {
     "data": {
      "text/plain": [
       "{'C': 100, 'penalty': 'l2', 'solver': 'saga'}"
      ]
     },
     "execution_count": 148,
     "metadata": {},
     "output_type": "execute_result"
    }
   ],
   "source": [
    "import warnings\n",
    "warnings.filterwarnings(action='ignore')\n",
    "#warnings.filterwarnings(action='default')\n",
    "grid_lrg.fit(X_train,y_train)\n",
    "grid_lrg.best_params_"
   ]
  },
  {
   "cell_type": "code",
   "execution_count": 149,
   "metadata": {
    "scrolled": true
   },
   "outputs": [
    {
     "name": "stdout",
     "output_type": "stream",
     "text": [
      "테스트 세트의 정확도 : 0.8615\n",
      "최고 평균 정확도 : 0.8788\n",
      "테스트 정확도:0.862\n"
     ]
    }
   ],
   "source": [
    "lrg2 = grid_lrg.best_estimator_\n",
    "lrg2.fit(X_train,y_train)\n",
    "pred_lrg2 = lrg2.predict(X_test)\n",
    "print(\"테스트 세트의 정확도 : {:.4f}\".format(np.mean(pred_lrg2==y_test)))\n",
    "print(\"최고 평균 정확도 : {:.4f}\".format(grid_lrg.best_score_))\n",
    "print('테스트 정확도:%.3f' % lrg2.score(X_test,y_test) )"
   ]
  },
  {
   "cell_type": "code",
   "execution_count": 150,
   "metadata": {},
   "outputs": [
    {
     "name": "stdout",
     "output_type": "stream",
     "text": [
      "              precision    recall  f1-score   support\n",
      "\n",
      "           0       0.93      0.87      0.90        45\n",
      "           1       0.74      0.85      0.79        20\n",
      "\n",
      "    accuracy                           0.86        65\n",
      "   macro avg       0.83      0.86      0.84        65\n",
      "weighted avg       0.87      0.86      0.86        65\n",
      "\n"
     ]
    }
   ],
   "source": [
    "print(classification_report(y_test, pred_lrg2))"
   ]
  },
  {
   "cell_type": "code",
   "execution_count": 151,
   "metadata": {
    "scrolled": true
   },
   "outputs": [
    {
     "data": {
      "text/html": [
       "<div>\n",
       "<style scoped>\n",
       "    .dataframe tbody tr th:only-of-type {\n",
       "        vertical-align: middle;\n",
       "    }\n",
       "\n",
       "    .dataframe tbody tr th {\n",
       "        vertical-align: top;\n",
       "    }\n",
       "\n",
       "    .dataframe thead th {\n",
       "        text-align: right;\n",
       "    }\n",
       "</style>\n",
       "<table border=\"1\" class=\"dataframe\">\n",
       "  <thead>\n",
       "    <tr style=\"text-align: right;\">\n",
       "      <th></th>\n",
       "      <th>Classifier</th>\n",
       "      <th>F-Measure</th>\n",
       "      <th>Accuracy</th>\n",
       "    </tr>\n",
       "  </thead>\n",
       "  <tbody>\n",
       "    <tr>\n",
       "      <th>0</th>\n",
       "      <td>knn</td>\n",
       "      <td>0.67</td>\n",
       "      <td>0.82</td>\n",
       "    </tr>\n",
       "    <tr>\n",
       "      <th>1</th>\n",
       "      <td>Logistic Regression(liblinear)</td>\n",
       "      <td>0.86</td>\n",
       "      <td>0.86</td>\n",
       "    </tr>\n",
       "    <tr>\n",
       "      <th>2</th>\n",
       "      <td>Logistic Regression(saga)</td>\n",
       "      <td>0.79</td>\n",
       "      <td>0.86</td>\n",
       "    </tr>\n",
       "  </tbody>\n",
       "</table>\n",
       "</div>"
      ],
      "text/plain": [
       "                       Classifier  F-Measure  Accuracy\n",
       "0                             knn       0.67      0.82\n",
       "1  Logistic Regression(liblinear)       0.86      0.86\n",
       "2       Logistic Regression(saga)       0.79      0.86"
      ]
     },
     "execution_count": 151,
     "metadata": {},
     "output_type": "execute_result"
    }
   ],
   "source": [
    "# 성능저장\n",
    "fm = round(f1_score(y_test,pred_lrg2),2)\n",
    "ac = round(accuracy_score(y_test, pred_lrg2, normalize = True),2)\n",
    "df_per.loc[len(df_per)]=['Logistic Regression(saga)',fm,ac]\n",
    "df_per"
   ]
  },
  {
   "cell_type": "markdown",
   "metadata": {},
   "source": [
    "과대적합을 방지하기 위해 피처의 계수를 가능한 작게 해준다.    \n",
    "모든 피처의 회귀계수를 작게 하여 각 피처가 주는 영향력(다중공선성 방지)을 최소화 한다.    \n",
    "이를 규제라고 함. L2규제"
   ]
  },
  {
   "cell_type": "code",
   "execution_count": 152,
   "metadata": {},
   "outputs": [],
   "source": [
    "# Ridge 회귀\n",
    "from sklearn.linear_model import Ridge\n",
    "ridge = Ridge()\n",
    "param = {\n",
    "    'alpha' : [0.0001,0.01,0.1,1,10,100,1000,10000],\n",
    "    }\n",
    "\n",
    "# 수렴경고땜시 넣음\n",
    "grid_rid = GridSearchCV(ridge, param_grid = param, cv= 13)"
   ]
  },
  {
   "cell_type": "code",
   "execution_count": 153,
   "metadata": {},
   "outputs": [
    {
     "data": {
      "text/plain": [
       "{'alpha': 10}"
      ]
     },
     "execution_count": 153,
     "metadata": {},
     "output_type": "execute_result"
    }
   ],
   "source": [
    "grid_rid.fit(X_train,y_train)\n",
    "grid_rid.best_params_"
   ]
  },
  {
   "cell_type": "code",
   "execution_count": 154,
   "metadata": {},
   "outputs": [
    {
     "name": "stdout",
     "output_type": "stream",
     "text": [
      "최고 평균 정확도 : 0.4013\n",
      "테스트 정확도:0.514\n",
      "평가용 데이터 세트 점수 : 0.51\n"
     ]
    }
   ],
   "source": [
    "rid2 = grid_rid.best_estimator_\n",
    "rid2.fit(X_train,y_train)\n",
    "pred_rid2 = rid2.predict(X_test)\n",
    "print(\"최고 평균 정확도 : {:.4f}\".format(grid_rid.best_score_))\n",
    "print('테스트 정확도:%.3f' % rid2.score(X_test,y_test) )\n",
    "print(\"평가용 데이터 세트 점수 : {:.2f}\".format(rid2.score(X_test, y_test)))"
   ]
  },
  {
   "cell_type": "code",
   "execution_count": null,
   "metadata": {},
   "outputs": [],
   "source": []
  },
  {
   "cell_type": "code",
   "execution_count": 155,
   "metadata": {},
   "outputs": [],
   "source": [
    "# 라쏘 회귀\n",
    "from sklearn.linear_model import Lasso\n",
    "lasso = Lasso(max_iter = 10000)\n",
    "param = {\n",
    "    'alpha' : [0.0001,0.01,0.1,1,10,100,1000,10000]\n",
    "    }\n",
    "grid_las = GridSearchCV(lasso, param_grid = param, cv= 13)"
   ]
  },
  {
   "cell_type": "code",
   "execution_count": 156,
   "metadata": {},
   "outputs": [
    {
     "data": {
      "text/plain": [
       "{'alpha': 0.01}"
      ]
     },
     "execution_count": 156,
     "metadata": {},
     "output_type": "execute_result"
    }
   ],
   "source": [
    "grid_las.fit(X_train,y_train)\n",
    "grid_las.best_params_"
   ]
  },
  {
   "cell_type": "code",
   "execution_count": 157,
   "metadata": {},
   "outputs": [
    {
     "name": "stdout",
     "output_type": "stream",
     "text": [
      "최고 평균 정확도 : 0.3888\n",
      "테스트 정확도:0.504\n",
      "평가용 데이터 세트 점수 : 0.50\n"
     ]
    }
   ],
   "source": [
    "las2 = grid_las.best_estimator_\n",
    "las2.fit(X_train,y_train)\n",
    "pred_las2 = las2.predict(X_test)\n",
    "print(\"최고 평균 정확도 : {:.4f}\".format(grid_las.best_score_))\n",
    "print('테스트 정확도:%.3f' % las2.score(X_test,y_test) )\n",
    "print(\"평가용 데이터 세트 점수 : {:.2f}\".format(las2.score(X_test, y_test)))"
   ]
  },
  {
   "cell_type": "code",
   "execution_count": null,
   "metadata": {},
   "outputs": [],
   "source": []
  },
  {
   "cell_type": "code",
   "execution_count": null,
   "metadata": {},
   "outputs": [],
   "source": []
  },
  {
   "cell_type": "code",
   "execution_count": 158,
   "metadata": {},
   "outputs": [
    {
     "name": "stdout",
     "output_type": "stream",
     "text": [
      "테스트 점수 : 0.83\n"
     ]
    }
   ],
   "source": [
    "from sklearn.tree import DecisionTreeClassifier\n",
    "tree = DecisionTreeClassifier(max_depth=2).fit(X_train,y_train)\n",
    "# 트리의 깊이는 보통 2칸. 이진트리니까 2개씩 갈라지는 것.\n",
    "pred_tree = tree.predict(X_test)\n",
    "# predict로 예측.\n",
    "print(\"테스트 점수 : {:.2f}\".format(tree.score(X_test, y_test)))"
   ]
  },
  {
   "cell_type": "code",
   "execution_count": 159,
   "metadata": {},
   "outputs": [],
   "source": [
    "#estimator.get_params().keys()"
   ]
  },
  {
   "cell_type": "code",
   "execution_count": 160,
   "metadata": {},
   "outputs": [],
   "source": [
    "from sklearn.neighbors import KNeighborsClassifier\n",
    "knn = KNeighborsClassifier(n_neighbors=1)"
   ]
  },
  {
   "cell_type": "code",
   "execution_count": 161,
   "metadata": {},
   "outputs": [
    {
     "data": {
      "text/plain": [
       "KNeighborsClassifier(n_neighbors=1)"
      ]
     },
     "execution_count": 161,
     "metadata": {},
     "output_type": "execute_result"
    }
   ],
   "source": [
    "knn.fit(X_train,y_train)"
   ]
  },
  {
   "cell_type": "code",
   "execution_count": 162,
   "metadata": {},
   "outputs": [
    {
     "name": "stdout",
     "output_type": "stream",
     "text": [
      "테스트 세트에 대한 예측값 : \n",
      " [1 0 0 0 1 0 0 1 0 1 0 0 0 0 1 1 1 0 1 1 1 1 0 0 0 1 0 0 0 0 1 0 0 0 1 0 0\n",
      " 1 1 0 1 1 1 0 0 0 1 0 0 0 0 1 1 0 0 0 0 0 0 0 0 0 0 0 0]\n"
     ]
    }
   ],
   "source": [
    "prediction = knn.predict(X_test)\n",
    "print(\"테스트 세트에 대한 예측값 : \\n\",prediction)"
   ]
  },
  {
   "cell_type": "code",
   "execution_count": 163,
   "metadata": {},
   "outputs": [
    {
     "name": "stdout",
     "output_type": "stream",
     "text": [
      "테스트 세트의 정확도 : 0.75\n",
      "테스트 세트의 정확도 : 0.75\n"
     ]
    }
   ],
   "source": [
    "print(\"테스트 세트의 정확도 : {:.2f}\".format(np.mean(prediction==y_test)))\n",
    "print(\"테스트 세트의 정확도 : {:.2f}\".format(knn.score(X_test,y_test)))"
   ]
  },
  {
   "cell_type": "code",
   "execution_count": 164,
   "metadata": {},
   "outputs": [
    {
     "name": "stdout",
     "output_type": "stream",
     "text": [
      "테스트 점수 : 0.86\n"
     ]
    }
   ],
   "source": [
    "# 위에서 했는데 또함.\n",
    "from sklearn.linear_model import LogisticRegression\n",
    "logreg = LogisticRegression()\n",
    "logreg.fit(X_train,y_train)\n",
    "print(\"테스트 점수 : {:.2f}\".format(logreg.score(X_test,y_test)))"
   ]
  },
  {
   "cell_type": "code",
   "execution_count": 165,
   "metadata": {},
   "outputs": [
    {
     "name": "stdout",
     "output_type": "stream",
     "text": [
      "테스트 점수 : 0.83\n"
     ]
    }
   ],
   "source": [
    "# 실제 분류기를 사용하여 정확도를 측정한다\n",
    "from sklearn.tree import DecisionTreeClassifier\n",
    "tree = DecisionTreeClassifier(max_depth=2).fit(X_train,y_train)\n",
    "# 트리의 깊이는 보통 2칸. 이진트리니까 2개씩 갈라지는 것.\n",
    "pred_tree = tree.predict(X_test)\n",
    "# predict로 예측.\n",
    "print(\"테스트 점수 : {:.2f}\".format(tree.score(X_test, y_test)))"
   ]
  },
  {
   "cell_type": "code",
   "execution_count": 166,
   "metadata": {},
   "outputs": [],
   "source": [
    "# Decision Tree 최적의 파라미터를 찾는 법\n",
    "from sklearn.tree import DecisionTreeClassifier\n",
    "dtc = DecisionTreeClassifier()\n",
    "param = {\n",
    "    'criterion':['gini','entropy'],\n",
    "    'max_depth':[2,3,5,7,10,100],\n",
    "    'min_samples_split':[2,5,10]\n",
    "}\n",
    "grid_dtc = GridSearchCV(dtc, param_grid = param, scoring = 'accuracy',cv= 10)"
   ]
  },
  {
   "cell_type": "code",
   "execution_count": 167,
   "metadata": {},
   "outputs": [
    {
     "data": {
      "text/plain": [
       "{'criterion': 'entropy', 'max_depth': 5, 'min_samples_split': 5}"
      ]
     },
     "execution_count": 167,
     "metadata": {},
     "output_type": "execute_result"
    }
   ],
   "source": [
    "grid_dtc.fit(X_train, y_train)\n",
    "grid_dtc.best_params_"
   ]
  },
  {
   "cell_type": "code",
   "execution_count": 231,
   "metadata": {},
   "outputs": [
    {
     "name": "stdout",
     "output_type": "stream",
     "text": [
      "테스트 세트의 정확도 : 0.7385\n"
     ]
    }
   ],
   "source": [
    "dtc2 = grid_dtc.best_estimator_\n",
    "dtc2.fit(X_train,y_train)\n",
    "pred_dtc2 = dtc2.predict(X_test)\n",
    "print(\"테스트 세트의 정확도 : {:.4f}\".format(dtc2.score(X_test, y_test)))"
   ]
  },
  {
   "cell_type": "code",
   "execution_count": 169,
   "metadata": {},
   "outputs": [
    {
     "name": "stdout",
     "output_type": "stream",
     "text": [
      "              precision    recall  f1-score   support\n",
      "\n",
      "           0       0.87      0.76      0.81        45\n",
      "           1       0.58      0.75      0.65        20\n",
      "\n",
      "    accuracy                           0.75        65\n",
      "   macro avg       0.72      0.75      0.73        65\n",
      "weighted avg       0.78      0.75      0.76        65\n",
      "\n"
     ]
    }
   ],
   "source": [
    "print(classification_report(y_test,pred_dtc2))"
   ]
  },
  {
   "cell_type": "code",
   "execution_count": 234,
   "metadata": {},
   "outputs": [
    {
     "data": {
      "text/html": [
       "<div>\n",
       "<style scoped>\n",
       "    .dataframe tbody tr th:only-of-type {\n",
       "        vertical-align: middle;\n",
       "    }\n",
       "\n",
       "    .dataframe tbody tr th {\n",
       "        vertical-align: top;\n",
       "    }\n",
       "\n",
       "    .dataframe thead th {\n",
       "        text-align: right;\n",
       "    }\n",
       "</style>\n",
       "<table border=\"1\" class=\"dataframe\">\n",
       "  <thead>\n",
       "    <tr style=\"text-align: right;\">\n",
       "      <th></th>\n",
       "      <th>Classifier</th>\n",
       "      <th>F-Measure</th>\n",
       "      <th>Accuracy</th>\n",
       "    </tr>\n",
       "  </thead>\n",
       "  <tbody>\n",
       "    <tr>\n",
       "      <th>0</th>\n",
       "      <td>knn</td>\n",
       "      <td>0.67</td>\n",
       "      <td>0.82</td>\n",
       "    </tr>\n",
       "    <tr>\n",
       "      <th>1</th>\n",
       "      <td>Decision Tree</td>\n",
       "      <td>0.64</td>\n",
       "      <td>0.74</td>\n",
       "    </tr>\n",
       "  </tbody>\n",
       "</table>\n",
       "</div>"
      ],
      "text/plain": [
       "      Classifier  F-Measure  Accuracy\n",
       "0            knn       0.67      0.82\n",
       "1  Decision Tree       0.64      0.74"
      ]
     },
     "execution_count": 234,
     "metadata": {},
     "output_type": "execute_result"
    }
   ],
   "source": [
    "# 성능저장\n",
    "fm = round(f1_score(y_test,pred_dtc2),2)\n",
    "ac = round(accuracy_score(y_test, pred_dtc2, normalize = True),2)\n",
    "df_per.loc[len(df_per)]=['Decision Tree',fm,ac]\n",
    "df_per"
   ]
  },
  {
   "cell_type": "code",
   "execution_count": null,
   "metadata": {},
   "outputs": [],
   "source": []
  },
  {
   "cell_type": "code",
   "execution_count": 171,
   "metadata": {},
   "outputs": [],
   "source": [
    "# Report\n",
    "from sklearn.metrics import confusion_matrix, classification_report\n",
    "# random forest\n",
    "from sklearn.ensemble import RandomForestClassifier"
   ]
  },
  {
   "cell_type": "code",
   "execution_count": null,
   "metadata": {},
   "outputs": [],
   "source": []
  },
  {
   "cell_type": "code",
   "execution_count": 172,
   "metadata": {},
   "outputs": [],
   "source": [
    "rfc = RandomForestClassifier(n_estimators=200)\n",
    "rfc.fit(X_train,y_train)\n",
    "pred_rfc = rfc.predict(X_test) \n",
    "# y hat, prediction of y"
   ]
  },
  {
   "cell_type": "code",
   "execution_count": 173,
   "metadata": {},
   "outputs": [
    {
     "name": "stdout",
     "output_type": "stream",
     "text": [
      "              precision    recall  f1-score   support\n",
      "\n",
      "           0       0.91      0.93      0.92        45\n",
      "           1       0.84      0.80      0.82        20\n",
      "\n",
      "    accuracy                           0.89        65\n",
      "   macro avg       0.88      0.87      0.87        65\n",
      "weighted avg       0.89      0.89      0.89        65\n",
      "\n"
     ]
    }
   ],
   "source": [
    "print(classification_report(y_test,pred_rfc))"
   ]
  },
  {
   "cell_type": "code",
   "execution_count": 174,
   "metadata": {},
   "outputs": [
    {
     "name": "stdout",
     "output_type": "stream",
     "text": [
      "[[42  3]\n",
      " [ 4 16]]\n"
     ]
    }
   ],
   "source": [
    "print(confusion_matrix(y_test,pred_rfc))"
   ]
  },
  {
   "cell_type": "markdown",
   "metadata": {},
   "source": [
    "0을 0으로 분류한 것이 41개, 1을 1로 분류한게 17개.    \n",
    "\"Placed\":0,\"Not Placed\":1로 설정했었음.    "
   ]
  },
  {
   "cell_type": "code",
   "execution_count": 175,
   "metadata": {},
   "outputs": [],
   "source": [
    "from sklearn.ensemble import RandomForestClassifier\n",
    "rfc = RandomForestClassifier()\n",
    "rf_param_grid = {\n",
    "    'n_estimators' : [100,200],\n",
    "    # 결정트리 개수\n",
    "    'max_depth' : [3,5,7,9],\n",
    "    # 트리의 깊이\n",
    "    'min_samples_split' : [2,3,5]\n",
    "    # 노드를 분할하기 위한 최소한의 데이터 수\n",
    "}\n",
    "grid_rfc = GridSearchCV(rfc, param_grid = rf_param_grid, scoring = 'accuracy',cv= 10)"
   ]
  },
  {
   "cell_type": "code",
   "execution_count": 176,
   "metadata": {},
   "outputs": [
    {
     "data": {
      "text/plain": [
       "{'max_depth': 7, 'min_samples_split': 5, 'n_estimators': 100}"
      ]
     },
     "execution_count": 176,
     "metadata": {},
     "output_type": "execute_result"
    }
   ],
   "source": [
    "grid_rfc.fit(X_train,y_train)\n",
    "grid_rfc.best_params_"
   ]
  },
  {
   "cell_type": "code",
   "execution_count": 238,
   "metadata": {},
   "outputs": [
    {
     "name": "stdout",
     "output_type": "stream",
     "text": [
      "테스트 세트의 정확도 : 0.8769\n"
     ]
    }
   ],
   "source": [
    "rfc2 = grid_rfc.best_estimator_\n",
    "rfc2.fit(X_train,y_train)\n",
    "pred_rfc2 = rfc2.predict(X_test)\n",
    "print(\"테스트 세트의 정확도 : {:.4f}\".format(rfc2.score(X_test, y_test)))"
   ]
  },
  {
   "cell_type": "code",
   "execution_count": 177,
   "metadata": {
    "scrolled": false
   },
   "outputs": [
    {
     "name": "stdout",
     "output_type": "stream",
     "text": [
      "              precision    recall  f1-score   support\n",
      "\n",
      "           0       0.89      0.93      0.91        45\n",
      "           1       0.83      0.75      0.79        20\n",
      "\n",
      "    accuracy                           0.88        65\n",
      "   macro avg       0.86      0.84      0.85        65\n",
      "weighted avg       0.88      0.88      0.88        65\n",
      "\n"
     ]
    }
   ],
   "source": [
    "# 최적의 조합으로\n",
    "rfc2 = grid_rfc.best_estimator_\n",
    "rfc2.fit(X_train,y_train)\n",
    "pred_rfc2 = rfc2.predict(X_test)\n",
    "print(classification_report(y_test, pred_rfc2))\n",
    "# print(\"테스트 데이터 예측 정확도 : {:.2f}\".format(np.mean(pred_rfc2==y_test))"
   ]
  },
  {
   "cell_type": "code",
   "execution_count": 239,
   "metadata": {},
   "outputs": [
    {
     "name": "stdout",
     "output_type": "stream",
     "text": [
      "              precision    recall  f1-score   support\n",
      "\n",
      "           0       0.89      0.93      0.91        45\n",
      "           1       0.83      0.75      0.79        20\n",
      "\n",
      "    accuracy                           0.88        65\n",
      "   macro avg       0.86      0.84      0.85        65\n",
      "weighted avg       0.88      0.88      0.88        65\n",
      "\n"
     ]
    }
   ],
   "source": [
    "print(classification_report(y_test, pred_rfc2))"
   ]
  },
  {
   "cell_type": "code",
   "execution_count": 178,
   "metadata": {},
   "outputs": [
    {
     "name": "stdout",
     "output_type": "stream",
     "text": [
      "테스트 세트에 대한 예측값 : \n",
      " [1 0 0 0 1 0 0 1 0 1 0 0 0 0 1 1 1 0 1 1 1 1 0 0 0 1 0 0 0 0 1 0 0 0 1 0 0\n",
      " 1 1 0 1 1 1 0 0 0 1 0 0 0 0 1 1 0 0 0 0 0 0 0 0 0 0 0 0]\n"
     ]
    },
    {
     "data": {
      "text/plain": [
       "array([1, 0, 1, 0, 1, 0, 0, 1, 0, 1, 0, 0, 1, 0, 0, 0, 1, 0, 0, 1, 1, 1,\n",
       "       0, 0, 0, 0, 0, 0, 0, 0, 0, 0, 0, 0, 0, 1, 0, 0, 1, 0, 0, 0, 1, 0,\n",
       "       0, 0, 1, 0, 0, 0, 0, 0, 1, 0, 0, 1, 0, 0, 0, 0, 0, 0, 1, 1, 0],\n",
       "      dtype=int64)"
      ]
     },
     "execution_count": 178,
     "metadata": {},
     "output_type": "execute_result"
    }
   ],
   "source": [
    "print(\"테스트 세트에 대한 예측값 : \\n\",prediction)\n",
    "pred_rfc2"
   ]
  },
  {
   "cell_type": "code",
   "execution_count": 236,
   "metadata": {},
   "outputs": [
    {
     "name": "stdout",
     "output_type": "stream",
     "text": [
      "테스트 데이터 예측 정확도 : 0.8615\n"
     ]
    }
   ],
   "source": [
    "print(\"테스트 데이터 예측 정확도 : {:.4f}\".format(np.mean(pred_rfc2==y_test)))"
   ]
  },
  {
   "cell_type": "markdown",
   "metadata": {},
   "source": [
    "print(\"최고 평균 정확도 : {:.4f}\".format(grid_rfc.best_score_))"
   ]
  },
  {
   "cell_type": "code",
   "execution_count": 180,
   "metadata": {},
   "outputs": [],
   "source": [
    "importances = rfc2.feature_importances_\n",
    "indices = np.argsort(importances)[::-1]"
   ]
  },
  {
   "cell_type": "code",
   "execution_count": 181,
   "metadata": {},
   "outputs": [
    {
     "name": "stdout",
     "output_type": "stream",
     "text": [
      " 1)ssc_p                          0.339092\n",
      " 2)degree_p                       0.184867\n",
      " 3)hsc_p                          0.136158\n",
      " 4)mba_p                          0.120405\n",
      " 5)etest_p                        0.063056\n",
      " 6)workex                         0.041042\n",
      " 7)specialisation                 0.025222\n",
      " 8)ssc_b                          0.019837\n",
      " 9)gender                         0.018904\n",
      "10)hsc_b                          0.015651\n",
      "11)hsc_s_Science                  0.010992\n",
      "12)degree_t_Comm&Mgmt             0.008530\n",
      "13)degree_t_Sci&Tech              0.008438\n",
      "14)hsc_s_Commerce                 0.007803\n"
     ]
    }
   ],
   "source": [
    "feat_labels = data_X.columns[:]\n",
    "for f in range(X_train.shape[1]):\n",
    "              print(\"%2d)%-*s %f\" % (f+1, 30, \n",
    "                   feat_labels[indices[f]],\n",
    "                   importances[indices[f]]))"
   ]
  },
  {
   "cell_type": "code",
   "execution_count": 182,
   "metadata": {},
   "outputs": [
    {
     "data": {
      "image/png": "[encoded data removed]",
      "text/plain": [
       "<Figure size 432x288 with 1 Axes>"
      ]
     },
     "metadata": {
      "needs_background": "light"
     },
     "output_type": "display_data"
    }
   ],
   "source": [
    "plt.title(\"Feature Importances\")\n",
    "plt.bar(range(X_train.shape[1]),\n",
    "       importances[indices],\n",
    "       align='center')\n",
    "plt.xticks(range(X_train.shape[1]),feat_labels[indices], rotation=90)\n",
    "plt.xlim([-1,X_train.shape[1]])\n",
    "plt.tight_layout()\n",
    "plt.show()"
   ]
  },
  {
   "cell_type": "code",
   "execution_count": 240,
   "metadata": {},
   "outputs": [
    {
     "data": {
      "text/html": [
       "<div>\n",
       "<style scoped>\n",
       "    .dataframe tbody tr th:only-of-type {\n",
       "        vertical-align: middle;\n",
       "    }\n",
       "\n",
       "    .dataframe tbody tr th {\n",
       "        vertical-align: top;\n",
       "    }\n",
       "\n",
       "    .dataframe thead th {\n",
       "        text-align: right;\n",
       "    }\n",
       "</style>\n",
       "<table border=\"1\" class=\"dataframe\">\n",
       "  <thead>\n",
       "    <tr style=\"text-align: right;\">\n",
       "      <th></th>\n",
       "      <th>Classifier</th>\n",
       "      <th>F-Measure</th>\n",
       "      <th>Accuracy</th>\n",
       "    </tr>\n",
       "  </thead>\n",
       "  <tbody>\n",
       "    <tr>\n",
       "      <th>0</th>\n",
       "      <td>knn</td>\n",
       "      <td>0.67</td>\n",
       "      <td>0.82</td>\n",
       "    </tr>\n",
       "    <tr>\n",
       "      <th>1</th>\n",
       "      <td>Decision Tree</td>\n",
       "      <td>0.64</td>\n",
       "      <td>0.74</td>\n",
       "    </tr>\n",
       "    <tr>\n",
       "      <th>2</th>\n",
       "      <td>Random Forest</td>\n",
       "      <td>0.79</td>\n",
       "      <td>0.88</td>\n",
       "    </tr>\n",
       "  </tbody>\n",
       "</table>\n",
       "</div>"
      ],
      "text/plain": [
       "      Classifier  F-Measure  Accuracy\n",
       "0            knn       0.67      0.82\n",
       "1  Decision Tree       0.64      0.74\n",
       "2  Random Forest       0.79      0.88"
      ]
     },
     "execution_count": 240,
     "metadata": {},
     "output_type": "execute_result"
    }
   ],
   "source": [
    "# 성능저장\n",
    "fm = round(f1_score(y_test,pred_rfc2),2)\n",
    "ac = round(accuracy_score(y_test, pred_rfc2, normalize = True),2)\n",
    "df_per.loc[len(df_per)]=['Random Forest',fm,ac]\n",
    "df_per"
   ]
  },
  {
   "cell_type": "code",
   "execution_count": 184,
   "metadata": {},
   "outputs": [
    {
     "data": {
      "text/plain": [
       "0.8729603729603729"
      ]
     },
     "execution_count": 184,
     "metadata": {},
     "output_type": "execute_result"
    }
   ],
   "source": [
    "# train_test_split + @\n",
    "from sklearn.model_selection import train_test_split, GridSearchCV, cross_val_score\n",
    "rfc_eval = cross_val_score(estimator = rfc, X=X_train, y = y_train, cv = 13)\n",
    "rfc_eval.mean()"
   ]
  },
  {
   "cell_type": "code",
   "execution_count": null,
   "metadata": {},
   "outputs": [],
   "source": []
  },
  {
   "cell_type": "code",
   "execution_count": 185,
   "metadata": {},
   "outputs": [],
   "source": [
    "# SVM\n",
    "from sklearn.svm import SVC\n",
    "svc = SVC()\n",
    "svc.fit(X_train,y_train)\n",
    "pred_svc = svc.predict(X_test)"
   ]
  },
  {
   "cell_type": "code",
   "execution_count": 186,
   "metadata": {
    "scrolled": true
   },
   "outputs": [
    {
     "name": "stdout",
     "output_type": "stream",
     "text": [
      "              precision    recall  f1-score   support\n",
      "\n",
      "           0       0.91      0.91      0.91        45\n",
      "           1       0.80      0.80      0.80        20\n",
      "\n",
      "    accuracy                           0.88        65\n",
      "   macro avg       0.86      0.86      0.86        65\n",
      "weighted avg       0.88      0.88      0.88        65\n",
      "\n"
     ]
    }
   ],
   "source": [
    "print(classification_report(y_test, pred_svc))"
   ]
  },
  {
   "cell_type": "code",
   "execution_count": 187,
   "metadata": {},
   "outputs": [],
   "source": [
    "# 최적의 파라미터를 찾는 법\n",
    "from sklearn.svm import SVC\n",
    "svc = SVC()\n",
    "param = {\n",
    "    'C' : [0.01, 0.1,0.8,0.9,1,1.1,1.2,1.4],\n",
    "    'kernel' : ['linear','rbf'],\n",
    "    'gamma':[0.1,0.8,0.9,1,1.1,1.2,1.3,1.4]\n",
    "    # gamma는 일종의 상수값을 변동시킬 수 있었음.\n",
    "}\n",
    "grid_svc = GridSearchCV(svc, param_grid = param, scoring = 'accuracy',cv= 10)"
   ]
  },
  {
   "cell_type": "code",
   "execution_count": 188,
   "metadata": {},
   "outputs": [
    {
     "data": {
      "text/plain": [
       "{'C': 1, 'gamma': 0.1, 'kernel': 'linear'}"
      ]
     },
     "execution_count": 188,
     "metadata": {},
     "output_type": "execute_result"
    }
   ],
   "source": [
    "grid_svc.fit(X_train,y_train)\n",
    "grid_svc.best_params_"
   ]
  },
  {
   "cell_type": "code",
   "execution_count": 242,
   "metadata": {
    "scrolled": true
   },
   "outputs": [
    {
     "name": "stdout",
     "output_type": "stream",
     "text": [
      "              precision    recall  f1-score   support\n",
      "\n",
      "           0       0.93      0.87      0.90        45\n",
      "           1       0.74      0.85      0.79        20\n",
      "\n",
      "    accuracy                           0.86        65\n",
      "   macro avg       0.83      0.86      0.84        65\n",
      "weighted avg       0.87      0.86      0.86        65\n",
      "\n"
     ]
    }
   ],
   "source": [
    "# 최적의 조합으로\n",
    "svc2 = grid_svc.best_estimator_\n",
    "svc2.fit(X_train,y_train)\n",
    "pred_svc2 = svc2.predict(X_test)\n",
    "print(classification_report(y_test, pred_svc2))"
   ]
  },
  {
   "cell_type": "code",
   "execution_count": 241,
   "metadata": {},
   "outputs": [
    {
     "name": "stdout",
     "output_type": "stream",
     "text": [
      "테스트 세트의 정확도 : 0.8615\n"
     ]
    }
   ],
   "source": [
    "print(\"테스트 세트의 정확도 : {:.4f}\".format(svc2.score(X_test, y_test)))"
   ]
  },
  {
   "cell_type": "code",
   "execution_count": 190,
   "metadata": {},
   "outputs": [
    {
     "name": "stdout",
     "output_type": "stream",
     "text": [
      "테스트 세트의 정확도 : 0.86\n"
     ]
    }
   ],
   "source": [
    "# predict로 예측.\n",
    "print(\"테스트 세트의 정확도 : {:.2f}\".format(np.mean(pred_svc2==y_test)))"
   ]
  },
  {
   "cell_type": "code",
   "execution_count": 243,
   "metadata": {},
   "outputs": [
    {
     "data": {
      "text/html": [
       "<div>\n",
       "<style scoped>\n",
       "    .dataframe tbody tr th:only-of-type {\n",
       "        vertical-align: middle;\n",
       "    }\n",
       "\n",
       "    .dataframe tbody tr th {\n",
       "        vertical-align: top;\n",
       "    }\n",
       "\n",
       "    .dataframe thead th {\n",
       "        text-align: right;\n",
       "    }\n",
       "</style>\n",
       "<table border=\"1\" class=\"dataframe\">\n",
       "  <thead>\n",
       "    <tr style=\"text-align: right;\">\n",
       "      <th></th>\n",
       "      <th>Classifier</th>\n",
       "      <th>F-Measure</th>\n",
       "      <th>Accuracy</th>\n",
       "    </tr>\n",
       "  </thead>\n",
       "  <tbody>\n",
       "    <tr>\n",
       "      <th>0</th>\n",
       "      <td>knn</td>\n",
       "      <td>0.67</td>\n",
       "      <td>0.82</td>\n",
       "    </tr>\n",
       "    <tr>\n",
       "      <th>1</th>\n",
       "      <td>Decision Tree</td>\n",
       "      <td>0.64</td>\n",
       "      <td>0.74</td>\n",
       "    </tr>\n",
       "    <tr>\n",
       "      <th>2</th>\n",
       "      <td>Random Forest</td>\n",
       "      <td>0.79</td>\n",
       "      <td>0.88</td>\n",
       "    </tr>\n",
       "    <tr>\n",
       "      <th>3</th>\n",
       "      <td>SVC</td>\n",
       "      <td>0.79</td>\n",
       "      <td>0.86</td>\n",
       "    </tr>\n",
       "  </tbody>\n",
       "</table>\n",
       "</div>"
      ],
      "text/plain": [
       "      Classifier  F-Measure  Accuracy\n",
       "0            knn       0.67      0.82\n",
       "1  Decision Tree       0.64      0.74\n",
       "2  Random Forest       0.79      0.88\n",
       "3            SVC       0.79      0.86"
      ]
     },
     "execution_count": 243,
     "metadata": {},
     "output_type": "execute_result"
    }
   ],
   "source": [
    "# 성능저장\n",
    "fm = round(f1_score(y_test,pred_svc2),2)\n",
    "ac = round(accuracy_score(y_test, pred_svc2, normalize = True),2)\n",
    "df_per.loc[len(df_per)]=['SVC',fm,ac]\n",
    "df_per"
   ]
  },
  {
   "cell_type": "code",
   "execution_count": 244,
   "metadata": {},
   "outputs": [
    {
     "data": {
      "text/html": [
       "<div>\n",
       "<style scoped>\n",
       "    .dataframe tbody tr th:only-of-type {\n",
       "        vertical-align: middle;\n",
       "    }\n",
       "\n",
       "    .dataframe tbody tr th {\n",
       "        vertical-align: top;\n",
       "    }\n",
       "\n",
       "    .dataframe thead th {\n",
       "        text-align: right;\n",
       "    }\n",
       "</style>\n",
       "<table border=\"1\" class=\"dataframe\">\n",
       "  <thead>\n",
       "    <tr style=\"text-align: right;\">\n",
       "      <th></th>\n",
       "      <th>F-Measure</th>\n",
       "      <th>Accuracy</th>\n",
       "    </tr>\n",
       "    <tr>\n",
       "      <th>Classifier</th>\n",
       "      <th></th>\n",
       "      <th></th>\n",
       "    </tr>\n",
       "  </thead>\n",
       "  <tbody>\n",
       "    <tr>\n",
       "      <th>knn</th>\n",
       "      <td>0.67</td>\n",
       "      <td>0.82</td>\n",
       "    </tr>\n",
       "    <tr>\n",
       "      <th>Decision Tree</th>\n",
       "      <td>0.64</td>\n",
       "      <td>0.74</td>\n",
       "    </tr>\n",
       "    <tr>\n",
       "      <th>Random Forest</th>\n",
       "      <td>0.79</td>\n",
       "      <td>0.88</td>\n",
       "    </tr>\n",
       "    <tr>\n",
       "      <th>SVC</th>\n",
       "      <td>0.79</td>\n",
       "      <td>0.86</td>\n",
       "    </tr>\n",
       "  </tbody>\n",
       "</table>\n",
       "</div>"
      ],
      "text/plain": [
       "               F-Measure  Accuracy\n",
       "Classifier                        \n",
       "knn                 0.67      0.82\n",
       "Decision Tree       0.64      0.74\n",
       "Random Forest       0.79      0.88\n",
       "SVC                 0.79      0.86"
      ]
     },
     "execution_count": 244,
     "metadata": {},
     "output_type": "execute_result"
    }
   ],
   "source": [
    "df_per_1 = df_per.set_index('Classifier')\n",
    "df_per_1"
   ]
  },
  {
   "cell_type": "code",
   "execution_count": 245,
   "metadata": {},
   "outputs": [
    {
     "data": {
      "image/png": "[encoded data removed]",
      "text/plain": [
       "<Figure size 576x360 with 1 Axes>"
      ]
     },
     "metadata": {
      "needs_background": "light"
     },
     "output_type": "display_data"
    }
   ],
   "source": [
    "ax = df_per_1[['F-Measure','Accuracy']].plot(kind='bar',title = 'Performance',\n",
    "                                            figsize =(8,5),ylim=[0,1],color = ['skyblue','orange'],\n",
    "                                             legend = True, fontsize = 12)\n",
    "ax.set_xlabel('Classifier',fontsize = 12)\n",
    "plt.show()"
   ]
  },
  {
   "cell_type": "code",
   "execution_count": 194,
   "metadata": {},
   "outputs": [],
   "source": [
    "#from sklearn.feature_selection import SelectFromModel\n",
    "#from sklearn.ensemble import RandomForestClassifier\n",
    "#select = SelectFromModel(\n",
    "#RandomForestClassifier(n_estimator ))"
   ]
  },
  {
   "cell_type": "code",
   "execution_count": null,
   "metadata": {},
   "outputs": [],
   "source": []
  },
  {
   "cell_type": "markdown",
   "metadata": {},
   "source": [
    "\"M\" : 0,\n",
    "          \"F\":1, \n",
    "          \"Others\":0,\n",
    "          \"Central\":1,\n",
    "           \"Yes\":0,\n",
    "           \"No\":1,\n",
    "           \"Mkt&HR\":0,\n",
    "           \"Mkt&Fin\":1,\n",
    "           \"Placed\":0,\n",
    "           \"Not Placed\":1\n",
    "           gender\tssc_p\tssc_b\thsc_p\thsc_b\tdegree_p\tworkex\tetest_p\tspecialisation\tmba_p\thsc_s_Arts\thsc_s_Commerce\thsc_s_Science\tdegree_t_Others\tdegree_t_Comm&Mgmt\tdegree_t_Sci&Tech\n",
    "           \n",
    "## gender,\tssc_p,\thsc_p,\tdegree_p,\tworkex,\tetest_p,\tspecialisation,\thsc_s_Arts,\thsc_s_Commerce,\thsc_s_Science,\tdegree_t_Others,\tdegree_t_Comm&Mgmt\t,degree_t_Sci&Tech"
   ]
  },
  {
   "cell_type": "markdown",
   "metadata": {},
   "source": [
    "1, 80, 60, 50, 1, 93.1, 1, 0, 0, 1, 0, 0, 1"
   ]
  },
  {
   "cell_type": "code",
   "execution_count": 246,
   "metadata": {},
   "outputs": [],
   "source": [
    "mina = [(1, 75, 0, 50, 0, 0, 0, 93.1, 1, 0, 0, 1, 0, 1)]\n",
    "minha = pd.DataFrame(mina)"
   ]
  },
  {
   "cell_type": "code",
   "execution_count": 247,
   "metadata": {},
   "outputs": [
    {
     "data": {
      "text/html": [
       "<div>\n",
       "<style scoped>\n",
       "    .dataframe tbody tr th:only-of-type {\n",
       "        vertical-align: middle;\n",
       "    }\n",
       "\n",
       "    .dataframe tbody tr th {\n",
       "        vertical-align: top;\n",
       "    }\n",
       "\n",
       "    .dataframe thead th {\n",
       "        text-align: right;\n",
       "    }\n",
       "</style>\n",
       "<table border=\"1\" class=\"dataframe\">\n",
       "  <thead>\n",
       "    <tr style=\"text-align: right;\">\n",
       "      <th></th>\n",
       "      <th>0</th>\n",
       "      <th>1</th>\n",
       "      <th>2</th>\n",
       "      <th>3</th>\n",
       "      <th>4</th>\n",
       "      <th>5</th>\n",
       "      <th>6</th>\n",
       "      <th>7</th>\n",
       "      <th>8</th>\n",
       "      <th>9</th>\n",
       "      <th>10</th>\n",
       "      <th>11</th>\n",
       "      <th>12</th>\n",
       "      <th>13</th>\n",
       "    </tr>\n",
       "  </thead>\n",
       "  <tbody>\n",
       "    <tr>\n",
       "      <th>0</th>\n",
       "      <td>1</td>\n",
       "      <td>75</td>\n",
       "      <td>0</td>\n",
       "      <td>50</td>\n",
       "      <td>0</td>\n",
       "      <td>0</td>\n",
       "      <td>0</td>\n",
       "      <td>93.1</td>\n",
       "      <td>1</td>\n",
       "      <td>0</td>\n",
       "      <td>0</td>\n",
       "      <td>1</td>\n",
       "      <td>0</td>\n",
       "      <td>1</td>\n",
       "    </tr>\n",
       "  </tbody>\n",
       "</table>\n",
       "</div>"
      ],
      "text/plain": [
       "   0   1   2   3   4   5   6     7   8   9   10  11  12  13\n",
       "0   1  75   0  50   0   0   0  93.1   1   0   0   1   0   1"
      ]
     },
     "execution_count": 247,
     "metadata": {},
     "output_type": "execute_result"
    }
   ],
   "source": [
    "minha"
   ]
  },
  {
   "cell_type": "code",
   "execution_count": 248,
   "metadata": {},
   "outputs": [
    {
     "data": {
      "text/plain": [
       "array([[  1.35238581,   0.71251686,  -1.08245885,  -1.50229559,\n",
       "         -0.80076299,  -9.04027675,  -1.38036423,   1.58545631,\n",
       "          0.88975652, -10.70108191,  -1.05254128,   1.16732059,\n",
       "         -1.43924583,   1.62605898]])"
      ]
     },
     "execution_count": 248,
     "metadata": {},
     "output_type": "execute_result"
    }
   ],
   "source": [
    "minha_std = stdsc.transform(mina)\n",
    "minha_std"
   ]
  },
  {
   "cell_type": "code",
   "execution_count": 249,
   "metadata": {},
   "outputs": [
    {
     "data": {
      "text/plain": [
       "array([1], dtype=int64)"
      ]
     },
     "execution_count": 249,
     "metadata": {},
     "output_type": "execute_result"
    }
   ],
   "source": [
    "pred_rfc2 = rfc2.predict(minha_std)\n",
    "pred_rfc2"
   ]
  },
  {
   "cell_type": "code",
   "execution_count": null,
   "metadata": {},
   "outputs": [],
   "source": []
  },
  {
   "cell_type": "code",
   "execution_count": 28,
   "metadata": {},
   "outputs": [
    {
     "data": {
      "text/html": [
       "<div>\n",
       "<style scoped>\n",
       "    .dataframe tbody tr th:only-of-type {\n",
       "        vertical-align: middle;\n",
       "    }\n",
       "\n",
       "    .dataframe tbody tr th {\n",
       "        vertical-align: top;\n",
       "    }\n",
       "\n",
       "    .dataframe thead th {\n",
       "        text-align: right;\n",
       "    }\n",
       "</style>\n",
       "<table border=\"1\" class=\"dataframe\">\n",
       "  <thead>\n",
       "    <tr style=\"text-align: right;\">\n",
       "      <th></th>\n",
       "      <th>현재안</th>\n",
       "      <th>키오스크</th>\n",
       "      <th>직원2명</th>\n",
       "    </tr>\n",
       "  </thead>\n",
       "  <tbody>\n",
       "  </tbody>\n",
       "</table>\n",
       "</div>"
      ],
      "text/plain": [
       "Empty DataFrame\n",
       "Columns: [현재안, 키오스크, 직원2명]\n",
       "Index: []"
      ]
     },
     "execution_count": 28,
     "metadata": {},
     "output_type": "execute_result"
    }
   ],
   "source": [
    "# 성능평가 결과 입력 데이터프레임 생성\n",
    "df = pd.DataFrame(columns=['현재안','키오스크','직원2명'])\n",
    "df"
   ]
  },
  {
   "cell_type": "code",
   "execution_count": 11,
   "metadata": {},
   "outputs": [],
   "source": [
    "s=['현재안','키오스크','직원2명']"
   ]
  },
  {
   "cell_type": "code",
   "execution_count": 27,
   "metadata": {},
   "outputs": [],
   "source": [
    "da = [0.7464, 0.5861, 0.3677]"
   ]
  },
  {
   "cell_type": "code",
   "execution_count": 29,
   "metadata": {},
   "outputs": [
    {
     "data": {
      "text/html": [
       "<div>\n",
       "<style scoped>\n",
       "    .dataframe tbody tr th:only-of-type {\n",
       "        vertical-align: middle;\n",
       "    }\n",
       "\n",
       "    .dataframe tbody tr th {\n",
       "        vertical-align: top;\n",
       "    }\n",
       "\n",
       "    .dataframe thead th {\n",
       "        text-align: right;\n",
       "    }\n",
       "</style>\n",
       "<table border=\"1\" class=\"dataframe\">\n",
       "  <thead>\n",
       "    <tr style=\"text-align: right;\">\n",
       "      <th></th>\n",
       "      <th>현재안</th>\n",
       "      <th>키오스크</th>\n",
       "      <th>직원2명</th>\n",
       "    </tr>\n",
       "  </thead>\n",
       "  <tbody>\n",
       "    <tr>\n",
       "      <th>0</th>\n",
       "      <td>0.7464</td>\n",
       "      <td>0.5861</td>\n",
       "      <td>0.3677</td>\n",
       "    </tr>\n",
       "  </tbody>\n",
       "</table>\n",
       "</div>"
      ],
      "text/plain": [
       "      현재안    키오스크    직원2명\n",
       "0  0.7464  0.5861  0.3677"
      ]
     },
     "execution_count": 29,
     "metadata": {},
     "output_type": "execute_result"
    }
   ],
   "source": [
    "df.loc[len(df)]= da\n",
    "df"
   ]
  },
  {
   "cell_type": "code",
   "execution_count": null,
   "metadata": {},
   "outputs": [],
   "source": []
  },
  {
   "cell_type": "code",
   "execution_count": 30,
   "metadata": {},
   "outputs": [
    {
     "name": "stderr",
     "output_type": "stream",
     "text": [
      "C:\\ProgramData\\Anaconda3\\lib\\site-packages\\seaborn\\categorical.py:3666: UserWarning: The `factorplot` function has been renamed to `catplot`. The original name will be removed in a future release. Please update your code. Note that the default `kind` in `factorplot` (`'point'`) has changed `'strip'` in `catplot`.\n",
      "  warnings.warn(msg)\n",
      "C:\\ProgramData\\Anaconda3\\lib\\site-packages\\seaborn\\categorical.py:3672: UserWarning: The `size` parameter has been renamed to `height`; please update your code.\n",
      "  warnings.warn(msg, UserWarning)\n"
     ]
    },
    {
     "data": {
      "text/plain": [
       "<seaborn.axisgrid.FacetGrid at 0x1364926b308>"
      ]
     },
     "execution_count": 30,
     "metadata": {},
     "output_type": "execute_result"
    },
    {
     "data": {
      "image/png": "[encoded data removed]",
      "text/plain": [
       "<Figure size 360x360 with 1 Axes>"
      ]
     },
     "metadata": {
      "needs_background": "light"
     },
     "output_type": "display_data"
    }
   ],
   "source": [
    "a = sns.factorplot(data = df, kind = 'bar',size = 5)\n",
    "a.set_xlabels(\"직원가동률 비교\")"
   ]
  },
  {
   "cell_type": "code",
   "execution_count": null,
   "metadata": {},
   "outputs": [],
   "source": [
    "sns.countplot(\"gender\",hue = \"status\", palette = 'Paired',data=data)\n",
    "plt.title(\"남녀 수\")\n",
    "plt.xlabel(\"성별\")\n",
    "plt.ylabel(\"COUNT\")\n",
    "plt.show()\n",
    "# sns.barplot은 seaborn 시각화 패키지"
   ]
  }
 ],
 "metadata": {
  "kernelspec": {
   "display_name": "Python 3",
   "language": "python",
   "name": "python3"
  },
  "language_info": {
   "codemirror_mode": {
    "name": "ipython",
    "version": 3
   },
   "file_extension": ".py",
   "mimetype": "text/x-python",
   "name": "python",
   "nbconvert_exporter": "python",
   "pygments_lexer": "ipython3",
   "version": "3.7.9"
  }
 },
 "nbformat": 4,
 "nbformat_minor": 4
}
