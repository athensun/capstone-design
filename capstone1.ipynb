{
 "cells": [
  {
   "cell_type": "code",
   "execution_count": 1,
   "metadata": {},
   "outputs": [],
   "source": [
    "%matplotlib inline\n",
    "from IPython.display import display\n",
    "import numpy as np\n",
    "import matplotlib.pyplot as plt\n",
    "import pandas as pd\n",
    "import mglearn\n",
    "import sklearn\n",
    "import seaborn as sns"
   ]
  },
  {
   "cell_type": "code",
   "execution_count": 2,
   "metadata": {},
   "outputs": [],
   "source": [
    "#충청북도 괴산군_괴산장터_상품리뷰_20200227\n",
    "review = pd.read_csv(\"C:/Users/2020_4학년_1학기/캡스톤디자인/product_review1.csv\",encoding='cp949')"
   ]
  },
  {
   "cell_type": "code",
   "execution_count": 3,
   "metadata": {},
   "outputs": [
    {
     "data": {
      "text/html": [
       "<div>\n",
       "<style scoped>\n",
       "    .dataframe tbody tr th:only-of-type {\n",
       "        vertical-align: middle;\n",
       "    }\n",
       "\n",
       "    .dataframe tbody tr th {\n",
       "        vertical-align: top;\n",
       "    }\n",
       "\n",
       "    .dataframe thead th {\n",
       "        text-align: right;\n",
       "    }\n",
       "</style>\n",
       "<table border=\"1\" class=\"dataframe\">\n",
       "  <thead>\n",
       "    <tr style=\"text-align: right;\">\n",
       "      <th></th>\n",
       "      <th>제목</th>\n",
       "      <th>내용</th>\n",
       "      <th>데이터기준일</th>\n",
       "      <th>긍정0부정1중간2</th>\n",
       "    </tr>\n",
       "  </thead>\n",
       "  <tbody>\n",
       "    <tr>\n",
       "      <th>0</th>\n",
       "      <td>맛은 좋은데 양이 좀 적네요</td>\n",
       "      <td>맛은 좋은데 양이 좀 적네요</td>\n",
       "      <td>2020-02-27</td>\n",
       "      <td>2</td>\n",
       "    </tr>\n",
       "    <tr>\n",
       "      <th>1</th>\n",
       "      <td>청결고춧가루 고추잠자리 골드(보통맛)</td>\n",
       "      <td>잘 받았습니다.출타중이이어서 늦게 구매확정 후 상품평을 올리게 되었습니다.잘 먹겠습니다.</td>\n",
       "      <td>2020-02-27</td>\n",
       "      <td>0</td>\n",
       "    </tr>\n",
       "    <tr>\n",
       "      <th>2</th>\n",
       "      <td>꿀 고구마</td>\n",
       "      <td>꿀 고구마</td>\n",
       "      <td>2020-02-27</td>\n",
       "      <td>0</td>\n",
       "    </tr>\n",
       "    <tr>\n",
       "      <th>3</th>\n",
       "      <td>감사합니다</td>\n",
       "      <td>신선하다고 하네요감사합니다</td>\n",
       "      <td>2020-02-27</td>\n",
       "      <td>0</td>\n",
       "    </tr>\n",
       "    <tr>\n",
       "      <th>4</th>\n",
       "      <td>울금이 피로회복에 절대강자! 구매했어요</td>\n",
       "      <td>울금은 피로회복에 절대강자!!피곤할때 울금을 물에 타서 마시면 피곤함이 없어져요.오...</td>\n",
       "      <td>2020-02-27</td>\n",
       "      <td>0</td>\n",
       "    </tr>\n",
       "  </tbody>\n",
       "</table>\n",
       "</div>"
      ],
      "text/plain": [
       "                      제목                                                 내용  \\\n",
       "0        맛은 좋은데 양이 좀 적네요                                    맛은 좋은데 양이 좀 적네요   \n",
       "1   청결고춧가루 고추잠자리 골드(보통맛)  잘 받았습니다.출타중이이어서 늦게 구매확정 후 상품평을 올리게 되었습니다.잘 먹겠습니다.   \n",
       "2                  꿀 고구마                                              꿀 고구마   \n",
       "3                  감사합니다                                     신선하다고 하네요감사합니다   \n",
       "4  울금이 피로회복에 절대강자! 구매했어요  울금은 피로회복에 절대강자!!피곤할때 울금을 물에 타서 마시면 피곤함이 없어져요.오...   \n",
       "\n",
       "       데이터기준일  긍정0부정1중간2  \n",
       "0  2020-02-27          2  \n",
       "1  2020-02-27          0  \n",
       "2  2020-02-27          0  \n",
       "3  2020-02-27          0  \n",
       "4  2020-02-27          0  "
      ]
     },
     "execution_count": 3,
     "metadata": {},
     "output_type": "execute_result"
    }
   ],
   "source": [
    "review.head()"
   ]
  },
  {
   "cell_type": "code",
   "execution_count": 4,
   "metadata": {
    "scrolled": false
   },
   "outputs": [
    {
     "data": {
      "text/html": [
       "<div>\n",
       "<style scoped>\n",
       "    .dataframe tbody tr th:only-of-type {\n",
       "        vertical-align: middle;\n",
       "    }\n",
       "\n",
       "    .dataframe tbody tr th {\n",
       "        vertical-align: top;\n",
       "    }\n",
       "\n",
       "    .dataframe thead th {\n",
       "        text-align: right;\n",
       "    }\n",
       "</style>\n",
       "<table border=\"1\" class=\"dataframe\">\n",
       "  <thead>\n",
       "    <tr style=\"text-align: right;\">\n",
       "      <th></th>\n",
       "      <th>제목</th>\n",
       "      <th>내용</th>\n",
       "      <th>데이터기준일</th>\n",
       "      <th>긍정0부정1중간2</th>\n",
       "    </tr>\n",
       "  </thead>\n",
       "  <tbody>\n",
       "    <tr>\n",
       "      <th>0</th>\n",
       "      <td>맛은 좋은데 양이 좀 적네요</td>\n",
       "      <td>맛은 좋은데 양이 좀 적네요</td>\n",
       "      <td>2020-02-27</td>\n",
       "      <td>2</td>\n",
       "    </tr>\n",
       "    <tr>\n",
       "      <th>1</th>\n",
       "      <td>청결고춧가루 고추잠자리 골드(보통맛)</td>\n",
       "      <td>잘 받았습니다.출타중이이어서 늦게 구매확정 후 상품평을 올리게 되었습니다.잘 먹겠습니다.</td>\n",
       "      <td>2020-02-27</td>\n",
       "      <td>0</td>\n",
       "    </tr>\n",
       "    <tr>\n",
       "      <th>2</th>\n",
       "      <td>꿀 고구마</td>\n",
       "      <td>꿀 고구마</td>\n",
       "      <td>2020-02-27</td>\n",
       "      <td>0</td>\n",
       "    </tr>\n",
       "    <tr>\n",
       "      <th>3</th>\n",
       "      <td>감사합니다</td>\n",
       "      <td>신선하다고 하네요감사합니다</td>\n",
       "      <td>2020-02-27</td>\n",
       "      <td>0</td>\n",
       "    </tr>\n",
       "    <tr>\n",
       "      <th>4</th>\n",
       "      <td>울금이 피로회복에 절대강자! 구매했어요</td>\n",
       "      <td>울금은 피로회복에 절대강자!!피곤할때 울금을 물에 타서 마시면 피곤함이 없어져요.오...</td>\n",
       "      <td>2020-02-27</td>\n",
       "      <td>0</td>\n",
       "    </tr>\n",
       "    <tr>\n",
       "      <th>...</th>\n",
       "      <td>...</td>\n",
       "      <td>...</td>\n",
       "      <td>...</td>\n",
       "      <td>...</td>\n",
       "    </tr>\n",
       "    <tr>\n",
       "      <th>274</th>\n",
       "      <td>맛과 모양이 훌륭한 고구마!!!</td>\n",
       "      <td>모험한번 해보자 하는 맘으로 주문했는데  사진과 똑같은 모양에 쪄서 맛을보니 너무...</td>\n",
       "      <td>2020-02-27</td>\n",
       "      <td>0</td>\n",
       "    </tr>\n",
       "    <tr>\n",
       "      <th>275</th>\n",
       "      <td>괴산 청결고추</td>\n",
       "      <td>올 김장에 쓸 꼭지달린 마른 통고추를 주문해서 받아보니 청결이란말을 왜 쓰는지 이유...</td>\n",
       "      <td>2020-02-27</td>\n",
       "      <td>1</td>\n",
       "    </tr>\n",
       "    <tr>\n",
       "      <th>276</th>\n",
       "      <td>잘 받았어요</td>\n",
       "      <td>절인배추 구입하러 들어왔다가 이벤트 상품이 있길래 구입해봤어요. 신랑 음용해봤는데 ...</td>\n",
       "      <td>2020-02-27</td>\n",
       "      <td>0</td>\n",
       "    </tr>\n",
       "    <tr>\n",
       "      <th>277</th>\n",
       "      <td>풋사과즙 맛있어요~</td>\n",
       "      <td>풋사과가 항산화물질인 폴리페놀이 들어있다는것을 어렴풋이 알고있었는데 마침 반값행사한...</td>\n",
       "      <td>2020-02-27</td>\n",
       "      <td>0</td>\n",
       "    </tr>\n",
       "    <tr>\n",
       "      <th>278</th>\n",
       "      <td>넘 좋아요</td>\n",
       "      <td>맛있어서 두번째구매합니다</td>\n",
       "      <td>2020-02-27</td>\n",
       "      <td>0</td>\n",
       "    </tr>\n",
       "  </tbody>\n",
       "</table>\n",
       "<p>273 rows × 4 columns</p>\n",
       "</div>"
      ],
      "text/plain": [
       "                        제목                                                 내용  \\\n",
       "0          맛은 좋은데 양이 좀 적네요                                    맛은 좋은데 양이 좀 적네요   \n",
       "1     청결고춧가루 고추잠자리 골드(보통맛)  잘 받았습니다.출타중이이어서 늦게 구매확정 후 상품평을 올리게 되었습니다.잘 먹겠습니다.   \n",
       "2                    꿀 고구마                                              꿀 고구마   \n",
       "3                    감사합니다                                     신선하다고 하네요감사합니다   \n",
       "4    울금이 피로회복에 절대강자! 구매했어요  울금은 피로회복에 절대강자!!피곤할때 울금을 물에 타서 마시면 피곤함이 없어져요.오...   \n",
       "..                     ...                                                ...   \n",
       "274      맛과 모양이 훌륭한 고구마!!!   모험한번 해보자 하는 맘으로 주문했는데  사진과 똑같은 모양에 쪄서 맛을보니 너무...   \n",
       "275                괴산 청결고추  올 김장에 쓸 꼭지달린 마른 통고추를 주문해서 받아보니 청결이란말을 왜 쓰는지 이유...   \n",
       "276                 잘 받았어요  절인배추 구입하러 들어왔다가 이벤트 상품이 있길래 구입해봤어요. 신랑 음용해봤는데 ...   \n",
       "277             풋사과즙 맛있어요~  풋사과가 항산화물질인 폴리페놀이 들어있다는것을 어렴풋이 알고있었는데 마침 반값행사한...   \n",
       "278                  넘 좋아요                                      맛있어서 두번째구매합니다   \n",
       "\n",
       "         데이터기준일  긍정0부정1중간2  \n",
       "0    2020-02-27          2  \n",
       "1    2020-02-27          0  \n",
       "2    2020-02-27          0  \n",
       "3    2020-02-27          0  \n",
       "4    2020-02-27          0  \n",
       "..          ...        ...  \n",
       "274  2020-02-27          0  \n",
       "275  2020-02-27          1  \n",
       "276  2020-02-27          0  \n",
       "277  2020-02-27          0  \n",
       "278  2020-02-27          0  \n",
       "\n",
       "[273 rows x 4 columns]"
      ]
     },
     "execution_count": 4,
     "metadata": {},
     "output_type": "execute_result"
    }
   ],
   "source": [
    "review.drop_duplicates(['내용'],keep='first')"
   ]
  },
  {
   "cell_type": "code",
   "execution_count": 5,
   "metadata": {},
   "outputs": [
    {
     "name": "stderr",
     "output_type": "stream",
     "text": [
      "C:\\ProgramData\\Anaconda3\\lib\\site-packages\\konlpy\\tag\\_okt.py:16: UserWarning: \"Twitter\" has changed to \"Okt\" since KoNLPy v0.4.5.\n",
      "  warn('\"Twitter\" has changed to \"Okt\" since KoNLPy v0.4.5.')\n"
     ]
    }
   ],
   "source": [
    "# Twitter 패키지의 형태소 분석기 twitter\n",
    "from konlpy.tag import Twitter\n",
    "twitter = Twitter()"
   ]
  },
  {
   "cell_type": "code",
   "execution_count": 6,
   "metadata": {},
   "outputs": [],
   "source": [
    "# Twitter를 사용한 특정 품사 추출 함수 생성\n",
    "def tokenize(text):\n",
    "    stems = []\n",
    "    tagged = twitter.pos(text)\n",
    "    for i in range(0, len(tagged)):\n",
    "        if (tagged[i][1]=='Noun' or tagged[i][1]=='Adjective') :\n",
    "            stems.append(tagged[i][0])\n",
    "    return stems"
   ]
  },
  {
   "cell_type": "markdown",
   "metadata": {},
   "source": [
    "▲ 명사와 형용사를 추출하기 위한 함수 tokenize.   \n",
    "형태소 분석 결과를 입력할 리스트 변수 stems 생성   \n",
    "text에 대해 형태소 분석을 진행해 tagged에 저장.   \n",
    "for문을 사용해 태그가 명사, 형용사일 때 변수 stem에 저장함."
   ]
  },
  {
   "cell_type": "code",
   "execution_count": 7,
   "metadata": {},
   "outputs": [
    {
     "name": "stdout",
     "output_type": "stream",
     "text": [
      "('맛', 'Noun')\n",
      "('양', 'Noun')\n",
      "('좀', 'Noun')\n"
     ]
    }
   ],
   "source": [
    "# Twitter를 사용한 명사 추출\n",
    "tagged = twitter.pos(review['내용'][0])\n",
    "for i in range(0, len(tagged)):\n",
    "    if(tagged[i][1]=='Noun'):\n",
    "        print(tagged[i])"
   ]
  },
  {
   "cell_type": "markdown",
   "metadata": {},
   "source": [
    "▲ 간단하기 명사를 추출하는 실습   \n",
    "0번째 택스트에 대해 형태소 분석 진행.   \n",
    "for문을 사용해 형태소 분석 결과 tag가 noun인 경우만 출력한 결과   "
   ]
  },
  {
   "cell_type": "markdown",
   "metadata": {},
   "source": [
    "## 문서단어 행렬 구성\n",
    "> 한국어 형태소 분석기 사용해 추출한 토큰을 바탕으로 문서 단어 행렬 구성   \n",
    "\n",
    "추출한 토큰을 바탕으로 행렬을 만들어 보려고 함.   \n",
    "행렬은 TF-IDF값을 산출해서 구성할 것이고 이를 통해 리뷰에서 어떤 단어가 중요한 역할을 하는지 알 수 있다."
   ]
  },
  {
   "cell_type": "code",
   "execution_count": 8,
   "metadata": {},
   "outputs": [],
   "source": [
    "from sklearn.feature_extraction.text import TfidfVectorizer"
   ]
  },
  {
   "cell_type": "markdown",
   "metadata": {},
   "source": [
    "행렬을 만들기 위해 데이터 형식을 변환한다.   \n",
    "텍스트를 astype 함수를 사용해 문자열 형태 리스트로, 그리고 array 함수를 사용해 배열로 반환   \n",
    "데이터프레임의 텍스트를 문자열 형태 리스트로 변환하고 함수를 사용해 배열로 변환해 저장하는 내용"
   ]
  },
  {
   "cell_type": "code",
   "execution_count": 9,
   "metadata": {},
   "outputs": [],
   "source": [
    "text_data_list = review['내용'].astype(str).tolist()\n",
    "text_data_arr = np.array([''.join(text) for text in text_data_list])"
   ]
  },
  {
   "cell_type": "markdown",
   "metadata": {},
   "source": [
    "TF-IDF값으로 단어행렬을 생성하는 모듈 vectorizer 만들기    \n",
    "min_df 를 사용해 단어의 최소 등장 빈도를 2로 설정   \n",
    "tokenize 함수를 사용해 명사와 형용사를 추출해 사용   \n",
    "\n",
    "행렬에 대해 normalize를 진행하기 위해 l2, pearson 함수를 사용한 표준화를 설정    \n",
    "fit_transform함수를 사용해서 문서단어행렬을 구함   \n",
    "이 행렬을 text_data 변수에 저장."
   ]
  },
  {
   "cell_type": "code",
   "execution_count": 10,
   "metadata": {},
   "outputs": [],
   "source": [
    "vectorizer = TfidfVectorizer(min_df=2,tokenizer = tokenize, norm='l1')\n",
    "text_data = vectorizer.fit_transform(text_data_arr)"
   ]
  },
  {
   "cell_type": "markdown",
   "metadata": {},
   "source": [
    "이 행렬을 데이터프레임에 입력해 확인해보자.   \n",
    "df_tfidf에서 행은 문서번호, 열은 token을 나타내고 있음.   \n",
    "이때 데이터 크기가 크기에 대부분 값들이 0인것을 확인할 수 있다.▼"
   ]
  },
  {
   "cell_type": "code",
   "execution_count": 11,
   "metadata": {
    "scrolled": true
   },
   "outputs": [
    {
     "data": {
      "text/html": [
       "<div>\n",
       "<style scoped>\n",
       "    .dataframe tbody tr th:only-of-type {\n",
       "        vertical-align: middle;\n",
       "    }\n",
       "\n",
       "    .dataframe tbody tr th {\n",
       "        vertical-align: top;\n",
       "    }\n",
       "\n",
       "    .dataframe thead th {\n",
       "        text-align: right;\n",
       "    }\n",
       "</style>\n",
       "<table border=\"1\" class=\"dataframe\">\n",
       "  <thead>\n",
       "    <tr style=\"text-align: right;\">\n",
       "      <th></th>\n",
       "      <th>가격</th>\n",
       "      <th>가끔</th>\n",
       "      <th>가루</th>\n",
       "      <th>가을</th>\n",
       "      <th>가장</th>\n",
       "      <th>가족</th>\n",
       "      <th>간</th>\n",
       "      <th>간식</th>\n",
       "      <th>간장</th>\n",
       "      <th>감사</th>\n",
       "      <th>...</th>\n",
       "      <th>향</th>\n",
       "      <th>혹시</th>\n",
       "      <th>화학</th>\n",
       "      <th>확실히</th>\n",
       "      <th>확인</th>\n",
       "      <th>환경호르몬</th>\n",
       "      <th>황금</th>\n",
       "      <th>후</th>\n",
       "      <th>후기</th>\n",
       "      <th>힘들게</th>\n",
       "    </tr>\n",
       "  </thead>\n",
       "  <tbody>\n",
       "    <tr>\n",
       "      <th>0</th>\n",
       "      <td>0.0</td>\n",
       "      <td>0.0</td>\n",
       "      <td>0.0</td>\n",
       "      <td>0.0</td>\n",
       "      <td>0.0</td>\n",
       "      <td>0.0</td>\n",
       "      <td>0.0</td>\n",
       "      <td>0.0</td>\n",
       "      <td>0.0</td>\n",
       "      <td>0.0</td>\n",
       "      <td>...</td>\n",
       "      <td>0.0</td>\n",
       "      <td>0.0</td>\n",
       "      <td>0.0</td>\n",
       "      <td>0.0</td>\n",
       "      <td>0.0</td>\n",
       "      <td>0.0</td>\n",
       "      <td>0.0</td>\n",
       "      <td>0.000000</td>\n",
       "      <td>0.0</td>\n",
       "      <td>0.0</td>\n",
       "    </tr>\n",
       "    <tr>\n",
       "      <th>1</th>\n",
       "      <td>0.0</td>\n",
       "      <td>0.0</td>\n",
       "      <td>0.0</td>\n",
       "      <td>0.0</td>\n",
       "      <td>0.0</td>\n",
       "      <td>0.0</td>\n",
       "      <td>0.0</td>\n",
       "      <td>0.0</td>\n",
       "      <td>0.0</td>\n",
       "      <td>0.0</td>\n",
       "      <td>...</td>\n",
       "      <td>0.0</td>\n",
       "      <td>0.0</td>\n",
       "      <td>0.0</td>\n",
       "      <td>0.0</td>\n",
       "      <td>0.0</td>\n",
       "      <td>0.0</td>\n",
       "      <td>0.0</td>\n",
       "      <td>0.217001</td>\n",
       "      <td>0.0</td>\n",
       "      <td>0.0</td>\n",
       "    </tr>\n",
       "    <tr>\n",
       "      <th>2</th>\n",
       "      <td>0.0</td>\n",
       "      <td>0.0</td>\n",
       "      <td>0.0</td>\n",
       "      <td>0.0</td>\n",
       "      <td>0.0</td>\n",
       "      <td>0.0</td>\n",
       "      <td>0.0</td>\n",
       "      <td>0.0</td>\n",
       "      <td>0.0</td>\n",
       "      <td>0.0</td>\n",
       "      <td>...</td>\n",
       "      <td>0.0</td>\n",
       "      <td>0.0</td>\n",
       "      <td>0.0</td>\n",
       "      <td>0.0</td>\n",
       "      <td>0.0</td>\n",
       "      <td>0.0</td>\n",
       "      <td>0.0</td>\n",
       "      <td>0.000000</td>\n",
       "      <td>0.0</td>\n",
       "      <td>0.0</td>\n",
       "    </tr>\n",
       "    <tr>\n",
       "      <th>3</th>\n",
       "      <td>0.0</td>\n",
       "      <td>0.0</td>\n",
       "      <td>0.0</td>\n",
       "      <td>0.0</td>\n",
       "      <td>0.0</td>\n",
       "      <td>0.0</td>\n",
       "      <td>0.0</td>\n",
       "      <td>0.0</td>\n",
       "      <td>0.0</td>\n",
       "      <td>0.0</td>\n",
       "      <td>...</td>\n",
       "      <td>0.0</td>\n",
       "      <td>0.0</td>\n",
       "      <td>0.0</td>\n",
       "      <td>0.0</td>\n",
       "      <td>0.0</td>\n",
       "      <td>0.0</td>\n",
       "      <td>0.0</td>\n",
       "      <td>0.000000</td>\n",
       "      <td>0.0</td>\n",
       "      <td>0.0</td>\n",
       "    </tr>\n",
       "    <tr>\n",
       "      <th>4</th>\n",
       "      <td>0.0</td>\n",
       "      <td>0.0</td>\n",
       "      <td>0.0</td>\n",
       "      <td>0.0</td>\n",
       "      <td>0.0</td>\n",
       "      <td>0.0</td>\n",
       "      <td>0.0</td>\n",
       "      <td>0.0</td>\n",
       "      <td>0.0</td>\n",
       "      <td>0.0</td>\n",
       "      <td>...</td>\n",
       "      <td>0.0</td>\n",
       "      <td>0.0</td>\n",
       "      <td>0.0</td>\n",
       "      <td>0.0</td>\n",
       "      <td>0.0</td>\n",
       "      <td>0.0</td>\n",
       "      <td>0.0</td>\n",
       "      <td>0.128786</td>\n",
       "      <td>0.0</td>\n",
       "      <td>0.0</td>\n",
       "    </tr>\n",
       "  </tbody>\n",
       "</table>\n",
       "<p>5 rows × 518 columns</p>\n",
       "</div>"
      ],
      "text/plain": [
       "    가격   가끔   가루   가을   가장   가족    간   간식   간장   감사  ...    향   혹시   화학  확실히  \\\n",
       "0  0.0  0.0  0.0  0.0  0.0  0.0  0.0  0.0  0.0  0.0  ...  0.0  0.0  0.0  0.0   \n",
       "1  0.0  0.0  0.0  0.0  0.0  0.0  0.0  0.0  0.0  0.0  ...  0.0  0.0  0.0  0.0   \n",
       "2  0.0  0.0  0.0  0.0  0.0  0.0  0.0  0.0  0.0  0.0  ...  0.0  0.0  0.0  0.0   \n",
       "3  0.0  0.0  0.0  0.0  0.0  0.0  0.0  0.0  0.0  0.0  ...  0.0  0.0  0.0  0.0   \n",
       "4  0.0  0.0  0.0  0.0  0.0  0.0  0.0  0.0  0.0  0.0  ...  0.0  0.0  0.0  0.0   \n",
       "\n",
       "    확인  환경호르몬   황금         후   후기  힘들게  \n",
       "0  0.0    0.0  0.0  0.000000  0.0  0.0  \n",
       "1  0.0    0.0  0.0  0.217001  0.0  0.0  \n",
       "2  0.0    0.0  0.0  0.000000  0.0  0.0  \n",
       "3  0.0    0.0  0.0  0.000000  0.0  0.0  \n",
       "4  0.0    0.0  0.0  0.128786  0.0  0.0  \n",
       "\n",
       "[5 rows x 518 columns]"
      ]
     },
     "execution_count": 11,
     "metadata": {},
     "output_type": "execute_result"
    }
   ],
   "source": [
    "df_tfidf = pd.DataFrame(text_data.A,columns = vectorizer.get_feature_names())\n",
    "df_tfidf.head()"
   ]
  },
  {
   "cell_type": "code",
   "execution_count": 12,
   "metadata": {},
   "outputs": [],
   "source": [
    "# 그래프에서 한글 깨질 때 방지하기 위한 방법\n",
    "import matplotlib\n",
    "from matplotlib import font_manager,rc\n",
    "\n",
    "font_name = font_manager.FontProperties(fname=\"C:/Windows/Fonts/malgun.ttf\").get_name()\n",
    "rc('font',family = font_name)\n",
    "\n",
    "matplotlib.rcParams['axes.unicode_minus']=False"
   ]
  },
  {
   "cell_type": "code",
   "execution_count": 13,
   "metadata": {},
   "outputs": [
    {
     "name": "stderr",
     "output_type": "stream",
     "text": [
      "C:\\ProgramData\\Anaconda3\\lib\\site-packages\\seaborn\\categorical.py:3666: UserWarning: The `factorplot` function has been renamed to `catplot`. The original name will be removed in a future release. Please update your code. Note that the default `kind` in `factorplot` (`'point'`) has changed `'strip'` in `catplot`.\n",
      "  warnings.warn(msg)\n",
      "C:\\ProgramData\\Anaconda3\\lib\\site-packages\\seaborn\\categorical.py:3672: UserWarning: The `size` parameter has been renamed to `height`; please update your code.\n",
      "  warnings.warn(msg, UserWarning)\n"
     ]
    },
    {
     "data": {
      "text/plain": [
       "<seaborn.axisgrid.FacetGrid at 0x1c63332a748>"
      ]
     },
     "execution_count": 13,
     "metadata": {},
     "output_type": "execute_result"
    },
    {
     "data": {
      "image/png": "[encoded data removed]",
      "text/plain": [
       "<Figure size 360x360 with 1 Axes>"
      ]
     },
     "metadata": {
      "needs_background": "light"
     },
     "output_type": "display_data"
    }
   ],
   "source": [
    "g = sns.factorplot('긍정0부정1중간2',data = review, kind = 'count',size = 5)\n",
    "g.set_xlabels()"
   ]
  },
  {
   "cell_type": "code",
   "execution_count": null,
   "metadata": {},
   "outputs": [],
   "source": []
  },
  {
   "cell_type": "code",
   "execution_count": 14,
   "metadata": {},
   "outputs": [],
   "source": [
    "review_data = review['내용'].astype(str).tolist()\n",
    "review_label = review['긍정0부정1중간2'].astype(str).tolist()"
   ]
  },
  {
   "cell_type": "code",
   "execution_count": 15,
   "metadata": {},
   "outputs": [],
   "source": [
    "# 얘는 안해도 됨.\n",
    "X = np.array(pd.DataFrame(review,columns = ['내용']))\n",
    "y = np.array(pd.DataFrame(review,columns = ['긍정0부정1중간2']))"
   ]
  },
  {
   "cell_type": "code",
   "execution_count": 16,
   "metadata": {},
   "outputs": [
    {
     "data": {
      "text/plain": [
       "array([['맛은 좋은데 양이 좀 적네요'],\n",
       "       ['잘 받았습니다.출타중이이어서 늦게 구매확정 후 상품평을 올리게 되었습니다.잘 먹겠습니다.'],\n",
       "       ['꿀 고구마'],\n",
       "       ['신선하다고 하네요감사합니다'],\n",
       "       ['울금은 피로회복에 절대강자!!피곤할때 울금을 물에 타서 마시면 피곤함이 없어져요.오랫만에 다시 울금을 구매했어요.  특히 입안에 혓바늘이 돋았을때 양치 깨끗이 한후에 울금가루를 바르고 자고 일어나면 깨끗하게 혓바늘 돋은 것이 없어지네요'],\n",
       "       ['빠른배송 고맙습니다.잘 먹겠습니다.'],\n",
       "       ['빠른배송 고맙습니다.잘 먹겠습니다.'],\n",
       "       ['빠른배송 고맙습니다.잘 먹겠습니다.'],\n",
       "       ['믿고 구매하고있어요. 한번씩 세일시 문자주시면 얼릉 들어가서 사기. ㅎ 이번 사과도 깜짝 세일시 얼릉 들어가 산후 맛있게 잘먹었습니다. 감사해요.'],\n",
       "       ['저렴하게 잘사서 먹고있어요. 두박스나 주문해서 아기 남편 같이 맛있게 먹네요. 감사해요'],\n",
       "       ['두박스 주문해서 잘먹고있어요. 남편 일하러갈때 한개씩 챙겨주고 아기 주기도 아주좋아요. 감사해요'],\n",
       "       ['아무것도 첨가 안되있어 좀 쌉싸르한 맛이예요오래된건지 찌꺼기인지 가라앉아서 그런지 끝에 뭐그런거가 있어요'],\n",
       "       ['수입귀리먹다 이번에 국산을 찾다가 괴산군청에서.관리운영하는 괴산장터를 알게되어 구입했네요.수입보다 깨끗하고 맛도 훨씬 좋아요~또 구매할께요~^^'],\n",
       "       ['어린아이들과 같이 먹으려고 저염식으로 주문했는데적당히 짜지않게 절여져서 김치 맛있게 할 수 있었어요~또 초록색 겉잎도 챙겨주셔서 김치할 때 우거지로 덮고 저장할 수 있어서 좋았어요^^'],\n",
       "       ['괴산 옥수수를 접한지도 몇년이 된 것 같습니다옥수수를 무척 좋아하거든요냉동옥수수가 있다는 것 알고 두번째 주문인데도착해서 몇개 먹고 냉동실에 보관하면서생각날때 마다전자렌지에 살짝 돌려 먹으면 간식으로 좋은 것 같습니다도착해서 몇개 냉동실에 보관하면서생각날때 마다 먹을 예정입니다옥수수 제철이 다가오고 있어 기대가 됩니다맛있는 옥수수 기대하겠습니다'],\n",
       "       ['날씨가 더워져 걱정했는데아이스박스 포장에 냉매를 넣어서김장철 절임배추같이 신선하게 도착했습니다괴산 절임배추 정말 좋아요 ! ! !'],\n",
       "       ['올갱이 껍질 분리하는게 시간이걸려서 알맹이만 사려고했습니다.그런데 껍질에서 나오는 좋은성분을 먹으면 좋겠다는 생각에 육수원액도 같이샀어요. 결과는 대만족!된장풀어 올갱이살과 끓이니 맛도 진하게 좋고 건강해지는 기분이에요. 간건강 챙겨야하는 신랑이 잘먹어서 또 사야겠어요.'],\n",
       "       ['깐올갱이라 일단 넘 편하고 부담없었네요.간에 좋은음식 찾던차에 믿을수있고 깨끗한 올갱이 먹게되어 정말 잘되었어요.같이산 원액으로 국으로 끓였는데 진하고 좋았고요.또 좀 남겨둔 살로 부추전에 넣었는데 이거도 넘 맛있었어요.'],\n",
       "       ['나이 지그한 어르신이 주문을 부탁한거라서 여기저기 알아보다가 이곳에 주문을 해드렸는데, 효과가 좋다고 하시네요'],\n",
       "       ['행사할때 구매했는데 맛은 좋습니다.전자렌즈로도 먹을수 있긴 한데 아이가 먹기에는 살짝 딱딱하더라구요.그래서 아침에 일어나자 마자 찜통에 넣고 찌면 아이가 먹을 수 있을정도로 말랑 거리더라구요.또 행사하면 사고 싶습니다.맛은 있습니다.'],\n",
       "       ['몇년전 괴산 올갱이마을 다녀간 이후로 항상 보리와 결명자를 여기서 시켜먹어요~손쉬운 정수기보단 물끓여 보리와섞어 우려서 시원하게먹어요~농사지으시느라 정말 감사드리고 잘먹겠습니다~^^'],\n",
       "       ['지인 소개로 구매해 봤는데 매콤하게 맛있네요자주 이용할게요^^'],\n",
       "       ['무청시래기 부드러워요. 한번 먹을 양으로 포장되었어요'],\n",
       "       ['맛있고 좋아요.'],\n",
       "       ['알이 굵고 먹었을 때 블루베리향이 강해서 좋아요~- 마트에서 사 먹는 블루베리는 시큼한 것고 많은데, 여명 농원 블루베리는 무엇보다 달콤해서 맘에 듭니다. 부모님께도 부쳐드렸는데 아침저녁으로 잘 드신다고 해요. 재구매 의사 있습니다~ 좋은 농작물 감사드려요^^'],\n",
       "       ['한봉지 시래기국으로 끓여 먹었어요 처음은 좀센데 계속끓이면 부드러워요'],\n",
       "       ['어제 온 감자를 아침에 쪄서 먹었는데, 감자마다 아린맛이 있네요.반품도 못하고 참 난처하네요.'],\n",
       "       ['정말 최악이예요. 22일 도착이 선택이 되서 주문한건데 21일 5시가 다되서 내일 배송 안된다고 하시고... 좀 미리 연락주시던가.. 재료 준비 이미 끝났는데.. 어쩔수 없으니 알겠다고 토요일에 받겠다고 했는데 저녁7시 넘어 도착한 배추를 보니.. 얼마나 절여졌는지 물이 흘러넘치고 배추도 뻘겋고 아이스팩 작은것도 다 녹고.. 상태가 정말 말도 아니였어요. 배송조회 해보니 2'],\n",
       "       ['감자 상태도 좋고 맛있게 잘 먹을께요~~'],\n",
       "       ['처음에 1kg 먹어보고, 넘 맛있어서 2kg 또 시켰어요 ^^우선 블루베리가 알이 크고 탱글탱글해서 예뻐요.  맛도 새콤 달콤하니 밍밍한 동네의 블루베리랑은 정말 다르게 맛있어요~4살, 6살짜리 우리 아이들도 넘 맛있게 잘 먹어서 좋은 간식을 준 엄마가 됐구나 싶어서뿌듯하고 좋더라고요 ㅎㅎ플레인요거트에 섞어 먹으면 더~ 맛있고요 그냥도 맛있어요.싱싱하고 맛있는 블루베리 많이'],\n",
       "       ['김치를 워낙에 잘먹는 남편때문에 김치 똑 떨어지기전에 김치는 담아야겠고, 절임배수를 주문하여 김치를 담았습니다.수월하고 힘이 안들어서 도움이 되었습니다.절임배추는 김장철에만 주문하는줄 알았는데 그렇지 않네요 ㅎ가을배추보다는 맛이 못하지만 그런데로 괜찮았어요. 바쁘고, 건강이 따라주지 않을때 무리하게 집안일에 얽매이지말고 쉽게 살아요'],\n",
       "       ['작년에 남작감자를 구매해서 먹었는데 품질도 맛도 최상급이였습니다.그래서 지인들 소개까지했었죠.올해도 기대를 많이하고 오직 여기서 구입을 하기위해 여러번 전화를 하고 기다렸다가 구매를 했습니다.그러나 기대와는 달리 너무 황당했습니다.호미에 찍힌것,캔지 오래된 것(만졌을때 말랑거림),남작품종이 전혀 아닌 수미감자가 왔습니다.한두개 하자품도 아니고 선별해서 보내야 되지 않나요?남'],\n",
       "       ['잘 받아서 잘 먹고있슴다~'],\n",
       "       ['배송 포장 아주 만족합니다감자는 정말 맛있어요^^'],\n",
       "       ['인증서까지 이렇게 보내주시고 포장도 신경써 주셔서 감사합니다기다린 보람이 있습니다잘 먹겠습니다'],\n",
       "       ['물건을 확인해보니 정말 좋습니다잘 삶아먹기도 하고 반찬도 해 먹고 있읍니다'],\n",
       "       ['요농장서 세번째 구입이네요~ 발송문자도 없이 와서 깜짝 놀랐습니다ㅎㅎ무선별이라 알이 덜 여문것도 나오지만, 갓수확한 옥수수가 싱싱해서 좋아요~ 잘먹을게요^^*'],\n",
       "       ['세일도해주서셔 싸게 잘사고..정말맛있습니다 추가주문할라했떠니..자루포장이없어서그런지..가격이 ,,.무튼 감사합니다 번창하세요'],\n",
       "       ['포장상태도 깨끗하고 옥수수도 크기도 일정한편이고 쫄깃하고 맛있네요~ 맛있는 옥수수보내주셔서 고맙습니다.'],\n",
       "       ['친정언니에게 선물했는데요 이렇게 부드럽고 쫄깃한 옥수수 처음이라고 좋아하네요'],\n",
       "       ['친정언니들께 1박스씩보냈는데요 쫄깃하고 옥수수 특유의 감칠맛도 진하고 정말 맛있다네요'],\n",
       "       ['언니3명에게 선물했는데요 포장도 깨끗하고 찰지고 감칠맛나는 옥수수 진짜 맛있다고하네요 흐믓했어요 더운여름 맛있는 옥수수농사하시느라 고생하시네요 고맙습니다~!'],\n",
       "       ['어지간하면 이용후기 귀차니즘에 남기지 않는데정말 좋은 옥수수 잘 받아서 맛있게 잘 먹었습니다.앞으로도 좋은 품질의 옥수수 잘 부탁드려요~~'],\n",
       "       ['60개 삶아서 주변에 나누어 주었다니 모든 분이 맛있다고 합니다.울식구 먹을게 없어서 30개 더 주문합니다.맛있는 옥수수 주셔서 감사합니다~~'],\n",
       "       ['몸에 좋은 브로콜리마트에서 낱개로 사먹다가장아찌로 담아 오래 먹으려고마음먹고 구입했는데.. 이런..ㅠㅠ정확하게 주소를 입력했음에도 불구하고우째 이런일이~엉터리 주소로 잘못 배송이 되었다가다음날 다시 돌아오기까지 우여곡절이.암튼 싱싱한 지역농산물을 원했으나시들시들 누렇게 뜬 브로콜리라니...너무 아쉬웠습니다~'],\n",
       "       ['대학옥수수 맛있어요.쫀득쫀득합니다.'],\n",
       "       ['맛있어요.찰지고 쫀득합니다.'],\n",
       "       ['옥수수 크기도 알맹이도 크고 쫀득하고 너무 맛나요 옥수수 검색하다 괴산장터 알았고 푸른농장에서 예약할인 하길래 반신반 생각하고 주문했는데 정말좋아요 사실 별기대 안했거든요 11번가에서 7월초 햇 찰옥수수라고해서 싸길래 샀다가 낭패봐서리 알도안차고 작고 맛도없고20개에 14000원주고 샀는데 완전 당했네요^^; 내년에도 앞으로도 푸른농장에서 사야겠네요 어머니가 드셔보더니 너무'],\n",
       "       ['처음으로 옥수수를 예약 구매하여,오늘 받아 바로 삶았는데.넘 맛있네요~예약 구매라 넘저렴하게 구매해서\\r먹는건 아닌지판매하시는 농부님께 죄송하기까지 하네요.강원도 찰옥수수만 맛있는줄 알았는데\\r이렇게 안방에서\\r어제 저녁 발송한 제품을\\r오늘 받아 바로 찌니텃밭에서 따다 쪄주신 바로 그맛이예요~~더운날씨 건강하시고,앞으로도 계속 구매의양 쭈욱~있읍니다.감사드려요~~~*^^*'],\n",
       "       ['예약주문했던 옥수수가 드디어 오늘 도착을 했어요.부드러우면서도 탱글탱글하니 맛도 좋아요.맛있게 잘먹겠습니다.'],\n",
       "       ['옥수수 잘받아서 받자마자 쪄서 반음 냉동실로 반은 온식구가 다 해치웠네요. 8.9년되었나. 장연옥수수 펜입니다. 계속 주문해먹거나 마트에서 찾아서 사먹곤 했습니다. 처음 장연우체국에서 주문해먹을땐 옥수수가 이런맛이 있었나 싶을 정도로 너무 맛있게 먹었던 기억이나네요. 시기를 잘 맞춰야 주문해 먹을수 있었답니다. 해마다 여름이면 2포대이상은 주문해서 나눠먹고 추천도 많이 했던'],\n",
       "       ['어제받았는데 신경써주셔서 선별까지 하셔서 보내주셔서 이 더운날씨에 고생하신것같아 정말 감사드립니다.그리고 맛도좋고 신선해서 너무좋습니다.앞으로 쭈우욱 단골되겠고,무더운 날씨에 건강 조심하십시요수고하세요'],\n",
       "       ['좋은 품질의 옥수수 잘받아서 맛있게 먹을수 있었어요 감사드립니다'],\n",
       "       ['아침을 제대로 못하는 식구들 볼때마다 안스러웠는데 귀리선식으로 이침 식사대용으로 짱이네요^^'],\n",
       "       ['괴산장터에서 두백감자 처음 주문했는데 완전 대성공입니다.우리집 10kg 1박스 친정 1박스, 시댁 2박스 주문해서 보내드렸더니 어르신들도 엄청 좋아라하시네요. 지씨농가의 유기농 무농약 농작물 믿고 옥수수도 주문합니다.'],\n",
       "       ['괴산장터에서 두백감자 처음 주문했는데 완전 대성공입니다.우리집 10kg 1박스 친정 1박스, 시댁 2박스 주문해서 보내드렸더니 어르신들도 엄청 좋아라하시네요. 유기농 무농약 믿고 옥수수도 주문합니다.'],\n",
       "       ['무척이나 무더운 여름에 옥수수농사 수고 많았습니다.덕분에 맛있는 옥수수를 편하게 먹을 수 있군요.다음에 또 주문하겠습니다.'],\n",
       "       ['여름이면 생각나는 옥수수 너무너무 맛있어요  괴산대학찰옥수수는 씹으면 톡톡 터지는 나오는 그맛은 옥수수와는 비교할수 없이 맛 있어요'],\n",
       "       ['괴산대학찰옥수수는 정말 맛있어요 씹으면톡톡 터지는 그맛은 찰지고  맛있어서 자꾸자꾸  생각나네요'],\n",
       "       ['온식구가 모여서 하모니카   불면서 먹는 옥수수 맛있어요'],\n",
       "       ['괴산대학옥수수 찰지고 맛있어요'],\n",
       "       [' 고산대학찰옥수수가 최고예요'],\n",
       "       ['딱 20년전에 가르치던 학생이 찐 옥수수 몇개를 가지고 와서 먹어본 후 이 옥수수와 인연을 갖게 되었습니다.  학생 부모님께 여쭤보니 충대 농대에서 시즌때 일년에 한 번 구입 할 수 있다고 전해 들었고 이후 매년 구입해 먹곤 했었죠.그러던 중 미국에서 살게 돼 그립기만 했던 그 때 그 옥수수.귀국 후...집 앞 마트에서 대학찰이라고 판매하는 것을 사서 먹어 봤지만 입맛이 바'],\n",
       "       ['옥수수가 1개 부족하게 왔습니다.옥수수 품질은 만족하나\\r부족한 갯수는 어떻게 해야하나요?'],\n",
       "       ['맛있는 찰옥수수60개 구매했습니다.옥수수가 알도크고 굵어요,감칠맛나네요.내년에 재구매할 의사 2000% 입니다!'],\n",
       "       ['오늘 받자마자 삶아서 먹었는데 알도 크고 쫀득쫀득하고 너무 맛있는 것 같아요~!'],\n",
       "       ['동생에게 선물로 보내주었는데...맛있다고...더 주문했으면 좋겠다고 하네요...감사합니다...^___^'],\n",
       "       ['잘 박았고, 맛있게 먹었습니다.'],\n",
       "       ['괴산대학찰옥수수 일반옥수수와는 비교할수없이 알갱이가 크고 톡톡터지면 번져나오는 부드러움 속살이 고소하고 맛있어요'],\n",
       "       ['괴산찰옥수수 정말 맛 있어요'],\n",
       "       ['괴산찰옥수수 정말 맛 있어요'],\n",
       "       ['괴산대학찰옥수수 부드럽고 고소하고 맛나요'],\n",
       "       ['작년에 이어 올해도 주문해서 먹고 있습니다. 너무 맛있어요~괴산 찰옥수수말고 다른 건 못먹겠어요~\\r\\r감사합니다.'],\n",
       "       ['가족,친척들에게 두루 보냈는데포장도 깔끔하고 옥수수도 깨끗하니 이쁘다며모두에게 칭찬들어서 기분 좋았습니다.월요일에 주문하고 금요일에 배송 완료되었지만맛난 옥수수 정성스레 보내주셔서 감사 인사 드립니다^^'],\n",
       "       ['선물용과 섞여있다고 해서 좀더 비싸지만 주문했습니다. 받아 보니 뭐가  섞인건지.. 사진과 같은 표고인줄알고 시켰더니 일반 마트에서 파는거랑 똑같은거. 그러나 신선하다는게 다르네요. 더군다나 더운날씨에 스티로폼박스에 얼음도 없이 버섯만 꽉채워 오는바람에 냄새가 너무 심합니다. 몇개는 버려야만 했습니다. 주문하고 싶지는 않네요.'],\n",
       "       ['대학찰옥수수 너무 맛있어요~가족들도 쫀득하다고 너무 좋아합니다.더운 날씨에 고생하셨습니다. 다음에 또 주문하겠습니다.^^'],\n",
       "       ['배송물품을 잘 받았습니다. 그러나 옥수수 수확일이 예정일보다 10일 이상 지연된 점도 실망스럽고 옥수수 상태도 아주 만족스러운 상태가 아니라 실망스럽습니다.'],\n",
       "       ['부드럽고 달아서 부모님께서 좋아하시더라구요^^30개 주문했는데 금방 먹어서더 주문하려구요~~^^'],\n",
       "       ['부모님 부탁으로 대신 주문해드렸는데부드럽고 맛있다고 잘 샀다고 칭찬해주셨어요^^'],\n",
       "       ['썩은것 하나없이 잘 배송되었구요알도 실하고 너무 맛있게 잘 먹었어요~~'],\n",
       "       ['썩은것 하나없이 잘 배송되었구요알도 실하고 너무 맛있게 잘 먹었어요~~'],\n",
       "       ['괴산대학찰옥수수는 씹으면 속살이 톡톡 튀어나오면서 고소하고 부드러우며 맛있어요'],\n",
       "       ['괴산찰옥수수 여름이면 생각나서 해마다 주문해서 먹고 있는데 정말 옥수수중에는 최고예요'],\n",
       "       ['쫀득하고 너무 맛있어요!!한꺼번에 모두 삶아서 가족,지인과 나눠먹고 남은것은 냉동실에 넣었어요~많아도 며칠 못가요~^^\\r더운 여름에 고생하셨습니다~또 주문하겠습니다. ^^'],\n",
       "       ['해마다 옥수수맛을 평가하는 남편셰프인양 맛평가하는 남편에질색하는데\\n처음으로 사본 대학찰옥수수 평소처럼 옥수수를 삶아 신랑앞에 주며또 무슨소릴할려나 했더니 신랑왈 어! 이거 맛있네 달짝하고 \"'],\n",
       "       [nan],\n",
       "       ['2020-02-27'],\n",
       "       ['좋아요 배송도 빠르네요'],\n",
       "       ['유래없는 폭염에도 소비자들에게 맛좋은 옥수수를 공?K나기위해 수고하시는 괴산장터와 직접생산현장에서 땀을흐리시는 경작하시는님어게 맛있는옥수수를 먹게 해주어서 감사합니다 옛날에 옥수수하면 강원도라 했는데 먹어보니 옥수수는 괴산 대학 옥수수 입니다 정말 맛있게 먹었습니다\\n폭염에 건강 유의하시고 행복하십시요'],\n",
       "       ['타 사이트에서 구매해서 먹고 맛있어서 또 주문했어요 ㅎㅎ 날이 더워서 일단 박스 열고 나니 옥수수 열기 빼내고 있어요. 알도 알차고 맛있어서 한번에 너무 많이 먹게되네요. 아기 간식으로 너무 좋아요! '],\n",
       "       ['1차 재구매'],\n",
       "       ['아는 지인분께 선물로 보내드렸는데 맛있다고 정말 좋아하십니다.이때까지 몇번 옥수수를 보내드렸는데 제일 맛있다고 하시네요.다 드시면 또 주문해야 할 것 같습니다^^'],\n",
       "       ['집에 옥수수를 보내줬는데..이때까지 먹은 옥수수 중에 제일 맛있다고 아침저녁으로 드신답니다. 삶아서 주변에도 나눠주시고 한다고 해서 제 마음이 다 뿌듯해집니다.다 드시면 또 보내드려야 할 것 같습니다.수고하세요^^'],\n",
       "       ['너무 부드럽고 맛있어서 가족들과 나누어 먹고 다시 주문했습니다많이 파세요'],\n",
       "       ['와우~정말 달고 맛있어요기다린 보람이 있네요포장도 꼼꼼하고 상한거 없이 왔어요또 주문해 먹어야 겠어요~^^♥'],\n",
       "       ['햇고구마라 신선합니다!신선한 느낌에 그러려니 하고 두번째 삶아 먹는데...호박고구마라 하기엔 넘 퍽퍽합니다!아이들이 안먹으니 튀겨야할듯...건강한 맛인데...물컹하고 당도높은 호박고구마에 길들여진 애들 입맛에 맞추기엔 부족한듯...'],\n",
       "       ['신선합니다!맛있습니다!물컹하지 않고 아삭한데도 맛은 좋습니다!만족합니다!'],\n",
       "       ['맛있는 옥수수 잘 받았어요부분적으로 많이 익은 곳이 생기 약간 단단해요'],\n",
       "       ['인터넷구입은 처음이라..안좋은 빛깔이거나 그럼어떡하지 고민하다..괴산장터만 믿고 구입해봤는데..너무 마음에 들어요..친정엄마도 보시고 잘사셨다히시고..덤으로 주신 서비스까지 보시고 시골인심이 푸짐하다며 만족하셨어요..^^앞으로도 자주 이용하게 될것같아요..신토불이농장도 자주 이용할께요^^'],\n",
       "       ['고추 빻아왔는데 색깔도 좋고 품질 좋습니다.그리고 근수도 넉넉히 주셨고요.더운데 농사 짓느라 수고하셨고 잘 먹겠습니다'],\n",
       "       ['전에도 가끔 인터넷 구매를이용했었지만 기대한만큼의 물건이오지않아 늘 실망이컸었는데 이번엔 맘에드는고추가왔어요꼭지가 제거된 반양건 재 구매하려는데 매진이네요'],\n",
       "       ['올해 김장때 빛깔고운 고춧가루로 맛있게 담글것 같네요. 넉넉한 인심 감사합니다'],\n",
       "       ['깨끗하고 좋은 고추입니다 내년에도 구매하겠습니다'],\n",
       "       ['신선하게 농장에서 바로 따온 느낌이예요벌레먹은거 하나도 없이 쫀득쫀득 연하고 너~~무맛있어요 자주 이용할게요^^'],\n",
       "       ['향도 넘 좋고 맛도 좋습니다.앞으로도괴산장터 믿고 이용하겠습니다~^^'],\n",
       "       ['지인집에 선물해드렸는데요.역시 괴산옥수수라며..쫀득하고 맛있다고 하시네요.내년에도 또 주문해야겠습니다^^'],\n",
       "       ['옥수수가 끝물이라 별기대 안했는데 오늘 받아서 쪄 먹어보니 정말 맛있네요.옥수수알도 전부 실하고 통통하고 벌레먹은것 하나없고 상품성100%에 덤까지 푸짐하게 주셨구요.어느 카페에 글 쓴거 보고 괴산장터 쇼핑몰을 알게되어 처음 주문한건데 정말 만족합니다.지금은 아쉽게 품절이라 내년에 기약해야 겠어요.옥수수 맛있게 먹겠습니다.^^'],\n",
       "       ['청국장.된장.고추장다~ 맛있네요^^다 먹고 또 주문하겠습니다.많이 파세요'],\n",
       "       ['못난이라고 해서 작고 못난 옥수수들만 올 줄 알았는데 알이 커서 듬성듬성한 부분이 있는 것일뿐 예쁜이 옥수수들이네요~ ㅎㅎ바로 삶아서 진공포장해서 그런지 제가 집에서 삶아먹을 때보다 훨씬 부드럽고 맛있어요~너무 맛있어서 엄마댁에도 지금 주문해 드릴려고 들어왔어요. ㅎㅎ맛있는 옥수수 감사해요~~ ^^'],\n",
       "       ['15cm내외의옥수수..못난이옥수수..조금정직했으면하네요10cm도안되는옥수수크기도크기지만알맹이도듬성듬성..40개에26,000원이싼게아니었네요10,000원이면족할걸을..택배보낼때의옥수수사진이랑같은사진을올려주심이..'],\n",
       "       ['맛이 참 좋네요. 소금만 넣고 삶아도 달달하니 맛있고 쫀득쫀득 너무너무 맛있네요.많이 작은 사이즈도 좀 섞여 있어서 별 4개입니다,'],\n",
       "       ['괴산장터를 믿고 주문하는데 황도 세일해서 샀는데 세일품도 검정하고 올렸으면 좋겠네요 시고  물렁물렁 상하고 어제 하나로마트가니 황도 엄청싱싱하고 좋은게 27000원하던데  물건 받으니 화가나네요'],\n",
       "       ['제가 원하던 옥수수 맛입니다알이 튼실하지 않은게 여러통 있긴하나 맛 좋고 알맞게 영글은 옥수수네요'],\n",
       "       ['배송은 정말 주문하자마자 시작되었고 배송상태 부스러진거 없이 잘왔어요.마른정도는 정말 잘말려져왔고 닦으면서 꼭지떼는데 깨끗하네요..희나리 약간있는건 잘라내면서 다듬었는데 거의 나오지는 않았어요..\\r제법 칼칼한 향도나고 좋네요..'],\n",
       "       ['된장,고추장,간장이 집밥의 기본인데 맛있는 장을 만나기가 어려웠어요. 혹시나 하고 구매해봤는데 시골입맛에 딱 맞는 장이더라구요.간장은 색이 좀 진하긴 하지만 맛이 좋아서 괜찮아요.\\r또 구매할께요``^^'],\n",
       "       ['모양은 못생겼는데.. 맛은 괜찮았습니다.듬성듬성 조금씩 빠져 있긴 한데 옥수수 자체는 맛있었습니다.'],\n",
       "       ['김치 상태도 좋고 무엇보다 맛있습니다.가족들이 다 잘 먹어서 금새 다 먹었습니다.재구매 들갑니다~~배송과정에서 내용물의 무게 때문에 스티로플이 약간 부서졌네요.주의사항을 표시하시면 좋을듯~~'],\n",
       "       ['고추는 크고 두껍고 좋았지만 매운맛을 구매하였는데 안 매웠고 건고추 무게를 적게 보내주셨어요.'],\n",
       "       ['역시 대학찰옥수수는 장연면이 최고입니다~!!!'],\n",
       "       ['안녕하세요  괴산고추 믿고 구매하였는데요   건조고추지만  고추가루빛깔이 검붉어요   여러번 괴산고추를  구입했지만  좀그러네요   식용으로  사용해야되는데  주부입장에서는  걱정이되네요  첫물말고  섞어서  주셨으면  바렘을해보네요  구매하신분들은 만족하시는지  궁굼하네요~~'],\n",
       "       ['크기도 일정하고 깨끗하고 좋네요...단지,좀 일찍 구매해서 가격이 지금보다 훨씬 비쌀때 샀다는거 하고...좀 덜 말라서 말리느라 고생좀 한거 빼고는 괜찮아요...그리고 색깔은 좀 검붉은색이네요...'],\n",
       "       ['한달사이에 3번째 주문이네요.진짜 맛있어요.지인들이랑 나눠먹었는데 다들 맛있다고 하네요\\r먹기전 자연해동시켜서 전자레인지에 7분정도 돌려서 먹음 금방 찐것 같이 맛있어요4개들은건 수암농장 못난이 옥수수인데 제 개인적인 생각으로는 30개짜리가 훨~상태도  좋고 괜찮아요..맛은 두상품  다 똑같구요\\r같은 판매자니까요~^^ㅎㅎ'],\n",
       "       ['색도  예쁘고품질도  좋습니다 고맙습니다'],\n",
       "       ['이렇게 작은걸 유기농이라도 파는건 너무 하다 싶네요. 사이즈 명시했으면 절대 안샀을거에여.작고 가느다른게 먹을게 없어요.'],\n",
       "       ['건고추 20근..좋은 가격으로 좋은 물건을 빠르게 배송받을 수 있어 좋았습니다.괴산장터 내 다른 분의 건고추를 먼저 주문했다가 약속을 자꾸 늦춰 믿을 수 없어 취소하고 주문하였습니다. 2~3년 전에도 선유동농장 고추 20근 주문했었는데...역시믿을 수 있는 농장이네요..매년 20근 정도 건고추를 주문해야 하는데 이곳을 단골로 삼아야 할 것 같아요..'],\n",
       "       ['건고추의 상태가 좋습니다~^^*'],\n",
       "       ['아이가 잘 먹어 주문했는데요.배송료 지불을 피하기 위해 5개를 주문했는데박스에 3개만 들어있었습니다.10월 5일 배송받았는데, 외유를 가느라 이제사 상품평, 그리고 항의를 합니다.'],\n",
       "       ['양도 적당하고 어느정도 말랑말랑 하고... 이번에는 수암농장 일반 옥수수 주문할까 합니다.'],\n",
       "       ['맛있게 잘 먹겠습니다'],\n",
       "       ['지난해이어 올해도 괴산 고추잠자리 골드를 구입하여 김장을 합니다.고맙게 잘 먹도록 하겠습니다.'],\n",
       "       ['정말 맛있네요.잘 먹겠습니다.사과하면 스피노자농원 생각나겠어요.^^'],\n",
       "       ['후기를 남기는 편이아닌데 절임배추가 좋은데 평이없어 글을 쓰네요^^ 배송받을 날짜에 맞춰서 도착했구요~ 배추속도 노랗게 꽉 차고 배추가 잘익어서 단맛도 많이나요~ 덜 절여서 살아난것도 없이 맛있게 잘 절여져 왔어요~ 맛있는 배추 간편하게 잘 샀네요~내년에도 구매할 예정이에요^^'],\n",
       "       ['너무 실망입니다너무짜고 푹절여있고 어떤것은 안절여있고~황금배추라 해서비싸게 주고 쌌는데~'],\n",
       "       ['상품은 신선하나 너무비싸요배송비는 두박스 값으로 받고한박스에 보내셨네요.배송비 한박스값 5,000원 환불이 가능한지요?'],\n",
       "       ['괴산배추가 맞나다 해서 2년전에 다른곳에 해보니 덜 절여져서 배추가 살아 있었는데 이변배추는  적당하게 잘 절여지고 단맛도 나서 시어른께도 주문해서 보냅니다. 감사합니다.'],\n",
       "       ['어머니께서 괴산배추를 좋아하셔서 처음으로 주문해봤는데요~ 정말 배추가 좋네요^^ 매년 절임배추를 구매했는데요 ~ 어머니께서 배추도 좋고 절임정도도 좋다고 하시네요 덕분이 올해 김장 잘 끝냈습니다~~ 내년에도 주문할게요 번창하세요^^'],\n",
       "       ['꼭지딴고추가 근수가 하나도 오차없이 와서 믿음이 갔어요. 살짝매운맛이 김장을 하니 정말 맛났어요. 색깔도 예뻐요'],\n",
       "       ['깔끔하게 포장되서 왔고, 간도 알맞고, 배추도 노랗고 고소하니 맛났네요.덕분에 김장 잘했네요^^'],\n",
       "       ['못난이 옥수수를 구입하고 열어 보니 진공 포장에 바람이 들어가 헐렁한 팩이 5개나 되어 있어서 걱정되어 진공 포장 불량제품을 먼저 시식하였습니다. 가격이 저렴하다고 하여 진공포장상태가 불량한 제품 보내주지 마세요.  당부 드립니다.  다시금 못난이 주문 합니다.'],\n",
       "       ['맛이 끝에 좀 씁씁한면이 있어요'],\n",
       "       ['끝맛이 좀 씁씁합니다'],\n",
       "       ['백도라지34.5% 감초1.7% 생강3.4% 배60.3%원재료함량도 도라지보다 배가 훨씬 많네요'],\n",
       "       ['아이가 사과를 좋아하는데 맛있어서 또 구매 했네요*^^*'],\n",
       "       ['맛있는 절임배추로 김장김치 잘 먹고 있어요.'],\n",
       "       ['서리태 알도 균일하고 아주 만족합니다.'],\n",
       "       ['위 안좋으신 부모님선물인데 좋았으면 합니다'],\n",
       "       ['재래식된장을 싸게사서 좋아요 만족합니다'],\n",
       "       ['사과가 너무너무싱싱하고 맛있어서 한번더 주문했습니다 좋은제품으로보내주세요'],\n",
       "       ['사과의 거의 대부분이 상처 난 사과였습니다이래서 싸게 파나 하는 생각이 드네요\\r완전 실망했습니다'],\n",
       "       ['싱싱하고 아삭하고 그기도적당한 맛난사과를 보내주셔서 식구들이 맛있게 잘 먹고있습니다 좋아서두번째구입했습니다'],\n",
       "       ['사과가 아삭하고 정말 맛나네요  잘 먹었읍니다'],\n",
       "       ['봄으로 가는 길위에서지난 가을 열매 맺어 겨울내내 맛있게 먹던 사과가 그리워황금농장 사과 부사를 주문 했어요...일년내내 농사지은 정성이 깃들어맛있고,예쁘고,똘똘하게 생긴 빠알간 사과.저는 작은 책상위에서 농사를 짓고농부는 널다란 밭에서 농사를 짓고서로 서로 농사꾼이 되어물물교환하면서 사는 세상의 삶고맙고, 감사합니다.올 한해도맛있는사과 기대해 볼께요~'],\n",
       "       ['늘 솔뫼고추장만 구입하다가 솔뫼된장은 처음 구매해 봤는데 맛이 좋네요 (: 유기농 우리콩 된장중에 가격도 가장 저렴하고 가장 마음에 드는건 유리병에 담겨있어서 환경호르몬 걱정도 없어서 너무너무 좋아요앞으로도 맛있고 좋은 먹거리 계속 부탁드려요 ♡.♡'],\n",
       "       ['결혼하고 유기농 식자재 친환경 먹거리에 관심이 많아져서 고추장 고르는데도 몇날 몇일이 걸렸어요 국산 고추로 만든 고추장 중에 가격도 가장 저렴하고 또 유리병에 담겨서 환경호르몬 걱정도 없어서 정말 안심이에요 !!고추장 색깔도 붉어 좋고 맛도 있어서 볶음 음식에도 잘어울리네요 앞으로 계속 애용할게요 ~(:'],\n",
       "       ['일년 내내 끊이지 않게 챙여두시고 들깨를 드시는 부모님께서 필요하시다 하여 깐깐하게 찾아 구입해 드린 들깨입니다.10년 이상 자연친화적인 유기농법으로 농약과 화학비료 사용하지 않으시고 10년 이상 농사를 지어오셨다는 안내문, 여러 컷의 사진과 함께 올려진 어르신의 순박하고 믿음직스런 사진까지...이런 들깨라면 유기농 사랑하시는 엄마께도 합격을 받겠구나 하고 구매하여 보내드렸'],\n",
       "       ['늘 청정하고 맛있는 농산물을 제공해주는 우리 가족의 곳간지기인 괴산장터에 감사드리며 19년 정월대보름을 유기농 찹쌀 오곡밥세트를 주문하여 온 가족과 한 해의 만복을 빌었습니다. 한결같은 맛과 품질을 유지해주고 제철 식재료 등의 정보를 제공해주셔서 다시한번 감사드립니다.'],\n",
       "       ['너무 크지도 않고 작지도 않아서 하루에 한개 먹기에 딱 좋은 사이즈입니다.맛도 괜찮습니다.'],\n",
       "       ['봄에  먹는  사과라  푸석할  수  있는데  단단하고  당도가 높아  맛이 좋았습니다. 맛보기로  보내주신 사과생즙도  집에서 직접 짠 사과쥬스를  먹는 것 같이  진하고  좋아서  아이들이 좋아할  것  같습니다.  깍아  먹기  귀찮아하는 아이에게  좋은 사과를  먹일  수  있어  감사합니다..'],\n",
       "       ['가족들과 후식으로 자주먹는 괴산사과 달콤한향과 맛이 다른과일들을 생각나지않게 하네요할인해서 구입했지만 가격에 상관없이 재구매의사 고~~고농사짓느라 고생하신만큼 맛나게 잘먹었습니다감사합니다'],\n",
       "       ['역시 옥수수는 대학찰옥수수~ 다른건 못먹어요^^ 행사상품으로 잘 샀습니다. 맛있게 먹을게요~~'],\n",
       "       ['배송이 늦어진것 빼놓고는 만족입니다.소금만 조금 넣어서 물에 살짝 찌면 해동되면서 맛있는 옥수수의 향과 구수한 맛을 느낄수 있네요'],\n",
       "       ['아삭하고 달고. 껍질채먹어도 부담없이 맛있어요.재구매할께요^^'],\n",
       "       ['알도 굵고 막찐 옥수수처럼 넘 맛있네요 1년내내 먹을수있어서 간편하고 맛도 좋구 계속 진공팩에 든것도 구매하려구요'],\n",
       "       ['여름에 먹는거나 거의 차이가 없네요 바로 먹기에도 편리하고 껍질도 안나오고 힘들게  집에서 오래 안쪄도 되니 편리하네요'],\n",
       "       ['하얀꽃이 피고 잎이 나기 시작합니다~ 크고 좋은 나무 보내주시고, 문의글에 친절하고 빠르게 응대해 주셔서 감사합니다..'],\n",
       "       ['짜지않고 맛있는데다가 크기가 커서 넘 맘에 들어요. 다른 옥수수에 비해 알이커서 씹는 맛도 있어 여름에는 생옥수수, 겨울에는 냉동찰옥수수로 365일 이용합니다. 옥수수매니아로 괴산찰옥수수 너무 좋아요~~♡'],\n",
       "       ['제철이 아닌때 첨 사보는데 냉동된거 찜통에 쪄서 먹으니 맛있어요. 괜찮아요.'],\n",
       "       ['감사합니다 친절히 사진도 보내주시고어제 주말에 시골에 내려가 보내주신 미선나무 흰색, 붉은색, 상아색정성껏 심었습니다몇일사이에 꽃이 피어 좋았습니다감사드리고요잘 가꾸어 보렵니다'],\n",
       "       ['괴산청결 고추 작년에 15근 구매해서 맛있게 먹고 부족해서 고추가루  다시 주문했어요.고추가루 색깔도 예쁘고 음식을 했을때 맛도 맛깔나게 해주어서~  너무 좋아요~^^괴산청결고추 너무 좋아요~강추 드려요.^^'],\n",
       "       ['알이작지만 에어후라기에 구워먹으니 맛있습니다'],\n",
       "       ['시골갈때 휴게소에서 한봉지 사 먹었는데 다시 돌아갈뻔 했어요 넘 맛나요 3살배기 조카도 넘 좋아해요♡'],\n",
       "       ['사과 썩은게 5개 정도 되네요.귀찮아서 반품은 않 합니다.'],\n",
       "       ['맛은 있는데요 다만 저번 사과가 맛있어서 주문했는데 크기, 상태가 아쉽네요'],\n",
       "       ['옥에도 티가 있겠지요.사과 속 무른 것이 하나 있어 아쉽습니다.'],\n",
       "       ['칼칼하게 맛있게 매워서 좋아요'],\n",
       "       ['별기대 안하고 시켰는데 달지않고 부드러워요. 또 주문하려구요~'],\n",
       "       ['택배 받자마자 컵에 얼음 동동띄워서 마셨어요. 넘 맛있어요! 아침마다 한잔씩 마셔야겠어요. 잘 받았습니다 ^^'],\n",
       "       ['남편하고 매일 양배추즙 챙겨먹고있어서 다른 양배추즙 먹어보려고 검색하다가 알게 되었어요. 한살림, 생협에서 판매한다는거보고 믿고 주문했어요. 다른 양배추즙보다 구수한 맛이 입에 많이 남는것 같아요. 잘 먹겠습니다 ^^'],\n",
       "       ['육수5개중 한개가 터져서 배송되었어요.봉지포장하실때 좀 여유있게 봉지마감해 주시면 좋겠습니다.'],\n",
       "       ['타임특가로 구매했는데 싱싱하고 상품으로 모양도 크기도 이쁘고 아주 만족합니다'],\n",
       "       ['판매자님도 순수하시고 엄청 친절친절 하세요~ 순수하신 분들이 만든꿀이니 맛 도 정말 꿀 맛 이겠지요\\r많이 파시고 대박 나세요~^^'],\n",
       "       ['시중에는 중국산이 많은데 이곳에서 안심하고 사먹으니 좋네요'],\n",
       "       ['깔끔한 조선간장 맛이 나요.국이나 나물무침에 넣고 요리하니 깔끔합니다.배송 중 충격이 있었는지... 2병 중 한병이 줄줄 새서 와서택배 박스 안이 냄새가 꼬리한게 젖어서 와서 별 1개 뺐어요~'],\n",
       "       ['엄마에게 반 나눠드리고 저도 잘 끓여 먹고 있어요. 한번 끓여 먹기 딱 좋은 양만큼 소분하여작은 용기에 담겨져 있어서 편해요.좀 꼬리꼬리한 냄새가 나서 지펴백에 넣어 냉동보관해요~맛은 좋구요!건강에도 좋은 청국장~ 잘 먹겠습니다.'],\n",
       "       ['표고버섯, 큼직하고, 향도 좋네요. 볶음했더니 정말 맛있어요. 일부분은 말려서 보관했습니다.'],\n",
       "       ['25일 받았구요.크기도 좋고 맛도 좋아요.많이 파세요.'],\n",
       "       ['맛있는 감자 보내주셔서 잘 먹고 있습니다. 쪄먹기도 하고, 감자 스프도 만들고.부침도 하고... 더 주문하고 싶은데 품절이라니 너무나 아쉽네요. 내년에는 더 많이 살거라고 단단히 벼르고 있습니다. 맛있는 먹거리를 만들어 주신 생산자님! 감사합니다.'],\n",
       "       ['수미감자 넘맛있어요 삶아먹을용도로 샀는데 포슬포슬넘 맛있어\\r5k로며칠만에다먹고또주문합니다.'],\n",
       "       ['부모님댁에 보내드렸는데 맛있다고 하십니다'],\n",
       "       ['일주일 더 기다려서 그런지 2개나 더 보내주셨네요 감사합니다!아주 신선하고 맛있어요 쪄서 먹으니깐 더 맛있네요 원래 상품평 쓰는 거 귀찮아해서 잘 안쓰는데 너무 만족해서 남기러 왔습니다ㅎㅎ'],\n",
       "       ['그냥도 맛있는데 버터 살짝 올려 에어 프라이어에 돌리니 설탕이라도 뿌린듯이 다네요.몇대는 이가 좀 성긴 애도 있었지만 나머지는 모두 노랗게 예쁜 애들이 와서 좋아요.'],\n",
       "       ['담에 또주문할게요'],\n",
       "       ['생으로나 익혀먹으나 부드럽고 맛있습니다.'],\n",
       "       ['수고하신 농사로 맛있는 옥수수를 먹었습니다.'],\n",
       "       ['작년에 처음 공동구매로 맛보게 된 대학옥수수.특히 엄마가 너무 좋아하셔서 올해도 출시되기만 기다리다 구입했어요 \\r일반 찰옥수수와 다르게 이 옥수수는 먹어도 소화가 잘된다고 그러시네요잘 여문 옥수수 보내주셔서 감사합니다.\\r동생네도 선물보냈습니다\\r\\r'],\n",
       "       ['7월 12일 주문한 소솔농원 옥수수를 19일 택배로 받았는데 매우 실망했었다.우선 1.옥수수가 제대로 여물지 않아 낟알이 설익어 하얗고 작다2. 30개 두 묶음(60개) 구매했는데 확인하니 58개 였다.이것은 자루에 담다 보니 실수할 수도 있다고 쳐도 제일 문제는 괴산 장터 웹 문자로 영글지 않아 며칠 늦어진다는 친절한 설명에도 불구하고 이렇게 실망스런 옥수수 물건이 도착 '],\n",
       "       ['배송빠르구요 ~받은지 몇칠됐는데 오늘올리네요. 옥수수알이 괜장히 실하고 좋아요 . 옥수수 찔때 아무것도 넣치않고 했는데도 달고 맛있네요.담에도 또 이용할께요^^'],\n",
       "       ['선별 손질(껍질벗김)해 5개식 포장 깔금해서 좋았답니다. 잘 먹게단 회신을 받았습니다. 고맙습니다.'],\n",
       "       ['예전엔 농가에서 바로 보내주셨는데, 이번부터는 괴산장터쪽에서 보내주셨네요!30개 더도 덜도 없이 딱 맞춰서 들어있었습니다~큼지막한 옥수수라서 기쁜마음에 까보니 옥수수가 안 된(?) 것들이 들어있어서 조금 아쉬웠지만, 잘 여문 것들은 매끈하고 통통하고 이뻐요^^(몬나니들은 다섯개정도?)맛있게 잘 먹을게요~ 감사합니다^^'],\n",
       "       ['말로만 듣던 생으로 먹는 옥수수.... 처음 주문하고 동생들에게도 선물로 보냈습니다... 모두들 처음 접하는 신세계에 엄청 신기해 했습니다... 달기도 엄청 달구요... 간단하게 먹을 수 있어서 편하기도 하고... 혹시 몰라서 기본으로 주문했는데.... 벌써 품절이 되어버려서... 내년을 기다리고 있습니다... 내년에는 좀더 푸짐히 주문해서 먹어야겠습니다... ^^'],\n",
       "       ['다른 판매자에게 동생네로 배송시킨 옥수수는 갯수도 안맞고... 반토막인 옥수수도 3개정도 된다던데... 효성농원에서 배송된 옥수수는 갯수도 30개 딱 맞구요... 알갱이도 고르게 들어 있어서 만족했습니다... 아주 커다란게 2개정도 있어서... 엄청크다~ 하고 열심히 까보니.... ㅋㅋㅋ 글쎄~ 쌍둥이가 들어 있었어요~~ 한놈은 튼실하게 잘 자랐는데 옆에 붙은 또다른 놈은 '],\n",
       "       ['6월26일에 주문하고 옥수수 알이 덜찼으니 7월15일 이후에 수확해서 보내준다는 문자도 받았고 맛있는 옥수수가 올거라 기대하고 기다렸습니다.\\r그런데 7월12일인가 옥수수가 도착했다 연락이 왔더라구요.(친정 부모니께 보내드린거예요)\\r알이 덜차서 먹을것도 없더라는 말씀을 들으니 속상하고 죄송스러웠네요.\\r빨리 보내달라 한것도 아닌데 문자대로 15일 이후 수확해서 보내주셨으면 맛있'],\n",
       "       ['깔끔하게 포장하여 정혹하고 뻐르게 배송해주시어 감사. 맛도 ??틸?'],\n",
       "       ['알도 꽉차고 맛있어요.'],\n",
       "       ['맛있어서 또 구매해요.'],\n",
       "       ['크기도 크지 않고 덜 여문 게 몇 개 있어요.'],\n",
       "       ['괴산장처 운영자님 더운날씨에 고생이 많습니다.대학찰옥수수를 매년 구매를 해왔지만 그때마다 집사람에게 칭찬을 들어 기분이 매우 좋습니다.\\r올해는 특히 몇개를 삶아 동료들과 같이 먹을수 있는 시간이 되었는디 대학찰옥수수를 잘모르는 분들이 있어 홍보를 할 기회가 있어 더더욱 기분이 좋았고 먹을때마다 톡톡터지는 소리와 함께 먹는 즐거움이 더합니다..\\r운영자님 건강유의하시고 또한 생'],\n",
       "       ['장마철에 주문해선지 박스도 젖어서 엉망이고 윗부분이 온통 물렀네요..ㅜ무농약이다보니 벌레먹은게 더러 있긴했지만 센스있게 두개 더 넣어주셨더군요..하지만 다른집보다 사이즈 차이가 너무나서 조금 실망스러워습니다..맛은 확실히 다른 집보다 맛있습니다.참고하세요~'],\n",
       "       ['아직한참덜영글었네요ㅜㅜ이럴줄알았으면 다른걸로 주문할껄거의 60프로이상이 상태가부실합니다'],\n",
       "       ['넘 맛있네요. 4일 만에 60개 다먹고 재주문하러 왔더니  품절이라 많이 아쉽네요~'],\n",
       "       ['덜 여물어서 식감은 물컹하고 겉껍질의 안쪽은 쭈글쭈글했어요 껍질 안까면 모른다고는 하지만 잘 확인해주시면 좋을 것 같아요'],\n",
       "       ['오늘아침에 택배을 받자마자 옥수수을 까는순간 기대했던것보다실망이네요 ~크기도 작고 영글지가 않은게 넘많고 썩은것도 있고~껍질이 있다고해도 어떻게 이런 상품을 파는지 모르겠네요~재구매은 없을것 같네요~'],\n",
       "       ['장마인데도 깨끗하게 잘 포장해서 주셔서 잘 먹었습니다. 정말 믿고 먹는 맛입니다.'],\n",
       "       ['다른 옥수수에 비해 작지만 유기농 옥수수 구하기 힘든데 감사한 마음으로 잘 먹었습니다.'],\n",
       "       ['예정보다 좀 늦게수확한다고 문자를 받아서 느긋하게 잊고 기다리다 오늘 잘받으셨다고 연락왔네요. 부드럽고 연해서 틀니하신 아버지가 벌써 3개째 드시는중이라며 맛있다고 하신답니다. 옥수수 수염도 깨끗해서 차끓여드신다고.... 옥수수60개다 괜찮은데 1개만 끝에 살짝 벌레먹었어요. 그래서 약을 정말 안쳤구나 더 좋아하시더라구요.맛있고 좋은 옥수수 보내주셔서 감사합니다^^'],\n",
       "       ['빠른배송~^^ 좋은옥수수.선물보내드렸는데 맛있게 잘드셨다네요.연하고 부드러워 정말 맛있대요.'],\n",
       "       ['확실히 연하고 부드럽네요. 맛도좋아요.'],\n",
       "       ['30자루중 절반은 알도 덜차고 덜 여물은걸 보내주셨어요~맛도 싱거워요ㅠㅠ'],\n",
       "       ['평소 엄마가 옥수수를 너무 좋아하셔서 주문해드렸데, 대박~ 너무 맛있어~! 하고 연락이 와서 기분이 좋았어요. 유기농제품에 장마철까지 겹쳐서 걱정했는데 30개중에 2개만 살짝 썩은부분이 있고 괜찮다고 하시네요. 또 주문하려고 하니 품절이라 아쉬워요.'],\n",
       "       ['매년 괴산장터에서 대학찰옥수수를 구매하여 먹고 있습니다.올해는 욕심내어 일찍 주문하여 기대하고 있었죠아무리 그래도 유기농인걸 감안해도60개중 20개 정도는 잘 영글지도 않은 상품성이 떨어지는 옥수수였습니다.힘들게 땀흘려 농사진 농작물이라 이해해보려 하였으나 이번 옥수수는 실망입니다.'],\n",
       "       ['한꺼번에 60개를 주문해서 그런지 덜여문 옥수수가 작고 대부분이고 맛은 괜찮은것 같은디 해마다 시켜 먹던 옥수수랑 좀 다르네요. 해마다 30개씩 사면  두세개 덤도 있던디 ? 딱60개 주셨는데 상품가치 없는게 6~7개?ㅋㅎ 젊은 농부 농사 노하우 많이 배우셔야할듯 ? 그래도 젊은 농부 힘내시라 그냥 맛나게 먹습니다'],\n",
       "       ['유기농이라니 작은건 이해합니다만 이렇게 제대로 영글지도 않은 상품을 보내시나요 괴산 옥수수 ?╂?사먹는데 이렇게 상품성 없는 제품은 첨이에요'],\n",
       "       ['작년에 이어 올해도 구입했어요 맛은 좋았거든요작년에 58개 왔다고 글남겼었죠 올해는 59개왔더군요 이쯤되면 의도성이 있어보여요 괴산장터 애용하는데 안타깝습니다'],\n",
       "       ['오늘 드디어 옥수수받아 지금 찌고 있는 중입니다.오래 기다려 드디어 받았습니다. 종이상자 안에 가지런히 놓여왔는데,연한 옥수수로 보내주셨습니다.  그런데 알이 꽉차지 않았네요..많이 성글어요ㅠㅠㅠ유기농인거 알지만, 좀 많이 성글어서..ㅠㅠㅠ 옥수수가 듬성듬성한게...ㅠㅠ인빌 대학찰옥수수마을에서 주문해서 먹다가 괴산장터에 들어와봤는데\\r생각이 많아집니다..어째튼 주인장 어르신부'],\n",
       "       ['10여년전에 우리아이가. 계속 철만되면 구입하여 보내주던 괴산 대학 찰옥수수외국생활을 오래 하다가 영구귀국하여 귀국하여 다시맛을 보니 10여년전 먹던 그맛. 정말 맛있다. 감사합니다.'],\n",
       "       ['옥수수가 너무 익어서 온게 반이상이고 딱딱해서 1시간을 삶고 모자라서 결국 20분 더 삶다 말았어요.이더위에..할수없이 소분해서 냉동실에 넣어놓고 다시 꺼내 압력솥에 40분을 알갱이들이 터지도록 삶았는데도 딱딱해서 턱이 아팠어요.작년에 주문해서 먹었던맛이 아니에요.대학찰옥수수의 그 껍질이 얇아 술술 넘어가는 옥수수가 아니고 예전에 먹었던 껍질이 두껍고 맛없던 밀강냉이라고 하'],\n",
       "       ['목요일에 주문했는데 이틀뒤인 토요일 배송받았어요.옥수수 알도 잘 어물었고 상태도 모두 좋았어요.서비스로 2개 더 넣어주셔서 감사합니다'],\n",
       "       ['처음 60개 구매해서 가족들이 나눠서 먹었는데 눈 깜빡할 사이에 다 먹어서다시 60개를 또 구매해 먹고 있는데 너무나 ?ダ簾六? 너무 맛있어서 조만간 다시 구매해야겠어요.이제 조금 있으면 옥수수 시즌이 끝나니 얼른 구매해서 냉동실에 넣어두고 맛나게 먹아야겠네요.'],\n",
       "       ['옥수수 맛있네요. 배송도 빨랐습니다. 또, 31개 넣어주셨네요. 감사합니다.근데 벌레 먹은 것과 약간 상한 것이 있었어요. 친환경이라고 하셨는데 맞나봐요. 감사합니다.'],\n",
       "       ['맛도 너무 좋고, 더운 여름에 먼 길 왔는데 거의 안 녹았어요. 완전 감사합니다.'],\n",
       "       ['예상보다 더 일찍 보내주시고 옥수수도 좋은 걸로만 보내주셔서 감사합니다 ^^'],\n",
       "       ['유기농 옥수수 맞는 것 같아요. 약간 작지만 정말 맛있네요. 작아서 그런지 몇 개 더 넣어주셨어요. 한참 삶으려고 껍질 벗기는데 벌레도 나왔네요. ㅎㅎ 유기농 옥수수 재배해주셔서 감사합니다. 건강하세요~'],\n",
       "       ['전번에는 어디에서 구입했는데 너무 실망했어요,그래서 이번에는 구입처를 바꿔 봤는데 진짜로 잘 한거 같아요감사합니다,씨알도 좋고 그 맛이 일품 입니다,담에도 또 부탁 드려야겠습니다,'],\n",
       "       ['황금맛찰옥수수도 상품정보 내용에 \"지금 주문하시는 옥수수는 삶아 진공포장하여 냉동한 대학찰옥수수입니다\"\" 라고 기재되어 있어 당연히 내가 그동안 구입해 먹었던 대학찰옥수수로 알고 구입했는데 아닌 같다.  만약 황금맛찰옥수수가 우리가 알고 있는 대학찰옥수수가 아니라면 상품 정보 내용에 나오는 문구는 잘못된 것이니 바로잡아 확실히 해주길 바랍니다.\"'],\n",
       "       ['대학찰옥수수 맛나네요 60개 구매했는데 대체로 튼실하고 맛좋습니다.추가로 몇개 더 넣어주셔서 인심에 또한번 만족합니다~그래서 한번더 주문했어요~^^'],\n",
       "       ['옥수수의 맛은 괜찮았어요. 그런데 껍찔을 까서 삶으려고 보니 벌레먹어 썩은게 여러개 나왔어요(유기농재배의 결과인듯요). 옥수수도 생각보다 크기가 작았구요. 이점미 조금 아쉽네요'],\n",
       "       ['대학찰옥수수 싱싱하고 맛도 좋고 무엇보다도 껍질 솔질이 다 되어 있어서 정말 편합니다.'],\n",
       "       ['오자마자 하나먹을땐 좀 밍밍한듯해도 나쁘지않다였는데 밖에서 이틀정도 숙성시켜먹으니 꿀맛입니다.전 다먹고 재구매하러와서 후기쓰네요~~^^강춥니다'],\n",
       "       ['마트에서도 사고, 다른 사이터에서도 샀는데 너무 실망스러워서찾다찾다 괴산장터 사이트를 발견.. 첨 주문해봤는데 역쉬.. 알이 실하고 좋습니다. 수량이 정확하고 부실한거 하나도 안 넣으셨네요. 사은품으로 한개 더 넣어주셨어요.\\r강추합니다. 또 구매하렵니다.. '],\n",
       "       ['황금맛찰옥수수 나오길 기다렸는데 역시나 맛있게 잘먹었어요다시 주문하려고보니 품절이네요 ㅠ 아쉬워요 품절이 빨리 풀렸으면 좋겠어요 ^^   '],\n",
       "       ['배송도 빠르고 상품도 좋습니다!!!'],\n",
       "       ['배송도 빠르고 상품도 좋습니다!!!'],\n",
       "       ['배송도 빠르고 상품도 좋습니다!!!'],\n",
       "       ['맛있네요근데 조금 딱딱해요'],\n",
       "       ['부드럽고 맛있어요'],\n",
       "       ['표고가 두툼하네요'],\n",
       "       ['옥수수가 조금 거친느낌입니다'],\n",
       "       ['후기 평이 좋아서 주문했는데오래 기다렸다가 받은 만큼 품질이 만족스럽지는않았어요.씨알 하나씩 보면 큼지막한데 전체적으로 영글지않은듯 해서\\r대학옥수수 자체 품종이 이런것인지는 모르겠네요.알과 알 사이에 간격이 벌어져서 뜯어먹기에는 괜찮았어요.30개를 넘어서 33개 보내주셨습니다.'],\n",
       "       ['유기농 옥수수라고 하셔서 구입하게 되었습니다.옥수수 까다가 벌레가 나와서 깜놀하긴하지만 유기농이니 당연지사라 생각합니다.또한 가끔 작은 것이 있어도 화학 비료를 안주어서겠지하니 저는 더 좋더라구요.삶아서 먹어보니 연하고 너무 맛있습니다.\\r60개를 다먹고 또 구입하려고 들어오니 품절이네요내년을 기다려야겠어요.\\r땀흘려 농사지으신 농장주님께 감사의 말씀드립니다.내년에 또 구입할게'],\n",
       "       ['항상 맛있게 사서 먹고있는데 아이들도 먹을수 있게 조금 덜 맵게 만들었으면 합니다'],\n",
       "       ['싱싱하고 모양도 예쁘고 맛도 좋고 가격도 저렴하고....생산자님 감사합니다.'],\n",
       "       ['34개 정도 보내주셨어요. 박스포장도 잘 되었고 안에 옥수수도 정리가 잘되어 왔어요. 아무것도 안넣고 삶아서 맛있게 잘 먹고 있어요. 알이 꽉차지 않은 것도 있긴 했지만 탱글탱글 존득존득 합니다.'],\n",
       "       ['오늘 도착해서 바로 먹어봤네요~괴산이 고향이라 고향의 과일을 먹으니 더 맛있네요 많이 파세요^^'],\n",
       "       ['고추 배송 받아서 빻았는데 덜 말라서 가루가 떡처럼 뭉치네요.믿고사는 괴산장터 실망이에요.'],\n",
       "       ['한우의 고소함과 담백함?육고기잡내를 전혀 느끼지 못했어요! 재구매합니다!'],\n",
       "       ['양지 삶아서 쭉쭉 찢어서 소금 찍어먹였는데 아이들이 넘 잘먹네요^^감사합니다~'],\n",
       "       ['작년에 구매해서 너무 맛있게 먹고 올해 또 주문했어요.고추가 너무 좋아요. 매우 만족 스럽네요. 단지 아쉬움이 포장이 넘 허술해서 좀~ 좋은 품질에 만족 합니다.'],\n",
       "       ['저도 농사 짓는 사람으로서믿고 샀는데 너무 실망입니다...남아있는 꼭지 따느라 엄청 고생...다시는 이 사이트 이용 안 합니다...'],\n",
       "       ['작년에 구매해서 너무 맛있게 먹고 올해 또 주문했어요.고추가 너무 좋아요. 매우 만족 스럽네요. 단지 아쉬움이 포장이 넘 허술해서 좀~ 좋은 품질에 만족 합니다.\\r내년에도 좋은 고추 부탁 드려요~^^'],\n",
       "       ['옥수수 재배시 아셨을 것 같은데, 이런 상품을 어떻게 파는지 정말 실망스러워요. 애벌레 7마리에다 한마리는 썩은 옥수수알 속에서 기어나오네요.수염있는데랑 중간부분이 썩은게 대부분이여서 9월 옥수수는 절대 사지 말아야 될것같아요.ㅠㅠ'],\n",
       "       ['건조가 제대로 되지 않아서 빻는데 너무 힘들었어요동네 방앗간에 빻러 갔는데 이대로 빻을 수 없다며더 건조시켜 오라고 해서 빻지도 못하고 집으로 왔습니다.그런데 집에는 건조할 곳이 마땅히 없어 이사 오기전 다니던\\r방앗간에 가서 빻었요\\r\\r방앗간에서 고추에 진액이 나오는데다가 건조도 제대로 안돼 엄청 애먹었습니다.'],\n",
       "       ['9/2(월) 주문해서 무려 1주일만인 9/8(일) 밤에 받았어요. 월요일 방앗간에 빻으러 갔더니 완전 눅눅하고 속이 안말랐다고 다시 말려가지고 오라고 빠꾸 맞았어요. 혹시나 한군데 더 갔는데도 눅눅한 고추 넣으면 기계 고장난다고 문전박대 ㅠㅠ 이걸 어떻게 말려요??? 지금 제습기 켜놓고 베란다에서 말리고 있는데 여전히 눅눅 떡지네요. 명절다가 오는데 어떻게 해야 할지 심란합'],\n",
       "       ['배송도빠르고  받아서 다음달  쪄먹어봤는데  맛있네요  숙성되면 더 맛있겠어요'],\n",
       "       ['술의 풍미나 맛은 좋은데  술나오는 마개가 잘못되었는지 내용물이 잘 안나옴.마개에 미세한 작은구멍이 하나 더있어야 술병내부가 진공상태가 되지 않아 내용물이 잘나올듯..술나오는 마개 수정하세요'],\n",
       "       ['여름내 정성들여 잘 키운 고추 보내주셔서 감사합니다.감사히 잘 먹고 담에 또 주문하겠습니다~~'],\n",
       "       ['충남괴산이라해서 기대했는데 제 기대가 너무컸나봅니다.근대 나가게 하기위해 물엿을 바른다는 얘기를 들었는데 설마 그건 아니겠지 싶지만 고추가 다 끈적거려서 닦을때마다 손에 붙어요.'],\n",
       "       ['더 구입하려고 왔다가 품절이라 아쉽네요\\r옥수수 맛있게 잘 먹고 있습니다.'],\n",
       "       ['마른고추상품이 너무좋아서 만족합니다 추가로 또 보내주셔서 아주감사합니다 앞으로도 초당농원상품 이용할께요'],\n",
       "       ['맛있어서 재주문하고 싶어요'],\n",
       "       ['두번째주문인데 첫번째는 크기가 좀컷는데 어째요번거는 다 작은것만왔네요~~좀실망입니다.'],\n",
       "       ['저번에 너무 맛있게먹어서 같은곳에 다시 주문했는데이번거는 저번거에비해 사이즈가 많이 작네요'],\n",
       "       ['감자가 실하고 좋네요.많이 파세요'],\n",
       "       ['조금이른 김장이라 배추가 크지는 않았지만 작지도 않은 아주 좋은 사이즈였습니다,판매자님께서 전화도 주시고 아주친절하셨습니다.배추도 잘절여저 왔네여.\\r감사합니다'],\n",
       "       ['지인에게 선물받아 마셔보고 괜찮아 판매처를 검색해 재구매 했습니다 향도 좋구 와인처럼 부담없이 마시기에 좋습니다 몸에도 좋으니 일석이조겠지요~'],\n",
       "       [' 모험한번 해보자 하는 맘으로 주문했는데  사진과 똑같은 모양에 쪄서 맛을보니 너무 맛이 좋았습니다.그래서 친정엄마께도 한상자 주문 해 보내드렸어여~다 먹으면 또 주문해야겠어여~^^'],\n",
       "       ['올 김장에 쓸 꼭지달린 마른 통고추를 주문해서 받아보니 청결이란말을 왜 쓰는지 이유를  잘 알것 같았다. 손질을해서 방앗간에가 빻아왔는데 색이 참 고왔다 아쉬웠던점은 매운맛이 좀 부족한것 똑 쏘는 고추향이 좀더 있었다면....'],\n",
       "       ['절인배추 구입하러 들어왔다가 이벤트 상품이 있길래 구입해봤어요. 신랑 음용해봤는데 풋사과 그대로의 맛이라며 좋다 하네요. 한달 잘 먹여 보고 괜찮다 싶음 또 구입하러 올게요. 빠른 배송도 감사하고 좋은 상품도 감사합니다.'],\n",
       "       ['풋사과가 항산화물질인 폴리페놀이 들어있다는것을 어렴풋이 알고있었는데 마침 반값행사한다는 문자를 받고 얼른 주문했어요. 120ml 용량도크고 맛도 떫은맛이 그렇게 거슬릴정도는 아니었어요. 유통기한도 12.30까지라서 그안에 다 먹을수있겠어요. 괴산장터 자주 이용하게 될거같네요.'],\n",
       "       ['맛있어서 두번째구매합니다']], dtype=object)"
      ]
     },
     "execution_count": 16,
     "metadata": {},
     "output_type": "execute_result"
    }
   ],
   "source": [
    "# 안해도 됨\n",
    "X"
   ]
  },
  {
   "cell_type": "code",
   "execution_count": 17,
   "metadata": {},
   "outputs": [],
   "source": [
    "# 안해도 됨. 오히려 하면 오류날수도 있음ㅜ\n",
    "from sklearn.model_selection import train_test_split\n",
    "\n",
    "X_train,X_test,y_train,y_test=train_test_split(X,y,test_size=0.3, \n",
    "                                                    shuffle=True, #무작위추출\n",
    "                                                    random_state=1004)"
   ]
  },
  {
   "cell_type": "code",
   "execution_count": 18,
   "metadata": {},
   "outputs": [],
   "source": [
    "trainset_size = int(round(len(review_data)*0.70))\n",
    "\n",
    "x_train = np.array([''.join(data) for data in review_data[0:trainset_size]])\n",
    "y_train = np.array([data for data in review_label[0:trainset_size]])\n",
    "\n",
    "x_test = np.array([''.join(data) for data in review_data[trainset_size+1:len(review_data)]])\n",
    "y_test = np.array([data for data in review_label[trainset_size+1 : len(review_label)]])"
   ]
  },
  {
   "cell_type": "markdown",
   "metadata": {},
   "source": [
    "▲ 리스트 형태의 데이터를 기계학습 알고리즘에 적용하기 위해 np.array 함수\n",
    "를 사용해 형식을 다시 변환하는데 이때 review는 x_train과 x_test로 분할되고,   \n",
    "점수 데이터인 y은 y_train과 y_test로 분할된다.   \n",
    "앞에서 구성한 x_train과 x_test는 str 형태이므로, 여기에서 특징 값을 추출하는 작업\n",
    "을 진행하였다."
   ]
  },
  {
   "cell_type": "code",
   "execution_count": 19,
   "metadata": {},
   "outputs": [],
   "source": [
    "# 문서단어 행렬 생성\n",
    "X_train = vectorizer.fit_transform(x_train)\n",
    "X_test = vectorizer.transform(x_test)"
   ]
  },
  {
   "cell_type": "code",
   "execution_count": 20,
   "metadata": {},
   "outputs": [
    {
     "data": {
      "text/html": [
       "<div>\n",
       "<style scoped>\n",
       "    .dataframe tbody tr th:only-of-type {\n",
       "        vertical-align: middle;\n",
       "    }\n",
       "\n",
       "    .dataframe tbody tr th {\n",
       "        vertical-align: top;\n",
       "    }\n",
       "\n",
       "    .dataframe thead th {\n",
       "        text-align: right;\n",
       "    }\n",
       "</style>\n",
       "<table border=\"1\" class=\"dataframe\">\n",
       "  <thead>\n",
       "    <tr style=\"text-align: right;\">\n",
       "      <th></th>\n",
       "      <th>Classifier</th>\n",
       "      <th>F-Measure</th>\n",
       "      <th>Accuracy</th>\n",
       "    </tr>\n",
       "  </thead>\n",
       "  <tbody>\n",
       "  </tbody>\n",
       "</table>\n",
       "</div>"
      ],
      "text/plain": [
       "Empty DataFrame\n",
       "Columns: [Classifier, F-Measure, Accuracy]\n",
       "Index: []"
      ]
     },
     "execution_count": 20,
     "metadata": {},
     "output_type": "execute_result"
    }
   ],
   "source": [
    "# 성능평가 결과 입력 데이터프레임 생성\n",
    "df_per = pd.DataFrame(columns=['Classifier','F-Measure','Accuracy'])\n",
    "df_per"
   ]
  },
  {
   "cell_type": "code",
   "execution_count": 21,
   "metadata": {},
   "outputs": [],
   "source": [
    "#성능평가 패키지 import\n",
    "from sklearn.metrics import confusion_matrix\n",
    "from sklearn.metrics import classification_report\n",
    "from sklearn.metrics import f1_score\n",
    "from sklearn.metrics import accuracy_score"
   ]
  },
  {
   "cell_type": "markdown",
   "metadata": {},
   "source": [
    "예측한 값과 실제값을 비교해 모델의 성능을 평가함   \n",
    "confusion matrix, classification report, accuracy score를 사용함.   \n",
    "accuracy score의 경우에는 normalize를 True로 설정해 정확도를 계산해 출력하는데 이때 False로 지정할 경우에는 올바르게 분류된 데이터의 건수를 출력함.   "
   ]
  },
  {
   "cell_type": "code",
   "execution_count": 22,
   "metadata": {
    "scrolled": false
   },
   "outputs": [
    {
     "name": "stdout",
     "output_type": "stream",
     "text": [
      "\n",
      " Confusion Matrix \n",
      "\n",
      "[[52  0  0]\n",
      " [24  0  0]\n",
      " [ 7  0  0]]\n",
      "\n",
      " Classification Report \n",
      "\n",
      "              precision    recall  f1-score   support\n",
      "\n",
      "           0       0.63      1.00      0.77        52\n",
      "           1       0.00      0.00      0.00        24\n",
      "           2       0.00      0.00      0.00         7\n",
      "\n",
      "    accuracy                           0.63        83\n",
      "   macro avg       0.21      0.33      0.26        83\n",
      "weighted avg       0.39      0.63      0.48        83\n",
      "\n",
      "\n",
      " Accuracy \n",
      "\n",
      "0.63\n"
     ]
    },
    {
     "name": "stderr",
     "output_type": "stream",
     "text": [
      "C:\\ProgramData\\Anaconda3\\lib\\site-packages\\sklearn\\metrics\\_classification.py:1221: UndefinedMetricWarning: Precision and F-score are ill-defined and being set to 0.0 in labels with no predicted samples. Use `zero_division` parameter to control this behavior.\n",
      "  _warn_prf(average, modifier, msg_start, len(result))\n"
     ]
    }
   ],
   "source": [
    "# 나이브베이즈 모델 생성\n",
    "from sklearn.naive_bayes import MultinomialNB\n",
    "\n",
    "nb_classifier = MultinomialNB().fit(X_train,y_train)\n",
    "nb_pred = nb_classifier.predict(X_test)\n",
    "print(\"\\n Confusion Matrix \\n\")\n",
    "print(confusion_matrix(y_test,nb_pred))\n",
    "print('\\n Classification Report \\n')\n",
    "print(classification_report(y_test,nb_pred))\n",
    "print('\\n Accuracy \\n')\n",
    "print(round(accuracy_score(y_test,nb_pred,normalize = True),2))\n",
    "# 모델 학습 및 예측값을 도출하고 예측값과 실제값 비교해 성능평가에 대한 내용"
   ]
  },
  {
   "cell_type": "markdown",
   "metadata": {},
   "source": [
    "confusion matrix를 보면 3x3 행렬   \n",
    "y축은 실제점수, x축의 값은 예측 점수임.   \n",
    "점수의 순서는 긍정0, 부정1, 중립2의 순서임.   \n",
    "긍정 52개, 부정 24개, 중립 7개인데 모두 긍정으로 분류한 것임.   \n",
    "세 개의 클래스 별로 precision, recall, f-measure를 확인할 수 있음.   \n",
    "마지막으로 accuracy가 출력됨.   "
   ]
  },
  {
   "cell_type": "markdown",
   "metadata": {},
   "source": [
    "## 성능저장\n",
    "성능은 f-measure과 accuracy만 사용해 비교   \n",
    "f1_score 함수를 사용해 실제 값과 예측 값을 비교해 f-measure를 계산   \n",
    "이때 average = weight를 설정해 클래스별 가중치를 적용   \n",
    " round 함수를 사용해 소수점 2번째 자리까지 표시\n",
    "fm에 이 값을 저장함▼"
   ]
  },
  {
   "cell_type": "code",
   "execution_count": 23,
   "metadata": {},
   "outputs": [],
   "source": [
    "fm = round(f1_score(y_test, nb_pred,average='weighted'),2)"
   ]
  },
  {
   "cell_type": "markdown",
   "metadata": {},
   "source": [
    "accuracy_score 함수를 사용해 마찬가지로 실제 값과 예측 값을 비교해 accuracy를 구함   \n",
    "normalize = True를 사용해 정확도를 출력   \n",
    "round 함수를 사용해 소수점 2번째 자리까지 표현   \n",
    "▼이렇게 구한 정확도를 변수 ac에 저장"
   ]
  },
  {
   "cell_type": "code",
   "execution_count": 24,
   "metadata": {},
   "outputs": [],
   "source": [
    "ac = round(accuracy_score(y_test,nb_pred,normalize = True),2)"
   ]
  },
  {
   "cell_type": "code",
   "execution_count": 25,
   "metadata": {},
   "outputs": [
    {
     "data": {
      "text/html": [
       "<div>\n",
       "<style scoped>\n",
       "    .dataframe tbody tr th:only-of-type {\n",
       "        vertical-align: middle;\n",
       "    }\n",
       "\n",
       "    .dataframe tbody tr th {\n",
       "        vertical-align: top;\n",
       "    }\n",
       "\n",
       "    .dataframe thead th {\n",
       "        text-align: right;\n",
       "    }\n",
       "</style>\n",
       "<table border=\"1\" class=\"dataframe\">\n",
       "  <thead>\n",
       "    <tr style=\"text-align: right;\">\n",
       "      <th></th>\n",
       "      <th>Classifier</th>\n",
       "      <th>F-Measure</th>\n",
       "      <th>Accuracy</th>\n",
       "    </tr>\n",
       "  </thead>\n",
       "  <tbody>\n",
       "    <tr>\n",
       "      <th>0</th>\n",
       "      <td>Naive Bayes</td>\n",
       "      <td>0.48</td>\n",
       "      <td>0.63</td>\n",
       "    </tr>\n",
       "  </tbody>\n",
       "</table>\n",
       "</div>"
      ],
      "text/plain": [
       "    Classifier  F-Measure  Accuracy\n",
       "0  Naive Bayes       0.48      0.63"
      ]
     },
     "execution_count": 25,
     "metadata": {},
     "output_type": "execute_result"
    }
   ],
   "source": [
    "# fm과 ac를 데이터프레임 df_per에 loc함수를 사용해 입력\n",
    "df_per.loc[len(df_per)]=[\"Naive Bayes\",fm,ac]\n",
    "df_per"
   ]
  },
  {
   "cell_type": "markdown",
   "metadata": {},
   "source": [
    "## Decision Tree\n",
    "#### - 의사결정나무\n",
    "DecisionTreeClassifier패키지 import해서 모델 생성후 fit함수를 사용해 모델 훈련   \n",
    "predict함수 적용해 예측값을 도출함.    \n",
    "예측값과 실제값을 비교▼"
   ]
  },
  {
   "cell_type": "code",
   "execution_count": 26,
   "metadata": {},
   "outputs": [
    {
     "name": "stdout",
     "output_type": "stream",
     "text": [
      "\n",
      " Confusion Matricx \n",
      "\n",
      "[[46  2  4]\n",
      " [13  9  2]\n",
      " [ 6  1  0]]\n",
      "\n",
      " Classification Reprot \n",
      "\n",
      "              precision    recall  f1-score   support\n",
      "\n",
      "           0       0.71      0.88      0.79        52\n",
      "           1       0.75      0.38      0.50        24\n",
      "           2       0.00      0.00      0.00         7\n",
      "\n",
      "    accuracy                           0.66        83\n",
      "   macro avg       0.49      0.42      0.43        83\n",
      "weighted avg       0.66      0.66      0.64        83\n",
      "\n",
      "\n",
      " Accuracy \n",
      "\n",
      "0.66\n"
     ]
    }
   ],
   "source": [
    "from sklearn.tree import DecisionTreeClassifier\n",
    "\n",
    "dt_classifier = DecisionTreeClassifier().fit(X_train,y_train)#모델학습\n",
    "dt_pred = dt_classifier.predict(X_test)#예측값 도출\n",
    "\n",
    "print('\\n Confusion Matricx \\n')\n",
    "print(confusion_matrix(y_test,dt_pred))\n",
    "print('\\n Classification Reprot \\n')\n",
    "print(classification_report(y_test,dt_pred))\n",
    "print('\\n Accuracy \\n')\n",
    "print(round(accuracy_score(y_test, dt_pred,normalize = True),2))"
   ]
  },
  {
   "cell_type": "markdown",
   "metadata": {},
   "source": [
    "긍정0, 부정1, 중립2에서 긍정0은 52개중 46개가 긍정, 4개가 부정,2개가 중립으로 판단되었고,   \n",
    "부정1의 24개 중에서 18개는 잘분류되었으나 15개는 긍정, 1개는 중립으로 판단되었으며,   \n",
    "중립 7개중에서 5개는 긍정, 2개는 부정으로 판단되었고 제대로 분류된 것은 0개이다.   "
   ]
  },
  {
   "cell_type": "code",
   "execution_count": 27,
   "metadata": {},
   "outputs": [
    {
     "data": {
      "text/html": [
       "<div>\n",
       "<style scoped>\n",
       "    .dataframe tbody tr th:only-of-type {\n",
       "        vertical-align: middle;\n",
       "    }\n",
       "\n",
       "    .dataframe tbody tr th {\n",
       "        vertical-align: top;\n",
       "    }\n",
       "\n",
       "    .dataframe thead th {\n",
       "        text-align: right;\n",
       "    }\n",
       "</style>\n",
       "<table border=\"1\" class=\"dataframe\">\n",
       "  <thead>\n",
       "    <tr style=\"text-align: right;\">\n",
       "      <th></th>\n",
       "      <th>Classifier</th>\n",
       "      <th>F-Measure</th>\n",
       "      <th>Accuracy</th>\n",
       "    </tr>\n",
       "  </thead>\n",
       "  <tbody>\n",
       "    <tr>\n",
       "      <th>0</th>\n",
       "      <td>Naive Bayes</td>\n",
       "      <td>0.48</td>\n",
       "      <td>0.63</td>\n",
       "    </tr>\n",
       "    <tr>\n",
       "      <th>1</th>\n",
       "      <td>Decision Tree</td>\n",
       "      <td>0.64</td>\n",
       "      <td>0.66</td>\n",
       "    </tr>\n",
       "  </tbody>\n",
       "</table>\n",
       "</div>"
      ],
      "text/plain": [
       "      Classifier  F-Measure  Accuracy\n",
       "0    Naive Bayes       0.48      0.63\n",
       "1  Decision Tree       0.64      0.66"
      ]
     },
     "execution_count": 27,
     "metadata": {},
     "output_type": "execute_result"
    }
   ],
   "source": [
    "# 성능저장\n",
    "fm = round(f1_score(y_test,dt_pred, average = 'weighted'),2)\n",
    "ac = round(accuracy_score(y_test, dt_pred, normalize = True),2)\n",
    "df_per.loc[len(df_per)]=['Decision Tree',fm,ac]\n",
    "df_per"
   ]
  },
  {
   "cell_type": "markdown",
   "metadata": {},
   "source": [
    "## Random Forest\n",
    "#### 랜덤포레스트"
   ]
  },
  {
   "cell_type": "code",
   "execution_count": 28,
   "metadata": {},
   "outputs": [
    {
     "name": "stdout",
     "output_type": "stream",
     "text": [
      "\n",
      " Confusion Matrix \n",
      "\n",
      "[[52  0  0]\n",
      " [23  1  0]\n",
      " [ 7  0  0]]\n",
      "\n",
      " Classification Reprot \n",
      "\n",
      "              precision    recall  f1-score   support\n",
      "\n",
      "           0       0.63      1.00      0.78        52\n",
      "           1       1.00      0.04      0.08        24\n",
      "           2       0.00      0.00      0.00         7\n",
      "\n",
      "    accuracy                           0.64        83\n",
      "   macro avg       0.54      0.35      0.29        83\n",
      "weighted avg       0.69      0.64      0.51        83\n",
      "\n",
      "\n",
      " Accuracy \n",
      "\n",
      "0.64\n"
     ]
    },
    {
     "name": "stderr",
     "output_type": "stream",
     "text": [
      "C:\\ProgramData\\Anaconda3\\lib\\site-packages\\sklearn\\metrics\\_classification.py:1221: UndefinedMetricWarning: Precision and F-score are ill-defined and being set to 0.0 in labels with no predicted samples. Use `zero_division` parameter to control this behavior.\n",
      "  _warn_prf(average, modifier, msg_start, len(result))\n"
     ]
    }
   ],
   "source": [
    "from sklearn.ensemble import RandomForestClassifier\n",
    "\n",
    "rf_classifier = RandomForestClassifier(n_estimators = 100)\n",
    "rf_classifier.fit(X_train,y_train)#fit함수로 모델훈련\n",
    "rf_pred = rf_classifier.predict(X_test)#predict로 예측값 추출\n",
    "\n",
    "#성능평가결과출력\n",
    "print(\"\\n Confusion Matrix \\n\")\n",
    "print(confusion_matrix(y_test,rf_pred))\n",
    "print('\\n Classification Reprot \\n')\n",
    "print(classification_report(y_test, rf_pred))\n",
    "print('\\n Accuracy \\n')\n",
    "print(round(accuracy_score(y_test,rf_pred,normalize = True),2))"
   ]
  },
  {
   "cell_type": "code",
   "execution_count": 29,
   "metadata": {},
   "outputs": [
    {
     "name": "stdout",
     "output_type": "stream",
     "text": [
      "베스트 하이퍼 파라미터 : {'max_depth': 2, 'max_features': 1, 'n_estimators': 100}\n",
      "베스트 하이퍼 파라미터일 때 정확도:0.82\n",
      "테스트세트에서 정확도 : 0.63\n"
     ]
    }
   ],
   "source": [
    "# 시험해보는 중\n",
    "from sklearn.model_selection import GridSearchCV\n",
    "import numpy as np \n",
    "\n",
    "rf = RandomForestClassifier()\n",
    "param_grid = {\n",
    "    'n_estimators': [100,200],\n",
    "    'max_features': [1,3,5],\n",
    "    'max_depth': [2,3,5]\n",
    "}\n",
    "\n",
    "gs = GridSearchCV(estimator = rf, param_grid = param_grid, scoring = 'accuracy', cv=5, n_jobs=-1)\n",
    "gs.fit(X_train, y_train)#fit함수로 모델훈련\n",
    "# 그리드서치 학습결과출력\n",
    "print('베스트 하이퍼 파라미터 : {0}'.format(gs.best_params_))\n",
    "print('베스트 하이퍼 파라미터일 때 정확도:{0:.2f}'.format(gs.best_score_))\n",
    "\n",
    "#최적화 모델 추출\n",
    "model = gs.best_estimator_\n",
    "\n",
    "#test 정확도 출력\n",
    "score = model.score(X_test,y_test)\n",
    "print('테스트세트에서 정확도 : {0:.2f}'.format(score))\n",
    "\n",
    "#test세트 예측결과 샘플출력\n",
    "rf_pred = model.predict(X_test)#predict로 예측값 추출\n",
    "\n",
    "#성능평가결과출력\n",
    "#print(\"\\n Confusion Matrix \\n\")\n",
    "#print(confusion_matrix(y_test,rf_pred))\n",
    "#print('\\n Classification Reprot \\n')\n",
    "#print(classification_report(y_test, rf_pred))\n",
    "#print('\\n Accuracy \\n')\n",
    "#print(round(accuracy_score(y_test,rf_pred,normalize = True),2))"
   ]
  },
  {
   "cell_type": "markdown",
   "metadata": {},
   "source": [
    "랜덤포레스트를 사용하여 긍정0의 52개는 잘 분류가 되었음을 확인할 수 있음.   \n",
    "부정1의 24개중 22개는 긍정으로 인식했고 2개만 부정으로 인식했음.   \n",
    "중립2의 7개를 긍정으로 인식했음. 제대로 인식한게 없음.   "
   ]
  },
  {
   "cell_type": "code",
   "execution_count": 30,
   "metadata": {},
   "outputs": [
    {
     "data": {
      "text/html": [
       "<div>\n",
       "<style scoped>\n",
       "    .dataframe tbody tr th:only-of-type {\n",
       "        vertical-align: middle;\n",
       "    }\n",
       "\n",
       "    .dataframe tbody tr th {\n",
       "        vertical-align: top;\n",
       "    }\n",
       "\n",
       "    .dataframe thead th {\n",
       "        text-align: right;\n",
       "    }\n",
       "</style>\n",
       "<table border=\"1\" class=\"dataframe\">\n",
       "  <thead>\n",
       "    <tr style=\"text-align: right;\">\n",
       "      <th></th>\n",
       "      <th>Classifier</th>\n",
       "      <th>F-Measure</th>\n",
       "      <th>Accuracy</th>\n",
       "    </tr>\n",
       "  </thead>\n",
       "  <tbody>\n",
       "    <tr>\n",
       "      <th>0</th>\n",
       "      <td>Naive Bayes</td>\n",
       "      <td>0.48</td>\n",
       "      <td>0.63</td>\n",
       "    </tr>\n",
       "    <tr>\n",
       "      <th>1</th>\n",
       "      <td>Decision Tree</td>\n",
       "      <td>0.64</td>\n",
       "      <td>0.66</td>\n",
       "    </tr>\n",
       "    <tr>\n",
       "      <th>2</th>\n",
       "      <td>Random Forest</td>\n",
       "      <td>0.48</td>\n",
       "      <td>0.63</td>\n",
       "    </tr>\n",
       "  </tbody>\n",
       "</table>\n",
       "</div>"
      ],
      "text/plain": [
       "      Classifier  F-Measure  Accuracy\n",
       "0    Naive Bayes       0.48      0.63\n",
       "1  Decision Tree       0.64      0.66\n",
       "2  Random Forest       0.48      0.63"
      ]
     },
     "execution_count": 30,
     "metadata": {},
     "output_type": "execute_result"
    }
   ],
   "source": [
    "fm = round(f1_score(y_test,rf_pred,average='weighted'),2)\n",
    "ac = round(accuracy_score(y_test,rf_pred,normalize = True),2)\n",
    "df_per.loc[len(df_per)]=['Random Forest',fm,ac]\n",
    "df_per"
   ]
  },
  {
   "cell_type": "markdown",
   "metadata": {},
   "source": [
    "## Support Vector Machine\n",
    "#### 서포터 벡터 머신"
   ]
  },
  {
   "cell_type": "code",
   "execution_count": 31,
   "metadata": {},
   "outputs": [
    {
     "name": "stdout",
     "output_type": "stream",
     "text": [
      "\n",
      " Confusion Matrix \n",
      "\n",
      "[[52  0  0]\n",
      " [24  0  0]\n",
      " [ 7  0  0]]\n",
      "\n",
      " Classification Reprot \n",
      "\n",
      "              precision    recall  f1-score   support\n",
      "\n",
      "           0       0.63      1.00      0.77        52\n",
      "           1       0.00      0.00      0.00        24\n",
      "           2       0.00      0.00      0.00         7\n",
      "\n",
      "    accuracy                           0.63        83\n",
      "   macro avg       0.21      0.33      0.26        83\n",
      "weighted avg       0.39      0.63      0.48        83\n",
      "\n",
      "\n",
      " Accuracy \n",
      "\n",
      "0.63\n"
     ]
    },
    {
     "name": "stderr",
     "output_type": "stream",
     "text": [
      "C:\\ProgramData\\Anaconda3\\lib\\site-packages\\sklearn\\metrics\\_classification.py:1221: UndefinedMetricWarning: Precision and F-score are ill-defined and being set to 0.0 in labels with no predicted samples. Use `zero_division` parameter to control this behavior.\n",
      "  _warn_prf(average, modifier, msg_start, len(result))\n"
     ]
    }
   ],
   "source": [
    "from sklearn.svm import LinearSVC\n",
    "# LinearSVC 패키지를 import\n",
    "\n",
    "svm_classifier = LinearSVC().fit(X_train,y_train) # fit함수로 모델 훈련\n",
    "svm_pred = svm_classifier.predict(X_test) # predict함수를 사용해 예측값 추출\n",
    "\n",
    "# 예측값과 실제값 비교해 성능평가\n",
    "# SVM 모델성능평가\n",
    "print(\"\\n Confusion Matrix \\n\")\n",
    "print(confusion_matrix(y_test, svm_pred))\n",
    "print('\\n Classification Reprot \\n')\n",
    "print(classification_report(y_test,svm_pred))\n",
    "print('\\n Accuracy \\n')\n",
    "print(round(accuracy_score(y_test, svm_pred, normalize = True),2))"
   ]
  },
  {
   "cell_type": "markdown",
   "metadata": {},
   "source": [
    "긍정0은 52개 잘 분류되고, 부정과 중립은 모두 긍정으로 잘못 분류되었음."
   ]
  },
  {
   "cell_type": "code",
   "execution_count": 32,
   "metadata": {},
   "outputs": [
    {
     "data": {
      "text/html": [
       "<div>\n",
       "<style scoped>\n",
       "    .dataframe tbody tr th:only-of-type {\n",
       "        vertical-align: middle;\n",
       "    }\n",
       "\n",
       "    .dataframe tbody tr th {\n",
       "        vertical-align: top;\n",
       "    }\n",
       "\n",
       "    .dataframe thead th {\n",
       "        text-align: right;\n",
       "    }\n",
       "</style>\n",
       "<table border=\"1\" class=\"dataframe\">\n",
       "  <thead>\n",
       "    <tr style=\"text-align: right;\">\n",
       "      <th></th>\n",
       "      <th>Classifier</th>\n",
       "      <th>F-Measure</th>\n",
       "      <th>Accuracy</th>\n",
       "    </tr>\n",
       "  </thead>\n",
       "  <tbody>\n",
       "    <tr>\n",
       "      <th>0</th>\n",
       "      <td>Naive Bayes</td>\n",
       "      <td>0.48</td>\n",
       "      <td>0.63</td>\n",
       "    </tr>\n",
       "    <tr>\n",
       "      <th>1</th>\n",
       "      <td>Decision Tree</td>\n",
       "      <td>0.64</td>\n",
       "      <td>0.66</td>\n",
       "    </tr>\n",
       "    <tr>\n",
       "      <th>2</th>\n",
       "      <td>Random Forest</td>\n",
       "      <td>0.48</td>\n",
       "      <td>0.63</td>\n",
       "    </tr>\n",
       "    <tr>\n",
       "      <th>3</th>\n",
       "      <td>Support Vector Machine</td>\n",
       "      <td>0.48</td>\n",
       "      <td>0.63</td>\n",
       "    </tr>\n",
       "  </tbody>\n",
       "</table>\n",
       "</div>"
      ],
      "text/plain": [
       "               Classifier  F-Measure  Accuracy\n",
       "0             Naive Bayes       0.48      0.63\n",
       "1           Decision Tree       0.64      0.66\n",
       "2           Random Forest       0.48      0.63\n",
       "3  Support Vector Machine       0.48      0.63"
      ]
     },
     "execution_count": 32,
     "metadata": {},
     "output_type": "execute_result"
    }
   ],
   "source": [
    "# 성능저장\n",
    "fm = round(f1_score(y_test,svm_pred, average = 'weighted'),2)\n",
    "ac = round(accuracy_score(y_test,svm_pred,normalize = True),2)\n",
    "df_per.loc[len(df_per)]=['Support Vector Machine',fm,ac]\n",
    "df_per"
   ]
  },
  {
   "cell_type": "markdown",
   "metadata": {},
   "source": [
    "#### 성능비교\n",
    "이렇게 저장한 데이터프레임의 성능을 시각화해 비교해보자.   \n",
    "분류기명 classifier를 index로 설정하기 위해 set_index함수 사용.   \n",
    "결과를 보면 classifier, 분류 알고리즘명이 index가 되고 이에따른 f-measure와 accuracy가 정리되어있음을 확인할 수 있음.   \n"
   ]
  },
  {
   "cell_type": "code",
   "execution_count": 33,
   "metadata": {},
   "outputs": [
    {
     "data": {
      "text/html": [
       "<div>\n",
       "<style scoped>\n",
       "    .dataframe tbody tr th:only-of-type {\n",
       "        vertical-align: middle;\n",
       "    }\n",
       "\n",
       "    .dataframe tbody tr th {\n",
       "        vertical-align: top;\n",
       "    }\n",
       "\n",
       "    .dataframe thead th {\n",
       "        text-align: right;\n",
       "    }\n",
       "</style>\n",
       "<table border=\"1\" class=\"dataframe\">\n",
       "  <thead>\n",
       "    <tr style=\"text-align: right;\">\n",
       "      <th></th>\n",
       "      <th>F-Measure</th>\n",
       "      <th>Accuracy</th>\n",
       "    </tr>\n",
       "    <tr>\n",
       "      <th>Classifier</th>\n",
       "      <th></th>\n",
       "      <th></th>\n",
       "    </tr>\n",
       "  </thead>\n",
       "  <tbody>\n",
       "    <tr>\n",
       "      <th>Naive Bayes</th>\n",
       "      <td>0.48</td>\n",
       "      <td>0.63</td>\n",
       "    </tr>\n",
       "    <tr>\n",
       "      <th>Decision Tree</th>\n",
       "      <td>0.64</td>\n",
       "      <td>0.66</td>\n",
       "    </tr>\n",
       "    <tr>\n",
       "      <th>Random Forest</th>\n",
       "      <td>0.48</td>\n",
       "      <td>0.63</td>\n",
       "    </tr>\n",
       "    <tr>\n",
       "      <th>Support Vector Machine</th>\n",
       "      <td>0.48</td>\n",
       "      <td>0.63</td>\n",
       "    </tr>\n",
       "  </tbody>\n",
       "</table>\n",
       "</div>"
      ],
      "text/plain": [
       "                        F-Measure  Accuracy\n",
       "Classifier                                 \n",
       "Naive Bayes                  0.48      0.63\n",
       "Decision Tree                0.64      0.66\n",
       "Random Forest                0.48      0.63\n",
       "Support Vector Machine       0.48      0.63"
      ]
     },
     "execution_count": 33,
     "metadata": {},
     "output_type": "execute_result"
    }
   ],
   "source": [
    "df_per_1 = df_per.set_index('Classifier')\n",
    "df_per_1"
   ]
  },
  {
   "cell_type": "code",
   "execution_count": 34,
   "metadata": {},
   "outputs": [
    {
     "data": {
      "image/png": "[encoded data removed]",
      "text/plain": [
       "<Figure size 720x504 with 1 Axes>"
      ]
     },
     "metadata": {
      "needs_background": "light"
     },
     "output_type": "display_data"
    }
   ],
   "source": [
    "ax = df_per_1[['F-Measure','Accuracy']].plot(kind='bar',title = 'Performance',\n",
    "                                            figsize =(10,7),legend = True, fontsize = 12)\n",
    "ax.set_xlabel('Classifier',fontsize = 12)\n",
    "plt.show()"
   ]
  },
  {
   "cell_type": "markdown",
   "metadata": {},
   "source": [
    "의사결정나무가 f_measure나 accuracy에서 가장 우수함을 쉽게 확인할 수 있음.    \n",
    "의사결정나무 다음으로는 성능이 모두 비슷함."
   ]
  }
 ],
 "metadata": {
  "kernelspec": {
   "display_name": "Python 3",
   "language": "python",
   "name": "python3"
  },
  "language_info": {
   "codemirror_mode": {
    "name": "ipython",
    "version": 3
   },
   "file_extension": ".py",
   "mimetype": "text/x-python",
   "name": "python",
   "nbconvert_exporter": "python",
   "pygments_lexer": "ipython3",
   "version": "3.7.9"
  }
 },
 "nbformat": 4,
 "nbformat_minor": 4
}
